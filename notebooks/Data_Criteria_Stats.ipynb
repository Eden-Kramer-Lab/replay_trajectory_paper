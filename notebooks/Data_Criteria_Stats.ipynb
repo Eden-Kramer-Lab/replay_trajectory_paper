{
 "cells": [
  {
   "cell_type": "code",
   "execution_count": 1,
   "metadata": {},
   "outputs": [],
   "source": [
    "%matplotlib inline\n",
    "%reload_ext autoreload\n",
    "%autoreload 2\n",
    "%config InlineBackend.figure_format = 'retina'\n",
    "%reload_ext lab_black"
   ]
  },
  {
   "cell_type": "code",
   "execution_count": 2,
   "metadata": {},
   "outputs": [],
   "source": [
    "import logging\n",
    "import string\n",
    "import sys\n",
    "import os\n",
    "\n",
    "import matplotlib.pyplot as plt\n",
    "import numpy as np\n",
    "import seaborn as sns\n",
    "import xarray as xr\n",
    "from replay_trajectory_classification import ClusterlessClassifier\n",
    "\n",
    "from src.figure_utilities import set_figure_defaults\n",
    "from src.parameters import TRANSITION_TO_CATEGORY\n",
    "\n",
    "set_figure_defaults()"
   ]
  },
  {
   "cell_type": "code",
   "execution_count": 40,
   "metadata": {},
   "outputs": [
    {
     "data": {
      "text/plain": [
       "nan             501\n",
       "WTrackA          93\n",
       "TrackB           57\n",
       "TrackA           51\n",
       "WTrackB          48\n",
       "OpenFieldA       44\n",
       "LinearA          33\n",
       "OpenFieldB       27\n",
       "sleep             9\n",
       "wtrack            6\n",
       "WTrackA-fail      1\n",
       "Name: environment, dtype: int64"
      ]
     },
     "execution_count": 40,
     "metadata": {},
     "output_type": "execute_result"
    }
   ],
   "source": [
    "from src.parameters import ANIMALS\n",
    "from loren_frank_data_processing import make_epochs_dataframe\n",
    "\n",
    "epoch_info = make_epochs_dataframe(ANIMALS)\n",
    "epoch_info.environment.value_counts()"
   ]
  },
  {
   "cell_type": "code",
   "execution_count": 6,
   "metadata": {},
   "outputs": [
    {
     "data": {
      "text/plain": [
       "CA1          9078\n",
       "NAN          4367\n",
       "CA3          3684\n",
       "CA2          1935\n",
       "DG           1922\n",
       "CTX          1678\n",
       "DEAD          630\n",
       "LOST          630\n",
       "CC            551\n",
       "MEC           342\n",
       "REFERENCE     317\n",
       "???           270\n",
       "SUBICULUM     244\n",
       "CAN1REF       210\n",
       "CAN2REF       210\n",
       "[]            112\n",
       "Name: area, dtype: int64"
      ]
     },
     "execution_count": 6,
     "metadata": {},
     "output_type": "execute_result"
    }
   ],
   "source": [
    "from loren_frank_data_processing import make_tetrode_dataframe\n",
    "\n",
    "tetrode_info = make_tetrode_dataframe(ANIMALS)\n",
    "tetrode_info.area.astype(str).str.upper().value_counts()"
   ]
  },
  {
   "cell_type": "code",
   "execution_count": 50,
   "metadata": {},
   "outputs": [
    {
     "data": {
      "text/html": [
       "<div>\n",
       "<style scoped>\n",
       "    .dataframe tbody tr th:only-of-type {\n",
       "        vertical-align: middle;\n",
       "    }\n",
       "\n",
       "    .dataframe tbody tr th {\n",
       "        vertical-align: top;\n",
       "    }\n",
       "\n",
       "    .dataframe thead th {\n",
       "        text-align: right;\n",
       "    }\n",
       "</style>\n",
       "<table border=\"1\" class=\"dataframe\">\n",
       "  <thead>\n",
       "    <tr style=\"text-align: right;\">\n",
       "      <th></th>\n",
       "      <th></th>\n",
       "      <th></th>\n",
       "      <th>environment</th>\n",
       "      <th>type</th>\n",
       "      <th>exposure</th>\n",
       "      <th>n_neurons</th>\n",
       "      <th>n_tetrodes</th>\n",
       "    </tr>\n",
       "    <tr>\n",
       "      <th>animal</th>\n",
       "      <th>day</th>\n",
       "      <th>epoch</th>\n",
       "      <th></th>\n",
       "      <th></th>\n",
       "      <th></th>\n",
       "      <th></th>\n",
       "      <th></th>\n",
       "    </tr>\n",
       "  </thead>\n",
       "  <tbody>\n",
       "    <tr>\n",
       "      <th rowspan=\"5\" valign=\"top\">Cor</th>\n",
       "      <th rowspan=\"2\" valign=\"top\">1</th>\n",
       "      <th>2</th>\n",
       "      <td>TrackA</td>\n",
       "      <td>run</td>\n",
       "      <td>1.0</td>\n",
       "      <td>10.0</td>\n",
       "      <td>11.0</td>\n",
       "    </tr>\n",
       "    <tr>\n",
       "      <th>4</th>\n",
       "      <td>TrackA</td>\n",
       "      <td>run</td>\n",
       "      <td>2.0</td>\n",
       "      <td>12.0</td>\n",
       "      <td>11.0</td>\n",
       "    </tr>\n",
       "    <tr>\n",
       "      <th rowspan=\"2\" valign=\"top\">2</th>\n",
       "      <th>2</th>\n",
       "      <td>TrackA</td>\n",
       "      <td>run</td>\n",
       "      <td>3.0</td>\n",
       "      <td>11.0</td>\n",
       "      <td>11.0</td>\n",
       "    </tr>\n",
       "    <tr>\n",
       "      <th>4</th>\n",
       "      <td>TrackA</td>\n",
       "      <td>run</td>\n",
       "      <td>4.0</td>\n",
       "      <td>12.0</td>\n",
       "      <td>11.0</td>\n",
       "    </tr>\n",
       "    <tr>\n",
       "      <th>3</th>\n",
       "      <th>2</th>\n",
       "      <td>TrackA</td>\n",
       "      <td>run</td>\n",
       "      <td>5.0</td>\n",
       "      <td>14.0</td>\n",
       "      <td>11.0</td>\n",
       "    </tr>\n",
       "    <tr>\n",
       "      <th>...</th>\n",
       "      <th>...</th>\n",
       "      <th>...</th>\n",
       "      <td>...</td>\n",
       "      <td>...</td>\n",
       "      <td>...</td>\n",
       "      <td>...</td>\n",
       "      <td>...</td>\n",
       "    </tr>\n",
       "    <tr>\n",
       "      <th rowspan=\"5\" valign=\"top\">remy</th>\n",
       "      <th>35</th>\n",
       "      <th>4</th>\n",
       "      <td>wtrack</td>\n",
       "      <td>run</td>\n",
       "      <td>2.0</td>\n",
       "      <td>NaN</td>\n",
       "      <td>24.0</td>\n",
       "    </tr>\n",
       "    <tr>\n",
       "      <th rowspan=\"2\" valign=\"top\">36</th>\n",
       "      <th>2</th>\n",
       "      <td>wtrack</td>\n",
       "      <td>run</td>\n",
       "      <td>3.0</td>\n",
       "      <td>NaN</td>\n",
       "      <td>24.0</td>\n",
       "    </tr>\n",
       "    <tr>\n",
       "      <th>4</th>\n",
       "      <td>wtrack</td>\n",
       "      <td>run</td>\n",
       "      <td>4.0</td>\n",
       "      <td>NaN</td>\n",
       "      <td>24.0</td>\n",
       "    </tr>\n",
       "    <tr>\n",
       "      <th rowspan=\"2\" valign=\"top\">37</th>\n",
       "      <th>2</th>\n",
       "      <td>wtrack</td>\n",
       "      <td>run</td>\n",
       "      <td>5.0</td>\n",
       "      <td>NaN</td>\n",
       "      <td>24.0</td>\n",
       "    </tr>\n",
       "    <tr>\n",
       "      <th>4</th>\n",
       "      <td>wtrack</td>\n",
       "      <td>run</td>\n",
       "      <td>6.0</td>\n",
       "      <td>NaN</td>\n",
       "      <td>24.0</td>\n",
       "    </tr>\n",
       "  </tbody>\n",
       "</table>\n",
       "<p>146 rows × 5 columns</p>\n",
       "</div>"
      ],
      "text/plain": [
       "                 environment type  exposure  n_neurons  n_tetrodes\n",
       "animal day epoch                                                  \n",
       "Cor    1   2          TrackA  run       1.0       10.0        11.0\n",
       "           4          TrackA  run       2.0       12.0        11.0\n",
       "       2   2          TrackA  run       3.0       11.0        11.0\n",
       "           4          TrackA  run       4.0       12.0        11.0\n",
       "       3   2          TrackA  run       5.0       14.0        11.0\n",
       "...                      ...  ...       ...        ...         ...\n",
       "remy   35  4          wtrack  run       2.0        NaN        24.0\n",
       "       36  2          wtrack  run       3.0        NaN        24.0\n",
       "           4          wtrack  run       4.0        NaN        24.0\n",
       "       37  2          wtrack  run       5.0        NaN        24.0\n",
       "           4          wtrack  run       6.0        NaN        24.0\n",
       "\n",
       "[146 rows x 5 columns]"
      ]
     },
     "execution_count": 50,
     "metadata": {},
     "output_type": "execute_result"
    }
   ],
   "source": [
    "from loren_frank_data_processing import make_neuron_dataframe\n",
    "from src.parameters import _BRAIN_AREAS\n",
    "import pandas as pd\n",
    "\n",
    "epoch_info = make_epochs_dataframe(ANIMALS)\n",
    "neuron_info = make_neuron_dataframe(ANIMALS)\n",
    "neuron_info = neuron_info.loc[\n",
    "    (neuron_info.type == \"principal\")\n",
    "    & (neuron_info.numspikes > 100)\n",
    "    & neuron_info.area.isin(_BRAIN_AREAS)\n",
    "]\n",
    "n_neurons = (\n",
    "    neuron_info.groupby([\"animal\", \"day\", \"epoch\"])\n",
    "    .neuron_id.agg(len)\n",
    "    .rename(\"n_neurons\")\n",
    "    .to_frame()\n",
    ")\n",
    "\n",
    "epoch_info = epoch_info.join(n_neurons)\n",
    "\n",
    "is_brain_areas = tetrode_info.area.astype(str).str.upper().isin(_BRAIN_AREAS)\n",
    "n_tetrodes = (\n",
    "    tetrode_info.loc[is_brain_areas]\n",
    "    .groupby([\"animal\", \"day\", \"epoch\"])\n",
    "    .tetrode_id.aggregate(len)\n",
    "    .astype(int)\n",
    "    .rename(\"n_tetrodes\")\n",
    "    .to_frame()\n",
    ")\n",
    "epoch_info = epoch_info.join(n_tetrodes)\n",
    "\n",
    "is_w_track = epoch_info.environment.isin(\n",
    "    [\"TrackA\", \"TrackB\", \"WTrackA\", \"WTrackB\", \"wtrack\"]\n",
    ")\n",
    "\n",
    "animal = pd.DataFrame(epoch_info.reset_index().animal).set_index(epoch_info.index)\n",
    "epoch_info = epoch_info.loc[\n",
    "    (is_w_track & (epoch_info.n_neurons > 9)) | ((animal.animal == \"remy\") & is_w_track)\n",
    "]\n",
    "epoch_info"
   ]
  },
  {
   "cell_type": "code",
   "execution_count": 51,
   "metadata": {},
   "outputs": [
    {
     "data": {
      "text/plain": [
       "TrackB     41\n",
       "TrackA     37\n",
       "WTrackA    36\n",
       "WTrackB    26\n",
       "wtrack      6\n",
       "Name: environment, dtype: int64"
      ]
     },
     "execution_count": 51,
     "metadata": {},
     "output_type": "execute_result"
    }
   ],
   "source": [
    "epoch_info.environment.value_counts()"
   ]
  },
  {
   "cell_type": "code",
   "execution_count": 52,
   "metadata": {},
   "outputs": [
    {
     "data": {
      "text/plain": [
       "run    146\n",
       "Name: type, dtype: int64"
      ]
     },
     "execution_count": 52,
     "metadata": {},
     "output_type": "execute_result"
    }
   ],
   "source": [
    "epoch_info.type.value_counts()"
   ]
  },
  {
   "cell_type": "code",
   "execution_count": 53,
   "metadata": {},
   "outputs": [
    {
     "data": {
      "text/plain": [
       "<matplotlib.axes._subplots.AxesSubplot at 0x7f107ca3d4a8>"
      ]
     },
     "execution_count": 53,
     "metadata": {},
     "output_type": "execute_result"
    },
    {
     "data": {
      "image/png": "[encoded data removed]",
      "text/plain": [
       "<Figure size 518.4x320.4 with 1 Axes>"
      ]
     },
     "metadata": {
      "image/png": {
       "height": 268,
       "width": 431
      }
     },
     "output_type": "display_data"
    }
   ],
   "source": [
    "epoch_info.n_neurons.hist()"
   ]
  },
  {
   "cell_type": "code",
   "execution_count": 54,
   "metadata": {},
   "outputs": [
    {
     "data": {
      "text/plain": [
       "<matplotlib.axes._subplots.AxesSubplot at 0x7f107bc3a080>"
      ]
     },
     "execution_count": 54,
     "metadata": {},
     "output_type": "execute_result"
    },
    {
     "data": {
      "image/png": "[encoded data removed]",
      "text/plain": [
       "<Figure size 518.4x320.4 with 1 Axes>"
      ]
     },
     "metadata": {
      "image/png": {
       "height": 268,
       "width": 431
      }
     },
     "output_type": "display_data"
    }
   ],
   "source": [
    "epoch_info.n_tetrodes.hist()"
   ]
  },
  {
   "cell_type": "code",
   "execution_count": 55,
   "metadata": {},
   "outputs": [
    {
     "data": {
      "text/plain": [
       "<matplotlib.axes._subplots.AxesSubplot at 0x7f107bc32c88>"
      ]
     },
     "execution_count": 55,
     "metadata": {},
     "output_type": "execute_result"
    },
    {
     "data": {
      "image/png": "[encoded data removed]",
      "text/plain": [
       "<Figure size 518.4x320.4 with 1 Axes>"
      ]
     },
     "metadata": {
      "image/png": {
       "height": 268,
       "width": 431
      }
     },
     "output_type": "display_data"
    }
   ],
   "source": [
    "epoch_info.exposure.hist()"
   ]
  },
  {
   "cell_type": "code",
   "execution_count": null,
   "metadata": {},
   "outputs": [],
   "source": []
  }
 ],
 "metadata": {
  "kernelspec": {
   "display_name": "Python [conda env:replay_trajectory_paper] *",
   "language": "python",
   "name": "conda-env-replay_trajectory_paper-py"
  },
  "language_info": {
   "codemirror_mode": {
    "name": "ipython",
    "version": 3
   },
   "file_extension": ".py",
   "mimetype": "text/x-python",
   "name": "python",
   "nbconvert_exporter": "python",
   "pygments_lexer": "ipython3",
   "version": "3.6.7"
  }
 },
 "nbformat": 4,
 "nbformat_minor": 4
}

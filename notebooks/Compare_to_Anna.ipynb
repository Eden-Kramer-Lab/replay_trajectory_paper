{
 "cells": [
  {
   "cell_type": "code",
   "execution_count": 1,
   "metadata": {},
   "outputs": [],
   "source": [
    "%matplotlib inline\n",
    "%reload_ext autoreload\n",
    "%autoreload 2\n",
    "%config InlineBackend.figure_format = 'retina'\n",
    "# %qtconsole"
   ]
  },
  {
   "cell_type": "code",
   "execution_count": 2,
   "metadata": {},
   "outputs": [
    {
     "data": {
      "text/html": [
       "<table style=\"border: 2px solid white;\">\n",
       "<tr>\n",
       "<td style=\"vertical-align: top; border: 0px solid white\">\n",
       "<h3 style=\"text-align: left;\">Client</h3>\n",
       "<ul style=\"text-align: left; list-style: none; margin: 0; padding: 0;\">\n",
       "  <li><b>Scheduler: </b>tcp://127.0.0.1:34895</li>\n",
       "  <li><b>Dashboard: </b><a href='http://127.0.0.1:8787/status' target='_blank'>http://127.0.0.1:8787/status</a>\n",
       "</ul>\n",
       "</td>\n",
       "<td style=\"vertical-align: top; border: 0px solid white\">\n",
       "<h3 style=\"text-align: left;\">Cluster</h3>\n",
       "<ul style=\"text-align: left; list-style:none; margin: 0; padding: 0;\">\n",
       "  <li><b>Workers: </b>7</li>\n",
       "  <li><b>Cores: </b>56</li>\n",
       "  <li><b>Memory: </b>175.00 GB</li>\n",
       "</ul>\n",
       "</td>\n",
       "</tr>\n",
       "</table>"
      ],
      "text/plain": [
       "<Client: scheduler='tcp://127.0.0.1:34895' processes=7 cores=56>"
      ]
     },
     "execution_count": 2,
     "metadata": {},
     "output_type": "execute_result"
    }
   ],
   "source": [
    "import numpy as np\n",
    "import matplotlib.pyplot as plt\n",
    "import pandas as pd\n",
    "import xarray as xr\n",
    "import seaborn as sns\n",
    "\n",
    "from dask.distributed import Client, LocalCluster\n",
    "import dask\n",
    "import logging\n",
    "\n",
    "logging.basicConfig(level=logging.INFO)\n",
    "\n",
    "client = Client(processes=True, n_workers=7, threads_per_worker=8, memory_limit='25GB')\n",
    "\n",
    "client"
   ]
  },
  {
   "cell_type": "code",
   "execution_count": 3,
   "metadata": {},
   "outputs": [
    {
     "data": {
      "text/html": [
       "<div>\n",
       "<style scoped>\n",
       "    .dataframe tbody tr th:only-of-type {\n",
       "        vertical-align: middle;\n",
       "    }\n",
       "\n",
       "    .dataframe tbody tr th {\n",
       "        vertical-align: top;\n",
       "    }\n",
       "\n",
       "    .dataframe thead th {\n",
       "        text-align: right;\n",
       "    }\n",
       "</style>\n",
       "<table border=\"1\" class=\"dataframe\">\n",
       "  <thead>\n",
       "    <tr style=\"text-align: right;\">\n",
       "      <th></th>\n",
       "      <th></th>\n",
       "      <th></th>\n",
       "      <th>environment</th>\n",
       "      <th>type</th>\n",
       "      <th>exposure</th>\n",
       "    </tr>\n",
       "    <tr>\n",
       "      <th>animal</th>\n",
       "      <th>day</th>\n",
       "      <th>epoch</th>\n",
       "      <th></th>\n",
       "      <th></th>\n",
       "      <th></th>\n",
       "    </tr>\n",
       "  </thead>\n",
       "  <tbody>\n",
       "    <tr>\n",
       "      <td rowspan=\"15\" valign=\"top\">remy</td>\n",
       "      <td rowspan=\"5\" valign=\"top\">35</td>\n",
       "      <td>1</td>\n",
       "      <td>sleep</td>\n",
       "      <td>sleep</td>\n",
       "      <td>NaN</td>\n",
       "    </tr>\n",
       "    <tr>\n",
       "      <td>2</td>\n",
       "      <td>wtrack</td>\n",
       "      <td>run</td>\n",
       "      <td>1.0</td>\n",
       "    </tr>\n",
       "    <tr>\n",
       "      <td>3</td>\n",
       "      <td>sleep</td>\n",
       "      <td>sleep</td>\n",
       "      <td>NaN</td>\n",
       "    </tr>\n",
       "    <tr>\n",
       "      <td>4</td>\n",
       "      <td>wtrack</td>\n",
       "      <td>run</td>\n",
       "      <td>2.0</td>\n",
       "    </tr>\n",
       "    <tr>\n",
       "      <td>5</td>\n",
       "      <td>sleep</td>\n",
       "      <td>sleep</td>\n",
       "      <td>NaN</td>\n",
       "    </tr>\n",
       "    <tr>\n",
       "      <td rowspan=\"5\" valign=\"top\">36</td>\n",
       "      <td>1</td>\n",
       "      <td>sleep</td>\n",
       "      <td>sleep</td>\n",
       "      <td>NaN</td>\n",
       "    </tr>\n",
       "    <tr>\n",
       "      <td>2</td>\n",
       "      <td>wtrack</td>\n",
       "      <td>run</td>\n",
       "      <td>3.0</td>\n",
       "    </tr>\n",
       "    <tr>\n",
       "      <td>3</td>\n",
       "      <td>sleep</td>\n",
       "      <td>sleep</td>\n",
       "      <td>NaN</td>\n",
       "    </tr>\n",
       "    <tr>\n",
       "      <td>4</td>\n",
       "      <td>wtrack</td>\n",
       "      <td>run</td>\n",
       "      <td>4.0</td>\n",
       "    </tr>\n",
       "    <tr>\n",
       "      <td>5</td>\n",
       "      <td>sleep</td>\n",
       "      <td>sleep</td>\n",
       "      <td>NaN</td>\n",
       "    </tr>\n",
       "    <tr>\n",
       "      <td rowspan=\"5\" valign=\"top\">37</td>\n",
       "      <td>1</td>\n",
       "      <td>sleep</td>\n",
       "      <td>sleep</td>\n",
       "      <td>NaN</td>\n",
       "    </tr>\n",
       "    <tr>\n",
       "      <td>2</td>\n",
       "      <td>wtrack</td>\n",
       "      <td>run</td>\n",
       "      <td>5.0</td>\n",
       "    </tr>\n",
       "    <tr>\n",
       "      <td>3</td>\n",
       "      <td>sleep</td>\n",
       "      <td>sleep</td>\n",
       "      <td>NaN</td>\n",
       "    </tr>\n",
       "    <tr>\n",
       "      <td>4</td>\n",
       "      <td>wtrack</td>\n",
       "      <td>run</td>\n",
       "      <td>6.0</td>\n",
       "    </tr>\n",
       "    <tr>\n",
       "      <td>5</td>\n",
       "      <td>sleep</td>\n",
       "      <td>sleep</td>\n",
       "      <td>NaN</td>\n",
       "    </tr>\n",
       "  </tbody>\n",
       "</table>\n",
       "</div>"
      ],
      "text/plain": [
       "                 environment   type  exposure\n",
       "animal day epoch                             \n",
       "remy   35  1           sleep  sleep       NaN\n",
       "           2          wtrack    run       1.0\n",
       "           3           sleep  sleep       NaN\n",
       "           4          wtrack    run       2.0\n",
       "           5           sleep  sleep       NaN\n",
       "       36  1           sleep  sleep       NaN\n",
       "           2          wtrack    run       3.0\n",
       "           3           sleep  sleep       NaN\n",
       "           4          wtrack    run       4.0\n",
       "           5           sleep  sleep       NaN\n",
       "       37  1           sleep  sleep       NaN\n",
       "           2          wtrack    run       5.0\n",
       "           3           sleep  sleep       NaN\n",
       "           4          wtrack    run       6.0\n",
       "           5           sleep  sleep       NaN"
      ]
     },
     "execution_count": 3,
     "metadata": {},
     "output_type": "execute_result"
    }
   ],
   "source": [
    "from loren_frank_data_processing import make_epochs_dataframe\n",
    "from src.parameters import ANIMALS\n",
    "\n",
    "epoch_info = make_epochs_dataframe(ANIMALS)\n",
    "epoch_info.xs('remy', drop_level=False)"
   ]
  },
  {
   "cell_type": "code",
   "execution_count": 4,
   "metadata": {},
   "outputs": [
    {
     "name": "stderr",
     "output_type": "stream",
     "text": [
      "distributed.comm.tcp - WARNING - Closing dangling stream in <TCP  local=tcp://127.0.0.1:48274 remote=tcp://127.0.0.1:34895>\n",
      "WARNING:loren_frank_data_processing.core:Failed to load file: /data2/edeno/replay_trajectory_paper/src/../Raw-Data/Remy/remyDIO35.mat\n",
      "WARNING:loren_frank_data_processing.core:No DIO file found, using distance from well to segment trials\n",
      "WARNING:loren_frank_data_processing.core:Failed to load file: /data2/edeno/replay_trajectory_paper/src/../Raw-Data/Remy/remyDIO35.mat\n",
      "WARNING:loren_frank_data_processing.core:No DIO file found, inferring correct inbound/outbound from task rules\n",
      "WARNING:loren_frank_data_processing.core:dav, 1, 4 not processed\n",
      "WARNING:loren_frank_data_processing.core:egy, 12, 1 not processed\n",
      "WARNING:loren_frank_data_processing.core:egy, 12, 2 not processed\n",
      "WARNING:loren_frank_data_processing.core:egy, 12, 3 not processed\n",
      "WARNING:loren_frank_data_processing.core:egy, 12, 4 not processed\n",
      "WARNING:loren_frank_data_processing.core:egy, 12, 5 not processed\n",
      "WARNING:loren_frank_data_processing.core:egy, 12, 6 not processed\n",
      "WARNING:loren_frank_data_processing.core:egy, 12, 7 not processed\n",
      "WARNING:loren_frank_data_processing.core:egy, 12, 8 not processed\n",
      "WARNING:loren_frank_data_processing.core:fra, 4, 1 not processed\n",
      "WARNING:loren_frank_data_processing.core:gov, 2, 3 not processed\n",
      "WARNING:loren_frank_data_processing.core:gov, 2, 4 not processed\n",
      "WARNING:loren_frank_data_processing.core:gov, 2, 5 not processed\n",
      "WARNING:loren_frank_data_processing.core:gov, 2, 6 not processed\n",
      "WARNING:loren_frank_data_processing.core:gov, 2, 7 not processed\n",
      "WARNING:loren_frank_data_processing.core:Failed to load file: /data2/edeno/replay_trajectory_paper/src/../Raw-Data/Remy/EEG/remymarks35-02.mat\n",
      "WARNING:loren_frank_data_processing.core:Failed to load file: /data2/edeno/replay_trajectory_paper/src/../Raw-Data/Remy/EEG/remymarks35-03.mat\n",
      "WARNING:loren_frank_data_processing.core:Failed to load file: /data2/edeno/replay_trajectory_paper/src/../Raw-Data/Remy/EEG/remymarks35-04.mat\n",
      "WARNING:loren_frank_data_processing.core:Failed to load file: /data2/edeno/replay_trajectory_paper/src/../Raw-Data/Remy/EEG/remymarks35-06.mat\n",
      "WARNING:loren_frank_data_processing.core:Failed to load file: /data2/edeno/replay_trajectory_paper/src/../Raw-Data/Remy/EEG/remymarks35-07.mat\n",
      "WARNING:loren_frank_data_processing.core:Failed to load file: /data2/edeno/replay_trajectory_paper/src/../Raw-Data/Remy/EEG/remymarks35-09.mat\n",
      "WARNING:loren_frank_data_processing.core:Failed to load file: /data2/edeno/replay_trajectory_paper/src/../Raw-Data/Remy/EEG/remymarks35-10.mat\n",
      "WARNING:loren_frank_data_processing.core:Failed to load file: /data2/edeno/replay_trajectory_paper/src/../Raw-Data/Remy/EEG/remymarks35-11.mat\n",
      "WARNING:loren_frank_data_processing.core:Failed to load file: /data2/edeno/replay_trajectory_paper/src/../Raw-Data/Remy/EEG/remymarks35-12.mat\n",
      "WARNING:loren_frank_data_processing.core:Failed to load file: /data2/edeno/replay_trajectory_paper/src/../Raw-Data/Remy/EEG/remymarks35-13.mat\n",
      "WARNING:loren_frank_data_processing.core:Failed to load file: /data2/edeno/replay_trajectory_paper/src/../Raw-Data/Remy/EEG/remymarks35-14.mat\n",
      "WARNING:loren_frank_data_processing.core:Failed to load file: /data2/edeno/replay_trajectory_paper/src/../Raw-Data/Remy/EEG/remymarks35-15.mat\n",
      "WARNING:loren_frank_data_processing.core:Failed to load file: /data2/edeno/replay_trajectory_paper/src/../Raw-Data/Remy/EEG/remymarks35-17.mat\n",
      "WARNING:loren_frank_data_processing.core:Failed to load file: /data2/edeno/replay_trajectory_paper/src/../Raw-Data/Remy/EEG/remymarks35-19.mat\n",
      "WARNING:loren_frank_data_processing.core:Failed to load file: /data2/edeno/replay_trajectory_paper/src/../Raw-Data/Remy/EEG/remymarks35-20.mat\n",
      "WARNING:loren_frank_data_processing.core:Failed to load file: /data2/edeno/replay_trajectory_paper/src/../Raw-Data/Remy/EEG/remymarks35-21.mat\n",
      "WARNING:loren_frank_data_processing.core:Failed to load file: /data2/edeno/replay_trajectory_paper/src/../Raw-Data/Remy/EEG/remymarks35-22.mat\n",
      "WARNING:loren_frank_data_processing.core:Failed to load file: /data2/edeno/replay_trajectory_paper/src/../Raw-Data/Remy/EEG/remymarks35-23.mat\n",
      "WARNING:loren_frank_data_processing.core:Failed to load file: /data2/edeno/replay_trajectory_paper/src/../Raw-Data/Remy/EEG/remymarks35-24.mat\n",
      "WARNING:loren_frank_data_processing.core:Failed to load file: /data2/edeno/replay_trajectory_paper/src/../Raw-Data/Remy/EEG/remymarks35-25.mat\n",
      "WARNING:loren_frank_data_processing.core:Failed to load file: /data2/edeno/replay_trajectory_paper/src/../Raw-Data/Remy/EEG/remymarks35-26.mat\n",
      "WARNING:loren_frank_data_processing.core:Failed to load file: /data2/edeno/replay_trajectory_paper/src/../Raw-Data/Remy/EEG/remymarks35-28.mat\n",
      "WARNING:loren_frank_data_processing.core:Failed to load file: /data2/edeno/replay_trajectory_paper/src/../Raw-Data/Remy/EEG/remymarks35-29.mat\n",
      "WARNING:loren_frank_data_processing.core:Failed to load file: /data2/edeno/replay_trajectory_paper/src/../Raw-Data/Remy/EEG/remymarks35-30.mat\n",
      "INFO:src.load_data:Finding ripple times...\n",
      "distributed.comm.tcp - WARNING - Closing dangling stream in <TCP  local=tcp://127.0.0.1:48278 remote=tcp://127.0.0.1:34895>\n",
      "WARNING:loren_frank_data_processing.core:Failed to load file: /data2/edeno/replay_trajectory_paper/src/../Raw-Data/Remy/remyDIO35.mat\n",
      "WARNING:loren_frank_data_processing.core:No DIO file found, using distance from well to segment trials\n",
      "WARNING:loren_frank_data_processing.core:Failed to load file: /data2/edeno/replay_trajectory_paper/src/../Raw-Data/Remy/remyDIO35.mat\n",
      "WARNING:loren_frank_data_processing.core:No DIO file found, inferring correct inbound/outbound from task rules\n"
     ]
    }
   ],
   "source": [
    "from src.load_data import load_data\n",
    "\n",
    "epoch_key = ('remy', 35, 2)\n",
    "\n",
    "data = load_data(epoch_key)"
   ]
  },
  {
   "cell_type": "code",
   "execution_count": 5,
   "metadata": {},
   "outputs": [
    {
     "name": "stderr",
     "output_type": "stream",
     "text": [
      "INFO:root:Fitting classifier...\n",
      "INFO:replay_trajectory_classification.classifier:Fitting initial conditions...\n",
      "INFO:replay_trajectory_classification.classifier:Fitting state transition...\n",
      "INFO:replay_trajectory_classification.classifier:Fitting multiunits...\n",
      "INFO:root:ClusterlessClassifier(continuous_transition_types=[['w_track_1D_random_walk_minus_identity',\n",
      "                                                    'w_track_1D_inverse_random_walk',\n",
      "                                                    'identity'],\n",
      "                                                   ['uniform',\n",
      "                                                    'w_track_1D_inverse_random_walk',\n",
      "                                                    'uniform'],\n",
      "                                                   ['w_track_1D_random_walk_minus_identity',\n",
      "                                                    'w_track_1D_inverse_random_walk',\n",
      "                                                    'identity']],\n",
      "                      discrete_transition_diag=0.999,\n",
      "                      discrete_transition_type='strong_diagona...\n",
      "                      initial_conditions_type='uniform_on_track',\n",
      "                      model=<class 'replay_trajectory_classification.misc.NumbaKDE'>,\n",
      "                      model_kwargs={'bandwidth': array([24., 24., 24., 24.,  5.,  5.])},\n",
      "                      movement_var=4.0,\n",
      "                      occupancy_kwargs={'bandwidth': array([24., 24., 24., 24.,  5.,  5.])},\n",
      "                      occupancy_model=<class 'replay_trajectory_classification.misc.NumbaKDE'>,\n",
      "                      place_bin_size=2.0, position_range=None, replay_speed=1)\n"
     ]
    }
   ],
   "source": [
    "from src.parameters import (ANIMALS, FIGURE_DIR, PROBABILITY_THRESHOLD,\n",
    "                            PROCESSED_DATA_DIR, SAMPLING_FREQUENCY,\n",
    "                            TRANSITION_TO_CATEGORY,\n",
    "                            continuous_transition_types, discrete_diag,\n",
    "                            knot_spacing, model, model_kwargs, movement_var,\n",
    "                            place_bin_size, replay_speed, spike_model_penalty)\n",
    "from replay_trajectory_classification import ClusterlessClassifier\n",
    "\n",
    "is_training = data['position_info'].speed > 4\n",
    "position = data['position_info'].loc[:, 'linear_position']\n",
    "track_labels = data['position_info'].arm_name\n",
    "\n",
    "logging.info('Fitting classifier...')\n",
    "classifier = ClusterlessClassifier(\n",
    "    place_bin_size=place_bin_size, movement_var=movement_var,\n",
    "    replay_speed=replay_speed,\n",
    "    discrete_transition_diag=discrete_diag,\n",
    "    continuous_transition_types=continuous_transition_types,\n",
    "    model=model, model_kwargs=model_kwargs).fit(\n",
    "        position, data['multiunit'], is_training=is_training,\n",
    "        track_labels=track_labels)\n",
    "logging.info(classifier)"
   ]
  },
  {
   "cell_type": "code",
   "execution_count": 6,
   "metadata": {},
   "outputs": [
    {
     "name": "stderr",
     "output_type": "stream",
     "text": [
      "  0%|          | 0/339 [00:00<?, ?it/s]distributed.utils - ERROR - An asyncio.Future, a coroutine or an awaitable is required\n",
      "Traceback (most recent call last):\n",
      "  File \"/home/edeno/miniconda3/envs/replay_trajectory_paper/lib/python3.6/site-packages/distributed/utils.py\", line 666, in log_errors\n",
      "    yield\n",
      "  File \"/home/edeno/miniconda3/envs/replay_trajectory_paper/lib/python3.6/site-packages/distributed/dashboard/components.py\", line 561, in cb\n",
      "    prof, metadata = await asyncio.gather(prof, metadata)\n",
      "  File \"/home/edeno/miniconda3/envs/replay_trajectory_paper/lib/python3.6/asyncio/tasks.py\", line 602, in gather\n",
      "    fut = ensure_future(arg, loop=loop)\n",
      "  File \"/home/edeno/miniconda3/envs/replay_trajectory_paper/lib/python3.6/asyncio/tasks.py\", line 526, in ensure_future\n",
      "    raise TypeError('An asyncio.Future, a coroutine or an awaitable is '\n",
      "TypeError: An asyncio.Future, a coroutine or an awaitable is required\n",
      "tornado.application - ERROR - Exception in callback functools.partial(<bound method IOLoop._discard_future_result of <zmq.eventloop.ioloop.ZMQIOLoop object at 0x7f1c4e2f37f0>>, <Task finished coro=<ProfileTimePlot.trigger_update.<locals>.cb() done, defined at /home/edeno/miniconda3/envs/replay_trajectory_paper/lib/python3.6/site-packages/distributed/dashboard/components.py:551> exception=TypeError('An asyncio.Future, a coroutine or an awaitable is required',)>)\n",
      "Traceback (most recent call last):\n",
      "  File \"/home/edeno/miniconda3/envs/replay_trajectory_paper/lib/python3.6/site-packages/tornado/ioloop.py\", line 743, in _run_callback\n",
      "    ret = callback()\n",
      "  File \"/home/edeno/miniconda3/envs/replay_trajectory_paper/lib/python3.6/site-packages/tornado/ioloop.py\", line 767, in _discard_future_result\n",
      "    future.result()\n",
      "  File \"/home/edeno/miniconda3/envs/replay_trajectory_paper/lib/python3.6/site-packages/distributed/dashboard/components.py\", line 561, in cb\n",
      "    prof, metadata = await asyncio.gather(prof, metadata)\n",
      "  File \"/home/edeno/miniconda3/envs/replay_trajectory_paper/lib/python3.6/asyncio/tasks.py\", line 602, in gather\n",
      "    fut = ensure_future(arg, loop=loop)\n",
      "  File \"/home/edeno/miniconda3/envs/replay_trajectory_paper/lib/python3.6/asyncio/tasks.py\", line 526, in ensure_future\n",
      "    raise TypeError('An asyncio.Future, a coroutine or an awaitable is '\n",
      "TypeError: An asyncio.Future, a coroutine or an awaitable is required\n",
      "distributed.utils - ERROR - An asyncio.Future, a coroutine or an awaitable is required\n",
      "Traceback (most recent call last):\n",
      "  File \"/home/edeno/miniconda3/envs/replay_trajectory_paper/lib/python3.6/site-packages/distributed/utils.py\", line 666, in log_errors\n",
      "    yield\n",
      "  File \"/home/edeno/miniconda3/envs/replay_trajectory_paper/lib/python3.6/site-packages/distributed/dashboard/components.py\", line 561, in cb\n",
      "    prof, metadata = await asyncio.gather(prof, metadata)\n",
      "  File \"/home/edeno/miniconda3/envs/replay_trajectory_paper/lib/python3.6/asyncio/tasks.py\", line 602, in gather\n",
      "    fut = ensure_future(arg, loop=loop)\n",
      "  File \"/home/edeno/miniconda3/envs/replay_trajectory_paper/lib/python3.6/asyncio/tasks.py\", line 526, in ensure_future\n",
      "    raise TypeError('An asyncio.Future, a coroutine or an awaitable is '\n",
      "TypeError: An asyncio.Future, a coroutine or an awaitable is required\n",
      "tornado.application - ERROR - Exception in callback functools.partial(<bound method IOLoop._discard_future_result of <zmq.eventloop.ioloop.ZMQIOLoop object at 0x7f1c4e2f37f0>>, <Task finished coro=<ProfileTimePlot.trigger_update.<locals>.cb() done, defined at /home/edeno/miniconda3/envs/replay_trajectory_paper/lib/python3.6/site-packages/distributed/dashboard/components.py:551> exception=TypeError('An asyncio.Future, a coroutine or an awaitable is required',)>)\n",
      "Traceback (most recent call last):\n",
      "  File \"/home/edeno/miniconda3/envs/replay_trajectory_paper/lib/python3.6/site-packages/tornado/ioloop.py\", line 743, in _run_callback\n",
      "    ret = callback()\n",
      "  File \"/home/edeno/miniconda3/envs/replay_trajectory_paper/lib/python3.6/site-packages/tornado/ioloop.py\", line 767, in _discard_future_result\n",
      "    future.result()\n",
      "  File \"/home/edeno/miniconda3/envs/replay_trajectory_paper/lib/python3.6/site-packages/distributed/dashboard/components.py\", line 561, in cb\n",
      "    prof, metadata = await asyncio.gather(prof, metadata)\n",
      "  File \"/home/edeno/miniconda3/envs/replay_trajectory_paper/lib/python3.6/asyncio/tasks.py\", line 602, in gather\n",
      "    fut = ensure_future(arg, loop=loop)\n",
      "  File \"/home/edeno/miniconda3/envs/replay_trajectory_paper/lib/python3.6/asyncio/tasks.py\", line 526, in ensure_future\n",
      "    raise TypeError('An asyncio.Future, a coroutine or an awaitable is '\n",
      "TypeError: An asyncio.Future, a coroutine or an awaitable is required\n",
      "100%|██████████| 339/339 [69:08:40<00:00, 734.28s/it]       \n"
     ]
    }
   ],
   "source": [
    "from scipy.ndimage import label\n",
    "from tqdm import tqdm\n",
    "\n",
    "labels, _ = label(~is_training)\n",
    "results = []\n",
    "\n",
    "for label_name, df in tqdm(pd.DataFrame(labels, index=is_training.index, columns=['labels']).groupby('labels')):\n",
    "    if label_name != 0:\n",
    "        m = data['multiunit'].sel(time=df.index)\n",
    "        results.append(classifier.predict(m, time=m.time))"
   ]
  },
  {
   "cell_type": "code",
   "execution_count": 13,
   "metadata": {},
   "outputs": [
    {
     "data": {
      "text/plain": [
       "<xarray.Dataset>\n",
       "Dimensions:            (position: 214, state: 3, time: 214)\n",
       "Coordinates:\n",
       "  * time               (time) timedelta64[ns] 00:47:34.632200 ... 00:47:35.058200\n",
       "  * position           (position) float64 -0.9969 0.9969 2.991 ... 421.7 423.7\n",
       "  * state              (state) <U37 'w_track_1D_random_walk_minus_identity' ... 'identity'\n",
       "Data variables:\n",
       "    likelihood         (time, state, position) float64 1.0 1.518e-42 ... 0.0995\n",
       "    causal_posterior   (time, state, position) float64 0.0 0.01606 ... 9.244e-09\n",
       "    acausal_posterior  (time, state, position) float64 0.0 ... 9.244e-09"
      ]
     },
     "execution_count": 13,
     "metadata": {},
     "output_type": "execute_result"
    }
   ],
   "source": [
    "results[-1]"
   ]
  },
  {
   "cell_type": "code",
   "execution_count": 59,
   "metadata": {},
   "outputs": [],
   "source": [
    "r = xr.concat(results, dim='time')"
   ]
  },
  {
   "cell_type": "code",
   "execution_count": 79,
   "metadata": {},
   "outputs": [
    {
     "name": "stderr",
     "output_type": "stream",
     "text": [
      "100%|██████████| 344/344 [00:01<00:00, 323.40it/s]\n"
     ]
    }
   ],
   "source": [
    "from src.parameters import TRANSITION_TO_CATEGORY\n",
    "\n",
    "ripple_results = []\n",
    "for ripple_number in tqdm(data['ripple_times'].index):\n",
    "    df = data['ripple_times'].loc[ripple_number]\n",
    "    ds = (r.sel(time=slice(df.start_time, df.end_time))\n",
    "           .assign_coords(time=lambda ds: ds.time - ds.time[0])\n",
    "           .drop(['likelihood', 'causal_posterior']))\n",
    "    ripple_results.append(ds)\n",
    "\n",
    "ripple_results = xr.concat(ripple_results, dim=data['ripple_times'].index)\n",
    "ripple_results = ripple_results.assign_coords(\n",
    "            state=lambda ds: ds.state.to_index()\n",
    "            .map(TRANSITION_TO_CATEGORY))"
   ]
  },
  {
   "cell_type": "code",
   "execution_count": 80,
   "metadata": {},
   "outputs": [
    {
     "data": {
      "text/plain": [
       "<xarray.Dataset>\n",
       "Dimensions:            (position: 214, ripple_number: 344, state: 3, time: 132)\n",
       "Coordinates:\n",
       "  * time               (time) timedelta64[ns] 00:00:00 ... 00:00:00.262000\n",
       "  * position           (position) float64 -0.9969 0.9969 2.991 ... 421.7 423.7\n",
       "  * state              (state) object 'continuous' 'fragmented' 'hover'\n",
       "  * ripple_number      (ripple_number) int64 1 2 3 4 5 6 ... 340 341 342 343 344\n",
       "Data variables:\n",
       "    acausal_posterior  (ripple_number, time, state, position) float64 0.0 ... nan"
      ]
     },
     "execution_count": 80,
     "metadata": {},
     "output_type": "execute_result"
    }
   ],
   "source": [
    "ripple_results"
   ]
  },
  {
   "cell_type": "code",
   "execution_count": 81,
   "metadata": {},
   "outputs": [
    {
     "data": {
      "text/plain": [
       "<xarray.Dataset>\n",
       "Dimensions:            (position: 214, state: 3, time: 27)\n",
       "Coordinates:\n",
       "  * time               (time) timedelta64[ns] 00:00:00 ... 00:00:00.052000\n",
       "  * position           (position) float64 -0.9969 0.9969 2.991 ... 421.7 423.7\n",
       "  * state              (state) object 'continuous' 'fragmented' 'hover'\n",
       "    ripple_number      int64 1\n",
       "Data variables:\n",
       "    acausal_posterior  (time, state, position) float64 0.0 ... 6.073e-09"
      ]
     },
     "execution_count": 81,
     "metadata": {},
     "output_type": "execute_result"
    }
   ],
   "source": [
    "ripple_results.sel(ripple_number=1).dropna('time')"
   ]
  },
  {
   "cell_type": "code",
   "execution_count": 88,
   "metadata": {},
   "outputs": [
    {
     "data": {
      "text/plain": [
       "{'matrix': <matplotlib.axes._subplots.AxesSubplot at 0x7f1aec535dd8>,\n",
       " 'shading': <matplotlib.axes._subplots.AxesSubplot at 0x7f1aec5337b8>,\n",
       " 'totals': <matplotlib.axes._subplots.AxesSubplot at 0x7f1aec4dbf60>,\n",
       " 'intersections': <matplotlib.axes._subplots.AxesSubplot at 0x7f1aec501f98>}"
      ]
     },
     "execution_count": 88,
     "metadata": {},
     "output_type": "execute_result"
    },
    {
     "data": {
      "image/png": "[encoded data removed]",
      "text/plain": [
       "<Figure size 981.375x352 with 4 Axes>"
      ]
     },
     "metadata": {
      "image/png": {
       "height": 297,
       "width": 780
      },
      "needs_background": "light"
     },
     "output_type": "display_data"
    }
   ],
   "source": [
    "from src.analysis import get_probability, get_is_classified\n",
    "from src.visualization import plot_category_counts\n",
    "\n",
    "probability_threshold = 0.8\n",
    "sampling_frequency = SAMPLING_FREQUENCY\n",
    "\n",
    "\n",
    "probability = get_probability(ripple_results)\n",
    "is_classified = get_is_classified(probability, probability_threshold)\n",
    "duration = (is_classified.sum('time') / sampling_frequency)\n",
    "duration = duration.to_dataframe().unstack(level=1)\n",
    "duration.columns = list(duration.columns.get_level_values('state'))\n",
    "duration = duration.rename(\n",
    "    columns=lambda column_name: column_name + '_duration')\n",
    "is_category = (duration > 0.0).rename(columns=lambda c: c.split('_')[0])\n",
    "duration = pd.concat((duration, is_category), axis=1)\n",
    "duration['is_classified'] = np.any(duration > 0.0, axis=1)\n",
    "\n",
    "plot_category_counts(duration)"
   ]
  },
  {
   "cell_type": "code",
   "execution_count": null,
   "metadata": {},
   "outputs": [],
   "source": []
  }
 ],
 "metadata": {
  "kernelspec": {
   "display_name": "Python [conda env:replay_trajectory_paper] *",
   "language": "python",
   "name": "conda-env-replay_trajectory_paper-py"
  },
  "language_info": {
   "codemirror_mode": {
    "name": "ipython",
    "version": 3
   },
   "file_extension": ".py",
   "mimetype": "text/x-python",
   "name": "python",
   "nbconvert_exporter": "python",
   "pygments_lexer": "ipython3",
   "version": "3.6.7"
  }
 },
 "nbformat": 4,
 "nbformat_minor": 4
}

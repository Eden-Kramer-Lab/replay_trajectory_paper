{
 "cells": [
  {
   "cell_type": "code",
   "execution_count": 1,
   "metadata": {},
   "outputs": [],
   "source": [
    "%matplotlib inline\n",
    "%reload_ext autoreload\n",
    "%autoreload 2\n",
    "%config InlineBackend.figure_format = 'retina'\n",
    "%reload_ext lab_black"
   ]
  },
  {
   "cell_type": "code",
   "execution_count": 2,
   "metadata": {},
   "outputs": [],
   "source": [
    "epoch_key = (\"remy\", 35, 2)"
   ]
  },
  {
   "cell_type": "code",
   "execution_count": 3,
   "metadata": {},
   "outputs": [],
   "source": [
    "import pandas as pd\n",
    "import numpy as np\n",
    "from src.parameters import ANIMALS, _BRAIN_AREAS\n",
    "from src.load_data import get_trial_time, make_tetrode_dataframe\n",
    "\n",
    "\n",
    "time = get_trial_time(epoch_key, ANIMALS)\n",
    "time = (\n",
    "    pd.Series(np.ones_like(time, dtype=np.float), index=time)\n",
    "    .resample(\"2ms\")\n",
    "    .mean()\n",
    "    .index\n",
    ")\n",
    "\n",
    "\n",
    "def _time_function(*args, **kwargs):\n",
    "    return time\n",
    "\n",
    "\n",
    "brain_areas = _BRAIN_AREAS\n",
    "tetrode_info = make_tetrode_dataframe(ANIMALS, epoch_key=epoch_key)\n",
    "is_brain_areas = tetrode_info.area.astype(str).str.upper().isin(brain_areas)"
   ]
  },
  {
   "cell_type": "code",
   "execution_count": 4,
   "metadata": {},
   "outputs": [],
   "source": [
    "from src.load_data import get_all_multiunit_indicators\n",
    "\n",
    "tetrode_info = tetrode_info.loc[is_brain_areas]\n",
    "multiunit = get_all_multiunit_indicators(\n",
    "    tetrode_info.index, ANIMALS, _time_function\n",
    ").reindex({\"time\": time})"
   ]
  },
  {
   "cell_type": "code",
   "execution_count": 20,
   "metadata": {},
   "outputs": [],
   "source": [
    "if epoch_key[0] == \"remy\":\n",
    "    features = multiunit.features.values\n",
    "    features[-1] = \"max_width\"\n",
    "    multiunit[\"features\"] = features"
   ]
  },
  {
   "cell_type": "code",
   "execution_count": 24,
   "metadata": {},
   "outputs": [
    {
     "data": {
      "text/html": [
       "<pre>&lt;xarray.DataArray (time: 616261, tetrodes: 24)&gt;\n",
       "array([[       nan,        nan,        nan, ...,        nan,        nan,\n",
       "               nan],\n",
       "       [       nan,        nan,        nan, ...,        nan, 0.00063333,\n",
       "               nan],\n",
       "       [       nan,        nan,        nan, ...,        nan,        nan,\n",
       "               nan],\n",
       "       ...,\n",
       "       [       nan,        nan,        nan, ...,        nan,        nan,\n",
       "               nan],\n",
       "       [       nan,        nan,        nan, ...,        nan,        nan,\n",
       "               nan],\n",
       "       [       nan,        nan,        nan, ...,        nan,        nan,\n",
       "               nan]])\n",
       "Coordinates:\n",
       "  * time      (time) timedelta64[ns] 00:27:02.538200 ... 00:47:35.058200\n",
       "    features  &lt;U9 &#x27;max_width&#x27;\n",
       "Dimensions without coordinates: tetrodes</pre>"
      ],
      "text/plain": [
       "<xarray.DataArray (time: 616261, tetrodes: 24)>\n",
       "array([[       nan,        nan,        nan, ...,        nan,        nan,\n",
       "               nan],\n",
       "       [       nan,        nan,        nan, ...,        nan, 0.00063333,\n",
       "               nan],\n",
       "       [       nan,        nan,        nan, ...,        nan,        nan,\n",
       "               nan],\n",
       "       ...,\n",
       "       [       nan,        nan,        nan, ...,        nan,        nan,\n",
       "               nan],\n",
       "       [       nan,        nan,        nan, ...,        nan,        nan,\n",
       "               nan],\n",
       "       [       nan,        nan,        nan, ...,        nan,        nan,\n",
       "               nan]])\n",
       "Coordinates:\n",
       "  * time      (time) timedelta64[ns] 00:27:02.538200 ... 00:47:35.058200\n",
       "    features  <U9 'max_width'\n",
       "Dimensions without coordinates: tetrodes"
      ]
     },
     "execution_count": 24,
     "metadata": {},
     "output_type": "execute_result"
    }
   ],
   "source": [
    "multiunit.sel(features=\"max_width\")"
   ]
  },
  {
   "cell_type": "code",
   "execution_count": null,
   "metadata": {},
   "outputs": [
    {
     "name": "stderr",
     "output_type": "stream",
     "text": [
      "Failed to load file: /Users/edeno/Documents/GitHub/replay_trajectory_paper/src/../Raw-Data/Remy/remyDIO35.mat\n",
      "No DIO file found, using distance from well to segment trials\n",
      "Failed to load file: /Users/edeno/Documents/GitHub/replay_trajectory_paper/src/../Raw-Data/Remy/remyDIO35.mat\n",
      "No DIO file found, inferring correct inbound/outbound from task rules\n"
     ]
    }
   ],
   "source": [
    "from src.load_data import load_data\n",
    "\n",
    "data = load_data(epoch_key)"
   ]
  },
  {
   "cell_type": "code",
   "execution_count": null,
   "metadata": {},
   "outputs": [],
   "source": [
    "from src.load_data import load_data\n",
    "\n",
    "\n",
    "data = load_data(epoch_key, exclude_interneuron_spikes=True)"
   ]
  },
  {
   "cell_type": "code",
   "execution_count": null,
   "metadata": {},
   "outputs": [],
   "source": []
  }
 ],
 "metadata": {
  "kernelspec": {
   "display_name": "Python [conda env:replay_trajectory_paper] *",
   "language": "python",
   "name": "conda-env-replay_trajectory_paper-py"
  },
  "language_info": {
   "codemirror_mode": {
    "name": "ipython",
    "version": 3
   },
   "file_extension": ".py",
   "mimetype": "text/x-python",
   "name": "python",
   "nbconvert_exporter": "python",
   "pygments_lexer": "ipython3",
   "version": "3.6.10"
  }
 },
 "nbformat": 4,
 "nbformat_minor": 4
}

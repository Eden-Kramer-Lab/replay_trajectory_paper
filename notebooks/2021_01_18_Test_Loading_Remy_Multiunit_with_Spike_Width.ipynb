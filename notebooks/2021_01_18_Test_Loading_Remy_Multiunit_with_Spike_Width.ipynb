{
 "cells": [
  {
   "cell_type": "code",
   "execution_count": 1,
   "metadata": {},
   "outputs": [],
   "source": [
    "%matplotlib inline\n",
    "%reload_ext autoreload\n",
    "%autoreload 2\n",
    "%config InlineBackend.figure_format = 'retina'\n",
    "%reload_ext lab_black"
   ]
  },
  {
   "cell_type": "code",
   "execution_count": 2,
   "metadata": {},
   "outputs": [],
   "source": [
    "epoch_key = (\"remy\", 35, 2)"
   ]
  },
  {
   "cell_type": "code",
   "execution_count": 3,
   "metadata": {},
   "outputs": [],
   "source": [
    "import pandas as pd\n",
    "import numpy as np\n",
    "from src.parameters import ANIMALS, _BRAIN_AREAS\n",
    "from src.load_data import get_trial_time, make_tetrode_dataframe\n",
    "\n",
    "\n",
    "time = get_trial_time(epoch_key, ANIMALS)\n",
    "time = (\n",
    "    pd.Series(np.ones_like(time, dtype=np.float), index=time)\n",
    "    .resample(\"2ms\")\n",
    "    .mean()\n",
    "    .index\n",
    ")\n",
    "\n",
    "\n",
    "def _time_function(*args, **kwargs):\n",
    "    return time\n",
    "\n",
    "\n",
    "brain_areas = _BRAIN_AREAS\n",
    "tetrode_info = make_tetrode_dataframe(ANIMALS, epoch_key=epoch_key)\n",
    "is_brain_areas = tetrode_info.area.astype(str).str.upper().isin(brain_areas)"
   ]
  },
  {
   "cell_type": "code",
   "execution_count": 4,
   "metadata": {},
   "outputs": [],
   "source": [
    "from src.load_data import get_all_multiunit_indicators\n",
    "\n",
    "tetrode_info = tetrode_info.loc[is_brain_areas]\n",
    "multiunit = get_all_multiunit_indicators(\n",
    "    tetrode_info.index, ANIMALS, _time_function\n",
    ").reindex({\"time\": time})"
   ]
  },
  {
   "cell_type": "code",
   "execution_count": 20,
   "metadata": {},
   "outputs": [],
   "source": [
    "if epoch_key[0] == \"remy\":\n",
    "    features = multiunit.features.values\n",
    "    features[-1] = \"max_width\"\n",
    "    multiunit[\"features\"] = features"
   ]
  },
  {
   "cell_type": "code",
   "execution_count": 24,
   "metadata": {},
   "outputs": [
    {
     "data": {
      "text/html": [
       "<pre>&lt;xarray.DataArray (time: 616261, tetrodes: 24)&gt;\n",
       "array([[       nan,        nan,        nan, ...,        nan,        nan,\n",
       "               nan],\n",
       "       [       nan,        nan,        nan, ...,        nan, 0.00063333,\n",
       "               nan],\n",
       "       [       nan,        nan,        nan, ...,        nan,        nan,\n",
       "               nan],\n",
       "       ...,\n",
       "       [       nan,        nan,        nan, ...,        nan,        nan,\n",
       "               nan],\n",
       "       [       nan,        nan,        nan, ...,        nan,        nan,\n",
       "               nan],\n",
       "       [       nan,        nan,        nan, ...,        nan,        nan,\n",
       "               nan]])\n",
       "Coordinates:\n",
       "  * time      (time) timedelta64[ns] 00:27:02.538200 ... 00:47:35.058200\n",
       "    features  &lt;U9 &#x27;max_width&#x27;\n",
       "Dimensions without coordinates: tetrodes</pre>"
      ],
      "text/plain": [
       "<xarray.DataArray (time: 616261, tetrodes: 24)>\n",
       "array([[       nan,        nan,        nan, ...,        nan,        nan,\n",
       "               nan],\n",
       "       [       nan,        nan,        nan, ...,        nan, 0.00063333,\n",
       "               nan],\n",
       "       [       nan,        nan,        nan, ...,        nan,        nan,\n",
       "               nan],\n",
       "       ...,\n",
       "       [       nan,        nan,        nan, ...,        nan,        nan,\n",
       "               nan],\n",
       "       [       nan,        nan,        nan, ...,        nan,        nan,\n",
       "               nan],\n",
       "       [       nan,        nan,        nan, ...,        nan,        nan,\n",
       "               nan]])\n",
       "Coordinates:\n",
       "  * time      (time) timedelta64[ns] 00:27:02.538200 ... 00:47:35.058200\n",
       "    features  <U9 'max_width'\n",
       "Dimensions without coordinates: tetrodes"
      ]
     },
     "execution_count": 24,
     "metadata": {},
     "output_type": "execute_result"
    }
   ],
   "source": [
    "multiunit.sel(features=\"max_width\")"
   ]
  },
  {
   "cell_type": "code",
   "execution_count": 25,
   "metadata": {},
   "outputs": [
    {
     "name": "stderr",
     "output_type": "stream",
     "text": [
      "Failed to load file: /Users/edeno/Documents/GitHub/replay_trajectory_paper/src/../Raw-Data/Remy/remyDIO35.mat\n",
      "No DIO file found, using distance from well to segment trials\n",
      "Failed to load file: /Users/edeno/Documents/GitHub/replay_trajectory_paper/src/../Raw-Data/Remy/remyDIO35.mat\n",
      "No DIO file found, inferring correct inbound/outbound from task rules\n",
      "ERROR:root:Internal Python error in the inspect module.\n",
      "Below is the traceback from this internal error.\n",
      "\n"
     ]
    },
    {
     "name": "stdout",
     "output_type": "stream",
     "text": [
      "Traceback (most recent call last):\n",
      "  File \"/Users/edeno/miniconda3/envs/replay_trajectory_paper/lib/python3.6/site-packages/IPython/core/interactiveshell.py\", line 3331, in run_code\n",
      "    exec(code_obj, self.user_global_ns, self.user_ns)\n",
      "  File \"<ipython-input-25-abe1015e2704>\", line 3, in <module>\n",
      "    data = load_data(epoch_key)\n",
      "  File \"/Users/edeno/Documents/GitHub/replay_trajectory_paper/src/load_data.py\", line 174, in load_data\n",
      "    ripple_consensus_trace_zscore) = get_ripple_times(epoch_key)\n",
      "  File \"/Users/edeno/Documents/GitHub/replay_trajectory_paper/src/load_data.py\", line 68, in get_ripple_times\n",
      "    get_interpolated_position_dataframe(epoch_key, ANIMALS)\n",
      "  File \"/Users/edeno/miniconda3/envs/replay_trajectory_paper/lib/python3.6/site-packages/loren_frank_data_processing/position.py\", line 350, in get_interpolated_position_dataframe\n",
      "    position_sampling_frequency=position_sampling_frequency)\n",
      "  File \"/Users/edeno/miniconda3/envs/replay_trajectory_paper/lib/python3.6/site-packages/loren_frank_data_processing/position.py\", line 261, in _get_linear_position_hmm\n",
      "    track_graph, track_segment_id, center_well_id, position)\n",
      "  File \"/Users/edeno/miniconda3/envs/replay_trajectory_paper/lib/python3.6/site-packages/loren_frank_data_processing/track_segment_classification.py\", line 415, in calculate_linear_distance\n",
      "    *linear_distance, scheduler='processes'))\n",
      "  File \"/Users/edeno/miniconda3/envs/replay_trajectory_paper/lib/python3.6/site-packages/dask/base.py\", line 424, in compute\n",
      "    collections, repack = unpack_collections(*args, traverse=traverse)\n",
      "  File \"/Users/edeno/miniconda3/envs/replay_trajectory_paper/lib/python3.6/site-packages/dask/base.py\", line 316, in unpack_collections\n",
      "    repack_dsk[out] = (tuple, [_unpack(i) for i in args])\n",
      "  File \"/Users/edeno/miniconda3/envs/replay_trajectory_paper/lib/python3.6/site-packages/dask/base.py\", line 316, in <listcomp>\n",
      "    repack_dsk[out] = (tuple, [_unpack(i) for i in args])\n",
      "  File \"/Users/edeno/miniconda3/envs/replay_trajectory_paper/lib/python3.6/site-packages/dask/base.py\", line 293, in _unpack\n",
      "    tsk = (typ, [_unpack(i) for i in expr])\n",
      "  File \"/Users/edeno/miniconda3/envs/replay_trajectory_paper/lib/python3.6/site-packages/dask/base.py\", line 293, in <listcomp>\n",
      "    tsk = (typ, [_unpack(i) for i in expr])\n",
      "  File \"/Users/edeno/miniconda3/envs/replay_trajectory_paper/lib/python3.6/site-packages/dask/base.py\", line 296, in _unpack\n",
      "    elif is_dataclass(expr) and not isinstance(expr, type):\n",
      "  File \"/Users/edeno/miniconda3/envs/replay_trajectory_paper/lib/python3.6/site-packages/dataclasses.py\", line 987, in is_dataclass\n",
      "    return hasattr(obj, _FIELDS)\n",
      "KeyboardInterrupt\n",
      "\n",
      "During handling of the above exception, another exception occurred:\n",
      "\n",
      "Traceback (most recent call last):\n",
      "  File \"/Users/edeno/miniconda3/envs/replay_trajectory_paper/lib/python3.6/site-packages/IPython/core/interactiveshell.py\", line 2044, in showtraceback\n",
      "    stb = value._render_traceback_()\n",
      "AttributeError: 'KeyboardInterrupt' object has no attribute '_render_traceback_'\n",
      "\n",
      "During handling of the above exception, another exception occurred:\n",
      "\n",
      "Traceback (most recent call last):\n",
      "  File \"/Users/edeno/miniconda3/envs/replay_trajectory_paper/lib/python3.6/site-packages/IPython/core/ultratb.py\", line 1148, in get_records\n",
      "    return _fixed_getinnerframes(etb, number_of_lines_of_context, tb_offset)\n",
      "  File \"/Users/edeno/miniconda3/envs/replay_trajectory_paper/lib/python3.6/site-packages/IPython/core/ultratb.py\", line 316, in wrapped\n",
      "    return f(*args, **kwargs)\n",
      "  File \"/Users/edeno/miniconda3/envs/replay_trajectory_paper/lib/python3.6/site-packages/IPython/core/ultratb.py\", line 350, in _fixed_getinnerframes\n",
      "    records = fix_frame_records_filenames(inspect.getinnerframes(etb, context))\n",
      "  File \"/Users/edeno/miniconda3/envs/replay_trajectory_paper/lib/python3.6/inspect.py\", line 1490, in getinnerframes\n",
      "    frameinfo = (tb.tb_frame,) + getframeinfo(tb, context)\n",
      "  File \"/Users/edeno/miniconda3/envs/replay_trajectory_paper/lib/python3.6/inspect.py\", line 1448, in getframeinfo\n",
      "    filename = getsourcefile(frame) or getfile(frame)\n",
      "  File \"/Users/edeno/miniconda3/envs/replay_trajectory_paper/lib/python3.6/inspect.py\", line 696, in getsourcefile\n",
      "    if getattr(getmodule(object, filename), '__loader__', None) is not None:\n",
      "  File \"/Users/edeno/miniconda3/envs/replay_trajectory_paper/lib/python3.6/inspect.py\", line 732, in getmodule\n",
      "    for modname, module in list(sys.modules.items()):\n",
      "KeyboardInterrupt\n"
     ]
    },
    {
     "ename": "KeyboardInterrupt",
     "evalue": "",
     "output_type": "error",
     "traceback": [
      "\u001b[0;31m---------------------------------------------------------------------------\u001b[0m"
     ]
    }
   ],
   "source": [
    "from src.load_data import load_data\n",
    "\n",
    "data = load_data(epoch_key)"
   ]
  },
  {
   "cell_type": "code",
   "execution_count": null,
   "metadata": {},
   "outputs": [],
   "source": [
    "from src.load_data import load_data\n",
    "\n",
    "\n",
    "data = load_data(epoch_key, exclude_interneuron_spikes=True)"
   ]
  },
  {
   "cell_type": "code",
   "execution_count": null,
   "metadata": {},
   "outputs": [],
   "source": []
  }
 ],
 "metadata": {
  "kernelspec": {
   "display_name": "Python [conda env:replay_trajectory_paper] *",
   "language": "python",
   "name": "conda-env-replay_trajectory_paper-py"
  },
  "language_info": {
   "codemirror_mode": {
    "name": "ipython",
    "version": 3
   },
   "file_extension": ".py",
   "mimetype": "text/x-python",
   "name": "python",
   "nbconvert_exporter": "python",
   "pygments_lexer": "ipython3",
   "version": "3.6.10"
  }
 },
 "nbformat": 4,
 "nbformat_minor": 4
}

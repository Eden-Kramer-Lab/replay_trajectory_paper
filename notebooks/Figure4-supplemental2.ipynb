{
 "cells": [
  {
   "cell_type": "code",
   "execution_count": 1,
   "id": "eleven-beach",
   "metadata": {},
   "outputs": [],
   "source": [
    "%reload_ext autoreload\n",
    "%autoreload 2"
   ]
  },
  {
   "cell_type": "code",
   "execution_count": 2,
   "id": "advanced-format",
   "metadata": {},
   "outputs": [],
   "source": [
    "import matplotlib.pyplot as plt\n",
    "import numpy as np\n",
    "import seaborn as sns\n",
    "from src.figure_utilities import (\n",
    "    PAGE_HEIGHT,\n",
    "    ONE_COLUMN,\n",
    "    TWO_COLUMN,\n",
    "    save_figure,\n",
    "    set_figure_defaults,\n",
    ")\n",
    "import pandas as pd\n",
    "from glob import glob\n",
    "import os\n",
    "from src.parameters import PROCESSED_DATA_DIR\n",
    "import numpy as np\n",
    "import seaborn as sns\n",
    "\n",
    "set_figure_defaults()"
   ]
  },
  {
   "cell_type": "code",
   "execution_count": 3,
   "id": "special-christmas",
   "metadata": {},
   "outputs": [
    {
     "name": "stdout",
     "output_type": "stream",
     "text": [
      "('bon', 3, 2)\n",
      "n_ripples = 251\n",
      "median shuffle = 52\n",
      "Spatially Coherent = 29\n",
      "p-value = 0.02\n",
      "\n",
      "\n",
      "('bon', 3, 2)\n",
      "n_ripples = 251\n",
      "median shuffle = 243\n",
      "Spatially Incoherent = 181\n",
      "p-value = 0.02\n",
      "\n",
      "\n",
      "('remy', 35, 2)\n",
      "n_ripples = 344\n",
      "median shuffle = 53\n",
      "Spatially Coherent = 26\n",
      "p-value = 0.02\n",
      "\n",
      "\n",
      "('remy', 35, 2)\n",
      "n_ripples = 344\n",
      "median shuffle = 263\n",
      "Spatially Incoherent = 210\n",
      "p-value = 0.02\n",
      "\n",
      "\n"
     ]
    },
    {
     "data": {
      "image/png": "[encoded data removed]",
      "text/plain": [
       "<Figure size 252.283x140.031 with 4 Axes>"
      ]
     },
     "metadata": {
      "needs_background": "light"
     },
     "output_type": "display_data"
    }
   ],
   "source": [
    "fig, axes = plt.subplots(\n",
    "    2, 2, figsize=(ONE_COLUMN, PAGE_HEIGHT / 5), constrained_layout=True, sharey=True, sharex=True\n",
    ")\n",
    "\n",
    "epoch_keys = [(\"bon\", 3, 2), (\"remy\", 35, 2)]\n",
    "\n",
    "for epoch_ind, (ax, epoch_key) in enumerate(zip(axes.T, epoch_keys)):\n",
    "    animal, day, epoch = epoch_key\n",
    "    file_regex = f'{animal}_{day:02d}_{epoch:02d}_clusterless_1D_replay_info_run_position_shuffle_*.csv'\n",
    "    file_paths = glob(os.path.join(PROCESSED_DATA_DIR, 'run_position_shuffle', file_regex))\n",
    "    replay_info_shuffle = pd.concat(\n",
    "        [pd.read_csv(file_path).assign(shuffle=shuffle_ind) for shuffle_ind, file_path in enumerate(file_paths)], axis=0,\n",
    "    )\n",
    "\n",
    "    replay_info = pd.read_csv(os.path.join(PROCESSED_DATA_DIR, f'{animal}_{day:02d}_{epoch:02d}_clusterless_1D_replay_info_80.csv'))\n",
    "    \n",
    "    # Spatially Coherent\n",
    "    shuffle = replay_info_shuffle.groupby('shuffle').apply(lambda df: np.nanmean(np.asarray(df[[\"Hover_spatial_coverage\", \"Hover-Continuous-Mix_spatial_coverage\", \"Continuous_spatial_coverage\"]]).ravel()))\n",
    "    sns.distplot(shuffle, color=\"lightgrey\", ax=ax[0])\n",
    "    estimate = np.nanmean(np.asarray(replay_info.loc[:, [\"Hover_spatial_coverage\", \"Hover-Continuous-Mix_spatial_coverage\", \"Continuous_spatial_coverage\"]]).ravel())\n",
    "    ax[0].axvline(estimate, color='red', zorder=100)\n",
    "    ax[0].set_xlim((0, 100))\n",
    "    \n",
    "    N_SHUFFLES = 50\n",
    "    print(epoch_key)\n",
    "    print(f\"n_ripples = {replay_info.shape[0]}\")\n",
    "    print(f\"median shuffle = {np.median(shuffle):.0f}\")\n",
    "    print(f\"Spatially Coherent = {estimate:.0f}\")\n",
    "    print(\n",
    "        f\"p-value = {(np.sum(estimate >= shuffle) + 1) / (N_SHUFFLES + 1):0.2f}\"\n",
    "    )\n",
    "    print(\"\\n\")\n",
    "    \n",
    "    \n",
    "    # Spatially Incoherent\n",
    "    shuffle = replay_info_shuffle.groupby('shuffle').apply(lambda df: np.nanmean(np.asarray(df[[\"Fragmented-Continuous-Mix_spatial_coverage\", \"Fragmented_spatial_coverage\"]]).ravel()))\n",
    "    sns.distplot(shuffle, color=\"lightgrey\", ax=ax[1])\n",
    "    \n",
    "    estimate = np.nanmean(np.asarray(replay_info.loc[:, [\"Fragmented-Continuous-Mix_spatial_coverage\", \"Fragmented_spatial_coverage\"]]).ravel())\n",
    "    ax[1].axvline(estimate, color='red', zorder=100)\n",
    "    ax[1].set_xlim((0, 300))\n",
    "    \n",
    "    print(epoch_key)\n",
    "    print(f\"n_ripples = {replay_info.shape[0]}\")\n",
    "    print(f\"median shuffle = {np.median(shuffle):.0f}\")\n",
    "    print(f\"Spatially Incoherent = {estimate:.0f}\")\n",
    "    print(\n",
    "        f\"p-value = {(np.sum(estimate >= shuffle) + 1) / (N_SHUFFLES + 1):0.2f}\"\n",
    "    )\n",
    "    print(\"\\n\")\n",
    "    \n",
    "axes[0, 0].set_title('Session #1', fontsize=10)\n",
    "axes[0, 1].set_title('Session #2', fontsize=10)\n",
    "axes[1, 0].set_xlabel('HPD size')\n",
    "axes[1, 1].set_xlabel('HPD size')\n",
    "axes[0, 0].set_ylabel('Prob.\\nDensity')\n",
    "axes[1, 0].set_ylabel('Prob.\\nDensity')\n",
    "sns.despine(offset=5)\n",
    "\n",
    "save_figure(\n",
    "    os.path.join(\"Figure4-supplemental2\", \"figure4-supplemental2_spatial_coherent_incoherent\")\n",
    ")"
   ]
  },
  {
   "cell_type": "code",
   "execution_count": null,
   "id": "embedded-public",
   "metadata": {},
   "outputs": [],
   "source": []
  }
 ],
 "metadata": {
  "kernelspec": {
   "display_name": "Python [conda env:replay_trajectory_paper] *",
   "language": "python",
   "name": "conda-env-replay_trajectory_paper-py"
  },
  "language_info": {
   "codemirror_mode": {
    "name": "ipython",
    "version": 3
   },
   "file_extension": ".py",
   "mimetype": "text/x-python",
   "name": "python",
   "nbconvert_exporter": "python",
   "pygments_lexer": "ipython3",
   "version": "3.6.11"
  }
 },
 "nbformat": 4,
 "nbformat_minor": 5
}

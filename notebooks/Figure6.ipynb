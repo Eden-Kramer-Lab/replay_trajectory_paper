{
 "cells": [
  {
   "cell_type": "code",
   "execution_count": 1,
   "id": "southwest-request",
   "metadata": {},
   "outputs": [],
   "source": [
    "%reload_ext autoreload\n",
    "%autoreload 2"
   ]
  },
  {
   "cell_type": "code",
   "execution_count": 2,
   "id": "applied-trance",
   "metadata": {},
   "outputs": [],
   "source": [
    "from src.parameters import STATE_ORDER, STATE_COLORS\n",
    "from src.figure_utilities import PAGE_HEIGHT, ONE_COLUMN, set_figure_defaults, save_figure\n",
    "import matplotlib.pyplot as plt\n",
    "import seaborn as sns\n",
    "import numpy as np\n",
    "import os\n",
    "\n",
    "\n",
    "set_figure_defaults()"
   ]
  },
  {
   "cell_type": "code",
   "execution_count": 3,
   "id": "apart-triple",
   "metadata": {},
   "outputs": [],
   "source": [
    "from src.analysis import load_all_replay_info\n",
    "from src.parameters import PROBABILITY_THRESHOLD\n",
    "\n",
    "\n",
    "replay_info = load_all_replay_info(\n",
    "    n_unique_spiking=2,\n",
    "    data_type=\"clusterless\",\n",
    "    dim=\"1D\",\n",
    "    probability_threshold=PROBABILITY_THRESHOLD,\n",
    "    speed_threshold=4,\n",
    "    exclude_interneuron_spikes=False,\n",
    ")"
   ]
  },
  {
   "cell_type": "code",
   "execution_count": 4,
   "id": "abandoned-updating",
   "metadata": {},
   "outputs": [],
   "source": [
    "from src.parameters import PROCESSED_DATA_DIR\n",
    "import os\n",
    "import glob\n",
    "import pandas as pd\n",
    "\n",
    "file_paths = glob.glob(os.path.join(PROCESSED_DATA_DIR, '*_radon_info.csv'))\n",
    "radon_info = pd.concat(\n",
    "    [pd.read_csv(file_path) for file_path in file_paths], axis=0,\n",
    ").set_index([\"animal\", \"day\", \"epoch\", \"ripple_number\"])\n",
    "\n",
    "radon_info = radon_info.rename(index={\"Cor\": \"cor\"}).rename_axis(\n",
    "        index={\"animal\": \"Animal ID\"}\n",
    "    )"
   ]
  },
  {
   "cell_type": "code",
   "execution_count": 5,
   "id": "completed-webster",
   "metadata": {},
   "outputs": [
    {
     "data": {
      "text/html": [
       "<div>\n",
       "<style scoped>\n",
       "    .dataframe tbody tr th:only-of-type {\n",
       "        vertical-align: middle;\n",
       "    }\n",
       "\n",
       "    .dataframe tbody tr th {\n",
       "        vertical-align: top;\n",
       "    }\n",
       "\n",
       "    .dataframe thead th {\n",
       "        text-align: right;\n",
       "    }\n",
       "</style>\n",
       "<table border=\"1\" class=\"dataframe\">\n",
       "  <thead>\n",
       "    <tr style=\"text-align: right;\">\n",
       "      <th></th>\n",
       "      <th></th>\n",
       "      <th></th>\n",
       "      <th></th>\n",
       "      <th>radon_speed</th>\n",
       "      <th>radon_score</th>\n",
       "      <th>radon_pvalue</th>\n",
       "      <th>isotonic_speed</th>\n",
       "      <th>isotonic_score</th>\n",
       "      <th>isotonic_pvalue</th>\n",
       "      <th>linear_speed</th>\n",
       "      <th>linear_score</th>\n",
       "      <th>linear_pvalue</th>\n",
       "      <th>map_speed</th>\n",
       "      <th>map_score</th>\n",
       "      <th>map_pvalue</th>\n",
       "    </tr>\n",
       "    <tr>\n",
       "      <th>Animal ID</th>\n",
       "      <th>day</th>\n",
       "      <th>epoch</th>\n",
       "      <th>ripple_number</th>\n",
       "      <th></th>\n",
       "      <th></th>\n",
       "      <th></th>\n",
       "      <th></th>\n",
       "      <th></th>\n",
       "      <th></th>\n",
       "      <th></th>\n",
       "      <th></th>\n",
       "      <th></th>\n",
       "      <th></th>\n",
       "      <th></th>\n",
       "      <th></th>\n",
       "    </tr>\n",
       "  </thead>\n",
       "  <tbody>\n",
       "    <tr>\n",
       "      <th rowspan=\"5\" valign=\"top\">gov</th>\n",
       "      <th rowspan=\"5\" valign=\"top\">13</th>\n",
       "      <th rowspan=\"5\" valign=\"top\">2</th>\n",
       "      <th>1</th>\n",
       "      <td>0.000000</td>\n",
       "      <td>0.189614</td>\n",
       "      <td>0.425574</td>\n",
       "      <td>0.000000</td>\n",
       "      <td>1.000000</td>\n",
       "      <td>0.001998</td>\n",
       "      <td>589.145273</td>\n",
       "      <td>0.154316</td>\n",
       "      <td>0.270729</td>\n",
       "      <td>3622.100000</td>\n",
       "      <td>0.366621</td>\n",
       "      <td>0.302697</td>\n",
       "    </tr>\n",
       "    <tr>\n",
       "      <th>2</th>\n",
       "      <td>75.990767</td>\n",
       "      <td>0.180578</td>\n",
       "      <td>0.633367</td>\n",
       "      <td>0.000000</td>\n",
       "      <td>1.000000</td>\n",
       "      <td>0.000999</td>\n",
       "      <td>167.337527</td>\n",
       "      <td>0.037841</td>\n",
       "      <td>0.774226</td>\n",
       "      <td>1356.182068</td>\n",
       "      <td>0.307621</td>\n",
       "      <td>0.706294</td>\n",
       "    </tr>\n",
       "    <tr>\n",
       "      <th>3</th>\n",
       "      <td>0.000000</td>\n",
       "      <td>0.167528</td>\n",
       "      <td>0.249750</td>\n",
       "      <td>437.930717</td>\n",
       "      <td>1.000000</td>\n",
       "      <td>0.000999</td>\n",
       "      <td>221.962413</td>\n",
       "      <td>0.165396</td>\n",
       "      <td>0.118881</td>\n",
       "      <td>3203.534073</td>\n",
       "      <td>0.432520</td>\n",
       "      <td>0.223776</td>\n",
       "    </tr>\n",
       "    <tr>\n",
       "      <th>4</th>\n",
       "      <td>116.115274</td>\n",
       "      <td>0.212479</td>\n",
       "      <td>0.945055</td>\n",
       "      <td>0.000000</td>\n",
       "      <td>1.000000</td>\n",
       "      <td>0.032967</td>\n",
       "      <td>275.948170</td>\n",
       "      <td>0.084818</td>\n",
       "      <td>0.720280</td>\n",
       "      <td>2198.771984</td>\n",
       "      <td>0.271292</td>\n",
       "      <td>0.829171</td>\n",
       "    </tr>\n",
       "    <tr>\n",
       "      <th>5</th>\n",
       "      <td>872.323591</td>\n",
       "      <td>0.167072</td>\n",
       "      <td>0.860140</td>\n",
       "      <td>24.329484</td>\n",
       "      <td>0.033855</td>\n",
       "      <td>1.000000</td>\n",
       "      <td>366.535979</td>\n",
       "      <td>0.063055</td>\n",
       "      <td>0.427572</td>\n",
       "      <td>3591.156420</td>\n",
       "      <td>0.178187</td>\n",
       "      <td>0.749251</td>\n",
       "    </tr>\n",
       "    <tr>\n",
       "      <th>...</th>\n",
       "      <th>...</th>\n",
       "      <th>...</th>\n",
       "      <th>...</th>\n",
       "      <td>...</td>\n",
       "      <td>...</td>\n",
       "      <td>...</td>\n",
       "      <td>...</td>\n",
       "      <td>...</td>\n",
       "      <td>...</td>\n",
       "      <td>...</td>\n",
       "      <td>...</td>\n",
       "      <td>...</td>\n",
       "      <td>...</td>\n",
       "      <td>...</td>\n",
       "      <td>...</td>\n",
       "    </tr>\n",
       "    <tr>\n",
       "      <th rowspan=\"5\" valign=\"top\">con</th>\n",
       "      <th rowspan=\"5\" valign=\"top\">3</th>\n",
       "      <th rowspan=\"5\" valign=\"top\">2</th>\n",
       "      <th>103</th>\n",
       "      <td>2071.164208</td>\n",
       "      <td>0.360891</td>\n",
       "      <td>0.588412</td>\n",
       "      <td>4180.258955</td>\n",
       "      <td>0.999338</td>\n",
       "      <td>0.516484</td>\n",
       "      <td>2293.344460</td>\n",
       "      <td>0.327363</td>\n",
       "      <td>0.133866</td>\n",
       "      <td>5223.971932</td>\n",
       "      <td>0.544904</td>\n",
       "      <td>0.251748</td>\n",
       "    </tr>\n",
       "    <tr>\n",
       "      <th>104</th>\n",
       "      <td>781.432267</td>\n",
       "      <td>0.247513</td>\n",
       "      <td>0.585415</td>\n",
       "      <td>115.863928</td>\n",
       "      <td>0.201245</td>\n",
       "      <td>0.944056</td>\n",
       "      <td>238.980768</td>\n",
       "      <td>0.074223</td>\n",
       "      <td>0.696304</td>\n",
       "      <td>283.715415</td>\n",
       "      <td>0.280737</td>\n",
       "      <td>0.809191</td>\n",
       "    </tr>\n",
       "    <tr>\n",
       "      <th>105</th>\n",
       "      <td>2071.164208</td>\n",
       "      <td>0.541963</td>\n",
       "      <td>0.531469</td>\n",
       "      <td>434.489730</td>\n",
       "      <td>1.000000</td>\n",
       "      <td>0.999001</td>\n",
       "      <td>957.563813</td>\n",
       "      <td>0.066660</td>\n",
       "      <td>0.962038</td>\n",
       "      <td>440.045538</td>\n",
       "      <td>0.232041</td>\n",
       "      <td>0.953047</td>\n",
       "    </tr>\n",
       "    <tr>\n",
       "      <th>106</th>\n",
       "      <td>2071.164208</td>\n",
       "      <td>0.282525</td>\n",
       "      <td>0.467532</td>\n",
       "      <td>687.942073</td>\n",
       "      <td>0.973685</td>\n",
       "      <td>0.271728</td>\n",
       "      <td>1362.137985</td>\n",
       "      <td>0.423217</td>\n",
       "      <td>0.128871</td>\n",
       "      <td>1619.404786</td>\n",
       "      <td>0.653960</td>\n",
       "      <td>0.248751</td>\n",
       "    </tr>\n",
       "    <tr>\n",
       "      <th>107</th>\n",
       "      <td>1504.116126</td>\n",
       "      <td>0.154870</td>\n",
       "      <td>0.992008</td>\n",
       "      <td>1918.665167</td>\n",
       "      <td>0.791152</td>\n",
       "      <td>0.536464</td>\n",
       "      <td>217.267711</td>\n",
       "      <td>0.007856</td>\n",
       "      <td>0.952048</td>\n",
       "      <td>4648.933128</td>\n",
       "      <td>0.332163</td>\n",
       "      <td>0.599401</td>\n",
       "    </tr>\n",
       "  </tbody>\n",
       "</table>\n",
       "<p>26195 rows × 12 columns</p>\n",
       "</div>"
      ],
      "text/plain": [
       "                                   radon_speed  radon_score  radon_pvalue  \\\n",
       "Animal ID day epoch ripple_number                                           \n",
       "gov       13  2     1                 0.000000     0.189614      0.425574   \n",
       "                    2                75.990767     0.180578      0.633367   \n",
       "                    3                 0.000000     0.167528      0.249750   \n",
       "                    4               116.115274     0.212479      0.945055   \n",
       "                    5               872.323591     0.167072      0.860140   \n",
       "...                                        ...          ...           ...   \n",
       "con       3   2     103            2071.164208     0.360891      0.588412   \n",
       "                    104             781.432267     0.247513      0.585415   \n",
       "                    105            2071.164208     0.541963      0.531469   \n",
       "                    106            2071.164208     0.282525      0.467532   \n",
       "                    107            1504.116126     0.154870      0.992008   \n",
       "\n",
       "                                   isotonic_speed  isotonic_score  \\\n",
       "Animal ID day epoch ripple_number                                   \n",
       "gov       13  2     1                    0.000000        1.000000   \n",
       "                    2                    0.000000        1.000000   \n",
       "                    3                  437.930717        1.000000   \n",
       "                    4                    0.000000        1.000000   \n",
       "                    5                   24.329484        0.033855   \n",
       "...                                           ...             ...   \n",
       "con       3   2     103               4180.258955        0.999338   \n",
       "                    104                115.863928        0.201245   \n",
       "                    105                434.489730        1.000000   \n",
       "                    106                687.942073        0.973685   \n",
       "                    107               1918.665167        0.791152   \n",
       "\n",
       "                                   isotonic_pvalue  linear_speed  \\\n",
       "Animal ID day epoch ripple_number                                  \n",
       "gov       13  2     1                     0.001998    589.145273   \n",
       "                    2                     0.000999    167.337527   \n",
       "                    3                     0.000999    221.962413   \n",
       "                    4                     0.032967    275.948170   \n",
       "                    5                     1.000000    366.535979   \n",
       "...                                            ...           ...   \n",
       "con       3   2     103                   0.516484   2293.344460   \n",
       "                    104                   0.944056    238.980768   \n",
       "                    105                   0.999001    957.563813   \n",
       "                    106                   0.271728   1362.137985   \n",
       "                    107                   0.536464    217.267711   \n",
       "\n",
       "                                   linear_score  linear_pvalue    map_speed  \\\n",
       "Animal ID day epoch ripple_number                                             \n",
       "gov       13  2     1                  0.154316       0.270729  3622.100000   \n",
       "                    2                  0.037841       0.774226  1356.182068   \n",
       "                    3                  0.165396       0.118881  3203.534073   \n",
       "                    4                  0.084818       0.720280  2198.771984   \n",
       "                    5                  0.063055       0.427572  3591.156420   \n",
       "...                                         ...            ...          ...   \n",
       "con       3   2     103                0.327363       0.133866  5223.971932   \n",
       "                    104                0.074223       0.696304   283.715415   \n",
       "                    105                0.066660       0.962038   440.045538   \n",
       "                    106                0.423217       0.128871  1619.404786   \n",
       "                    107                0.007856       0.952048  4648.933128   \n",
       "\n",
       "                                   map_score  map_pvalue  \n",
       "Animal ID day epoch ripple_number                         \n",
       "gov       13  2     1               0.366621    0.302697  \n",
       "                    2               0.307621    0.706294  \n",
       "                    3               0.432520    0.223776  \n",
       "                    4               0.271292    0.829171  \n",
       "                    5               0.178187    0.749251  \n",
       "...                                      ...         ...  \n",
       "con       3   2     103             0.544904    0.251748  \n",
       "                    104             0.280737    0.809191  \n",
       "                    105             0.232041    0.953047  \n",
       "                    106             0.653960    0.248751  \n",
       "                    107             0.332163    0.599401  \n",
       "\n",
       "[26195 rows x 12 columns]"
      ]
     },
     "execution_count": 5,
     "metadata": {},
     "output_type": "execute_result"
    }
   ],
   "source": [
    "radon_info"
   ]
  },
  {
   "cell_type": "code",
   "execution_count": 6,
   "id": "approved-walker",
   "metadata": {},
   "outputs": [
    {
     "data": {
      "text/plain": [
       "(26195, 26159)"
      ]
     },
     "execution_count": 6,
     "metadata": {},
     "output_type": "execute_result"
    }
   ],
   "source": [
    "radon_info.shape[0], replay_info.shape[0]"
   ]
  },
  {
   "cell_type": "code",
   "execution_count": 7,
   "id": "assumed-certificate",
   "metadata": {},
   "outputs": [],
   "source": [
    "replay_info = pd.concat((replay_info, radon_info), axis=1).loc[replay_info.index]"
   ]
  },
  {
   "cell_type": "code",
   "execution_count": 8,
   "id": "printable-bradley",
   "metadata": {},
   "outputs": [
    {
     "data": {
      "text/html": [
       "<div>\n",
       "<style scoped>\n",
       "    .dataframe tbody tr th:only-of-type {\n",
       "        vertical-align: middle;\n",
       "    }\n",
       "\n",
       "    .dataframe tbody tr th {\n",
       "        vertical-align: top;\n",
       "    }\n",
       "\n",
       "    .dataframe thead th {\n",
       "        text-align: right;\n",
       "    }\n",
       "</style>\n",
       "<table border=\"1\" class=\"dataframe\">\n",
       "  <thead>\n",
       "    <tr style=\"text-align: right;\">\n",
       "      <th></th>\n",
       "      <th></th>\n",
       "      <th></th>\n",
       "      <th></th>\n",
       "      <th>start_time</th>\n",
       "      <th>end_time</th>\n",
       "      <th>duration</th>\n",
       "      <th>is_classified</th>\n",
       "      <th>n_unique_spiking</th>\n",
       "      <th>n_total_spikes</th>\n",
       "      <th>median_fraction_spikes_under_6_ms</th>\n",
       "      <th>median_spikes_per_bin</th>\n",
       "      <th>population_rate</th>\n",
       "      <th>actual_x_position</th>\n",
       "      <th>...</th>\n",
       "      <th>radon_pvalue</th>\n",
       "      <th>isotonic_speed</th>\n",
       "      <th>isotonic_score</th>\n",
       "      <th>isotonic_pvalue</th>\n",
       "      <th>linear_speed</th>\n",
       "      <th>linear_score</th>\n",
       "      <th>linear_pvalue</th>\n",
       "      <th>map_speed</th>\n",
       "      <th>map_score</th>\n",
       "      <th>map_pvalue</th>\n",
       "    </tr>\n",
       "    <tr>\n",
       "      <th>Animal ID</th>\n",
       "      <th>day</th>\n",
       "      <th>epoch</th>\n",
       "      <th>ripple_number</th>\n",
       "      <th></th>\n",
       "      <th></th>\n",
       "      <th></th>\n",
       "      <th></th>\n",
       "      <th></th>\n",
       "      <th></th>\n",
       "      <th></th>\n",
       "      <th></th>\n",
       "      <th></th>\n",
       "      <th></th>\n",
       "      <th></th>\n",
       "      <th></th>\n",
       "      <th></th>\n",
       "      <th></th>\n",
       "      <th></th>\n",
       "      <th></th>\n",
       "      <th></th>\n",
       "      <th></th>\n",
       "      <th></th>\n",
       "      <th></th>\n",
       "      <th></th>\n",
       "    </tr>\n",
       "  </thead>\n",
       "  <tbody>\n",
       "    <tr>\n",
       "      <th rowspan=\"5\" valign=\"top\">cor</th>\n",
       "      <th rowspan=\"5\" valign=\"top\">1</th>\n",
       "      <th rowspan=\"5\" valign=\"top\">2</th>\n",
       "      <th>1</th>\n",
       "      <td>0 days 00:22:39.771534985</td>\n",
       "      <td>0 days 00:22:39.809534988</td>\n",
       "      <td>0.038000</td>\n",
       "      <td>True</td>\n",
       "      <td>10.0</td>\n",
       "      <td>21.0</td>\n",
       "      <td>0.500000</td>\n",
       "      <td>1.0</td>\n",
       "      <td>50.239234</td>\n",
       "      <td>279.996345</td>\n",
       "      <td>...</td>\n",
       "      <td>0.015984</td>\n",
       "      <td>731.169742</td>\n",
       "      <td>1.000000</td>\n",
       "      <td>0.999001</td>\n",
       "      <td>2009.943219</td>\n",
       "      <td>0.380216</td>\n",
       "      <td>0.486513</td>\n",
       "      <td>3531.225363</td>\n",
       "      <td>0.619326</td>\n",
       "      <td>0.422577</td>\n",
       "    </tr>\n",
       "    <tr>\n",
       "      <th>2</th>\n",
       "      <td>0 days 00:23:00.114870107</td>\n",
       "      <td>0 days 00:23:00.142870110</td>\n",
       "      <td>0.028000</td>\n",
       "      <td>True</td>\n",
       "      <td>5.0</td>\n",
       "      <td>11.0</td>\n",
       "      <td>0.300000</td>\n",
       "      <td>1.0</td>\n",
       "      <td>35.714286</td>\n",
       "      <td>289.695552</td>\n",
       "      <td>...</td>\n",
       "      <td>0.495504</td>\n",
       "      <td>1023.637639</td>\n",
       "      <td>1.000000</td>\n",
       "      <td>1.000000</td>\n",
       "      <td>428.656655</td>\n",
       "      <td>0.153023</td>\n",
       "      <td>0.924076</td>\n",
       "      <td>1033.035531</td>\n",
       "      <td>0.354968</td>\n",
       "      <td>0.878122</td>\n",
       "    </tr>\n",
       "    <tr>\n",
       "      <th>3</th>\n",
       "      <td>0 days 00:23:16.240204859</td>\n",
       "      <td>0 days 00:23:16.308871531</td>\n",
       "      <td>0.068667</td>\n",
       "      <td>True</td>\n",
       "      <td>9.0</td>\n",
       "      <td>33.0</td>\n",
       "      <td>0.000000</td>\n",
       "      <td>1.0</td>\n",
       "      <td>44.117647</td>\n",
       "      <td>270.042726</td>\n",
       "      <td>...</td>\n",
       "      <td>0.963037</td>\n",
       "      <td>1930.186196</td>\n",
       "      <td>0.997144</td>\n",
       "      <td>0.226773</td>\n",
       "      <td>383.508208</td>\n",
       "      <td>0.026959</td>\n",
       "      <td>0.368631</td>\n",
       "      <td>2203.926143</td>\n",
       "      <td>0.172634</td>\n",
       "      <td>0.322677</td>\n",
       "    </tr>\n",
       "    <tr>\n",
       "      <th>4</th>\n",
       "      <td>0 days 00:23:21.014871945</td>\n",
       "      <td>0 days 00:23:21.102871953</td>\n",
       "      <td>0.088000</td>\n",
       "      <td>True</td>\n",
       "      <td>9.0</td>\n",
       "      <td>115.0</td>\n",
       "      <td>0.600000</td>\n",
       "      <td>2.0</td>\n",
       "      <td>118.801653</td>\n",
       "      <td>279.300000</td>\n",
       "      <td>...</td>\n",
       "      <td>0.034965</td>\n",
       "      <td>1316.105536</td>\n",
       "      <td>1.000000</td>\n",
       "      <td>0.034965</td>\n",
       "      <td>950.389234</td>\n",
       "      <td>0.523069</td>\n",
       "      <td>0.002997</td>\n",
       "      <td>3397.557088</td>\n",
       "      <td>0.722512</td>\n",
       "      <td>0.003996</td>\n",
       "    </tr>\n",
       "    <tr>\n",
       "      <th>5</th>\n",
       "      <td>0 days 00:23:21.862205353</td>\n",
       "      <td>0 days 00:23:21.910205357</td>\n",
       "      <td>0.048000</td>\n",
       "      <td>True</td>\n",
       "      <td>9.0</td>\n",
       "      <td>34.0</td>\n",
       "      <td>0.333333</td>\n",
       "      <td>1.0</td>\n",
       "      <td>64.393939</td>\n",
       "      <td>279.300000</td>\n",
       "      <td>...</td>\n",
       "      <td>0.811189</td>\n",
       "      <td>1169.871588</td>\n",
       "      <td>1.000000</td>\n",
       "      <td>0.552448</td>\n",
       "      <td>1473.812207</td>\n",
       "      <td>0.229625</td>\n",
       "      <td>0.082917</td>\n",
       "      <td>2492.884460</td>\n",
       "      <td>0.454880</td>\n",
       "      <td>0.212787</td>\n",
       "    </tr>\n",
       "    <tr>\n",
       "      <th>...</th>\n",
       "      <th>...</th>\n",
       "      <th>...</th>\n",
       "      <th>...</th>\n",
       "      <td>...</td>\n",
       "      <td>...</td>\n",
       "      <td>...</td>\n",
       "      <td>...</td>\n",
       "      <td>...</td>\n",
       "      <td>...</td>\n",
       "      <td>...</td>\n",
       "      <td>...</td>\n",
       "      <td>...</td>\n",
       "      <td>...</td>\n",
       "      <td>...</td>\n",
       "      <td>...</td>\n",
       "      <td>...</td>\n",
       "      <td>...</td>\n",
       "      <td>...</td>\n",
       "      <td>...</td>\n",
       "      <td>...</td>\n",
       "      <td>...</td>\n",
       "      <td>...</td>\n",
       "      <td>...</td>\n",
       "      <td>...</td>\n",
       "    </tr>\n",
       "    <tr>\n",
       "      <th rowspan=\"5\" valign=\"top\">remy</th>\n",
       "      <th rowspan=\"5\" valign=\"top\">37</th>\n",
       "      <th rowspan=\"5\" valign=\"top\">4</th>\n",
       "      <th>297</th>\n",
       "      <td>0 days 01:48:51.756666666</td>\n",
       "      <td>0 days 01:48:51.840666666</td>\n",
       "      <td>0.084000</td>\n",
       "      <td>True</td>\n",
       "      <td>19.0</td>\n",
       "      <td>167.0</td>\n",
       "      <td>0.375000</td>\n",
       "      <td>4.0</td>\n",
       "      <td>82.837302</td>\n",
       "      <td>49.896000</td>\n",
       "      <td>...</td>\n",
       "      <td>0.458541</td>\n",
       "      <td>511.623967</td>\n",
       "      <td>0.696895</td>\n",
       "      <td>0.682318</td>\n",
       "      <td>246.304245</td>\n",
       "      <td>0.028324</td>\n",
       "      <td>0.863137</td>\n",
       "      <td>2838.610092</td>\n",
       "      <td>0.266081</td>\n",
       "      <td>0.806194</td>\n",
       "    </tr>\n",
       "    <tr>\n",
       "      <th>298</th>\n",
       "      <td>0 days 01:48:52.121999999</td>\n",
       "      <td>0 days 01:48:52.191999999</td>\n",
       "      <td>0.070000</td>\n",
       "      <td>False</td>\n",
       "      <td>18.0</td>\n",
       "      <td>123.0</td>\n",
       "      <td>0.333333</td>\n",
       "      <td>4.0</td>\n",
       "      <td>73.214286</td>\n",
       "      <td>49.896000</td>\n",
       "      <td>...</td>\n",
       "      <td>0.478521</td>\n",
       "      <td>1241.253481</td>\n",
       "      <td>0.525094</td>\n",
       "      <td>0.900100</td>\n",
       "      <td>667.698765</td>\n",
       "      <td>0.084549</td>\n",
       "      <td>0.516484</td>\n",
       "      <td>1100.982002</td>\n",
       "      <td>0.252918</td>\n",
       "      <td>0.603397</td>\n",
       "    </tr>\n",
       "    <tr>\n",
       "      <th>299</th>\n",
       "      <td>0 days 01:48:55.523999999</td>\n",
       "      <td>0 days 01:48:55.604666666</td>\n",
       "      <td>0.080667</td>\n",
       "      <td>True</td>\n",
       "      <td>19.0</td>\n",
       "      <td>193.0</td>\n",
       "      <td>0.527778</td>\n",
       "      <td>4.5</td>\n",
       "      <td>100.520833</td>\n",
       "      <td>49.896000</td>\n",
       "      <td>...</td>\n",
       "      <td>0.290709</td>\n",
       "      <td>1150.261236</td>\n",
       "      <td>0.900046</td>\n",
       "      <td>0.448551</td>\n",
       "      <td>614.239612</td>\n",
       "      <td>0.140144</td>\n",
       "      <td>0.388611</td>\n",
       "      <td>2054.568187</td>\n",
       "      <td>0.383836</td>\n",
       "      <td>0.501499</td>\n",
       "    </tr>\n",
       "    <tr>\n",
       "      <th>300</th>\n",
       "      <td>0 days 01:48:56.427333333</td>\n",
       "      <td>0 days 01:48:56.514666666</td>\n",
       "      <td>0.087333</td>\n",
       "      <td>True</td>\n",
       "      <td>19.0</td>\n",
       "      <td>170.0</td>\n",
       "      <td>0.300000</td>\n",
       "      <td>4.0</td>\n",
       "      <td>80.492424</td>\n",
       "      <td>49.896000</td>\n",
       "      <td>...</td>\n",
       "      <td>0.262737</td>\n",
       "      <td>1203.849584</td>\n",
       "      <td>0.347755</td>\n",
       "      <td>0.907093</td>\n",
       "      <td>326.407066</td>\n",
       "      <td>0.030020</td>\n",
       "      <td>0.850150</td>\n",
       "      <td>3933.852586</td>\n",
       "      <td>0.196248</td>\n",
       "      <td>0.839161</td>\n",
       "    </tr>\n",
       "    <tr>\n",
       "      <th>301</th>\n",
       "      <td>0 days 01:48:57.831333333</td>\n",
       "      <td>0 days 01:48:57.919333333</td>\n",
       "      <td>0.088000</td>\n",
       "      <td>True</td>\n",
       "      <td>17.0</td>\n",
       "      <td>179.0</td>\n",
       "      <td>0.375000</td>\n",
       "      <td>4.0</td>\n",
       "      <td>82.870370</td>\n",
       "      <td>49.896000</td>\n",
       "      <td>...</td>\n",
       "      <td>0.125874</td>\n",
       "      <td>797.288103</td>\n",
       "      <td>0.987489</td>\n",
       "      <td>0.206793</td>\n",
       "      <td>354.046150</td>\n",
       "      <td>0.201603</td>\n",
       "      <td>0.413586</td>\n",
       "      <td>950.922495</td>\n",
       "      <td>0.339144</td>\n",
       "      <td>0.749251</td>\n",
       "    </tr>\n",
       "  </tbody>\n",
       "</table>\n",
       "<p>26159 rows × 201 columns</p>\n",
       "</div>"
      ],
      "text/plain": [
       "                                                  start_time  \\\n",
       "Animal ID day epoch ripple_number                              \n",
       "cor       1   2     1              0 days 00:22:39.771534985   \n",
       "                    2              0 days 00:23:00.114870107   \n",
       "                    3              0 days 00:23:16.240204859   \n",
       "                    4              0 days 00:23:21.014871945   \n",
       "                    5              0 days 00:23:21.862205353   \n",
       "...                                                      ...   \n",
       "remy      37  4     297            0 days 01:48:51.756666666   \n",
       "                    298            0 days 01:48:52.121999999   \n",
       "                    299            0 days 01:48:55.523999999   \n",
       "                    300            0 days 01:48:56.427333333   \n",
       "                    301            0 days 01:48:57.831333333   \n",
       "\n",
       "                                                    end_time  duration  \\\n",
       "Animal ID day epoch ripple_number                                        \n",
       "cor       1   2     1              0 days 00:22:39.809534988  0.038000   \n",
       "                    2              0 days 00:23:00.142870110  0.028000   \n",
       "                    3              0 days 00:23:16.308871531  0.068667   \n",
       "                    4              0 days 00:23:21.102871953  0.088000   \n",
       "                    5              0 days 00:23:21.910205357  0.048000   \n",
       "...                                                      ...       ...   \n",
       "remy      37  4     297            0 days 01:48:51.840666666  0.084000   \n",
       "                    298            0 days 01:48:52.191999999  0.070000   \n",
       "                    299            0 days 01:48:55.604666666  0.080667   \n",
       "                    300            0 days 01:48:56.514666666  0.087333   \n",
       "                    301            0 days 01:48:57.919333333  0.088000   \n",
       "\n",
       "                                  is_classified  n_unique_spiking  \\\n",
       "Animal ID day epoch ripple_number                                   \n",
       "cor       1   2     1                      True              10.0   \n",
       "                    2                      True               5.0   \n",
       "                    3                      True               9.0   \n",
       "                    4                      True               9.0   \n",
       "                    5                      True               9.0   \n",
       "...                                         ...               ...   \n",
       "remy      37  4     297                    True              19.0   \n",
       "                    298                   False              18.0   \n",
       "                    299                    True              19.0   \n",
       "                    300                    True              19.0   \n",
       "                    301                    True              17.0   \n",
       "\n",
       "                                   n_total_spikes  \\\n",
       "Animal ID day epoch ripple_number                   \n",
       "cor       1   2     1                        21.0   \n",
       "                    2                        11.0   \n",
       "                    3                        33.0   \n",
       "                    4                       115.0   \n",
       "                    5                        34.0   \n",
       "...                                           ...   \n",
       "remy      37  4     297                     167.0   \n",
       "                    298                     123.0   \n",
       "                    299                     193.0   \n",
       "                    300                     170.0   \n",
       "                    301                     179.0   \n",
       "\n",
       "                                   median_fraction_spikes_under_6_ms  \\\n",
       "Animal ID day epoch ripple_number                                      \n",
       "cor       1   2     1                                       0.500000   \n",
       "                    2                                       0.300000   \n",
       "                    3                                       0.000000   \n",
       "                    4                                       0.600000   \n",
       "                    5                                       0.333333   \n",
       "...                                                              ...   \n",
       "remy      37  4     297                                     0.375000   \n",
       "                    298                                     0.333333   \n",
       "                    299                                     0.527778   \n",
       "                    300                                     0.300000   \n",
       "                    301                                     0.375000   \n",
       "\n",
       "                                   median_spikes_per_bin  population_rate  \\\n",
       "Animal ID day epoch ripple_number                                           \n",
       "cor       1   2     1                                1.0        50.239234   \n",
       "                    2                                1.0        35.714286   \n",
       "                    3                                1.0        44.117647   \n",
       "                    4                                2.0       118.801653   \n",
       "                    5                                1.0        64.393939   \n",
       "...                                                  ...              ...   \n",
       "remy      37  4     297                              4.0        82.837302   \n",
       "                    298                              4.0        73.214286   \n",
       "                    299                              4.5       100.520833   \n",
       "                    300                              4.0        80.492424   \n",
       "                    301                              4.0        82.870370   \n",
       "\n",
       "                                   actual_x_position  ...  radon_pvalue  \\\n",
       "Animal ID day epoch ripple_number                     ...                 \n",
       "cor       1   2     1                     279.996345  ...      0.015984   \n",
       "                    2                     289.695552  ...      0.495504   \n",
       "                    3                     270.042726  ...      0.963037   \n",
       "                    4                     279.300000  ...      0.034965   \n",
       "                    5                     279.300000  ...      0.811189   \n",
       "...                                              ...  ...           ...   \n",
       "remy      37  4     297                    49.896000  ...      0.458541   \n",
       "                    298                    49.896000  ...      0.478521   \n",
       "                    299                    49.896000  ...      0.290709   \n",
       "                    300                    49.896000  ...      0.262737   \n",
       "                    301                    49.896000  ...      0.125874   \n",
       "\n",
       "                                   isotonic_speed  isotonic_score  \\\n",
       "Animal ID day epoch ripple_number                                   \n",
       "cor       1   2     1                  731.169742        1.000000   \n",
       "                    2                 1023.637639        1.000000   \n",
       "                    3                 1930.186196        0.997144   \n",
       "                    4                 1316.105536        1.000000   \n",
       "                    5                 1169.871588        1.000000   \n",
       "...                                           ...             ...   \n",
       "remy      37  4     297                511.623967        0.696895   \n",
       "                    298               1241.253481        0.525094   \n",
       "                    299               1150.261236        0.900046   \n",
       "                    300               1203.849584        0.347755   \n",
       "                    301                797.288103        0.987489   \n",
       "\n",
       "                                   isotonic_pvalue  linear_speed  \\\n",
       "Animal ID day epoch ripple_number                                  \n",
       "cor       1   2     1                     0.999001   2009.943219   \n",
       "                    2                     1.000000    428.656655   \n",
       "                    3                     0.226773    383.508208   \n",
       "                    4                     0.034965    950.389234   \n",
       "                    5                     0.552448   1473.812207   \n",
       "...                                            ...           ...   \n",
       "remy      37  4     297                   0.682318    246.304245   \n",
       "                    298                   0.900100    667.698765   \n",
       "                    299                   0.448551    614.239612   \n",
       "                    300                   0.907093    326.407066   \n",
       "                    301                   0.206793    354.046150   \n",
       "\n",
       "                                   linear_score  linear_pvalue    map_speed  \\\n",
       "Animal ID day epoch ripple_number                                             \n",
       "cor       1   2     1                  0.380216       0.486513  3531.225363   \n",
       "                    2                  0.153023       0.924076  1033.035531   \n",
       "                    3                  0.026959       0.368631  2203.926143   \n",
       "                    4                  0.523069       0.002997  3397.557088   \n",
       "                    5                  0.229625       0.082917  2492.884460   \n",
       "...                                         ...            ...          ...   \n",
       "remy      37  4     297                0.028324       0.863137  2838.610092   \n",
       "                    298                0.084549       0.516484  1100.982002   \n",
       "                    299                0.140144       0.388611  2054.568187   \n",
       "                    300                0.030020       0.850150  3933.852586   \n",
       "                    301                0.201603       0.413586   950.922495   \n",
       "\n",
       "                                   map_score  map_pvalue  \n",
       "Animal ID day epoch ripple_number                         \n",
       "cor       1   2     1               0.619326    0.422577  \n",
       "                    2               0.354968    0.878122  \n",
       "                    3               0.172634    0.322677  \n",
       "                    4               0.722512    0.003996  \n",
       "                    5               0.454880    0.212787  \n",
       "...                                      ...         ...  \n",
       "remy      37  4     297             0.266081    0.806194  \n",
       "                    298             0.252918    0.603397  \n",
       "                    299             0.383836    0.501499  \n",
       "                    300             0.196248    0.839161  \n",
       "                    301             0.339144    0.749251  \n",
       "\n",
       "[26159 rows x 201 columns]"
      ]
     },
     "execution_count": 8,
     "metadata": {},
     "output_type": "execute_result"
    }
   ],
   "source": [
    "from src.parameters import PROCESSED_DATA_DIR\n",
    "import os\n",
    "\n",
    "\n",
    "replay_info.to_csv(os.path.join(PROCESSED_DATA_DIR, \"replay_info_80.csv\"))\n",
    "replay_info"
   ]
  },
  {
   "cell_type": "code",
   "execution_count": 9,
   "id": "american-template",
   "metadata": {},
   "outputs": [
    {
     "data": {
      "text/plain": [
       "array([False, False, False, False])"
      ]
     },
     "execution_count": 9,
     "metadata": {},
     "output_type": "execute_result"
    }
   ],
   "source": [
    "from src.shuffle import Benjamini_Hochberg_procedure\n",
    "Benjamini_Hochberg_procedure(replay_info.filter(like='pvalue', axis='columns').iloc[4])"
   ]
  },
  {
   "cell_type": "code",
   "execution_count": 10,
   "id": "wooden-sussex",
   "metadata": {},
   "outputs": [],
   "source": [
    "def plot_speed_by_classified_state(speed_type='radon', ylim_max=0.25):\n",
    "    fig, axes = plt.subplots(len(STATE_ORDER) + 1, 1, sharex=True, sharey=True,\n",
    "                             figsize=(ONE_COLUMN * 0.9,  0.9 * PAGE_HEIGHT / 2), constrained_layout=True)\n",
    "    for ax, state in zip(axes.flat, STATE_ORDER):\n",
    "        ax.hist(replay_info.loc[replay_info[state].fillna(False)][f\"{speed_type}_speed\"] / 100,\n",
    "                 color=STATE_COLORS[state],\n",
    "                 bins=np.arange(0, 45, 1),\n",
    "                 density=True)\n",
    "    axes[-1].hist(replay_info[f\"{speed_type}_speed\"] / 100,\n",
    "             bins=np.arange(0, 45, 1),\n",
    "             density=True,\n",
    "             color='black'\n",
    "            )\n",
    "    plt.xlim((0, 45))\n",
    "    plt.ylim((0, ylim_max))\n",
    "    plt.yticks((0, ylim_max))\n",
    "    axes[-1].set_xlabel('Estimated Speed [m/s]')\n",
    "    axes[0].set_title(speed_type.capitalize())\n",
    "    sns.despine(offset=5)"
   ]
  },
  {
   "cell_type": "code",
   "execution_count": 11,
   "id": "herbal-pearl",
   "metadata": {},
   "outputs": [],
   "source": [
    "def plot_score_by_classified_state(speed_type='radon'):\n",
    "    fig, axes = plt.subplots(len(STATE_ORDER) + 1, 1, sharex=True, sharey=True,\n",
    "                             figsize=(ONE_COLUMN * 0.9,  0.9 * PAGE_HEIGHT / 2), constrained_layout=True)\n",
    "    for ax, state in zip(axes.flat, STATE_ORDER):\n",
    "        ax.hist(np.abs(replay_info.loc[replay_info[state].fillna(False)][f\"{speed_type}_score\"]),\n",
    "                color=STATE_COLORS[state],\n",
    "                bins=np.arange(0, 1.1, 0.1),\n",
    "                density=True,\n",
    "               )\n",
    "    axes[-1].hist(replay_info[f\"{speed_type}_score\"],\n",
    "         density=True,\n",
    "        bins=np.arange(0, 1.1, 0.1),\n",
    "         color='black'\n",
    "        )\n",
    "    axes[-1].set_xlabel(f'{speed_type.capitalize()} score')\n",
    "    axes[0].set_title(speed_type.capitalize())\n",
    "    plt.xlim((0, 1))\n",
    "    sns.despine(offset=5)\n",
    "    "
   ]
  },
  {
   "cell_type": "markdown",
   "id": "certified-sunday",
   "metadata": {},
   "source": [
    "## Radon"
   ]
  },
  {
   "cell_type": "code",
   "execution_count": 12,
   "id": "respective-intranet",
   "metadata": {},
   "outputs": [
    {
     "data": {
      "image/png": "[encoded data removed]",
      "text/plain": [
       "<Figure size 227.055x315.071 with 7 Axes>"
      ]
     },
     "metadata": {
      "needs_background": "light"
     },
     "output_type": "display_data"
    }
   ],
   "source": [
    "plot_speed_by_classified_state('radon')\n",
    "save_figure(os.path.join(\"Figure6\", \"figure6_radon_speed\"))"
   ]
  },
  {
   "cell_type": "code",
   "execution_count": 13,
   "id": "consecutive-tattoo",
   "metadata": {},
   "outputs": [
    {
     "data": {
      "image/png": "[encoded data removed]",
      "text/plain": [
       "<Figure size 227.055x315.071 with 7 Axes>"
      ]
     },
     "metadata": {
      "needs_background": "light"
     },
     "output_type": "display_data"
    }
   ],
   "source": [
    "plot_score_by_classified_state('radon')\n",
    "save_figure(os.path.join(\"Figure6\", \"figure6_radon_score\"))"
   ]
  },
  {
   "cell_type": "markdown",
   "id": "respected-article",
   "metadata": {},
   "source": [
    "## MAP"
   ]
  },
  {
   "cell_type": "code",
   "execution_count": 14,
   "id": "lightweight-manner",
   "metadata": {},
   "outputs": [
    {
     "data": {
      "image/png": "[encoded data removed]",
      "text/plain": [
       "<Figure size 227.055x315.071 with 7 Axes>"
      ]
     },
     "metadata": {
      "needs_background": "light"
     },
     "output_type": "display_data"
    }
   ],
   "source": [
    "plot_speed_by_classified_state('map')\n",
    "save_figure(os.path.join(\"Figure6\", \"figure6_map_speed\"))"
   ]
  },
  {
   "cell_type": "code",
   "execution_count": 15,
   "id": "automatic-companion",
   "metadata": {},
   "outputs": [
    {
     "data": {
      "image/png": "[encoded data removed]",
      "text/plain": [
       "<Figure size 227.055x315.071 with 7 Axes>"
      ]
     },
     "metadata": {
      "needs_background": "light"
     },
     "output_type": "display_data"
    }
   ],
   "source": [
    "plot_score_by_classified_state('map')\n",
    "save_figure(os.path.join(\"Figure5-supplemental4\", \"figure5_map_score\"))"
   ]
  },
  {
   "cell_type": "markdown",
   "id": "pregnant-collaboration",
   "metadata": {},
   "source": [
    "## Linear"
   ]
  },
  {
   "cell_type": "code",
   "execution_count": 16,
   "id": "romantic-supervisor",
   "metadata": {},
   "outputs": [
    {
     "data": {
      "image/png": "[encoded data removed]",
      "text/plain": [
       "<Figure size 227.055x315.071 with 7 Axes>"
      ]
     },
     "metadata": {
      "needs_background": "light"
     },
     "output_type": "display_data"
    }
   ],
   "source": [
    "plot_speed_by_classified_state('linear')\n",
    "save_figure(os.path.join(\"Figure6\", \"figure6_linear_speed\"))"
   ]
  },
  {
   "cell_type": "code",
   "execution_count": 18,
   "id": "loving-region",
   "metadata": {},
   "outputs": [
    {
     "data": {
      "image/png": "[encoded data removed]",
      "text/plain": [
       "<Figure size 227.055x315.071 with 7 Axes>"
      ]
     },
     "metadata": {
      "needs_background": "light"
     },
     "output_type": "display_data"
    }
   ],
   "source": [
    "plot_score_by_classified_state('linear')\n",
    "save_figure(os.path.join(\"Figure6\", \"figure6_linear_score\"))"
   ]
  },
  {
   "cell_type": "markdown",
   "id": "dress-execution",
   "metadata": {},
   "source": [
    "## Isotonic Regression"
   ]
  },
  {
   "cell_type": "code",
   "execution_count": 19,
   "id": "difficult-spank",
   "metadata": {},
   "outputs": [
    {
     "data": {
      "image/png": "[encoded data removed]",
      "text/plain": [
       "<Figure size 227.055x315.071 with 7 Axes>"
      ]
     },
     "metadata": {
      "needs_background": "light"
     },
     "output_type": "display_data"
    }
   ],
   "source": [
    "plot_speed_by_classified_state('isotonic')\n",
    "save_figure(os.path.join(\"Figure6\", \"figure6_isotonic_speed\"))"
   ]
  },
  {
   "cell_type": "code",
   "execution_count": 20,
   "id": "after-aluminum",
   "metadata": {},
   "outputs": [
    {
     "data": {
      "image/png": "[encoded data removed]",
      "text/plain": [
       "<Figure size 227.055x315.071 with 7 Axes>"
      ]
     },
     "metadata": {
      "needs_background": "light"
     },
     "output_type": "display_data"
    }
   ],
   "source": [
    "plot_score_by_classified_state('isotonic')\n",
    "save_figure(os.path.join(\"Figure6\", \"figure6_isotonic_score\"))"
   ]
  },
  {
   "cell_type": "markdown",
   "id": "charitable-russia",
   "metadata": {},
   "source": [
    "## Classifier"
   ]
  },
  {
   "cell_type": "code",
   "execution_count": 21,
   "id": "latter-coast",
   "metadata": {},
   "outputs": [
    {
     "data": {
      "image/png": "[encoded data removed]",
      "text/plain": [
       "<Figure size 227.055x315.071 with 7 Axes>"
      ]
     },
     "metadata": {
      "needs_background": "light"
     },
     "output_type": "display_data"
    }
   ],
   "source": [
    "plot_speed_by_classified_state('replay')\n",
    "plt.gcf().axes[0].set_title('Classifier')\n",
    "save_figure(os.path.join(\"Figure6\", \"figure6_classifier_speed\"))"
   ]
  },
  {
   "cell_type": "markdown",
   "id": "understood-sarah",
   "metadata": {},
   "source": [
    "# Number of Ripples per State"
   ]
  },
  {
   "cell_type": "code",
   "execution_count": 22,
   "id": "quick-spencer",
   "metadata": {},
   "outputs": [
    {
     "data": {
      "text/plain": [
       "Text(0.5, 0, 'Number of Ripples')"
      ]
     },
     "execution_count": 22,
     "metadata": {},
     "output_type": "execute_result"
    },
    {
     "data": {
      "image/png": "[encoded data removed]",
      "text/plain": [
       "<Figure size 151.37x350.079 with 7 Axes>"
      ]
     },
     "metadata": {
      "needs_background": "light"
     },
     "output_type": "display_data"
    }
   ],
   "source": [
    "fig, axes = plt.subplots(len(STATE_ORDER) + 1, 1, sharex=True, sharey=True,\n",
    "                         figsize=(ONE_COLUMN * 0.6,  PAGE_HEIGHT / 2), constrained_layout=True)\n",
    "for ax, state in zip(axes.flat, STATE_ORDER):\n",
    "    ax.hist(replay_info.loc[replay_info[state].fillna(False)].n_ripples,\n",
    "             color=STATE_COLORS[state],\n",
    "             bins=np.arange(0.5, 6.5, 1),\n",
    "             density=True)\n",
    "axes[-1].hist(replay_info.n_ripples,\n",
    "             color=\"black\",\n",
    "             bins=np.arange(0.5, 6.5, 1),\n",
    "             density=True);\n",
    "plt.xticks(ticks=np.arange(1, 6), labels=np.arange(1, 6))\n",
    "plt.xlim((0.5, 5.5))\n",
    "sns.despine(offset=5)\n",
    "plt.xlabel(\"Number of Ripples\")"
   ]
  },
  {
   "cell_type": "code",
   "execution_count": 23,
   "id": "numerous-honor",
   "metadata": {},
   "outputs": [
    {
     "data": {
      "text/plain": [
       "Animal ID  day  epoch  ripple_number\n",
       "cor        1    2      1                1.0\n",
       "                       3                1.0\n",
       "                       5                1.0\n",
       "                       6                1.0\n",
       "                       7                1.0\n",
       "                                       ... \n",
       "remy       37   4      293              1.0\n",
       "                       295              1.0\n",
       "                       296              1.0\n",
       "                       297              2.0\n",
       "                       301              1.0\n",
       "Name: n_ripples, Length: 16106, dtype: float64"
      ]
     },
     "execution_count": 23,
     "metadata": {},
     "output_type": "execute_result"
    }
   ],
   "source": [
    "replay_info.loc[replay_info['Hover-Continuous-Mix'].fillna(False)].n_ripples"
   ]
  },
  {
   "cell_type": "code",
   "execution_count": 24,
   "id": "characteristic-encoding",
   "metadata": {},
   "outputs": [
    {
     "data": {
      "text/plain": [
       "(1.3474645030425962, 1.2462941847206386)"
      ]
     },
     "execution_count": 24,
     "metadata": {},
     "output_type": "execute_result"
    }
   ],
   "source": [
    "stat = replay_info['Hover'].fillna(False)\n",
    "scm = replay_info['Hover-Continuous-Mix'].fillna(False)\n",
    "cont = replay_info['Continuous'].fillna(False)\n",
    "fcm = replay_info['Fragmented-Continuous-Mix'].fillna(False)\n",
    "frag = replay_info['Fragmented'].fillna(False)\n",
    "\n",
    "replay_info.loc[scm & ~(stat | cont | fcm | frag)].n_ripples.mean(), replay_info.loc[cont & ~(stat | scm | fcm | frag)].n_ripples.mean()"
   ]
  },
  {
   "cell_type": "code",
   "execution_count": 26,
   "id": "exciting-chest",
   "metadata": {},
   "outputs": [],
   "source": [
    "from patsy import dmatrix, dmatrices\n",
    "from statsmodels.api import families\n",
    "from regularized_glm import penalized_IRLS\n",
    "\n",
    "replay_info.loc[replay_info['Continuous'].fillna(False)].n_ripples\n",
    "\n",
    "n_ripples, constant_dm = dmatrices(formula_like='n_ripples ~ 1', data=replay_info)\n",
    "dynamics_dm = np.stack((\n",
    "    np.ones((replay_info.shape[0])),\n",
    "    replay_info['Hover-Continuous-Mix'].fillna(False).values,\n",
    "    replay_info['Continuous'].fillna(False).values,\n",
    "    ), axis=1)\n",
    "dynamics_dm2 = np.stack((\n",
    "    np.ones((replay_info.shape[0])),\n",
    "    replay_info['Hover'].fillna(False).values,\n",
    "    replay_info['Hover-Continuous-Mix'].fillna(False).values,\n",
    "    replay_info['Continuous'].fillna(False).values,\n",
    "    replay_info['Fragmented-Continuous-Mix'].fillna(False).values,\n",
    "    replay_info['Fragmented'].fillna(False).values\n",
    "    ), axis=1)\n",
    "\n",
    "constant_model = penalized_IRLS(\n",
    "        constant_dm, n_ripples, family=families.Poisson(),\n",
    "        penalty=1e-10, tolerance=1E-10)\n",
    "\n",
    "dynamics_model = penalized_IRLS(\n",
    "        dynamics_dm, n_ripples, family=families.Poisson(),\n",
    "        penalty=1e-10, tolerance=1E-10)\n",
    "\n",
    "dynamics_model2 = penalized_IRLS(\n",
    "        dynamics_dm2, n_ripples, family=families.Poisson(),\n",
    "        penalty=1e-10, tolerance=1E-10)"
   ]
  },
  {
   "cell_type": "code",
   "execution_count": 27,
   "id": "voluntary-consumer",
   "metadata": {},
   "outputs": [
    {
     "data": {
      "text/plain": [
       "-0.03395707570074924"
      ]
     },
     "execution_count": 27,
     "metadata": {},
     "output_type": "execute_result"
    }
   ],
   "source": [
    "np.exp(np.sum(dynamics_model.coefficients[[0, 2]])) - np.exp(np.sum(dynamics_model.coefficients[[0, 1]]))"
   ]
  },
  {
   "cell_type": "code",
   "execution_count": 28,
   "id": "technological-designer",
   "metadata": {},
   "outputs": [
    {
     "data": {
      "text/plain": [
       "1.3703123208073695"
      ]
     },
     "execution_count": 28,
     "metadata": {},
     "output_type": "execute_result"
    }
   ],
   "source": [
    "np.exp(constant_model.coefficients)"
   ]
  },
  {
   "cell_type": "code",
   "execution_count": 29,
   "id": "refined-arbor",
   "metadata": {},
   "outputs": [
    {
     "data": {
      "text/plain": [
       "array([1.18832232, 1.19531477, 1.16673912])"
      ]
     },
     "execution_count": 29,
     "metadata": {},
     "output_type": "execute_result"
    }
   ],
   "source": [
    "np.exp(dynamics_model.coefficients)"
   ]
  },
  {
   "cell_type": "code",
   "execution_count": 30,
   "id": "enormous-calculator",
   "metadata": {},
   "outputs": [
    {
     "data": {
      "text/plain": [
       "array([1.13885479, 1.02907925, 1.21142906, 1.14549867, 1.16481791,\n",
       "       1.21199008])"
      ]
     },
     "execution_count": 30,
     "metadata": {},
     "output_type": "execute_result"
    }
   ],
   "source": [
    "np.exp(dynamics_model2.coefficients)"
   ]
  },
  {
   "cell_type": "code",
   "execution_count": 31,
   "id": "experienced-california",
   "metadata": {},
   "outputs": [
    {
     "data": {
      "text/plain": [
       "-0.07508513785237758"
      ]
     },
     "execution_count": 31,
     "metadata": {},
     "output_type": "execute_result"
    }
   ],
   "source": [
    "np.exp(np.sum(dynamics_model2.coefficients[[0, 3]])) - np.exp(np.sum(dynamics_model2.coefficients[[0, 2]]))"
   ]
  },
  {
   "cell_type": "code",
   "execution_count": 32,
   "id": "objective-thumb",
   "metadata": {},
   "outputs": [
    {
     "data": {
      "text/plain": [
       "0.7082354826492022"
      ]
     },
     "execution_count": 32,
     "metadata": {},
     "output_type": "execute_result"
    }
   ],
   "source": [
    "dynamics_model2.coefficients[3] / dynamics_model2.coefficients[2]"
   ]
  },
  {
   "cell_type": "code",
   "execution_count": 33,
   "id": "popular-headset",
   "metadata": {},
   "outputs": [
    {
     "data": {
      "text/plain": [
       "(array(65950.73373047), array(66169.9610255), array(66601.03362531))"
      ]
     },
     "execution_count": 33,
     "metadata": {},
     "output_type": "execute_result"
    }
   ],
   "source": [
    "dynamics_model2.AIC, dynamics_model.AIC, constant_model.AIC"
   ]
  },
  {
   "cell_type": "code",
   "execution_count": 204,
   "id": "freelance-grill",
   "metadata": {},
   "outputs": [
    {
     "data": {
      "text/plain": [
       "1.0"
      ]
     },
     "execution_count": 204,
     "metadata": {},
     "output_type": "execute_result"
    }
   ],
   "source": [
    "import scipy.stats\n",
    "\n",
    "scipy.stats.chi2.sf(\n",
    "    dynamics_model.deviance - constant_model.deviance,\n",
    "    df=np.abs(dynamics_model.degrees_of_freedom - constant_model.degrees_of_freedom))"
   ]
  },
  {
   "cell_type": "code",
   "execution_count": 34,
   "id": "interior-interim",
   "metadata": {},
   "outputs": [
    {
     "data": {
      "text/plain": [
       "1.0"
      ]
     },
     "execution_count": 34,
     "metadata": {},
     "output_type": "execute_result"
    }
   ],
   "source": [
    "import scipy.stats\n",
    "\n",
    "scipy.stats.chi2.sf(\n",
    "    dynamics_model2.deviance - constant_model.deviance,\n",
    "    df=np.abs(dynamics_model2.degrees_of_freedom - constant_model.degrees_of_freedom))"
   ]
  },
  {
   "cell_type": "code",
   "execution_count": 35,
   "id": "alpha-genome",
   "metadata": {},
   "outputs": [
    {
     "data": {
      "text/plain": [
       "RanksumsResult(statistic=-7.4602336843448835, pvalue=8.636915976835938e-14)"
      ]
     },
     "execution_count": 35,
     "metadata": {},
     "output_type": "execute_result"
    }
   ],
   "source": [
    "scipy.stats.ranksums(replay_info.loc[replay_info['Hover-Continuous-Mix'].fillna(False)].n_ripples.values,\n",
    "                     replay_info.loc[replay_info['Continuous'].fillna(False)].n_ripples.values)"
   ]
  },
  {
   "cell_type": "markdown",
   "id": "absolute-clearance",
   "metadata": {},
   "source": [
    "## Pvalues"
   ]
  },
  {
   "cell_type": "code",
   "execution_count": 36,
   "id": "appreciated-specialist",
   "metadata": {},
   "outputs": [
    {
     "data": {
      "text/plain": [
       "<AxesSubplot:>"
      ]
     },
     "execution_count": 36,
     "metadata": {},
     "output_type": "execute_result"
    },
    {
     "data": {
      "image/png": "[encoded data removed]",
      "text/plain": [
       "<Figure size 432x288 with 1 Axes>"
      ]
     },
     "metadata": {
      "needs_background": "light"
     },
     "output_type": "display_data"
    }
   ],
   "source": [
    "radon_info.radon_pvalue.hist(bins=np.arange(0, 1, .01))"
   ]
  },
  {
   "cell_type": "code",
   "execution_count": 48,
   "id": "atlantic-sector",
   "metadata": {},
   "outputs": [
    {
     "data": {
      "text/plain": [
       "{'Hover': 7.552954292084727,\n",
       " 'Hover-Continuous-Mix': 13.988575686079722,\n",
       " 'Continuous': 30.325870095322543,\n",
       " 'Fragmented-Continuous-Mix': 31.18657298985168,\n",
       " 'Fragmented': 15.269086357947433,\n",
       " 'Unclassified': 17.054325955734406}"
      ]
     },
     "execution_count": 48,
     "metadata": {},
     "output_type": "execute_result"
    }
   ],
   "source": [
    "{state: (replay_info.loc[replay_info.is_classified.astype(bool)].loc[replay_info[state]].radon_pvalue < 0.05).mean() * 100\n",
    " for state in STATE_ORDER}"
   ]
  },
  {
   "cell_type": "code",
   "execution_count": 59,
   "id": "regular-contributor",
   "metadata": {},
   "outputs": [
    {
     "data": {
      "text/plain": [
       "{'Hover': 542,\n",
       " 'Hover-Continuous-Mix': 2253,\n",
       " 'Continuous': 1368,\n",
       " 'Fragmented-Continuous-Mix': 799,\n",
       " 'Fragmented': 244,\n",
       " 'Unclassified': 2119}"
      ]
     },
     "execution_count": 59,
     "metadata": {},
     "output_type": "execute_result"
    }
   ],
   "source": [
    "{state: (replay_info.loc[replay_info.is_classified.astype(bool)].loc[replay_info[state]].radon_pvalue < 0.05).sum()\n",
    " for state in STATE_ORDER}"
   ]
  },
  {
   "cell_type": "code",
   "execution_count": 61,
   "id": "statistical-gabriel",
   "metadata": {},
   "outputs": [
    {
     "data": {
      "text/plain": [
       "{'Hover': 7176,\n",
       " 'Hover-Continuous-Mix': 16106,\n",
       " 'Continuous': 4511,\n",
       " 'Fragmented-Continuous-Mix': 2562,\n",
       " 'Fragmented': 1598,\n",
       " 'Unclassified': 12425}"
      ]
     },
     "execution_count": 61,
     "metadata": {},
     "output_type": "execute_result"
    }
   ],
   "source": [
    "{state: (replay_info.loc[replay_info.is_classified.astype(bool)].loc[replay_info[state]].radon_pvalue <= 1).sum()\n",
    " for state in STATE_ORDER}"
   ]
  },
  {
   "cell_type": "code",
   "execution_count": 39,
   "id": "modified-springfield",
   "metadata": {},
   "outputs": [
    {
     "data": {
      "text/plain": [
       "0.05797623334533669"
      ]
     },
     "execution_count": 39,
     "metadata": {},
     "output_type": "execute_result"
    }
   ],
   "source": [
    "(replay_info.loc[~replay_info.is_classified.astype(bool)].radon_pvalue < 0.05).mean()"
   ]
  },
  {
   "cell_type": "code",
   "execution_count": 50,
   "id": "abstract-wiring",
   "metadata": {},
   "outputs": [
    {
     "data": {
      "text/plain": [
       "28.040540540540544"
      ]
     },
     "execution_count": 50,
     "metadata": {},
     "output_type": "execute_result"
    }
   ],
   "source": [
    "(replay_info.loc[replay_info['Hover'] & (replay_info.Hover_duration > 0.100) & (replay_info.radon_speed < (6 / replay_info.Hover_duration))].radon_pvalue < 0.05).mean() * 100"
   ]
  },
  {
   "cell_type": "code",
   "execution_count": 51,
   "id": "blessed-flower",
   "metadata": {},
   "outputs": [
    {
     "data": {
      "text/plain": [
       "47.226867335562986"
      ]
     },
     "execution_count": 51,
     "metadata": {},
     "output_type": "execute_result"
    }
   ],
   "source": [
    "(replay_info.loc[replay_info['Hover']].Hover_duration >= replay_info.loc[replay_info['Hover']].duration).mean() * 100"
   ]
  },
  {
   "cell_type": "code",
   "execution_count": 52,
   "id": "hourly-serve",
   "metadata": {},
   "outputs": [
    {
     "data": {
      "text/plain": [
       "0.138023096982491"
      ]
     },
     "execution_count": 52,
     "metadata": {},
     "output_type": "execute_result"
    }
   ],
   "source": [
    "(replay_info.loc[replay_info['Hover-Continuous-Mix']][\"Hover-Continuous-Mix_duration\"] >=\n",
    " replay_info.loc[replay_info['Hover-Continuous-Mix']].duration).mean()"
   ]
  },
  {
   "cell_type": "code",
   "execution_count": 53,
   "id": "concerned-royal",
   "metadata": {},
   "outputs": [
    {
     "data": {
      "text/plain": [
       "Text(0.5, 0, 'Speed [m/s]')"
      ]
     },
     "execution_count": 53,
     "metadata": {},
     "output_type": "execute_result"
    },
    {
     "data": {
      "image/png": "[encoded data removed]",
      "text/plain": [
       "<Figure size 432x288 with 1 Axes>"
      ]
     },
     "metadata": {
      "needs_background": "light"
     },
     "output_type": "display_data"
    }
   ],
   "source": [
    "(replay_info.loc[replay_info['Hover'] & (replay_info.Hover_duration > 0.100)].radon_speed / 100).hist(bins=np.arange(0, 25))\n",
    "plt.xlabel('Speed [m/s]')"
   ]
  },
  {
   "cell_type": "code",
   "execution_count": 54,
   "id": "fancy-hello",
   "metadata": {},
   "outputs": [
    {
     "data": {
      "text/plain": [
       "<AxesSubplot:>"
      ]
     },
     "execution_count": 54,
     "metadata": {},
     "output_type": "execute_result"
    },
    {
     "data": {
      "image/png": "[encoded data removed]",
      "text/plain": [
       "<Figure size 432x288 with 1 Axes>"
      ]
     },
     "metadata": {
      "needs_background": "light"
     },
     "output_type": "display_data"
    }
   ],
   "source": [
    "(replay_info.loc[replay_info['Hover'] & (replay_info.Hover_duration > 0.100)].map_speed / 100).hist(bins=np.arange(0, 25))"
   ]
  },
  {
   "cell_type": "code",
   "execution_count": 45,
   "id": "upset-letters",
   "metadata": {},
   "outputs": [
    {
     "data": {
      "text/plain": [
       "0.4722686733556299"
      ]
     },
     "execution_count": 45,
     "metadata": {},
     "output_type": "execute_result"
    }
   ],
   "source": [
    "(replay_info.loc[replay_info.Hover].Hover_duration >= replay_info.loc[replay_info.Hover].duration).mean()"
   ]
  },
  {
   "cell_type": "code",
   "execution_count": 55,
   "id": "indian-stretch",
   "metadata": {},
   "outputs": [
    {
     "data": {
      "text/plain": [
       "54.00000000000001"
      ]
     },
     "execution_count": 55,
     "metadata": {},
     "output_type": "execute_result"
    }
   ],
   "source": [
    "replay_info.loc[replay_info.Hover].Hover_duration.median() * 1000"
   ]
  },
  {
   "cell_type": "code",
   "execution_count": 56,
   "id": "ultimate-colombia",
   "metadata": {},
   "outputs": [
    {
     "data": {
      "image/png": "[encoded data removed]",
      "text/plain": [
       "<Figure size 504x288 with 1 Axes>"
      ]
     },
     "metadata": {
      "needs_background": "light"
     },
     "output_type": "display_data"
    }
   ],
   "source": [
    "plt.figure(figsize=(7, 4))\n",
    "plt.hist(np.asarray(replay_info[replay_info.is_classified].replay_speed), bins=np.arange(0, 1_000, 10), density=True);\n",
    "sns.despine(offset=5)"
   ]
  },
  {
   "cell_type": "code",
   "execution_count": 57,
   "id": "colonial-publicity",
   "metadata": {},
   "outputs": [
    {
     "data": {
      "text/plain": [
       "<AxesSubplot:>"
      ]
     },
     "execution_count": 57,
     "metadata": {},
     "output_type": "execute_result"
    },
    {
     "data": {
      "image/png": "[encoded data removed]",
      "text/plain": [
       "<Figure size 432x288 with 1 Axes>"
      ]
     },
     "metadata": {
      "needs_background": "light"
     },
     "output_type": "display_data"
    }
   ],
   "source": [
    "replay_info[replay_info.is_classified][\"Hover-Continuous-Mix_replay_speed\"].hist(bins=np.arange(0, 5_00, 10))"
   ]
  },
  {
   "cell_type": "code",
   "execution_count": 58,
   "id": "manufactured-browser",
   "metadata": {},
   "outputs": [
    {
     "data": {
      "text/plain": [
       "<AxesSubplot:>"
      ]
     },
     "execution_count": 58,
     "metadata": {},
     "output_type": "execute_result"
    },
    {
     "data": {
      "image/png": "[encoded data removed]",
      "text/plain": [
       "<Figure size 432x288 with 1 Axes>"
      ]
     },
     "metadata": {
      "needs_background": "light"
     },
     "output_type": "display_data"
    }
   ],
   "source": [
    "replay_info[replay_info.is_classified][\"Continuous_replay_speed\"].hist(bins=np.arange(0, 2_000, 10))"
   ]
  },
  {
   "cell_type": "code",
   "execution_count": 74,
   "id": "prescribed-cleanup",
   "metadata": {},
   "outputs": [
    {
     "data": {
      "text/plain": [
       "[1.0, 1.0, 1.0, 1.0, 1.0, 1.0]"
      ]
     },
     "execution_count": 74,
     "metadata": {},
     "output_type": "execute_result"
    }
   ],
   "source": [
    "[replay_info.loc[replay_info[state]].n_ripples.median() for state in STATE_ORDER]"
   ]
  },
  {
   "cell_type": "code",
   "execution_count": 80,
   "id": "tender-philosophy",
   "metadata": {},
   "outputs": [
    {
     "data": {
      "text/plain": [
       "{'Hover': 1.3,\n",
       " 'Hover-Continuous-Mix': 1.5,\n",
       " 'Continuous': 1.6,\n",
       " 'Fragmented-Continuous-Mix': 1.7,\n",
       " 'Fragmented': 1.7,\n",
       " 'Unclassified': 1.5}"
      ]
     },
     "execution_count": 80,
     "metadata": {},
     "output_type": "execute_result"
    }
   ],
   "source": [
    "{state: np.round(replay_info.loc[replay_info[state]].n_ripples.mean(), decimals=1) for state in STATE_ORDER}"
   ]
  },
  {
   "cell_type": "code",
   "execution_count": 86,
   "id": "monetary-oriental",
   "metadata": {},
   "outputs": [
    {
     "data": {
      "text/plain": [
       "array([38., 54., 74.])"
      ]
     },
     "execution_count": 86,
     "metadata": {},
     "output_type": "execute_result"
    }
   ],
   "source": [
    "np.percentile(replay_info.loc[replay_info['Hover']]['Hover_duration'], [25, 50, 75]) * 1000"
   ]
  },
  {
   "cell_type": "code",
   "execution_count": 87,
   "id": "needed-transfer",
   "metadata": {},
   "outputs": [
    {
     "data": {
      "text/plain": [
       "array([1.58333333, 2.25      , 3.08333333])"
      ]
     },
     "execution_count": 87,
     "metadata": {},
     "output_type": "execute_result"
    }
   ],
   "source": [
    "np.percentile(replay_info.loc[replay_info['Hover']]['Hover_duration'], [25, 50, 75]) * 1000 / 24"
   ]
  },
  {
   "cell_type": "code",
   "execution_count": 66,
   "id": "revolutionary-samba",
   "metadata": {},
   "outputs": [
    {
     "data": {
      "text/plain": [
       "11.632707672311634"
      ]
     },
     "execution_count": 66,
     "metadata": {},
     "output_type": "execute_result"
    }
   ],
   "source": [
    "np.mean(replay_info.radon_pvalue < 0.05) * 100"
   ]
  },
  {
   "cell_type": "code",
   "execution_count": 67,
   "id": "certain-rubber",
   "metadata": {},
   "outputs": [
    {
     "data": {
      "text/plain": [
       "7.385603425207386"
      ]
     },
     "execution_count": 67,
     "metadata": {},
     "output_type": "execute_result"
    }
   ],
   "source": []
  },
  {
   "cell_type": "code",
   "execution_count": 75,
   "id": "harmful-special",
   "metadata": {},
   "outputs": [
    {
     "data": {
      "text/plain": [
       "49.81678584711361"
      ]
     },
     "execution_count": 75,
     "metadata": {},
     "output_type": "execute_result"
    }
   ],
   "source": [
    "replay_info.loc[(replay_info.is_classified)][\"Hover-Continuous-Mix_replay_distance_from_actual_position\"].median()"
   ]
  },
  {
   "cell_type": "code",
   "execution_count": null,
   "id": "fluid-twins",
   "metadata": {},
   "outputs": [],
   "source": []
  }
 ],
 "metadata": {
  "kernelspec": {
   "display_name": "Python [conda env:replay_trajectory_paper] *",
   "language": "python",
   "name": "conda-env-replay_trajectory_paper-py"
  },
  "language_info": {
   "codemirror_mode": {
    "name": "ipython",
    "version": 3
   },
   "file_extension": ".py",
   "mimetype": "text/x-python",
   "name": "python",
   "nbconvert_exporter": "python",
   "pygments_lexer": "ipython3",
   "version": "3.6.11"
  }
 },
 "nbformat": 4,
 "nbformat_minor": 5
}

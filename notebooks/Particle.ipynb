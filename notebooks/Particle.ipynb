{
 "cells": [
  {
   "cell_type": "code",
   "execution_count": 1,
   "metadata": {},
   "outputs": [],
   "source": [
    "%matplotlib inline\n",
    "%reload_ext autoreload\n",
    "%autoreload 2\n",
    "%config InlineBackend.figure_format = 'retina'\n",
    "%qtconsole"
   ]
  },
  {
   "cell_type": "code",
   "execution_count": 2,
   "metadata": {},
   "outputs": [],
   "source": [
    "import numpy as np\n",
    "import pandas as pd\n",
    "import matplotlib.pyplot as plt\n",
    "\n",
    "import logging\n",
    "logging.basicConfig(level=logging.INFO)"
   ]
  },
  {
   "cell_type": "code",
   "execution_count": 3,
   "metadata": {},
   "outputs": [
    {
     "name": "stderr",
     "output_type": "stream",
     "text": [
      "/Users/edeno/miniconda3/envs/replay_trajectory_paper/lib/python3.6/site-packages/dask/config.py:168: YAMLLoadWarning: calling yaml.load() without Loader=... is deprecated, as the default Loader is unsafe. Please read https://msg.pyyaml.org/load for full details.\n",
      "  data = yaml.load(f.read()) or {}\n",
      "/Users/edeno/miniconda3/envs/replay_trajectory_paper/lib/python3.6/site-packages/distributed/config.py:20: YAMLLoadWarning: calling yaml.load() without Loader=... is deprecated, as the default Loader is unsafe. Please read https://msg.pyyaml.org/load for full details.\n",
      "  defaults = yaml.load(f)\n",
      "WARNING:loren_frank_data_processing.core:Failed to load file: /Users/edeno/Documents/GitHub/replay_trajectory_paper/src/../Raw-Data/Bond/bonDIO03.mat\n",
      "WARNING:loren_frank_data_processing.core:No DIO file found, using distance from well to segment trials\n",
      "WARNING:loren_frank_data_processing.core:Failed to load file: /Users/edeno/Documents/GitHub/replay_trajectory_paper/src/../Raw-Data/Bond/bonDIO03.mat\n",
      "WARNING:loren_frank_data_processing.core:No DIO file found, inferring correct inbound/outbound from task rules\n"
     ]
    }
   ],
   "source": [
    "from src.simulation import load_simulated_spikes_with_real_position\n",
    "\n",
    "(position, spikes, is_training,\n",
    " place_field_centers, position_info) = load_simulated_spikes_with_real_position()"
   ]
  },
  {
   "cell_type": "code",
   "execution_count": 4,
   "metadata": {},
   "outputs": [
    {
     "name": "stderr",
     "output_type": "stream",
     "text": [
      "INFO:replay_trajectory_classification.classifier:Fitting initial conditions...\n",
      "INFO:replay_trajectory_classification.classifier:Fitting state transition...\n",
      "INFO:replay_trajectory_classification.classifier:Fitting place fields...\n"
     ]
    }
   ],
   "source": [
    "from replay_trajectory_classification import SortedSpikesClassifier\n",
    "from src.parameters import SAMPLING_FREQUENCY\n",
    "\n",
    "classifier = SortedSpikesClassifier(\n",
    "        movement_var=np.sqrt(15/SAMPLING_FREQUENCY), replay_speed=130,\n",
    "        continuous_transition_types=['empirical_movement', 'uniform', 'identity']).fit(\n",
    "    position, spikes, is_training=is_training)"
   ]
  },
  {
   "cell_type": "code",
   "execution_count": 95,
   "metadata": {},
   "outputs": [
    {
     "data": {
      "text/plain": [
       "[<matplotlib.lines.Line2D at 0x1c30d4ab38>]"
      ]
     },
     "execution_count": 95,
     "metadata": {},
     "output_type": "execute_result"
    },
    {
     "data": {
      "image/png": "[encoded data removed]",
      "text/plain": [
       "<Figure size 720x720 with 1 Axes>"
      ]
     },
     "metadata": {
      "image/png": {
       "height": 576,
       "width": 600
      },
      "needs_background": "light"
     },
     "output_type": "display_data"
    }
   ],
   "source": [
    "from scipy.stats import multivariate_normal\n",
    "\n",
    "centers = [dim_edges[:-1] + np.diff(dim_edges) / 2\n",
    "           for dim_edges in classifier.edges_]\n",
    "x, y = np.meshgrid(centers[0], centers[1])\n",
    "\n",
    "plt.figure(figsize=(10,10))\n",
    "plt.pcolormesh(x, y, classifier.is_track_interior_.T);\n",
    "\n",
    "track_bin_centers = classifier.place_bin_centers_[classifier.is_track_interior_.ravel(order='F')]\n",
    "start_bin = track_bin_centers[1]\n",
    "\n",
    "plt.scatter(start_bin[0], start_bin[1], color='red', s=20)\n",
    "\n",
    "gaussian = multivariate_normal(mean=[0.0, 0.0], cov=np.sqrt(15/SAMPLING_FREQUENCY))\n",
    "\n",
    "n_time_steps = 80\n",
    "n_samples = 1000\n",
    "\n",
    "loc = np.zeros((n_time_steps, 2))\n",
    "loc[0] = start_bin.copy()\n",
    "\n",
    "for i in np.arange(1, n_time_steps):\n",
    "    loc[i] = loc[i-1] + gaussian.rvs()\n",
    "\n",
    "plt.plot(loc[:, 0], loc[:, 1], zorder=10)"
   ]
  },
  {
   "cell_type": "markdown",
   "metadata": {},
   "source": [
    "## Steps\n",
    "\n",
    "1. Simulate next position\n",
    "2. Get velocity vector from last position\n",
    "3. Check nearby boundaries if it has crossed\n",
    "4. If it hits the boundary then reflect\n",
    "5. Else continue"
   ]
  },
  {
   "cell_type": "code",
   "execution_count": null,
   "metadata": {},
   "outputs": [],
   "source": [
    "def random_walk3(position, edges, place_bin_centers, movement_var,\n",
    "                 is_track_interior, replay_speed=20):\n",
    "    '''Zero mean random walk with movement_var.\n",
    "\n",
    "    This version assumes the bin size is too big to propertly capture the\n",
    "    small gaussian. So we sample a finer grid with constraints and then\n",
    "    speed it up. Finally we rebin to the larger bin size and average.\n",
    "    The downside to this method is that it takes up a lot of memory.\n",
    "\n",
    "    Parameters\n",
    "    ----------\n",
    "    place_bin_centers : ndarray, shape (n_bins, n_position_dims)\n",
    "    movement_var : float,\n",
    "    is_track_interior : bool ndarray, shape (n_x_bins, n_y_bins)\n",
    "    replay_speed : int\n",
    "\n",
    "    Returns\n",
    "    -------\n",
    "    transition_matrix : ndarray, shape (n_bins, n_bins)\n",
    "\n",
    "    '''\n",
    "    _, _, finer_place_bin_centers, _ = get_grid(\n",
    "        position, bin_size=movement_var**2, position_range=None)\n",
    "\n",
    "    transition_matrix = random_walk(finer_place_bin_centers, movement_var,\n",
    "                                    is_track_interior, replay_speed)\n",
    "\n",
    "    H, _ = np.histogramdd(finer_place_bin_centers, bins=edges)"
   ]
  },
  {
   "cell_type": "markdown",
   "metadata": {},
   "source": [
    "## Verify Random Walk"
   ]
  },
  {
   "cell_type": "code",
   "execution_count": 8,
   "metadata": {},
   "outputs": [
    {
     "name": "stderr",
     "output_type": "stream",
     "text": [
      "INFO:replay_trajectory_classification.classifier:Fitting state transition...\n"
     ]
    },
    {
     "ename": "IndexError",
     "evalue": "boolean index did not match indexed array along dimension 0; dimension is 144 but corresponding boolean dimension is 169",
     "output_type": "error",
     "traceback": [
      "\u001b[0;31m---------------------------------------------------------------------------\u001b[0m",
      "\u001b[0;31mIndexError\u001b[0m                                Traceback (most recent call last)",
      "\u001b[0;32m<ipython-input-8-34d9c2017337>\u001b[0m in \u001b[0;36m<module>\u001b[0;34m\u001b[0m\n\u001b[1;32m     13\u001b[0m     \u001b[0mpos\u001b[0m\u001b[0;34m,\u001b[0m \u001b[0;32mNone\u001b[0m\u001b[0;34m,\u001b[0m \u001b[0mis_track_interior\u001b[0m\u001b[0;34m=\u001b[0m\u001b[0;32mNone\u001b[0m\u001b[0;34m,\u001b[0m\u001b[0;34m\u001b[0m\u001b[0;34m\u001b[0m\u001b[0m\n\u001b[1;32m     14\u001b[0m     \u001b[0mcontinuous_transition_types\u001b[0m\u001b[0;34m=\u001b[0m\u001b[0mclassifier_rw1\u001b[0m\u001b[0;34m.\u001b[0m\u001b[0mcontinuous_transition_types\u001b[0m\u001b[0;34m,\u001b[0m\u001b[0;34m\u001b[0m\u001b[0;34m\u001b[0m\u001b[0m\n\u001b[0;32m---> 15\u001b[0;31m     infer_track_interior=False)\n\u001b[0m\u001b[1;32m     16\u001b[0m \u001b[0;34m\u001b[0m\u001b[0m\n\u001b[1;32m     17\u001b[0m \u001b[0;34m\u001b[0m\u001b[0m\n",
      "\u001b[0;32m~/miniconda3/envs/replay_trajectory_paper/lib/python3.6/site-packages/replay_trajectory_classification/classifier.py\u001b[0m in \u001b[0;36mfit_continuous_state_transition\u001b[0;34m(self, position, is_training, replay_speed, is_track_interior, continuous_transition_types, infer_track_interior)\u001b[0m\n\u001b[1;32m    135\u001b[0m         self.continuous_state_transition_ = np.stack(\n\u001b[1;32m    136\u001b[0m             [transitions[transition_type]()\n\u001b[0;32m--> 137\u001b[0;31m              for transition_type in self.continuous_transition_types], axis=0)\n\u001b[0m\u001b[1;32m    138\u001b[0m \u001b[0;34m\u001b[0m\u001b[0m\n\u001b[1;32m    139\u001b[0m     \u001b[0;32mdef\u001b[0m \u001b[0mfit_discrete_state_transition\u001b[0m\u001b[0;34m(\u001b[0m\u001b[0mself\u001b[0m\u001b[0;34m,\u001b[0m \u001b[0mdiscrete_transition_diag\u001b[0m\u001b[0;34m=\u001b[0m\u001b[0;32mNone\u001b[0m\u001b[0;34m)\u001b[0m\u001b[0;34m:\u001b[0m\u001b[0;34m\u001b[0m\u001b[0;34m\u001b[0m\u001b[0m\n",
      "\u001b[0;32m~/miniconda3/envs/replay_trajectory_paper/lib/python3.6/site-packages/replay_trajectory_classification/classifier.py\u001b[0m in \u001b[0;36m<listcomp>\u001b[0;34m(.0)\u001b[0m\n\u001b[1;32m    135\u001b[0m         self.continuous_state_transition_ = np.stack(\n\u001b[1;32m    136\u001b[0m             [transitions[transition_type]()\n\u001b[0;32m--> 137\u001b[0;31m              for transition_type in self.continuous_transition_types], axis=0)\n\u001b[0m\u001b[1;32m    138\u001b[0m \u001b[0;34m\u001b[0m\u001b[0m\n\u001b[1;32m    139\u001b[0m     \u001b[0;32mdef\u001b[0m \u001b[0mfit_discrete_state_transition\u001b[0m\u001b[0;34m(\u001b[0m\u001b[0mself\u001b[0m\u001b[0;34m,\u001b[0m \u001b[0mdiscrete_transition_diag\u001b[0m\u001b[0;34m=\u001b[0m\u001b[0;32mNone\u001b[0m\u001b[0;34m)\u001b[0m\u001b[0;34m:\u001b[0m\u001b[0;34m\u001b[0m\u001b[0;34m\u001b[0m\u001b[0m\n",
      "\u001b[0;32m~/miniconda3/envs/replay_trajectory_paper/lib/python3.6/site-packages/replay_trajectory_classification/state_transition.py\u001b[0m in \u001b[0;36mrandom_walk\u001b[0;34m(place_bin_centers, movement_var, is_track_interior, replay_speed)\u001b[0m\n\u001b[1;32m     93\u001b[0m          for bin in place_bin_centers], axis=1)\n\u001b[1;32m     94\u001b[0m     \u001b[0mis_track_interior\u001b[0m \u001b[0;34m=\u001b[0m \u001b[0mis_track_interior\u001b[0m\u001b[0;34m.\u001b[0m\u001b[0mravel\u001b[0m\u001b[0;34m(\u001b[0m\u001b[0morder\u001b[0m\u001b[0;34m=\u001b[0m\u001b[0;34m'F'\u001b[0m\u001b[0;34m)\u001b[0m\u001b[0;34m\u001b[0m\u001b[0;34m\u001b[0m\u001b[0m\n\u001b[0;32m---> 95\u001b[0;31m     \u001b[0mtransition_matrix\u001b[0m\u001b[0;34m[\u001b[0m\u001b[0;34m~\u001b[0m\u001b[0mis_track_interior\u001b[0m\u001b[0;34m]\u001b[0m \u001b[0;34m=\u001b[0m \u001b[0;36m0.0\u001b[0m\u001b[0;34m\u001b[0m\u001b[0;34m\u001b[0m\u001b[0m\n\u001b[0m\u001b[1;32m     96\u001b[0m     \u001b[0mtransition_matrix\u001b[0m\u001b[0;34m[\u001b[0m\u001b[0;34m:\u001b[0m\u001b[0;34m,\u001b[0m \u001b[0;34m~\u001b[0m\u001b[0mis_track_interior\u001b[0m\u001b[0;34m]\u001b[0m \u001b[0;34m=\u001b[0m \u001b[0;36m0.0\u001b[0m\u001b[0;34m\u001b[0m\u001b[0;34m\u001b[0m\u001b[0m\n\u001b[1;32m     97\u001b[0m     \u001b[0mtransition_matrix\u001b[0m \u001b[0;34m=\u001b[0m \u001b[0m_normalize_row_probability\u001b[0m\u001b[0;34m(\u001b[0m\u001b[0mtransition_matrix\u001b[0m\u001b[0;34m)\u001b[0m\u001b[0;34m\u001b[0m\u001b[0;34m\u001b[0m\u001b[0m\n",
      "\u001b[0;31mIndexError\u001b[0m: boolean index did not match indexed array along dimension 0; dimension is 144 but corresponding boolean dimension is 169"
     ]
    }
   ],
   "source": [
    "from replay_trajectory_classification import SortedSpikesClassifier\n",
    "\n",
    "x = np.linspace(-10, 10, 100)\n",
    "y = np.linspace(-10, 10, 100)\n",
    "\n",
    "x, y = np.meshgrid(x, y)\n",
    "pos = np.stack((x.ravel(), y.ravel()), axis=1)\n",
    "\n",
    "classifier_rw1 = SortedSpikesClassifier(place_bin_size=2.0, movement_var=1.0,\n",
    "                                        continuous_transition_types=['random_walk'])\n",
    "classifier_rw1.fit_place_grid(pos)\n",
    "classifier_rw1.fit_continuous_state_transition(\n",
    "    pos, None, is_track_interior=None,\n",
    "    continuous_transition_types=classifier_rw1.continuous_transition_types,\n",
    "    infer_track_interior=False)\n",
    "\n",
    "\n",
    "classifier_rw2 = SortedSpikesClassifier(place_bin_size=2.0, movement_var=1.0,\n",
    "                                    continuous_transition_types=['random_walk2'])\n",
    "classifier_rw2.fit_place_grid(pos)\n",
    "classifier_rw2.fit_continuous_state_transition(\n",
    "    pos, None, is_track_interior=None,\n",
    "    continuous_transition_types=classifier_rw2.continuous_transition_types,\n",
    "    infer_track_interior=False)"
   ]
  },
  {
   "cell_type": "code",
   "execution_count": null,
   "metadata": {},
   "outputs": [],
   "source": []
  }
 ],
 "metadata": {
  "kernelspec": {
   "display_name": "Python 3",
   "language": "python",
   "name": "python3"
  },
  "language_info": {
   "codemirror_mode": {
    "name": "ipython",
    "version": 3
   },
   "file_extension": ".py",
   "mimetype": "text/x-python",
   "name": "python",
   "nbconvert_exporter": "python",
   "pygments_lexer": "ipython3",
   "version": "3.6.8"
  }
 },
 "nbformat": 4,
 "nbformat_minor": 2
}

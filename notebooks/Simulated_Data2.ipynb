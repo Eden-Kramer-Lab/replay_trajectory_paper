{
 "cells": [
  {
   "cell_type": "code",
   "execution_count": 1,
   "metadata": {},
   "outputs": [],
   "source": [
    "%matplotlib inline\n",
    "%reload_ext autoreload\n",
    "%autoreload 2\n",
    "%config InlineBackend.figure_format = 'retina'\n",
    "%qtconsole"
   ]
  },
  {
   "cell_type": "code",
   "execution_count": 2,
   "metadata": {},
   "outputs": [],
   "source": [
    "import numpy as np\n",
    "import pandas as pd\n",
    "import matplotlib.pyplot as plt\n",
    "\n",
    "import logging\n",
    "logging.basicConfig(level=logging.INFO)"
   ]
  },
  {
   "cell_type": "markdown",
   "metadata": {},
   "source": [
    "## Load Data"
   ]
  },
  {
   "cell_type": "code",
   "execution_count": 3,
   "metadata": {},
   "outputs": [
    {
     "name": "stderr",
     "output_type": "stream",
     "text": [
      "/Users/edeno/miniconda3/envs/replay_trajectory_paper/lib/python3.6/site-packages/dask/config.py:168: YAMLLoadWarning: calling yaml.load() without Loader=... is deprecated, as the default Loader is unsafe. Please read https://msg.pyyaml.org/load for full details.\n",
      "  data = yaml.load(f.read()) or {}\n",
      "/Users/edeno/miniconda3/envs/replay_trajectory_paper/lib/python3.6/site-packages/distributed/config.py:20: YAMLLoadWarning: calling yaml.load() without Loader=... is deprecated, as the default Loader is unsafe. Please read https://msg.pyyaml.org/load for full details.\n",
      "  defaults = yaml.load(f)\n",
      "WARNING:loren_frank_data_processing.core:Failed to load file: /Users/edeno/Documents/GitHub/replay_trajectory_paper/src/../Raw-Data/Bond/bonDIO03.mat\n",
      "WARNING:loren_frank_data_processing.core:No DIO file found, using distance from well to segment trials\n",
      "WARNING:loren_frank_data_processing.core:Failed to load file: /Users/edeno/Documents/GitHub/replay_trajectory_paper/src/../Raw-Data/Bond/bonDIO03.mat\n",
      "WARNING:loren_frank_data_processing.core:No DIO file found, inferring correct inbound/outbound from task rules\n"
     ]
    }
   ],
   "source": [
    "from src.simulation import load_simulated_spikes_with_real_position\n",
    "\n",
    "(position, spikes, is_training,\n",
    " place_field_centers, position_info) = load_simulated_spikes_with_real_position()"
   ]
  },
  {
   "cell_type": "markdown",
   "metadata": {},
   "source": [
    "## Fit Classifier"
   ]
  },
  {
   "cell_type": "code",
   "execution_count": null,
   "metadata": {},
   "outputs": [
    {
     "name": "stderr",
     "output_type": "stream",
     "text": [
      "INFO:replay_trajectory_classification.classifier:Fitting initial conditions...\n",
      "INFO:replay_trajectory_classification.classifier:Fitting state transition...\n",
      "INFO:replay_trajectory_classification.classifier:Fitting place fields...\n"
     ]
    }
   ],
   "source": [
    "from replay_trajectory_classification import SortedSpikesClassifier\n",
    "from src.parameters import SAMPLING_FREQUENCY\n",
    "\n",
    "classifier = SortedSpikesClassifier(\n",
    "        movement_var=np.sqrt(15/SAMPLING_FREQUENCY), replay_speed=80,\n",
    "        continuous_transition_types=['empirical_movement', 'uniform', 'identity']).fit(\n",
    "    position, spikes, is_training=is_training)"
   ]
  },
  {
   "cell_type": "code",
   "execution_count": null,
   "metadata": {},
   "outputs": [],
   "source": [
    "g = classifier.plot_place_fields(\n",
    "    spikes, position, SAMPLING_FREQUENCY)"
   ]
  },
  {
   "cell_type": "code",
   "execution_count": null,
   "metadata": {},
   "outputs": [],
   "source": [
    "from src.analysis import get_linear_position_order, get_place_field_max\n",
    "from src.visualization import plot_neuron_place_field_2D_1D_position\n",
    "\n",
    "place_field_max = get_place_field_max(classifier)\n",
    "linear_position_order, linear_place_field_max = get_linear_position_order(\n",
    "    position_info, place_field_max)\n",
    "plot_neuron_place_field_2D_1D_position(\n",
    "    position_info, place_field_max, linear_place_field_max, \n",
    "    linear_position_order)"
   ]
  },
  {
   "cell_type": "markdown",
   "metadata": {},
   "source": [
    "## Test Cases\n",
    "\n",
    "### Continuous"
   ]
  },
  {
   "cell_type": "code",
   "execution_count": null,
   "metadata": {},
   "outputs": [],
   "source": [
    "from src.simulation import continuous_replay\n",
    "from src.visualization import plot_ripple_decode\n",
    "\n",
    "test_spikes, time = continuous_replay(place_field_centers)\n",
    "result = classifier.predict(test_spikes, time)\n",
    "\n",
    "\n",
    "ripple_position = np.zeros((time.size, 2))\n",
    "plot_ripple_decode(result.acausal_posterior, ripple_position,\n",
    "                   test_spikes, position, linear_position_order)\n"
   ]
  },
  {
   "cell_type": "markdown",
   "metadata": {},
   "source": [
    "### Hover"
   ]
  },
  {
   "cell_type": "code",
   "execution_count": null,
   "metadata": {},
   "outputs": [],
   "source": [
    "from src.simulation import hover_replay\n",
    "\n",
    "test_spikes, time = hover_replay(place_field_centers)\n",
    "result = classifier.predict(test_spikes, time)\n",
    "\n",
    "ripple_position = np.zeros((time.size, 2))\n",
    "plot_ripple_decode(result.acausal_posterior, ripple_position,\n",
    "                   test_spikes, position, linear_position_order)"
   ]
  },
  {
   "cell_type": "markdown",
   "metadata": {},
   "source": [
    "### Fragmented"
   ]
  },
  {
   "cell_type": "code",
   "execution_count": null,
   "metadata": {},
   "outputs": [],
   "source": [
    "from src.simulation import fragmented_replay\n",
    "\n",
    "test_spikes, time = fragmented_replay(place_field_centers)\n",
    "result = classifier.predict(test_spikes, time)\n",
    "\n",
    "ripple_position = np.zeros((time.size, 2))\n",
    "plot_ripple_decode(result.acausal_posterior, ripple_position,\n",
    "                   test_spikes, position, linear_position_order)"
   ]
  },
  {
   "cell_type": "markdown",
   "metadata": {},
   "source": [
    "### Hover-Continuous-Hover"
   ]
  },
  {
   "cell_type": "code",
   "execution_count": null,
   "metadata": {},
   "outputs": [],
   "source": [
    "from src.simulation import hover_continuous_hover_replay\n",
    "\n",
    "test_spikes, time = hover_continuous_hover_replay(place_field_centers)\n",
    "result = classifier.predict(test_spikes, time)\n",
    "\n",
    "ripple_position = np.zeros((time.size, 2))\n",
    "plot_ripple_decode(result.acausal_posterior, ripple_position,\n",
    "                   test_spikes, position, linear_position_order)"
   ]
  },
  {
   "cell_type": "markdown",
   "metadata": {},
   "source": [
    "### Continuous-Fragmented-Continuous"
   ]
  },
  {
   "cell_type": "code",
   "execution_count": null,
   "metadata": {},
   "outputs": [],
   "source": [
    "from src.simulation import continuous_fragmented_continuous_replay\n",
    "\n",
    "test_spikes, time = continuous_fragmented_continuous_replay(place_field_centers)\n",
    "result = classifier.predict(test_spikes, time)\n",
    "\n",
    "ripple_position = np.zeros((time.size, 2))\n",
    "plot_ripple_decode(result.acausal_posterior, ripple_position,\n",
    "                   test_spikes, position, linear_position_order)"
   ]
  },
  {
   "cell_type": "markdown",
   "metadata": {},
   "source": [
    "### Hover-Fragmented-Hover"
   ]
  },
  {
   "cell_type": "code",
   "execution_count": null,
   "metadata": {},
   "outputs": [],
   "source": [
    "from src.simulation import hover_fragmented_hover_replay\n",
    "\n",
    "test_spikes, time = hover_fragmented_hover_replay(place_field_centers)\n",
    "result = classifier.predict(test_spikes, time)\n",
    "\n",
    "ripple_position = np.zeros((time.size, 2))\n",
    "plot_ripple_decode(result.acausal_posterior, ripple_position,\n",
    "                   test_spikes, position, linear_position_order)"
   ]
  },
  {
   "cell_type": "code",
   "execution_count": null,
   "metadata": {},
   "outputs": [],
   "source": []
  }
 ],
 "metadata": {
  "kernelspec": {
   "display_name": "Python 3",
   "language": "python",
   "name": "python3"
  },
  "language_info": {
   "codemirror_mode": {
    "name": "ipython",
    "version": 3
   },
   "file_extension": ".py",
   "mimetype": "text/x-python",
   "name": "python",
   "nbconvert_exporter": "python",
   "pygments_lexer": "ipython3",
   "version": "3.6.8"
  }
 },
 "nbformat": 4,
 "nbformat_minor": 2
}

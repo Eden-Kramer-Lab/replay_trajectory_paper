{
 "cells": [
  {
   "cell_type": "code",
   "execution_count": 1,
   "metadata": {},
   "outputs": [],
   "source": [
    "%reload_ext autoreload\n",
    "%autoreload 2\n",
    "%reload_ext lab_black"
   ]
  },
  {
   "cell_type": "code",
   "execution_count": 2,
   "metadata": {},
   "outputs": [],
   "source": [
    "from src.parameters import PROCESSED_DATA_DIR\n",
    "from src.analysis import highest_posterior_density\n",
    "import os\n",
    "import pandas as pd\n",
    "import xarray as xr\n",
    "import numpy as np\n",
    "from tqdm.auto import tqdm\n",
    "\n",
    "\n",
    "def _preprocess(replay_info):\n",
    "    N_UNIQUE_SPIKING = 2\n",
    "    replay_info = replay_info.set_index(\n",
    "        [\"animal\", \"day\", \"epoch\", \"ripple_number\"]\n",
    "    ).rename_axis(index={\"animal\": \"Animal ID\"})\n",
    "    replay_info = replay_info.loc[\n",
    "        replay_info.n_unique_spiking >= N_UNIQUE_SPIKING\n",
    "    ].sort_index()\n",
    "    return replay_info\n",
    "\n",
    "\n",
    "def load_replay_info(epoch_key):\n",
    "    animal, day, epoch = epoch_key\n",
    "    data_type, dim = \"clusterless\", \"1D\"\n",
    "\n",
    "    file_path = os.path.join(\n",
    "        PROCESSED_DATA_DIR,\n",
    "        f\"{animal}_{day:02d}_{epoch:02}_{data_type}_{dim}_replay_info.csv\",\n",
    "    )\n",
    "    return _preprocess(pd.read_csv(file_path))\n",
    "\n",
    "\n",
    "def get_shuffle_results(epoch_key, shuffle_ind):\n",
    "    animal, day, epoch = epoch_key\n",
    "    data_type, dim = \"clusterless\", \"1D\"\n",
    "    group = f\"/{data_type}/{dim}/classifier/shuffle/shuffle_{shuffle_ind:02d}\"\n",
    "    filename = os.path.join(\n",
    "        PROCESSED_DATA_DIR, \"shuffle\", f\"{animal}_{day:02d}_{epoch:02d}.nc\"\n",
    "    )\n",
    "\n",
    "    return xr.open_dataset(filename, group=group, autoclose=True)\n",
    "\n",
    "\n",
    "def get_avg_shuffle_spatial_coverage(epoch_key):\n",
    "    N_SHUFFLES = 50\n",
    "    HPD_PCT = 0.95\n",
    "\n",
    "    avg_shuffle_spatial_coverage = []\n",
    "\n",
    "    for shuffle_ind in tqdm(range(N_SHUFFLES)):\n",
    "        shuffle_spatial_coverage = []\n",
    "\n",
    "        results = get_shuffle_results(\n",
    "            epoch_key, shuffle_ind=shuffle_ind\n",
    "        ).acausal_posterior\n",
    "\n",
    "        for ripple_number in results.ripple_number:\n",
    "            posterior = results.sel(ripple_number=ripple_number).dropna(\n",
    "                \"time\", how=\"all\"\n",
    "            )\n",
    "            hpd_threshold = highest_posterior_density(\n",
    "                posterior.sum(\"state\"), coverage=HPD_PCT\n",
    "            )\n",
    "            isin_hpd = posterior.sum(\"state\") >= hpd_threshold[:, np.newaxis]\n",
    "            spatial_coverage = (\n",
    "                (isin_hpd * np.diff(posterior.position)[0]).sum(\"position\").values\n",
    "            )\n",
    "\n",
    "            shuffle_spatial_coverage.append(spatial_coverage.mean())\n",
    "\n",
    "        avg_shuffle_spatial_coverage.append(shuffle_spatial_coverage)\n",
    "\n",
    "    return np.asarray(avg_shuffle_spatial_coverage)"
   ]
  },
  {
   "cell_type": "code",
   "execution_count": 22,
   "metadata": {},
   "outputs": [],
   "source": [
    "import seaborn as sns\n",
    "import matplotlib.pyplot as plt\n",
    "\n",
    "\n",
    "def plot_HPD(epoch_key, ax):\n",
    "    avg_shuffle_spatial_coverage = get_avg_shuffle_spatial_coverage(epoch_key).mean(\n",
    "        axis=1\n",
    "    )\n",
    "    replay_info = load_replay_info(epoch_key)\n",
    "    avg_spatial_coverage = replay_info.spatial_coverage.mean()\n",
    "\n",
    "    sns.distplot(avg_shuffle_spatial_coverage, color=\"lightgrey\", ax=ax)\n",
    "    ax.axvline(avg_spatial_coverage, color=\"red\", clip_on=False)\n",
    "    ax.set_xlabel(\"Spatial Coverage [cm]\")\n",
    "    ax.set_xlim((0.0, 350.0))\n",
    "    ax.set_xticks(np.arange(0, 400, 100))\n",
    "    sns.despine(left=True)\n",
    "\n",
    "    N_SHUFFLES = 50\n",
    "    animal, day, epoch = epoch_key\n",
    "    print(epoch_key)\n",
    "    print(f\"n_ripples = {replay_info.shape[0]}\")\n",
    "    print(\n",
    "        f\"mean shuffle spatial coverage = {np.mean(avg_shuffle_spatial_coverage):.0f} cm\"\n",
    "    )\n",
    "    print(f\"mean spatial coverage = {avg_spatial_coverage:.0f} cm\")\n",
    "    print(\n",
    "        f\"p-value = {(np.sum(avg_spatial_coverage >= avg_shuffle_spatial_coverage) + 1) / (N_SHUFFLES + 1):0.2f}\"\n",
    "    )\n",
    "    print(\"\\n\")"
   ]
  },
  {
   "cell_type": "code",
   "execution_count": 26,
   "metadata": {},
   "outputs": [
    {
     "data": {
      "application/vnd.jupyter.widget-view+json": {
       "model_id": "70860ff67b0044cc95d0b03974165d32",
       "version_major": 2,
       "version_minor": 0
      },
      "text/plain": [
       "HBox(children=(FloatProgress(value=0.0, max=50.0), HTML(value='')))"
      ]
     },
     "metadata": {},
     "output_type": "display_data"
    },
    {
     "name": "stdout",
     "output_type": "stream",
     "text": [
      "\n",
      "('bon', 3, 2)\n",
      "n_ripples = 251\n",
      "mean shuffle spatial coverage = 229 cm\n",
      "mean spatial coverage = 55 cm\n",
      "p-value = 0.02\n",
      "\n",
      "\n"
     ]
    },
    {
     "data": {
      "application/vnd.jupyter.widget-view+json": {
       "model_id": "ce351c80d4684935ae71defeaa7e4304",
       "version_major": 2,
       "version_minor": 0
      },
      "text/plain": [
       "HBox(children=(FloatProgress(value=0.0, max=50.0), HTML(value='')))"
      ]
     },
     "metadata": {},
     "output_type": "display_data"
    },
    {
     "name": "stdout",
     "output_type": "stream",
     "text": [
      "\n",
      "('remy', 35, 2)\n",
      "n_ripples = 344\n",
      "mean shuffle spatial coverage = 231 cm\n",
      "mean spatial coverage = 72 cm\n",
      "p-value = 0.02\n",
      "\n",
      "\n"
     ]
    },
    {
     "data": {
      "image/png": "[encoded data removed]",
      "text/plain": [
       "<Figure size 252.283x140.031 with 2 Axes>"
      ]
     },
     "metadata": {
      "needs_background": "light"
     },
     "output_type": "display_data"
    }
   ],
   "source": [
    "from src.figure_utilities import ONE_COLUMN, PAGE_HEIGHT, save_figure\n",
    "\n",
    "\n",
    "fig, axes = plt.subplots(\n",
    "    1, 2, figsize=(ONE_COLUMN, PAGE_HEIGHT / 5), constrained_layout=True, sharey=True,\n",
    ")\n",
    "epoch_keys = [(\"bon\", 3, 2), (\"remy\", 35, 2)]\n",
    "\n",
    "for epoch_ind, (ax, epoch_key) in enumerate(zip(axes.flat, epoch_keys)):\n",
    "    plot_HPD(epoch_key, ax)\n",
    "    ax.set_title(f\"Epoch #{epoch_ind + 1}\")\n",
    "\n",
    "save_figure(os.path.join(\"Figure4-supplemental1\", \"figure4-supplemental1_HPD\"))"
   ]
  },
  {
   "cell_type": "code",
   "execution_count": null,
   "metadata": {},
   "outputs": [],
   "source": []
  }
 ],
 "metadata": {
  "kernelspec": {
   "display_name": "Python [conda env:replay_trajectory_paper] *",
   "language": "python",
   "name": "conda-env-replay_trajectory_paper-py"
  },
  "language_info": {
   "codemirror_mode": {
    "name": "ipython",
    "version": 3
   },
   "file_extension": ".py",
   "mimetype": "text/x-python",
   "name": "python",
   "nbconvert_exporter": "python",
   "pygments_lexer": "ipython3",
   "version": "3.6.11"
  }
 },
 "nbformat": 4,
 "nbformat_minor": 4
}

{
 "cells": [
  {
   "cell_type": "code",
   "execution_count": 1,
   "id": "certain-growth",
   "metadata": {},
   "outputs": [],
   "source": [
    "%reload_ext autoreload\n",
    "%autoreload 2"
   ]
  },
  {
   "cell_type": "code",
   "execution_count": 7,
   "id": "mathematical-exhaust",
   "metadata": {},
   "outputs": [],
   "source": [
    "from loren_frank_data_processing import (make_epochs_dataframe,\n",
    "                                         make_neuron_dataframe)\n",
    "from src.parameters import _BRAIN_AREAS, ANIMALS\n",
    "\n",
    "epoch_info = make_epochs_dataframe(ANIMALS)\n",
    "neuron_info = make_neuron_dataframe(ANIMALS)\n",
    "neuron_info = neuron_info.loc[\n",
    "    (neuron_info.type == 'principal') &\n",
    "    (neuron_info.numspikes > 100) &\n",
    "    neuron_info.area.isin(_BRAIN_AREAS)]\n",
    "n_neurons = (neuron_info\n",
    "             .groupby(['animal', 'day', 'epoch'])\n",
    "             .neuron_id\n",
    "             .agg(len)\n",
    "             .rename('n_neurons')\n",
    "             .to_frame())\n",
    "\n",
    "epoch_info = epoch_info.join(n_neurons)\n",
    "is_w_track = (epoch_info.environment\n",
    "              .isin(['TrackA', 'TrackB', 'WTrackA', 'WTrackB', 'wtrack']))\n",
    "animal = epoch_info.reset_index('animal').set_index(epoch_info.index).animal\n",
    "\n",
    "epoch_info = epoch_info.loc[(is_w_track & (epoch_info.n_neurons > 9)) |\n",
    "                            (is_w_track & (animal == 'remy'))]"
   ]
  },
  {
   "cell_type": "code",
   "execution_count": 8,
   "id": "unlike-swift",
   "metadata": {},
   "outputs": [],
   "source": [
    "from loren_frank_data_processing import get_position_dataframe\n",
    "import numpy as np\n",
    "\n",
    "speed = np.concatenate([np.asarray(get_position_dataframe(epoch_key, ANIMALS, skip_linearization=True).speed)\n",
    "                        for epoch_key in epoch_info.index])"
   ]
  },
  {
   "cell_type": "code",
   "execution_count": 108,
   "id": "thirty-gossip",
   "metadata": {},
   "outputs": [],
   "source": [
    "from src.parameters import PROCESSED_DATA_DIR\n",
    "import os\n",
    "\n",
    "\n",
    "np.save(os.path.join(PROCESSED_DATA_DIR, 'animal_speed.npy'), speed)"
   ]
  },
  {
   "cell_type": "code",
   "execution_count": 105,
   "id": "flying-response",
   "metadata": {},
   "outputs": [
    {
     "data": {
      "image/png": "[encoded data removed]",
      "text/plain": [
       "<Figure size 168.189x140.031 with 1 Axes>"
      ]
     },
     "metadata": {
      "needs_background": "light"
     },
     "output_type": "display_data"
    }
   ],
   "source": [
    "import matplotlib.pyplot as plt\n",
    "import seaborn as sns\n",
    "from src.figure_utilities import PAGE_HEIGHT, TWO_COLUMN, save_figure\n",
    "from src.parameters import FIGURE_DIR\n",
    "import os\n",
    "\n",
    "fig, ax = plt.subplots(1, 1, figsize=(TWO_COLUMN / 3, PAGE_HEIGHT / 5))\n",
    "ax.hist(speed, bins=np.arange(0, 150, 5), density=True, color='grey')\n",
    "ax.set_xlabel('Animal speed [cm/s]')\n",
    "ax.set_ylabel('Probability Density')\n",
    "ax.set_xlim((0, speed.max()))\n",
    "sns.despine(offset=5)\n",
    "\n",
    "fig_dir = os.path.join(FIGURE_DIR, 'Figure5')\n",
    "os.makedirs(fig_dir, exist_ok=True)\n",
    "save_figure(os.path.join(fig_dir, 'animal_speed'))"
   ]
  },
  {
   "cell_type": "code",
   "execution_count": 15,
   "id": "nuclear-writer",
   "metadata": {},
   "outputs": [
    {
     "data": {
      "text/plain": [
       "3.762017048965924"
      ]
     },
     "execution_count": 15,
     "metadata": {},
     "output_type": "execute_result"
    }
   ],
   "source": [
    "np.median(speed)"
   ]
  },
  {
   "cell_type": "code",
   "execution_count": 16,
   "id": "announced-satin",
   "metadata": {},
   "outputs": [
    {
     "data": {
      "text/plain": [
       "17.263628386826394"
      ]
     },
     "execution_count": 16,
     "metadata": {},
     "output_type": "execute_result"
    }
   ],
   "source": [
    "np.median(speed[speed > 4])"
   ]
  },
  {
   "cell_type": "code",
   "execution_count": 21,
   "id": "caroline-family",
   "metadata": {},
   "outputs": [
    {
     "data": {
      "text/plain": [
       "136.7468502001169"
      ]
     },
     "execution_count": 21,
     "metadata": {},
     "output_type": "execute_result"
    }
   ],
   "source": [
    "speed.max()"
   ]
  },
  {
   "cell_type": "code",
   "execution_count": 64,
   "id": "corporate-article",
   "metadata": {},
   "outputs": [],
   "source": [
    "from sklearn.mixture import GaussianMixture\n",
    "\n",
    "gmm = GaussianMixture(n_components=2).fit(speed[:, np.newaxis])"
   ]
  },
  {
   "cell_type": "code",
   "execution_count": 65,
   "id": "brutal-intelligence",
   "metadata": {},
   "outputs": [
    {
     "data": {
      "text/plain": [
       "[<matplotlib.lines.Line2D at 0x7f168c1f96a0>]"
      ]
     },
     "execution_count": 65,
     "metadata": {},
     "output_type": "execute_result"
    },
    {
     "data": {
      "image/png": "[encoded data removed]",
      "text/plain": [
       "<Figure size 432x288 with 1 Axes>"
      ]
     },
     "metadata": {
      "needs_background": "light"
     },
     "output_type": "display_data"
    }
   ],
   "source": [
    "from scipy.stats import multivariate_normal\n",
    "\n",
    "plt.hist(speed, bins=np.arange(0, 150, 5), density=True);\n",
    "plt.plot(np.arange(0, 100), multivariate_normal(mean=gmm.means_[0], cov=gmm.covariances_[0]).pdf(np.arange(0, 100)))\n",
    "plt.plot(np.arange(0, 100), multivariate_normal(mean=gmm.means_[1], cov=gmm.covariances_[1]).pdf(np.arange(0, 100)))"
   ]
  },
  {
   "cell_type": "code",
   "execution_count": 66,
   "id": "rural-trick",
   "metadata": {},
   "outputs": [
    {
     "data": {
      "text/plain": [
       "array([[ 0.86091038],\n",
       "       [17.57071021]])"
      ]
     },
     "execution_count": 66,
     "metadata": {},
     "output_type": "execute_result"
    }
   ],
   "source": [
    "gmm.means_"
   ]
  },
  {
   "cell_type": "code",
   "execution_count": 86,
   "id": "cardiac-round",
   "metadata": {},
   "outputs": [
    {
     "data": {
      "text/plain": [
       "array([0, 1, 2, 3, 4])"
      ]
     },
     "execution_count": 86,
     "metadata": {},
     "output_type": "execute_result"
    }
   ],
   "source": [
    "np.arange(5)"
   ]
  },
  {
   "cell_type": "code",
   "execution_count": 102,
   "id": "pleasant-establishment",
   "metadata": {},
   "outputs": [
    {
     "data": {
      "text/plain": [
       "<matplotlib.lines.Line2D at 0x7f16839da128>"
      ]
     },
     "execution_count": 102,
     "metadata": {},
     "output_type": "execute_result"
    },
    {
     "data": {
      "image/png": "[encoded data removed]",
      "text/plain": [
       "<Figure size 432x288 with 1 Axes>"
      ]
     },
     "metadata": {
      "needs_background": "light"
     },
     "output_type": "display_data"
    }
   ],
   "source": [
    "n_samples = 100\n",
    "time = np.arange(n_samples) / n_samples\n",
    "freq = 1\n",
    "phase_offset = 0\n",
    "\n",
    "plt.plot(time, np.sin(freq * 2 * np.pi * time - phase_offset))\n",
    "plt.axvline(0.75, color='black')"
   ]
  },
  {
   "cell_type": "code",
   "execution_count": null,
   "id": "changed-mirror",
   "metadata": {},
   "outputs": [],
   "source": []
  }
 ],
 "metadata": {
  "kernelspec": {
   "display_name": "Python [conda env:replay_trajectory_paper] *",
   "language": "python",
   "name": "conda-env-replay_trajectory_paper-py"
  },
  "language_info": {
   "codemirror_mode": {
    "name": "ipython",
    "version": 3
   },
   "file_extension": ".py",
   "mimetype": "text/x-python",
   "name": "python",
   "nbconvert_exporter": "python",
   "pygments_lexer": "ipython3",
   "version": "3.6.11"
  }
 },
 "nbformat": 4,
 "nbformat_minor": 5
}

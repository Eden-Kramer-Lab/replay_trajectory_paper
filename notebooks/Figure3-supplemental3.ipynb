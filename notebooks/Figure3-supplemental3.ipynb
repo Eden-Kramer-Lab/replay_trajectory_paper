{
 "cells": [
  {
   "cell_type": "code",
   "execution_count": 1,
   "id": "supreme-england",
   "metadata": {},
   "outputs": [],
   "source": [
    "%reload_ext autoreload\n",
    "%autoreload 2"
   ]
  },
  {
   "cell_type": "code",
   "execution_count": 2,
   "id": "accurate-ability",
   "metadata": {},
   "outputs": [],
   "source": [
    "import matplotlib.pyplot as plt\n",
    "import numpy as np\n",
    "import seaborn as sns\n",
    "from src.figure_utilities import (\n",
    "    PAGE_HEIGHT,\n",
    "    ONE_COLUMN,\n",
    "    TWO_COLUMN,\n",
    "    save_figure,\n",
    "    set_figure_defaults,\n",
    ")\n",
    "import pandas as pd\n",
    "from glob import glob\n",
    "import os\n",
    "from src.parameters import PROCESSED_DATA_DIR\n",
    "\n",
    "set_figure_defaults()"
   ]
  },
  {
   "cell_type": "code",
   "execution_count": 17,
   "id": "standing-vitamin",
   "metadata": {},
   "outputs": [
    {
     "name": "stdout",
     "output_type": "stream",
     "text": [
      "('bon', 3, 2)\n",
      "n_ripples = 251\n",
      "median shuffle = 71\n",
      "Spatially Coherent = 99\n",
      "p-value = 0.02\n",
      "\n",
      "\n",
      "('bon', 3, 2)\n",
      "n_ripples = 251\n",
      "median shuffle = 61\n",
      "Spatially Incoherent = 22\n",
      "p-value = 0.02\n",
      "\n",
      "\n",
      "('remy', 35, 2)\n",
      "n_ripples = 344\n",
      "median shuffle = 63\n",
      "Spatially Coherent = 95\n",
      "p-value = 0.02\n",
      "\n",
      "\n",
      "('remy', 35, 2)\n",
      "n_ripples = 344\n",
      "median shuffle = 79\n",
      "Spatially Incoherent = 16\n",
      "p-value = 0.02\n",
      "\n",
      "\n"
     ]
    },
    {
     "data": {
      "image/png": "[encoded data removed]",
      "text/plain": [
       "<Figure size 252.283x140.031 with 4 Axes>"
      ]
     },
     "metadata": {
      "needs_background": "light"
     },
     "output_type": "display_data"
    }
   ],
   "source": [
    "import numpy as np\n",
    "import seaborn as sns\n",
    "\n",
    "fig, axes = plt.subplots(\n",
    "    2, 2, figsize=(ONE_COLUMN, PAGE_HEIGHT / 5), constrained_layout=True, sharey=True, sharex=True\n",
    ")\n",
    "\n",
    "epoch_keys = [(\"bon\", 3, 2), (\"remy\", 35, 2)]\n",
    "\n",
    "for epoch_ind, (ax, epoch_key) in enumerate(zip(axes.T, epoch_keys)):\n",
    "    animal, day, epoch = epoch_key\n",
    "    file_regex = f'{animal}_{day:02d}_{epoch:02d}_clusterless_1D_replay_info_run_position_shuffle_*.csv'\n",
    "    file_paths = glob(os.path.join(PROCESSED_DATA_DIR, 'run_position_shuffle', file_regex))\n",
    "    replay_info_shuffle = pd.concat(\n",
    "        [pd.read_csv(file_path).assign(shuffle=shuffle_ind) for shuffle_ind, file_path in enumerate(file_paths)], axis=0,\n",
    "    )\n",
    "\n",
    "    replay_info = pd.read_csv(os.path.join(PROCESSED_DATA_DIR, f'{animal}_{day:02d}_{epoch:02d}_clusterless_1D_replay_info_80.csv'))\n",
    "    \n",
    "    # Spatially Coherent\n",
    "    shuffle = np.asarray(replay_info_shuffle.groupby('shuffle').apply(lambda df: (df[\"Hover\"] | df[\"Hover-Continuous-Mix\"] | df[\"Continuous\"]).mean() * 100))\n",
    "    sns.distplot(shuffle, color=\"lightgrey\", ax=ax[0])\n",
    "    estimate = (replay_info[\"Hover\"] | replay_info[\"Hover-Continuous-Mix\"] | replay_info[\"Continuous\"]).mean() * 100\n",
    "    ax[0].axvline(estimate, color='red', zorder=100)\n",
    "    ax[0].set_xlim((0, 100))\n",
    "    \n",
    "    N_SHUFFLES = 50\n",
    "    print(epoch_key)\n",
    "    print(f\"n_ripples = {replay_info.shape[0]}\")\n",
    "    print(f\"median shuffle = {np.median(shuffle):.0f}\")\n",
    "    print(f\"Spatially Coherent = {estimate:.0f}\")\n",
    "    print(\n",
    "        f\"p-value = {(np.sum(estimate <= shuffle) + 1) / (N_SHUFFLES + 1):0.2f}\"\n",
    "    )\n",
    "    print(\"\\n\")\n",
    "    \n",
    "    \n",
    "    # Spatially Incoherent\n",
    "    shuffle = np.asarray(replay_info_shuffle.groupby('shuffle').apply(lambda df: (df[\"Fragmented-Continuous-Mix\"] | df[\"Fragmented\"]).mean() * 100))\n",
    "    sns.distplot(shuffle, color=\"lightgrey\", ax=ax[1])\n",
    "    \n",
    "    estimate = (replay_info[\"Fragmented-Continuous-Mix\"] | replay_info[\"Fragmented\"]).mean() * 100\n",
    "    ax[1].axvline(estimate, color='red', zorder=100)\n",
    "    ax[1].set_xlim((0, 100))\n",
    "    \n",
    "    print(epoch_key)\n",
    "    print(f\"n_ripples = {replay_info.shape[0]}\")\n",
    "    print(f\"median shuffle = {np.median(shuffle):.0f}\")\n",
    "    print(f\"Spatially Incoherent = {estimate:.0f}\")\n",
    "    print(\n",
    "        f\"p-value = {(np.sum(estimate >= shuffle) + 1) / (N_SHUFFLES + 1):0.2f}\"\n",
    "    )\n",
    "    print(\"\\n\")\n",
    "    \n",
    "axes[0, 0].set_title('Epoch #1', fontsize=10)\n",
    "axes[0, 1].set_title('Epoch #2', fontsize=10)\n",
    "axes[1, 0].set_xlabel('Percentage')\n",
    "axes[1, 1].set_xlabel('Percentage')\n",
    "axes[0, 0].set_ylabel('Prob.\\nDensity')\n",
    "axes[1, 0].set_ylabel('Prob.\\nDensity')\n",
    "sns.despine(offset=5)\n",
    "\n",
    "save_figure(\n",
    "    os.path.join(\"Figure3-supplemental3\", \"figure3-supplemental3_spatial_coherent_incoherent\")\n",
    ")"
   ]
  },
  {
   "cell_type": "code",
   "execution_count": null,
   "id": "advised-variety",
   "metadata": {},
   "outputs": [],
   "source": []
  }
 ],
 "metadata": {
  "kernelspec": {
   "display_name": "Python [conda env:replay_trajectory_paper] *",
   "language": "python",
   "name": "conda-env-replay_trajectory_paper-py"
  },
  "language_info": {
   "codemirror_mode": {
    "name": "ipython",
    "version": 3
   },
   "file_extension": ".py",
   "mimetype": "text/x-python",
   "name": "python",
   "nbconvert_exporter": "python",
   "pygments_lexer": "ipython3",
   "version": "3.6.11"
  }
 },
 "nbformat": 4,
 "nbformat_minor": 5
}

{
 "cells": [
  {
   "cell_type": "code",
   "execution_count": 1,
   "metadata": {},
   "outputs": [],
   "source": [
    "%matplotlib inline\n",
    "%reload_ext autoreload\n",
    "%autoreload 2\n",
    "%config InlineBackend.figure_format = 'retina'"
   ]
  },
  {
   "cell_type": "code",
   "execution_count": 2,
   "metadata": {},
   "outputs": [],
   "source": [
    "import logging\n",
    "import os\n",
    "\n",
    "import matplotlib\n",
    "import seaborn as sns\n",
    "import numpy as np\n",
    "import matplotlib.pyplot as plt\n",
    "\n",
    "from src.parameters import FIGURE_DIR\n",
    "\n",
    "# Set background and fontsize\n",
    "rc_params = {\n",
    "    'pdf.fonttype': 42, # Make fonts editable in Adobe Illustrator\n",
    "    'ps.fonttype': 42, # Make fonts editable in Adobe Illustrator\n",
    "    'axes.labelcolor': '#222222',\n",
    "    'axes.labelsize': 9,\n",
    "    'text.color': '#222222',\n",
    "    'font.sans-serif' : 'Helvetica',\n",
    "    'text.usetex': False,\n",
    "    'figure.figsize': (7.2, 4.45),\n",
    "    'xtick.major.size': 0.00,\n",
    "    'ytick.major.size': 0.00,\n",
    "    'axes.labelpad': 0.1,\n",
    "    }\n",
    "sns.set(style='white', context='paper', rc=rc_params,\n",
    "        font_scale=1.0)\n",
    "\n",
    "# Enable logging\n",
    "logging.basicConfig(level=logging.INFO)"
   ]
  },
  {
   "cell_type": "code",
   "execution_count": 20,
   "metadata": {},
   "outputs": [],
   "source": [
    "import pandas as pd\n",
    "import xarray as xr\n",
    "from tqdm.auto import tqdm\n",
    "\n",
    "from replay_trajectory_classification import (ClusterlessClassifier,\n",
    "                                              SortedSpikesClassifier)\n",
    "from src.analysis import (get_linear_position_order, get_place_field_max,\n",
    "                          reshape_to_segments)\n",
    "from src.load_data import load_data\n",
    "from src.parameters import (ANIMALS, FIGURE_DIR, PROBABILITY_THRESHOLD,\n",
    "                            PROCESSED_DATA_DIR, SAMPLING_FREQUENCY,\n",
    "                            TRANSITION_TO_CATEGORY,\n",
    "                            continuous_transition_types, discrete_diag,\n",
    "                            knot_spacing, model, model_kwargs, movement_var,\n",
    "                            place_bin_size, replay_speed, spike_model_penalty)\n",
    "from src.visualization import plot_ripple_decode_1D, plot_ripple_decode_2D\n",
    "\n",
    "\n",
    "def replot_clusterless_ripple_decode_1D(epoch_key, ripple_list, figure_format='png'):\n",
    "    animal, day, epoch = epoch_key\n",
    "    data_type, dim = 'clusterless', '1D'\n",
    "\n",
    "    logging.info('Loading data...')\n",
    "    data = load_data(epoch_key)\n",
    "\n",
    "    is_training = data['position_info'].speed > 4\n",
    "    position = data['position_info'].loc[:, 'linear_position']\n",
    "    track_labels = data['position_info'].arm_name\n",
    "\n",
    "    results = xr.open_dataset(\n",
    "        os.path.join(\n",
    "            PROCESSED_DATA_DIR, f'{animal}_{day:02}_{epoch:02}.nc'),\n",
    "        group=f'/{data_type}/{dim}/classifier/ripples/')\n",
    "    ripple_times = data['ripple_times'].loc[:, ['start_time', 'end_time']]\n",
    "    spikes = (((data['multiunit'].sum('features') > 0) * 1.0)\n",
    "              .to_dataframe(name='spikes').unstack())\n",
    "    spikes.columns = data['tetrode_info'].tetrode_id\n",
    "    ripple_spikes = reshape_to_segments(spikes, ripple_times)\n",
    "    classifier = ClusterlessClassifier(\n",
    "        place_bin_size=place_bin_size, movement_var=movement_var,\n",
    "        replay_speed=replay_speed,\n",
    "        discrete_transition_diag=discrete_diag,\n",
    "        continuous_transition_types=continuous_transition_types,\n",
    "        model=model, model_kwargs=model_kwargs).fit(\n",
    "            position, data['multiunit'], is_training=is_training,\n",
    "            track_labels=track_labels)\n",
    "    logging.info(classifier)\n",
    "\n",
    "    place_field_max = get_place_field_max(classifier)\n",
    "    linear_position_order = place_field_max.argsort(axis=0).squeeze()\n",
    "    ripple_position = reshape_to_segments(position, ripple_times)\n",
    "    for ripple_number in tqdm(ripple_list, desc='ripple figures'):\n",
    "        posterior = (\n",
    "            results\n",
    "            .acausal_posterior\n",
    "            .sel(ripple_number=ripple_number)\n",
    "            .dropna('time')\n",
    "            .assign_coords(\n",
    "                time=lambda ds: 1000 * ds.time / np.timedelta64(1, 's')))\n",
    "        plot_ripple_decode_1D(\n",
    "            posterior, ripple_position.loc[ripple_number],\n",
    "            ripple_spikes.loc[ripple_number], linear_position_order,\n",
    "            data['position_info'], spike_label='Tetrodes')\n",
    "        plt.suptitle(\n",
    "            f'ripple number = {animal}_{day:02d}_{epoch:02d}_'\n",
    "            f'{ripple_number:04d}')\n",
    "        fig_name = (f'{animal}_{day:02d}_{epoch:02d}_{ripple_number:04d}_'\n",
    "                    f'{data_type}_{dim}_acasual_classification.{figure_format}')\n",
    "        fig_name = os.path.join(\n",
    "            FIGURE_DIR, 'ripple_classifications', fig_name)\n",
    "        plt.savefig(fig_name, transparent=True, dpi=300, bbox_inches='tight')\n",
    "        plt.close(plt.gcf())"
   ]
  },
  {
   "cell_type": "code",
   "execution_count": 26,
   "metadata": {},
   "outputs": [
    {
     "name": "stderr",
     "output_type": "stream",
     "text": [
      "INFO:root:Loading data...\n",
      "WARNING:loren_frank_data_processing.core:Failed to load file: /data2/edeno/replay_trajectory_paper/src/../Raw-Data/Remy/remyDIO35.mat\n",
      "WARNING:loren_frank_data_processing.core:No DIO file found, using distance from well to segment trials\n",
      "WARNING:loren_frank_data_processing.core:Failed to load file: /data2/edeno/replay_trajectory_paper/src/../Raw-Data/Remy/remyDIO35.mat\n",
      "WARNING:loren_frank_data_processing.core:No DIO file found, inferring correct inbound/outbound from task rules\n",
      "WARNING:loren_frank_data_processing.core:dav, 1, 4 not processed\n",
      "WARNING:loren_frank_data_processing.core:egy, 12, 1 not processed\n",
      "WARNING:loren_frank_data_processing.core:egy, 12, 2 not processed\n",
      "WARNING:loren_frank_data_processing.core:egy, 12, 3 not processed\n",
      "WARNING:loren_frank_data_processing.core:egy, 12, 4 not processed\n",
      "WARNING:loren_frank_data_processing.core:egy, 12, 5 not processed\n",
      "WARNING:loren_frank_data_processing.core:egy, 12, 6 not processed\n",
      "WARNING:loren_frank_data_processing.core:egy, 12, 7 not processed\n",
      "WARNING:loren_frank_data_processing.core:egy, 12, 8 not processed\n",
      "WARNING:loren_frank_data_processing.core:fra, 4, 1 not processed\n",
      "WARNING:loren_frank_data_processing.core:gov, 2, 3 not processed\n",
      "WARNING:loren_frank_data_processing.core:gov, 2, 4 not processed\n",
      "WARNING:loren_frank_data_processing.core:gov, 2, 5 not processed\n",
      "WARNING:loren_frank_data_processing.core:gov, 2, 6 not processed\n",
      "WARNING:loren_frank_data_processing.core:gov, 2, 7 not processed\n",
      "WARNING:loren_frank_data_processing.core:Failed to load file: /data2/edeno/replay_trajectory_paper/src/../Raw-Data/Remy/EEG/remymarks35-02.mat\n",
      "WARNING:loren_frank_data_processing.core:Failed to load file: /data2/edeno/replay_trajectory_paper/src/../Raw-Data/Remy/EEG/remymarks35-03.mat\n",
      "WARNING:loren_frank_data_processing.core:Failed to load file: /data2/edeno/replay_trajectory_paper/src/../Raw-Data/Remy/EEG/remymarks35-04.mat\n",
      "WARNING:loren_frank_data_processing.core:Failed to load file: /data2/edeno/replay_trajectory_paper/src/../Raw-Data/Remy/EEG/remymarks35-06.mat\n",
      "WARNING:loren_frank_data_processing.core:Failed to load file: /data2/edeno/replay_trajectory_paper/src/../Raw-Data/Remy/EEG/remymarks35-07.mat\n",
      "WARNING:loren_frank_data_processing.core:Failed to load file: /data2/edeno/replay_trajectory_paper/src/../Raw-Data/Remy/EEG/remymarks35-09.mat\n",
      "WARNING:loren_frank_data_processing.core:Failed to load file: /data2/edeno/replay_trajectory_paper/src/../Raw-Data/Remy/EEG/remymarks35-10.mat\n",
      "WARNING:loren_frank_data_processing.core:Failed to load file: /data2/edeno/replay_trajectory_paper/src/../Raw-Data/Remy/EEG/remymarks35-11.mat\n",
      "WARNING:loren_frank_data_processing.core:Failed to load file: /data2/edeno/replay_trajectory_paper/src/../Raw-Data/Remy/EEG/remymarks35-12.mat\n",
      "WARNING:loren_frank_data_processing.core:Failed to load file: /data2/edeno/replay_trajectory_paper/src/../Raw-Data/Remy/EEG/remymarks35-13.mat\n",
      "WARNING:loren_frank_data_processing.core:Failed to load file: /data2/edeno/replay_trajectory_paper/src/../Raw-Data/Remy/EEG/remymarks35-14.mat\n",
      "WARNING:loren_frank_data_processing.core:Failed to load file: /data2/edeno/replay_trajectory_paper/src/../Raw-Data/Remy/EEG/remymarks35-15.mat\n",
      "WARNING:loren_frank_data_processing.core:Failed to load file: /data2/edeno/replay_trajectory_paper/src/../Raw-Data/Remy/EEG/remymarks35-17.mat\n",
      "WARNING:loren_frank_data_processing.core:Failed to load file: /data2/edeno/replay_trajectory_paper/src/../Raw-Data/Remy/EEG/remymarks35-19.mat\n",
      "WARNING:loren_frank_data_processing.core:Failed to load file: /data2/edeno/replay_trajectory_paper/src/../Raw-Data/Remy/EEG/remymarks35-20.mat\n",
      "WARNING:loren_frank_data_processing.core:Failed to load file: /data2/edeno/replay_trajectory_paper/src/../Raw-Data/Remy/EEG/remymarks35-21.mat\n",
      "WARNING:loren_frank_data_processing.core:Failed to load file: /data2/edeno/replay_trajectory_paper/src/../Raw-Data/Remy/EEG/remymarks35-22.mat\n",
      "WARNING:loren_frank_data_processing.core:Failed to load file: /data2/edeno/replay_trajectory_paper/src/../Raw-Data/Remy/EEG/remymarks35-23.mat\n",
      "WARNING:loren_frank_data_processing.core:Failed to load file: /data2/edeno/replay_trajectory_paper/src/../Raw-Data/Remy/EEG/remymarks35-24.mat\n",
      "WARNING:loren_frank_data_processing.core:Failed to load file: /data2/edeno/replay_trajectory_paper/src/../Raw-Data/Remy/EEG/remymarks35-25.mat\n",
      "WARNING:loren_frank_data_processing.core:Failed to load file: /data2/edeno/replay_trajectory_paper/src/../Raw-Data/Remy/EEG/remymarks35-26.mat\n",
      "WARNING:loren_frank_data_processing.core:Failed to load file: /data2/edeno/replay_trajectory_paper/src/../Raw-Data/Remy/EEG/remymarks35-28.mat\n",
      "WARNING:loren_frank_data_processing.core:Failed to load file: /data2/edeno/replay_trajectory_paper/src/../Raw-Data/Remy/EEG/remymarks35-29.mat\n",
      "WARNING:loren_frank_data_processing.core:Failed to load file: /data2/edeno/replay_trajectory_paper/src/../Raw-Data/Remy/EEG/remymarks35-30.mat\n",
      "INFO:src.load_data:Finding ripple times...\n",
      "WARNING:loren_frank_data_processing.core:Failed to load file: /data2/edeno/replay_trajectory_paper/src/../Raw-Data/Remy/remyDIO35.mat\n",
      "WARNING:loren_frank_data_processing.core:No DIO file found, using distance from well to segment trials\n",
      "WARNING:loren_frank_data_processing.core:Failed to load file: /data2/edeno/replay_trajectory_paper/src/../Raw-Data/Remy/remyDIO35.mat\n",
      "WARNING:loren_frank_data_processing.core:No DIO file found, inferring correct inbound/outbound from task rules\n",
      "INFO:replay_trajectory_classification.classifier:Fitting initial conditions...\n",
      "INFO:replay_trajectory_classification.classifier:Fitting state transition...\n",
      "INFO:replay_trajectory_classification.classifier:Fitting multiunits...\n",
      "INFO:root:ClusterlessClassifier(continuous_transition_types=[['w_track_1D_random_walk_minus_identity',\n",
      "                                                    'w_track_1D_inverse_random_walk',\n",
      "                                                    'identity'],\n",
      "                                                   ['uniform',\n",
      "                                                    'w_track_1D_inverse_random_walk',\n",
      "                                                    'uniform'],\n",
      "                                                   ['w_track_1D_random_walk_minus_identity',\n",
      "                                                    'w_track_1D_inverse_random_walk',\n",
      "                                                    'identity']],\n",
      "                      discrete_transition_diag=0.999,\n",
      "                      discrete_transition_type='strong_diagona...\n",
      "                      initial_conditions_type='uniform_on_track',\n",
      "                      model=<class 'replay_trajectory_classification.misc.NumbaKDE'>,\n",
      "                      model_kwargs={'bandwidth': array([24., 24., 24., 24.,  5.,  5.])},\n",
      "                      movement_var=4.0,\n",
      "                      occupancy_kwargs={'bandwidth': array([24., 24., 24., 24.,  5.,  5.])},\n",
      "                      occupancy_model=<class 'replay_trajectory_classification.misc.NumbaKDE'>,\n",
      "                      place_bin_size=2.0, position_range=None, replay_speed=1)\n"
     ]
    },
    {
     "data": {
      "application/vnd.jupyter.widget-view+json": {
       "model_id": "d669621b508a43a5a820b992b8b3ef40",
       "version_major": 2,
       "version_minor": 0
      },
      "text/plain": [
       "HBox(children=(IntProgress(value=0, description='ripple figures', max=3, style=ProgressStyle(description_width…"
      ]
     },
     "metadata": {},
     "output_type": "display_data"
    },
    {
     "name": "stdout",
     "output_type": "stream",
     "text": [
      "\n"
     ]
    }
   ],
   "source": [
    "epoch_key = 'remy', 35, 4\n",
    "ripple_list = [303, 269, 57, 267]\n",
    "\n",
    "replot_clusterless_ripple_decode_1D(epoch_key, ripple_list, figure_format='pdf')"
   ]
  },
  {
   "cell_type": "code",
   "execution_count": 25,
   "metadata": {},
   "outputs": [
    {
     "name": "stderr",
     "output_type": "stream",
     "text": [
      "INFO:root:Loading data...\n",
      "WARNING:loren_frank_data_processing.core:Failed to load file: /data2/edeno/replay_trajectory_paper/src/../Raw-Data/Remy/remyDIO36.mat\n",
      "WARNING:loren_frank_data_processing.core:No DIO file found, using distance from well to segment trials\n",
      "WARNING:loren_frank_data_processing.core:Failed to load file: /data2/edeno/replay_trajectory_paper/src/../Raw-Data/Remy/remyDIO36.mat\n",
      "WARNING:loren_frank_data_processing.core:No DIO file found, inferring correct inbound/outbound from task rules\n",
      "WARNING:loren_frank_data_processing.core:dav, 1, 4 not processed\n",
      "WARNING:loren_frank_data_processing.core:egy, 12, 1 not processed\n",
      "WARNING:loren_frank_data_processing.core:egy, 12, 2 not processed\n",
      "WARNING:loren_frank_data_processing.core:egy, 12, 3 not processed\n",
      "WARNING:loren_frank_data_processing.core:egy, 12, 4 not processed\n",
      "WARNING:loren_frank_data_processing.core:egy, 12, 5 not processed\n",
      "WARNING:loren_frank_data_processing.core:egy, 12, 6 not processed\n",
      "WARNING:loren_frank_data_processing.core:egy, 12, 7 not processed\n",
      "WARNING:loren_frank_data_processing.core:egy, 12, 8 not processed\n",
      "WARNING:loren_frank_data_processing.core:fra, 4, 1 not processed\n",
      "WARNING:loren_frank_data_processing.core:gov, 2, 3 not processed\n",
      "WARNING:loren_frank_data_processing.core:gov, 2, 4 not processed\n",
      "WARNING:loren_frank_data_processing.core:gov, 2, 5 not processed\n",
      "WARNING:loren_frank_data_processing.core:gov, 2, 6 not processed\n",
      "WARNING:loren_frank_data_processing.core:gov, 2, 7 not processed\n",
      "WARNING:loren_frank_data_processing.core:Failed to load file: /data2/edeno/replay_trajectory_paper/src/../Raw-Data/Remy/EEG/remymarks36-02.mat\n",
      "WARNING:loren_frank_data_processing.core:Failed to load file: /data2/edeno/replay_trajectory_paper/src/../Raw-Data/Remy/EEG/remymarks36-03.mat\n",
      "WARNING:loren_frank_data_processing.core:Failed to load file: /data2/edeno/replay_trajectory_paper/src/../Raw-Data/Remy/EEG/remymarks36-04.mat\n",
      "WARNING:loren_frank_data_processing.core:Failed to load file: /data2/edeno/replay_trajectory_paper/src/../Raw-Data/Remy/EEG/remymarks36-06.mat\n",
      "WARNING:loren_frank_data_processing.core:Failed to load file: /data2/edeno/replay_trajectory_paper/src/../Raw-Data/Remy/EEG/remymarks36-07.mat\n",
      "WARNING:loren_frank_data_processing.core:Failed to load file: /data2/edeno/replay_trajectory_paper/src/../Raw-Data/Remy/EEG/remymarks36-09.mat\n",
      "WARNING:loren_frank_data_processing.core:Failed to load file: /data2/edeno/replay_trajectory_paper/src/../Raw-Data/Remy/EEG/remymarks36-10.mat\n",
      "WARNING:loren_frank_data_processing.core:Failed to load file: /data2/edeno/replay_trajectory_paper/src/../Raw-Data/Remy/EEG/remymarks36-11.mat\n",
      "WARNING:loren_frank_data_processing.core:Failed to load file: /data2/edeno/replay_trajectory_paper/src/../Raw-Data/Remy/EEG/remymarks36-12.mat\n",
      "WARNING:loren_frank_data_processing.core:Failed to load file: /data2/edeno/replay_trajectory_paper/src/../Raw-Data/Remy/EEG/remymarks36-13.mat\n",
      "WARNING:loren_frank_data_processing.core:Failed to load file: /data2/edeno/replay_trajectory_paper/src/../Raw-Data/Remy/EEG/remymarks36-14.mat\n",
      "WARNING:loren_frank_data_processing.core:Failed to load file: /data2/edeno/replay_trajectory_paper/src/../Raw-Data/Remy/EEG/remymarks36-15.mat\n",
      "WARNING:loren_frank_data_processing.core:Failed to load file: /data2/edeno/replay_trajectory_paper/src/../Raw-Data/Remy/EEG/remymarks36-17.mat\n",
      "WARNING:loren_frank_data_processing.core:Failed to load file: /data2/edeno/replay_trajectory_paper/src/../Raw-Data/Remy/EEG/remymarks36-19.mat\n",
      "WARNING:loren_frank_data_processing.core:Failed to load file: /data2/edeno/replay_trajectory_paper/src/../Raw-Data/Remy/EEG/remymarks36-20.mat\n",
      "WARNING:loren_frank_data_processing.core:Failed to load file: /data2/edeno/replay_trajectory_paper/src/../Raw-Data/Remy/EEG/remymarks36-21.mat\n",
      "WARNING:loren_frank_data_processing.core:Failed to load file: /data2/edeno/replay_trajectory_paper/src/../Raw-Data/Remy/EEG/remymarks36-22.mat\n",
      "WARNING:loren_frank_data_processing.core:Failed to load file: /data2/edeno/replay_trajectory_paper/src/../Raw-Data/Remy/EEG/remymarks36-23.mat\n",
      "WARNING:loren_frank_data_processing.core:Failed to load file: /data2/edeno/replay_trajectory_paper/src/../Raw-Data/Remy/EEG/remymarks36-24.mat\n",
      "WARNING:loren_frank_data_processing.core:Failed to load file: /data2/edeno/replay_trajectory_paper/src/../Raw-Data/Remy/EEG/remymarks36-25.mat\n",
      "WARNING:loren_frank_data_processing.core:Failed to load file: /data2/edeno/replay_trajectory_paper/src/../Raw-Data/Remy/EEG/remymarks36-26.mat\n",
      "WARNING:loren_frank_data_processing.core:Failed to load file: /data2/edeno/replay_trajectory_paper/src/../Raw-Data/Remy/EEG/remymarks36-28.mat\n",
      "WARNING:loren_frank_data_processing.core:Failed to load file: /data2/edeno/replay_trajectory_paper/src/../Raw-Data/Remy/EEG/remymarks36-29.mat\n",
      "WARNING:loren_frank_data_processing.core:Failed to load file: /data2/edeno/replay_trajectory_paper/src/../Raw-Data/Remy/EEG/remymarks36-30.mat\n",
      "INFO:src.load_data:Finding ripple times...\n",
      "WARNING:loren_frank_data_processing.core:Failed to load file: /data2/edeno/replay_trajectory_paper/src/../Raw-Data/Remy/remyDIO36.mat\n",
      "WARNING:loren_frank_data_processing.core:No DIO file found, using distance from well to segment trials\n",
      "WARNING:loren_frank_data_processing.core:Failed to load file: /data2/edeno/replay_trajectory_paper/src/../Raw-Data/Remy/remyDIO36.mat\n",
      "WARNING:loren_frank_data_processing.core:No DIO file found, inferring correct inbound/outbound from task rules\n",
      "INFO:replay_trajectory_classification.classifier:Fitting initial conditions...\n",
      "INFO:replay_trajectory_classification.classifier:Fitting state transition...\n",
      "INFO:replay_trajectory_classification.classifier:Fitting multiunits...\n",
      "INFO:root:ClusterlessClassifier(continuous_transition_types=[['w_track_1D_random_walk_minus_identity',\n",
      "                                                    'w_track_1D_inverse_random_walk',\n",
      "                                                    'identity'],\n",
      "                                                   ['uniform',\n",
      "                                                    'w_track_1D_inverse_random_walk',\n",
      "                                                    'uniform'],\n",
      "                                                   ['w_track_1D_random_walk_minus_identity',\n",
      "                                                    'w_track_1D_inverse_random_walk',\n",
      "                                                    'identity']],\n",
      "                      discrete_transition_diag=0.999,\n",
      "                      discrete_transition_type='strong_diagona...\n",
      "                      initial_conditions_type='uniform_on_track',\n",
      "                      model=<class 'replay_trajectory_classification.misc.NumbaKDE'>,\n",
      "                      model_kwargs={'bandwidth': array([24., 24., 24., 24.,  5.,  5.])},\n",
      "                      movement_var=4.0,\n",
      "                      occupancy_kwargs={'bandwidth': array([24., 24., 24., 24.,  5.,  5.])},\n",
      "                      occupancy_model=<class 'replay_trajectory_classification.misc.NumbaKDE'>,\n",
      "                      place_bin_size=2.0, position_range=None, replay_speed=1)\n"
     ]
    },
    {
     "data": {
      "application/vnd.jupyter.widget-view+json": {
       "model_id": "b93be56e0f2a46aca138b001ee844eb4",
       "version_major": 2,
       "version_minor": 0
      },
      "text/plain": [
       "HBox(children=(IntProgress(value=0, description='ripple figures', max=13, style=ProgressStyle(description_widt…"
      ]
     },
     "metadata": {},
     "output_type": "display_data"
    },
    {
     "name": "stdout",
     "output_type": "stream",
     "text": [
      "\n"
     ]
    }
   ],
   "source": [
    "epoch_key = 'remy', 36, 2\n",
    "ripple_list = [20, 137, 4, 33, 151, 163, 252, 269, 122, 262, 97, 200, 142]\n",
    "\n",
    "replot_clusterless_ripple_decode_1D(epoch_key, ripple_list, figure_format='pdf')"
   ]
  },
  {
   "cell_type": "code",
   "execution_count": 27,
   "metadata": {},
   "outputs": [
    {
     "name": "stderr",
     "output_type": "stream",
     "text": [
      "INFO:root:Loading data...\n",
      "WARNING:loren_frank_data_processing.core:Failed to load file: /data2/edeno/replay_trajectory_paper/src/../Raw-Data/Remy/remyDIO37.mat\n",
      "WARNING:loren_frank_data_processing.core:No DIO file found, using distance from well to segment trials\n",
      "WARNING:loren_frank_data_processing.core:Failed to load file: /data2/edeno/replay_trajectory_paper/src/../Raw-Data/Remy/remyDIO37.mat\n",
      "WARNING:loren_frank_data_processing.core:No DIO file found, inferring correct inbound/outbound from task rules\n",
      "WARNING:loren_frank_data_processing.core:dav, 1, 4 not processed\n",
      "WARNING:loren_frank_data_processing.core:egy, 12, 1 not processed\n",
      "WARNING:loren_frank_data_processing.core:egy, 12, 2 not processed\n",
      "WARNING:loren_frank_data_processing.core:egy, 12, 3 not processed\n",
      "WARNING:loren_frank_data_processing.core:egy, 12, 4 not processed\n",
      "WARNING:loren_frank_data_processing.core:egy, 12, 5 not processed\n",
      "WARNING:loren_frank_data_processing.core:egy, 12, 6 not processed\n",
      "WARNING:loren_frank_data_processing.core:egy, 12, 7 not processed\n",
      "WARNING:loren_frank_data_processing.core:egy, 12, 8 not processed\n",
      "WARNING:loren_frank_data_processing.core:fra, 4, 1 not processed\n",
      "WARNING:loren_frank_data_processing.core:gov, 2, 3 not processed\n",
      "WARNING:loren_frank_data_processing.core:gov, 2, 4 not processed\n",
      "WARNING:loren_frank_data_processing.core:gov, 2, 5 not processed\n",
      "WARNING:loren_frank_data_processing.core:gov, 2, 6 not processed\n",
      "WARNING:loren_frank_data_processing.core:gov, 2, 7 not processed\n",
      "WARNING:loren_frank_data_processing.core:Failed to load file: /data2/edeno/replay_trajectory_paper/src/../Raw-Data/Remy/EEG/remymarks37-02.mat\n",
      "WARNING:loren_frank_data_processing.core:Failed to load file: /data2/edeno/replay_trajectory_paper/src/../Raw-Data/Remy/EEG/remymarks37-03.mat\n",
      "WARNING:loren_frank_data_processing.core:Failed to load file: /data2/edeno/replay_trajectory_paper/src/../Raw-Data/Remy/EEG/remymarks37-04.mat\n",
      "WARNING:loren_frank_data_processing.core:Failed to load file: /data2/edeno/replay_trajectory_paper/src/../Raw-Data/Remy/EEG/remymarks37-06.mat\n",
      "WARNING:loren_frank_data_processing.core:Failed to load file: /data2/edeno/replay_trajectory_paper/src/../Raw-Data/Remy/EEG/remymarks37-07.mat\n",
      "WARNING:loren_frank_data_processing.core:Failed to load file: /data2/edeno/replay_trajectory_paper/src/../Raw-Data/Remy/EEG/remymarks37-09.mat\n",
      "WARNING:loren_frank_data_processing.core:Failed to load file: /data2/edeno/replay_trajectory_paper/src/../Raw-Data/Remy/EEG/remymarks37-10.mat\n",
      "WARNING:loren_frank_data_processing.core:Failed to load file: /data2/edeno/replay_trajectory_paper/src/../Raw-Data/Remy/EEG/remymarks37-11.mat\n",
      "WARNING:loren_frank_data_processing.core:Failed to load file: /data2/edeno/replay_trajectory_paper/src/../Raw-Data/Remy/EEG/remymarks37-12.mat\n",
      "WARNING:loren_frank_data_processing.core:Failed to load file: /data2/edeno/replay_trajectory_paper/src/../Raw-Data/Remy/EEG/remymarks37-13.mat\n",
      "WARNING:loren_frank_data_processing.core:Failed to load file: /data2/edeno/replay_trajectory_paper/src/../Raw-Data/Remy/EEG/remymarks37-14.mat\n",
      "WARNING:loren_frank_data_processing.core:Failed to load file: /data2/edeno/replay_trajectory_paper/src/../Raw-Data/Remy/EEG/remymarks37-15.mat\n",
      "WARNING:loren_frank_data_processing.core:Failed to load file: /data2/edeno/replay_trajectory_paper/src/../Raw-Data/Remy/EEG/remymarks37-17.mat\n",
      "WARNING:loren_frank_data_processing.core:Failed to load file: /data2/edeno/replay_trajectory_paper/src/../Raw-Data/Remy/EEG/remymarks37-19.mat\n",
      "WARNING:loren_frank_data_processing.core:Failed to load file: /data2/edeno/replay_trajectory_paper/src/../Raw-Data/Remy/EEG/remymarks37-20.mat\n",
      "WARNING:loren_frank_data_processing.core:Failed to load file: /data2/edeno/replay_trajectory_paper/src/../Raw-Data/Remy/EEG/remymarks37-21.mat\n",
      "WARNING:loren_frank_data_processing.core:Failed to load file: /data2/edeno/replay_trajectory_paper/src/../Raw-Data/Remy/EEG/remymarks37-22.mat\n",
      "WARNING:loren_frank_data_processing.core:Failed to load file: /data2/edeno/replay_trajectory_paper/src/../Raw-Data/Remy/EEG/remymarks37-23.mat\n",
      "WARNING:loren_frank_data_processing.core:Failed to load file: /data2/edeno/replay_trajectory_paper/src/../Raw-Data/Remy/EEG/remymarks37-24.mat\n",
      "WARNING:loren_frank_data_processing.core:Failed to load file: /data2/edeno/replay_trajectory_paper/src/../Raw-Data/Remy/EEG/remymarks37-25.mat\n",
      "WARNING:loren_frank_data_processing.core:Failed to load file: /data2/edeno/replay_trajectory_paper/src/../Raw-Data/Remy/EEG/remymarks37-26.mat\n",
      "WARNING:loren_frank_data_processing.core:Failed to load file: /data2/edeno/replay_trajectory_paper/src/../Raw-Data/Remy/EEG/remymarks37-28.mat\n",
      "WARNING:loren_frank_data_processing.core:Failed to load file: /data2/edeno/replay_trajectory_paper/src/../Raw-Data/Remy/EEG/remymarks37-29.mat\n",
      "WARNING:loren_frank_data_processing.core:Failed to load file: /data2/edeno/replay_trajectory_paper/src/../Raw-Data/Remy/EEG/remymarks37-30.mat\n",
      "INFO:src.load_data:Finding ripple times...\n",
      "WARNING:loren_frank_data_processing.core:Failed to load file: /data2/edeno/replay_trajectory_paper/src/../Raw-Data/Remy/remyDIO37.mat\n",
      "WARNING:loren_frank_data_processing.core:No DIO file found, using distance from well to segment trials\n",
      "WARNING:loren_frank_data_processing.core:Failed to load file: /data2/edeno/replay_trajectory_paper/src/../Raw-Data/Remy/remyDIO37.mat\n",
      "WARNING:loren_frank_data_processing.core:No DIO file found, inferring correct inbound/outbound from task rules\n",
      "INFO:replay_trajectory_classification.classifier:Fitting initial conditions...\n",
      "INFO:replay_trajectory_classification.classifier:Fitting state transition...\n",
      "INFO:replay_trajectory_classification.classifier:Fitting multiunits...\n",
      "INFO:root:ClusterlessClassifier(continuous_transition_types=[['w_track_1D_random_walk_minus_identity',\n",
      "                                                    'w_track_1D_inverse_random_walk',\n",
      "                                                    'identity'],\n",
      "                                                   ['uniform',\n",
      "                                                    'w_track_1D_inverse_random_walk',\n",
      "                                                    'uniform'],\n",
      "                                                   ['w_track_1D_random_walk_minus_identity',\n",
      "                                                    'w_track_1D_inverse_random_walk',\n",
      "                                                    'identity']],\n",
      "                      discrete_transition_diag=0.999,\n",
      "                      discrete_transition_type='strong_diagona...\n",
      "                      initial_conditions_type='uniform_on_track',\n",
      "                      model=<class 'replay_trajectory_classification.misc.NumbaKDE'>,\n",
      "                      model_kwargs={'bandwidth': array([24., 24., 24., 24.,  5.,  5.])},\n",
      "                      movement_var=4.0,\n",
      "                      occupancy_kwargs={'bandwidth': array([24., 24., 24., 24.,  5.,  5.])},\n",
      "                      occupancy_model=<class 'replay_trajectory_classification.misc.NumbaKDE'>,\n",
      "                      place_bin_size=2.0, position_range=None, replay_speed=1)\n"
     ]
    },
    {
     "data": {
      "application/vnd.jupyter.widget-view+json": {
       "model_id": "3bff587450e148a09700949623a1c2ab",
       "version_major": 2,
       "version_minor": 0
      },
      "text/plain": [
       "HBox(children=(IntProgress(value=0, description='ripple figures', max=4, style=ProgressStyle(description_width…"
      ]
     },
     "metadata": {},
     "output_type": "display_data"
    },
    {
     "name": "stdout",
     "output_type": "stream",
     "text": [
      "\n"
     ]
    }
   ],
   "source": [
    "epoch_key = 'remy', 37, 2\n",
    "ripple_list = [314, 7, 9, 278]\n",
    "\n",
    "replot_clusterless_ripple_decode_1D(epoch_key, ripple_list, figure_format='pdf')"
   ]
  },
  {
   "cell_type": "code",
   "execution_count": 28,
   "metadata": {},
   "outputs": [
    {
     "name": "stderr",
     "output_type": "stream",
     "text": [
      "INFO:root:Loading data...\n",
      "WARNING:loren_frank_data_processing.core:Failed to load file: /data2/edeno/replay_trajectory_paper/src/../Raw-Data/Remy/remyDIO35.mat\n",
      "WARNING:loren_frank_data_processing.core:No DIO file found, using distance from well to segment trials\n",
      "WARNING:loren_frank_data_processing.core:Failed to load file: /data2/edeno/replay_trajectory_paper/src/../Raw-Data/Remy/remyDIO35.mat\n",
      "WARNING:loren_frank_data_processing.core:No DIO file found, inferring correct inbound/outbound from task rules\n",
      "WARNING:loren_frank_data_processing.core:dav, 1, 4 not processed\n",
      "WARNING:loren_frank_data_processing.core:egy, 12, 1 not processed\n",
      "WARNING:loren_frank_data_processing.core:egy, 12, 2 not processed\n",
      "WARNING:loren_frank_data_processing.core:egy, 12, 3 not processed\n",
      "WARNING:loren_frank_data_processing.core:egy, 12, 4 not processed\n",
      "WARNING:loren_frank_data_processing.core:egy, 12, 5 not processed\n",
      "WARNING:loren_frank_data_processing.core:egy, 12, 6 not processed\n",
      "WARNING:loren_frank_data_processing.core:egy, 12, 7 not processed\n",
      "WARNING:loren_frank_data_processing.core:egy, 12, 8 not processed\n",
      "WARNING:loren_frank_data_processing.core:fra, 4, 1 not processed\n",
      "WARNING:loren_frank_data_processing.core:gov, 2, 3 not processed\n",
      "WARNING:loren_frank_data_processing.core:gov, 2, 4 not processed\n",
      "WARNING:loren_frank_data_processing.core:gov, 2, 5 not processed\n",
      "WARNING:loren_frank_data_processing.core:gov, 2, 6 not processed\n",
      "WARNING:loren_frank_data_processing.core:gov, 2, 7 not processed\n",
      "WARNING:loren_frank_data_processing.core:Failed to load file: /data2/edeno/replay_trajectory_paper/src/../Raw-Data/Remy/EEG/remymarks35-02.mat\n",
      "WARNING:loren_frank_data_processing.core:Failed to load file: /data2/edeno/replay_trajectory_paper/src/../Raw-Data/Remy/EEG/remymarks35-03.mat\n",
      "WARNING:loren_frank_data_processing.core:Failed to load file: /data2/edeno/replay_trajectory_paper/src/../Raw-Data/Remy/EEG/remymarks35-04.mat\n",
      "WARNING:loren_frank_data_processing.core:Failed to load file: /data2/edeno/replay_trajectory_paper/src/../Raw-Data/Remy/EEG/remymarks35-06.mat\n",
      "WARNING:loren_frank_data_processing.core:Failed to load file: /data2/edeno/replay_trajectory_paper/src/../Raw-Data/Remy/EEG/remymarks35-07.mat\n",
      "WARNING:loren_frank_data_processing.core:Failed to load file: /data2/edeno/replay_trajectory_paper/src/../Raw-Data/Remy/EEG/remymarks35-09.mat\n",
      "WARNING:loren_frank_data_processing.core:Failed to load file: /data2/edeno/replay_trajectory_paper/src/../Raw-Data/Remy/EEG/remymarks35-10.mat\n",
      "WARNING:loren_frank_data_processing.core:Failed to load file: /data2/edeno/replay_trajectory_paper/src/../Raw-Data/Remy/EEG/remymarks35-11.mat\n",
      "WARNING:loren_frank_data_processing.core:Failed to load file: /data2/edeno/replay_trajectory_paper/src/../Raw-Data/Remy/EEG/remymarks35-12.mat\n",
      "WARNING:loren_frank_data_processing.core:Failed to load file: /data2/edeno/replay_trajectory_paper/src/../Raw-Data/Remy/EEG/remymarks35-13.mat\n",
      "WARNING:loren_frank_data_processing.core:Failed to load file: /data2/edeno/replay_trajectory_paper/src/../Raw-Data/Remy/EEG/remymarks35-14.mat\n",
      "WARNING:loren_frank_data_processing.core:Failed to load file: /data2/edeno/replay_trajectory_paper/src/../Raw-Data/Remy/EEG/remymarks35-15.mat\n",
      "WARNING:loren_frank_data_processing.core:Failed to load file: /data2/edeno/replay_trajectory_paper/src/../Raw-Data/Remy/EEG/remymarks35-17.mat\n",
      "WARNING:loren_frank_data_processing.core:Failed to load file: /data2/edeno/replay_trajectory_paper/src/../Raw-Data/Remy/EEG/remymarks35-19.mat\n",
      "WARNING:loren_frank_data_processing.core:Failed to load file: /data2/edeno/replay_trajectory_paper/src/../Raw-Data/Remy/EEG/remymarks35-20.mat\n",
      "WARNING:loren_frank_data_processing.core:Failed to load file: /data2/edeno/replay_trajectory_paper/src/../Raw-Data/Remy/EEG/remymarks35-21.mat\n",
      "WARNING:loren_frank_data_processing.core:Failed to load file: /data2/edeno/replay_trajectory_paper/src/../Raw-Data/Remy/EEG/remymarks35-22.mat\n",
      "WARNING:loren_frank_data_processing.core:Failed to load file: /data2/edeno/replay_trajectory_paper/src/../Raw-Data/Remy/EEG/remymarks35-23.mat\n",
      "WARNING:loren_frank_data_processing.core:Failed to load file: /data2/edeno/replay_trajectory_paper/src/../Raw-Data/Remy/EEG/remymarks35-24.mat\n",
      "WARNING:loren_frank_data_processing.core:Failed to load file: /data2/edeno/replay_trajectory_paper/src/../Raw-Data/Remy/EEG/remymarks35-25.mat\n",
      "WARNING:loren_frank_data_processing.core:Failed to load file: /data2/edeno/replay_trajectory_paper/src/../Raw-Data/Remy/EEG/remymarks35-26.mat\n",
      "WARNING:loren_frank_data_processing.core:Failed to load file: /data2/edeno/replay_trajectory_paper/src/../Raw-Data/Remy/EEG/remymarks35-28.mat\n",
      "WARNING:loren_frank_data_processing.core:Failed to load file: /data2/edeno/replay_trajectory_paper/src/../Raw-Data/Remy/EEG/remymarks35-29.mat\n",
      "WARNING:loren_frank_data_processing.core:Failed to load file: /data2/edeno/replay_trajectory_paper/src/../Raw-Data/Remy/EEG/remymarks35-30.mat\n",
      "INFO:src.load_data:Finding ripple times...\n",
      "WARNING:loren_frank_data_processing.core:Failed to load file: /data2/edeno/replay_trajectory_paper/src/../Raw-Data/Remy/remyDIO35.mat\n",
      "WARNING:loren_frank_data_processing.core:No DIO file found, using distance from well to segment trials\n",
      "WARNING:loren_frank_data_processing.core:Failed to load file: /data2/edeno/replay_trajectory_paper/src/../Raw-Data/Remy/remyDIO35.mat\n",
      "WARNING:loren_frank_data_processing.core:No DIO file found, inferring correct inbound/outbound from task rules\n",
      "INFO:replay_trajectory_classification.classifier:Fitting initial conditions...\n",
      "INFO:replay_trajectory_classification.classifier:Fitting state transition...\n",
      "INFO:replay_trajectory_classification.classifier:Fitting multiunits...\n",
      "INFO:root:ClusterlessClassifier(continuous_transition_types=[['w_track_1D_random_walk_minus_identity',\n",
      "                                                    'w_track_1D_inverse_random_walk',\n",
      "                                                    'identity'],\n",
      "                                                   ['uniform',\n",
      "                                                    'w_track_1D_inverse_random_walk',\n",
      "                                                    'uniform'],\n",
      "                                                   ['w_track_1D_random_walk_minus_identity',\n",
      "                                                    'w_track_1D_inverse_random_walk',\n",
      "                                                    'identity']],\n",
      "                      discrete_transition_diag=0.999,\n",
      "                      discrete_transition_type='strong_diagona...\n",
      "                      initial_conditions_type='uniform_on_track',\n",
      "                      model=<class 'replay_trajectory_classification.misc.NumbaKDE'>,\n",
      "                      model_kwargs={'bandwidth': array([24., 24., 24., 24.,  5.,  5.])},\n",
      "                      movement_var=4.0,\n",
      "                      occupancy_kwargs={'bandwidth': array([24., 24., 24., 24.,  5.,  5.])},\n",
      "                      occupancy_model=<class 'replay_trajectory_classification.misc.NumbaKDE'>,\n",
      "                      place_bin_size=2.0, position_range=None, replay_speed=1)\n"
     ]
    },
    {
     "data": {
      "application/vnd.jupyter.widget-view+json": {
       "model_id": "9ef94c9540674b00b5ec6671d505d2df",
       "version_major": 2,
       "version_minor": 0
      },
      "text/plain": [
       "HBox(children=(IntProgress(value=0, description='ripple figures', max=2, style=ProgressStyle(description_width…"
      ]
     },
     "metadata": {},
     "output_type": "display_data"
    },
    {
     "name": "stdout",
     "output_type": "stream",
     "text": [
      "\n"
     ]
    }
   ],
   "source": [
    "epoch_key = 'remy', 35, 2\n",
    "ripple_list = [157, 240]\n",
    "\n",
    "replot_clusterless_ripple_decode_1D(epoch_key, ripple_list, figure_format='pdf')"
   ]
  },
  {
   "cell_type": "code",
   "execution_count": 29,
   "metadata": {},
   "outputs": [
    {
     "name": "stderr",
     "output_type": "stream",
     "text": [
      "INFO:root:Loading data...\n",
      "WARNING:loren_frank_data_processing.core:Failed to load file: /data2/edeno/replay_trajectory_paper/src/../Raw-Data/Remy/remyDIO36.mat\n",
      "WARNING:loren_frank_data_processing.core:No DIO file found, using distance from well to segment trials\n",
      "WARNING:loren_frank_data_processing.core:Failed to load file: /data2/edeno/replay_trajectory_paper/src/../Raw-Data/Remy/remyDIO36.mat\n",
      "WARNING:loren_frank_data_processing.core:No DIO file found, inferring correct inbound/outbound from task rules\n",
      "WARNING:loren_frank_data_processing.core:dav, 1, 4 not processed\n",
      "WARNING:loren_frank_data_processing.core:egy, 12, 1 not processed\n",
      "WARNING:loren_frank_data_processing.core:egy, 12, 2 not processed\n",
      "WARNING:loren_frank_data_processing.core:egy, 12, 3 not processed\n",
      "WARNING:loren_frank_data_processing.core:egy, 12, 4 not processed\n",
      "WARNING:loren_frank_data_processing.core:egy, 12, 5 not processed\n",
      "WARNING:loren_frank_data_processing.core:egy, 12, 6 not processed\n",
      "WARNING:loren_frank_data_processing.core:egy, 12, 7 not processed\n",
      "WARNING:loren_frank_data_processing.core:egy, 12, 8 not processed\n",
      "WARNING:loren_frank_data_processing.core:fra, 4, 1 not processed\n",
      "WARNING:loren_frank_data_processing.core:gov, 2, 3 not processed\n",
      "WARNING:loren_frank_data_processing.core:gov, 2, 4 not processed\n",
      "WARNING:loren_frank_data_processing.core:gov, 2, 5 not processed\n",
      "WARNING:loren_frank_data_processing.core:gov, 2, 6 not processed\n",
      "WARNING:loren_frank_data_processing.core:gov, 2, 7 not processed\n",
      "WARNING:loren_frank_data_processing.core:Failed to load file: /data2/edeno/replay_trajectory_paper/src/../Raw-Data/Remy/EEG/remymarks36-02.mat\n",
      "WARNING:loren_frank_data_processing.core:Failed to load file: /data2/edeno/replay_trajectory_paper/src/../Raw-Data/Remy/EEG/remymarks36-03.mat\n",
      "WARNING:loren_frank_data_processing.core:Failed to load file: /data2/edeno/replay_trajectory_paper/src/../Raw-Data/Remy/EEG/remymarks36-04.mat\n",
      "WARNING:loren_frank_data_processing.core:Failed to load file: /data2/edeno/replay_trajectory_paper/src/../Raw-Data/Remy/EEG/remymarks36-06.mat\n",
      "WARNING:loren_frank_data_processing.core:Failed to load file: /data2/edeno/replay_trajectory_paper/src/../Raw-Data/Remy/EEG/remymarks36-07.mat\n",
      "WARNING:loren_frank_data_processing.core:Failed to load file: /data2/edeno/replay_trajectory_paper/src/../Raw-Data/Remy/EEG/remymarks36-09.mat\n",
      "WARNING:loren_frank_data_processing.core:Failed to load file: /data2/edeno/replay_trajectory_paper/src/../Raw-Data/Remy/EEG/remymarks36-10.mat\n",
      "WARNING:loren_frank_data_processing.core:Failed to load file: /data2/edeno/replay_trajectory_paper/src/../Raw-Data/Remy/EEG/remymarks36-11.mat\n",
      "WARNING:loren_frank_data_processing.core:Failed to load file: /data2/edeno/replay_trajectory_paper/src/../Raw-Data/Remy/EEG/remymarks36-12.mat\n",
      "WARNING:loren_frank_data_processing.core:Failed to load file: /data2/edeno/replay_trajectory_paper/src/../Raw-Data/Remy/EEG/remymarks36-13.mat\n",
      "WARNING:loren_frank_data_processing.core:Failed to load file: /data2/edeno/replay_trajectory_paper/src/../Raw-Data/Remy/EEG/remymarks36-14.mat\n",
      "WARNING:loren_frank_data_processing.core:Failed to load file: /data2/edeno/replay_trajectory_paper/src/../Raw-Data/Remy/EEG/remymarks36-15.mat\n",
      "WARNING:loren_frank_data_processing.core:Failed to load file: /data2/edeno/replay_trajectory_paper/src/../Raw-Data/Remy/EEG/remymarks36-17.mat\n",
      "WARNING:loren_frank_data_processing.core:Failed to load file: /data2/edeno/replay_trajectory_paper/src/../Raw-Data/Remy/EEG/remymarks36-19.mat\n",
      "WARNING:loren_frank_data_processing.core:Failed to load file: /data2/edeno/replay_trajectory_paper/src/../Raw-Data/Remy/EEG/remymarks36-20.mat\n",
      "WARNING:loren_frank_data_processing.core:Failed to load file: /data2/edeno/replay_trajectory_paper/src/../Raw-Data/Remy/EEG/remymarks36-21.mat\n",
      "WARNING:loren_frank_data_processing.core:Failed to load file: /data2/edeno/replay_trajectory_paper/src/../Raw-Data/Remy/EEG/remymarks36-22.mat\n",
      "WARNING:loren_frank_data_processing.core:Failed to load file: /data2/edeno/replay_trajectory_paper/src/../Raw-Data/Remy/EEG/remymarks36-23.mat\n",
      "WARNING:loren_frank_data_processing.core:Failed to load file: /data2/edeno/replay_trajectory_paper/src/../Raw-Data/Remy/EEG/remymarks36-24.mat\n",
      "WARNING:loren_frank_data_processing.core:Failed to load file: /data2/edeno/replay_trajectory_paper/src/../Raw-Data/Remy/EEG/remymarks36-25.mat\n",
      "WARNING:loren_frank_data_processing.core:Failed to load file: /data2/edeno/replay_trajectory_paper/src/../Raw-Data/Remy/EEG/remymarks36-26.mat\n",
      "WARNING:loren_frank_data_processing.core:Failed to load file: /data2/edeno/replay_trajectory_paper/src/../Raw-Data/Remy/EEG/remymarks36-28.mat\n",
      "WARNING:loren_frank_data_processing.core:Failed to load file: /data2/edeno/replay_trajectory_paper/src/../Raw-Data/Remy/EEG/remymarks36-29.mat\n",
      "WARNING:loren_frank_data_processing.core:Failed to load file: /data2/edeno/replay_trajectory_paper/src/../Raw-Data/Remy/EEG/remymarks36-30.mat\n",
      "INFO:src.load_data:Finding ripple times...\n",
      "WARNING:loren_frank_data_processing.core:Failed to load file: /data2/edeno/replay_trajectory_paper/src/../Raw-Data/Remy/remyDIO36.mat\n",
      "WARNING:loren_frank_data_processing.core:No DIO file found, using distance from well to segment trials\n",
      "WARNING:loren_frank_data_processing.core:Failed to load file: /data2/edeno/replay_trajectory_paper/src/../Raw-Data/Remy/remyDIO36.mat\n",
      "WARNING:loren_frank_data_processing.core:No DIO file found, inferring correct inbound/outbound from task rules\n",
      "INFO:replay_trajectory_classification.classifier:Fitting initial conditions...\n",
      "INFO:replay_trajectory_classification.classifier:Fitting state transition...\n",
      "INFO:replay_trajectory_classification.classifier:Fitting multiunits...\n",
      "INFO:root:ClusterlessClassifier(continuous_transition_types=[['w_track_1D_random_walk_minus_identity',\n",
      "                                                    'w_track_1D_inverse_random_walk',\n",
      "                                                    'identity'],\n",
      "                                                   ['uniform',\n",
      "                                                    'w_track_1D_inverse_random_walk',\n",
      "                                                    'uniform'],\n",
      "                                                   ['w_track_1D_random_walk_minus_identity',\n",
      "                                                    'w_track_1D_inverse_random_walk',\n",
      "                                                    'identity']],\n",
      "                      discrete_transition_diag=0.999,\n",
      "                      discrete_transition_type='strong_diagona...\n",
      "                      initial_conditions_type='uniform_on_track',\n",
      "                      model=<class 'replay_trajectory_classification.misc.NumbaKDE'>,\n",
      "                      model_kwargs={'bandwidth': array([24., 24., 24., 24.,  5.,  5.])},\n",
      "                      movement_var=4.0,\n",
      "                      occupancy_kwargs={'bandwidth': array([24., 24., 24., 24.,  5.,  5.])},\n",
      "                      occupancy_model=<class 'replay_trajectory_classification.misc.NumbaKDE'>,\n",
      "                      place_bin_size=2.0, position_range=None, replay_speed=1)\n"
     ]
    },
    {
     "data": {
      "application/vnd.jupyter.widget-view+json": {
       "model_id": "8096790acd1c4d728ce93d1c84cd6c90",
       "version_major": 2,
       "version_minor": 0
      },
      "text/plain": [
       "HBox(children=(IntProgress(value=0, description='ripple figures', max=1, style=ProgressStyle(description_width…"
      ]
     },
     "metadata": {},
     "output_type": "display_data"
    },
    {
     "name": "stdout",
     "output_type": "stream",
     "text": [
      "\n"
     ]
    }
   ],
   "source": [
    "epoch_key = 'remy', 36, 2\n",
    "ripple_list = [122]\n",
    "\n",
    "replot_clusterless_ripple_decode_1D(epoch_key, ripple_list, figure_format='pdf')"
   ]
  },
  {
   "cell_type": "code",
   "execution_count": 30,
   "metadata": {},
   "outputs": [
    {
     "name": "stderr",
     "output_type": "stream",
     "text": [
      "INFO:root:Loading data...\n",
      "WARNING:loren_frank_data_processing.core:Failed to load file: /data2/edeno/replay_trajectory_paper/src/../Raw-Data/Bond/bonDIO03.mat\n",
      "WARNING:loren_frank_data_processing.core:No DIO file found, using distance from well to segment trials\n",
      "WARNING:loren_frank_data_processing.core:Failed to load file: /data2/edeno/replay_trajectory_paper/src/../Raw-Data/Bond/bonDIO03.mat\n",
      "WARNING:loren_frank_data_processing.core:No DIO file found, inferring correct inbound/outbound from task rules\n",
      "WARNING:loren_frank_data_processing.core:dav, 1, 4 not processed\n",
      "WARNING:loren_frank_data_processing.core:egy, 12, 1 not processed\n",
      "WARNING:loren_frank_data_processing.core:egy, 12, 2 not processed\n",
      "WARNING:loren_frank_data_processing.core:egy, 12, 3 not processed\n",
      "WARNING:loren_frank_data_processing.core:egy, 12, 4 not processed\n",
      "WARNING:loren_frank_data_processing.core:egy, 12, 5 not processed\n",
      "WARNING:loren_frank_data_processing.core:egy, 12, 6 not processed\n",
      "WARNING:loren_frank_data_processing.core:egy, 12, 7 not processed\n",
      "WARNING:loren_frank_data_processing.core:egy, 12, 8 not processed\n",
      "WARNING:loren_frank_data_processing.core:fra, 4, 1 not processed\n",
      "WARNING:loren_frank_data_processing.core:gov, 2, 3 not processed\n",
      "WARNING:loren_frank_data_processing.core:gov, 2, 4 not processed\n",
      "WARNING:loren_frank_data_processing.core:gov, 2, 5 not processed\n",
      "WARNING:loren_frank_data_processing.core:gov, 2, 6 not processed\n",
      "WARNING:loren_frank_data_processing.core:gov, 2, 7 not processed\n",
      "INFO:src.load_data:Finding ripple times...\n",
      "WARNING:loren_frank_data_processing.core:Failed to load file: /data2/edeno/replay_trajectory_paper/src/../Raw-Data/Bond/bonDIO03.mat\n",
      "WARNING:loren_frank_data_processing.core:No DIO file found, using distance from well to segment trials\n",
      "WARNING:loren_frank_data_processing.core:Failed to load file: /data2/edeno/replay_trajectory_paper/src/../Raw-Data/Bond/bonDIO03.mat\n",
      "WARNING:loren_frank_data_processing.core:No DIO file found, inferring correct inbound/outbound from task rules\n",
      "INFO:replay_trajectory_classification.classifier:Fitting initial conditions...\n",
      "INFO:replay_trajectory_classification.classifier:Fitting state transition...\n",
      "INFO:replay_trajectory_classification.classifier:Fitting multiunits...\n",
      "INFO:root:ClusterlessClassifier(continuous_transition_types=[['w_track_1D_random_walk_minus_identity',\n",
      "                                                    'w_track_1D_inverse_random_walk',\n",
      "                                                    'identity'],\n",
      "                                                   ['uniform',\n",
      "                                                    'w_track_1D_inverse_random_walk',\n",
      "                                                    'uniform'],\n",
      "                                                   ['w_track_1D_random_walk_minus_identity',\n",
      "                                                    'w_track_1D_inverse_random_walk',\n",
      "                                                    'identity']],\n",
      "                      discrete_transition_diag=0.999,\n",
      "                      discrete_transition_type='strong_diagona...\n",
      "                      initial_conditions_type='uniform_on_track',\n",
      "                      model=<class 'replay_trajectory_classification.misc.NumbaKDE'>,\n",
      "                      model_kwargs={'bandwidth': array([24., 24., 24., 24.,  5.,  5.])},\n",
      "                      movement_var=4.0,\n",
      "                      occupancy_kwargs={'bandwidth': array([24., 24., 24., 24.,  5.,  5.])},\n",
      "                      occupancy_model=<class 'replay_trajectory_classification.misc.NumbaKDE'>,\n",
      "                      place_bin_size=2.0, position_range=None, replay_speed=1)\n"
     ]
    },
    {
     "data": {
      "application/vnd.jupyter.widget-view+json": {
       "model_id": "6ded9b984faf45c79b41191d7505dc4a",
       "version_major": 2,
       "version_minor": 0
      },
      "text/plain": [
       "HBox(children=(IntProgress(value=0, description='ripple figures', max=6, style=ProgressStyle(description_width…"
      ]
     },
     "metadata": {},
     "output_type": "display_data"
    },
    {
     "name": "stdout",
     "output_type": "stream",
     "text": [
      "\n"
     ]
    }
   ],
   "source": [
    "epoch_key = 'bon', 3, 2\n",
    "ripple_list = [250, 21, 25, 61, 111, 87]\n",
    "\n",
    "replot_clusterless_ripple_decode_1D(epoch_key, ripple_list, figure_format='pdf')"
   ]
  },
  {
   "cell_type": "code",
   "execution_count": 31,
   "metadata": {},
   "outputs": [
    {
     "name": "stderr",
     "output_type": "stream",
     "text": [
      "INFO:root:Loading data...\n",
      "WARNING:loren_frank_data_processing.core:Failed to load file: /data2/edeno/replay_trajectory_paper/src/../Raw-Data/Remy/remyDIO37.mat\n",
      "WARNING:loren_frank_data_processing.core:No DIO file found, using distance from well to segment trials\n",
      "WARNING:loren_frank_data_processing.core:Failed to load file: /data2/edeno/replay_trajectory_paper/src/../Raw-Data/Remy/remyDIO37.mat\n",
      "WARNING:loren_frank_data_processing.core:No DIO file found, inferring correct inbound/outbound from task rules\n",
      "WARNING:loren_frank_data_processing.core:dav, 1, 4 not processed\n",
      "WARNING:loren_frank_data_processing.core:egy, 12, 1 not processed\n",
      "WARNING:loren_frank_data_processing.core:egy, 12, 2 not processed\n",
      "WARNING:loren_frank_data_processing.core:egy, 12, 3 not processed\n",
      "WARNING:loren_frank_data_processing.core:egy, 12, 4 not processed\n",
      "WARNING:loren_frank_data_processing.core:egy, 12, 5 not processed\n",
      "WARNING:loren_frank_data_processing.core:egy, 12, 6 not processed\n",
      "WARNING:loren_frank_data_processing.core:egy, 12, 7 not processed\n",
      "WARNING:loren_frank_data_processing.core:egy, 12, 8 not processed\n",
      "WARNING:loren_frank_data_processing.core:fra, 4, 1 not processed\n",
      "WARNING:loren_frank_data_processing.core:gov, 2, 3 not processed\n",
      "WARNING:loren_frank_data_processing.core:gov, 2, 4 not processed\n",
      "WARNING:loren_frank_data_processing.core:gov, 2, 5 not processed\n",
      "WARNING:loren_frank_data_processing.core:gov, 2, 6 not processed\n",
      "WARNING:loren_frank_data_processing.core:gov, 2, 7 not processed\n",
      "WARNING:loren_frank_data_processing.core:Failed to load file: /data2/edeno/replay_trajectory_paper/src/../Raw-Data/Remy/EEG/remymarks37-02.mat\n",
      "WARNING:loren_frank_data_processing.core:Failed to load file: /data2/edeno/replay_trajectory_paper/src/../Raw-Data/Remy/EEG/remymarks37-03.mat\n",
      "WARNING:loren_frank_data_processing.core:Failed to load file: /data2/edeno/replay_trajectory_paper/src/../Raw-Data/Remy/EEG/remymarks37-04.mat\n",
      "WARNING:loren_frank_data_processing.core:Failed to load file: /data2/edeno/replay_trajectory_paper/src/../Raw-Data/Remy/EEG/remymarks37-06.mat\n",
      "WARNING:loren_frank_data_processing.core:Failed to load file: /data2/edeno/replay_trajectory_paper/src/../Raw-Data/Remy/EEG/remymarks37-07.mat\n",
      "WARNING:loren_frank_data_processing.core:Failed to load file: /data2/edeno/replay_trajectory_paper/src/../Raw-Data/Remy/EEG/remymarks37-09.mat\n",
      "WARNING:loren_frank_data_processing.core:Failed to load file: /data2/edeno/replay_trajectory_paper/src/../Raw-Data/Remy/EEG/remymarks37-10.mat\n",
      "WARNING:loren_frank_data_processing.core:Failed to load file: /data2/edeno/replay_trajectory_paper/src/../Raw-Data/Remy/EEG/remymarks37-11.mat\n",
      "WARNING:loren_frank_data_processing.core:Failed to load file: /data2/edeno/replay_trajectory_paper/src/../Raw-Data/Remy/EEG/remymarks37-12.mat\n",
      "WARNING:loren_frank_data_processing.core:Failed to load file: /data2/edeno/replay_trajectory_paper/src/../Raw-Data/Remy/EEG/remymarks37-13.mat\n",
      "WARNING:loren_frank_data_processing.core:Failed to load file: /data2/edeno/replay_trajectory_paper/src/../Raw-Data/Remy/EEG/remymarks37-14.mat\n",
      "WARNING:loren_frank_data_processing.core:Failed to load file: /data2/edeno/replay_trajectory_paper/src/../Raw-Data/Remy/EEG/remymarks37-15.mat\n",
      "WARNING:loren_frank_data_processing.core:Failed to load file: /data2/edeno/replay_trajectory_paper/src/../Raw-Data/Remy/EEG/remymarks37-17.mat\n",
      "WARNING:loren_frank_data_processing.core:Failed to load file: /data2/edeno/replay_trajectory_paper/src/../Raw-Data/Remy/EEG/remymarks37-19.mat\n",
      "WARNING:loren_frank_data_processing.core:Failed to load file: /data2/edeno/replay_trajectory_paper/src/../Raw-Data/Remy/EEG/remymarks37-20.mat\n",
      "WARNING:loren_frank_data_processing.core:Failed to load file: /data2/edeno/replay_trajectory_paper/src/../Raw-Data/Remy/EEG/remymarks37-21.mat\n",
      "WARNING:loren_frank_data_processing.core:Failed to load file: /data2/edeno/replay_trajectory_paper/src/../Raw-Data/Remy/EEG/remymarks37-22.mat\n",
      "WARNING:loren_frank_data_processing.core:Failed to load file: /data2/edeno/replay_trajectory_paper/src/../Raw-Data/Remy/EEG/remymarks37-23.mat\n",
      "WARNING:loren_frank_data_processing.core:Failed to load file: /data2/edeno/replay_trajectory_paper/src/../Raw-Data/Remy/EEG/remymarks37-24.mat\n",
      "WARNING:loren_frank_data_processing.core:Failed to load file: /data2/edeno/replay_trajectory_paper/src/../Raw-Data/Remy/EEG/remymarks37-25.mat\n",
      "WARNING:loren_frank_data_processing.core:Failed to load file: /data2/edeno/replay_trajectory_paper/src/../Raw-Data/Remy/EEG/remymarks37-26.mat\n",
      "WARNING:loren_frank_data_processing.core:Failed to load file: /data2/edeno/replay_trajectory_paper/src/../Raw-Data/Remy/EEG/remymarks37-28.mat\n",
      "WARNING:loren_frank_data_processing.core:Failed to load file: /data2/edeno/replay_trajectory_paper/src/../Raw-Data/Remy/EEG/remymarks37-29.mat\n",
      "WARNING:loren_frank_data_processing.core:Failed to load file: /data2/edeno/replay_trajectory_paper/src/../Raw-Data/Remy/EEG/remymarks37-30.mat\n",
      "INFO:src.load_data:Finding ripple times...\n",
      "WARNING:loren_frank_data_processing.core:Failed to load file: /data2/edeno/replay_trajectory_paper/src/../Raw-Data/Remy/remyDIO37.mat\n",
      "WARNING:loren_frank_data_processing.core:No DIO file found, using distance from well to segment trials\n",
      "WARNING:loren_frank_data_processing.core:Failed to load file: /data2/edeno/replay_trajectory_paper/src/../Raw-Data/Remy/remyDIO37.mat\n",
      "WARNING:loren_frank_data_processing.core:No DIO file found, inferring correct inbound/outbound from task rules\n",
      "INFO:replay_trajectory_classification.classifier:Fitting initial conditions...\n",
      "INFO:replay_trajectory_classification.classifier:Fitting state transition...\n",
      "INFO:replay_trajectory_classification.classifier:Fitting multiunits...\n",
      "INFO:root:ClusterlessClassifier(continuous_transition_types=[['w_track_1D_random_walk_minus_identity',\n",
      "                                                    'w_track_1D_inverse_random_walk',\n",
      "                                                    'identity'],\n",
      "                                                   ['uniform',\n",
      "                                                    'w_track_1D_inverse_random_walk',\n",
      "                                                    'uniform'],\n",
      "                                                   ['w_track_1D_random_walk_minus_identity',\n",
      "                                                    'w_track_1D_inverse_random_walk',\n",
      "                                                    'identity']],\n",
      "                      discrete_transition_diag=0.999,\n",
      "                      discrete_transition_type='strong_diagona...\n",
      "                      initial_conditions_type='uniform_on_track',\n",
      "                      model=<class 'replay_trajectory_classification.misc.NumbaKDE'>,\n",
      "                      model_kwargs={'bandwidth': array([24., 24., 24., 24.,  5.,  5.])},\n",
      "                      movement_var=4.0,\n",
      "                      occupancy_kwargs={'bandwidth': array([24., 24., 24., 24.,  5.,  5.])},\n",
      "                      occupancy_model=<class 'replay_trajectory_classification.misc.NumbaKDE'>,\n",
      "                      place_bin_size=2.0, position_range=None, replay_speed=1)\n"
     ]
    },
    {
     "data": {
      "application/vnd.jupyter.widget-view+json": {
       "model_id": "1e61ac78e36742beb6466169ec506305",
       "version_major": 2,
       "version_minor": 0
      },
      "text/plain": [
       "HBox(children=(IntProgress(value=0, description='ripple figures', max=3, style=ProgressStyle(description_width…"
      ]
     },
     "metadata": {},
     "output_type": "display_data"
    },
    {
     "name": "stdout",
     "output_type": "stream",
     "text": [
      "\n"
     ]
    }
   ],
   "source": [
    "epoch_key = 'remy', 37, 4\n",
    "ripple_list = [50, 51, 45]\n",
    "\n",
    "replot_clusterless_ripple_decode_1D(epoch_key, ripple_list, figure_format='pdf')"
   ]
  },
  {
   "cell_type": "code",
   "execution_count": 32,
   "metadata": {},
   "outputs": [
    {
     "name": "stderr",
     "output_type": "stream",
     "text": [
      "INFO:root:Loading data...\n",
      "WARNING:loren_frank_data_processing.core:Failed to load file: /data2/edeno/replay_trajectory_paper/src/../Raw-Data/Remy/remyDIO35.mat\n",
      "WARNING:loren_frank_data_processing.core:No DIO file found, using distance from well to segment trials\n",
      "WARNING:loren_frank_data_processing.core:Failed to load file: /data2/edeno/replay_trajectory_paper/src/../Raw-Data/Remy/remyDIO35.mat\n",
      "WARNING:loren_frank_data_processing.core:No DIO file found, inferring correct inbound/outbound from task rules\n",
      "WARNING:loren_frank_data_processing.core:dav, 1, 4 not processed\n",
      "WARNING:loren_frank_data_processing.core:egy, 12, 1 not processed\n",
      "WARNING:loren_frank_data_processing.core:egy, 12, 2 not processed\n",
      "WARNING:loren_frank_data_processing.core:egy, 12, 3 not processed\n",
      "WARNING:loren_frank_data_processing.core:egy, 12, 4 not processed\n",
      "WARNING:loren_frank_data_processing.core:egy, 12, 5 not processed\n",
      "WARNING:loren_frank_data_processing.core:egy, 12, 6 not processed\n",
      "WARNING:loren_frank_data_processing.core:egy, 12, 7 not processed\n",
      "WARNING:loren_frank_data_processing.core:egy, 12, 8 not processed\n",
      "WARNING:loren_frank_data_processing.core:fra, 4, 1 not processed\n",
      "WARNING:loren_frank_data_processing.core:gov, 2, 3 not processed\n",
      "WARNING:loren_frank_data_processing.core:gov, 2, 4 not processed\n",
      "WARNING:loren_frank_data_processing.core:gov, 2, 5 not processed\n",
      "WARNING:loren_frank_data_processing.core:gov, 2, 6 not processed\n",
      "WARNING:loren_frank_data_processing.core:gov, 2, 7 not processed\n",
      "WARNING:loren_frank_data_processing.core:Failed to load file: /data2/edeno/replay_trajectory_paper/src/../Raw-Data/Remy/EEG/remymarks35-02.mat\n",
      "WARNING:loren_frank_data_processing.core:Failed to load file: /data2/edeno/replay_trajectory_paper/src/../Raw-Data/Remy/EEG/remymarks35-03.mat\n",
      "WARNING:loren_frank_data_processing.core:Failed to load file: /data2/edeno/replay_trajectory_paper/src/../Raw-Data/Remy/EEG/remymarks35-04.mat\n",
      "WARNING:loren_frank_data_processing.core:Failed to load file: /data2/edeno/replay_trajectory_paper/src/../Raw-Data/Remy/EEG/remymarks35-06.mat\n",
      "WARNING:loren_frank_data_processing.core:Failed to load file: /data2/edeno/replay_trajectory_paper/src/../Raw-Data/Remy/EEG/remymarks35-07.mat\n",
      "WARNING:loren_frank_data_processing.core:Failed to load file: /data2/edeno/replay_trajectory_paper/src/../Raw-Data/Remy/EEG/remymarks35-09.mat\n",
      "WARNING:loren_frank_data_processing.core:Failed to load file: /data2/edeno/replay_trajectory_paper/src/../Raw-Data/Remy/EEG/remymarks35-10.mat\n",
      "WARNING:loren_frank_data_processing.core:Failed to load file: /data2/edeno/replay_trajectory_paper/src/../Raw-Data/Remy/EEG/remymarks35-11.mat\n",
      "WARNING:loren_frank_data_processing.core:Failed to load file: /data2/edeno/replay_trajectory_paper/src/../Raw-Data/Remy/EEG/remymarks35-12.mat\n",
      "WARNING:loren_frank_data_processing.core:Failed to load file: /data2/edeno/replay_trajectory_paper/src/../Raw-Data/Remy/EEG/remymarks35-13.mat\n",
      "WARNING:loren_frank_data_processing.core:Failed to load file: /data2/edeno/replay_trajectory_paper/src/../Raw-Data/Remy/EEG/remymarks35-14.mat\n",
      "WARNING:loren_frank_data_processing.core:Failed to load file: /data2/edeno/replay_trajectory_paper/src/../Raw-Data/Remy/EEG/remymarks35-15.mat\n",
      "WARNING:loren_frank_data_processing.core:Failed to load file: /data2/edeno/replay_trajectory_paper/src/../Raw-Data/Remy/EEG/remymarks35-17.mat\n",
      "WARNING:loren_frank_data_processing.core:Failed to load file: /data2/edeno/replay_trajectory_paper/src/../Raw-Data/Remy/EEG/remymarks35-19.mat\n",
      "WARNING:loren_frank_data_processing.core:Failed to load file: /data2/edeno/replay_trajectory_paper/src/../Raw-Data/Remy/EEG/remymarks35-20.mat\n",
      "WARNING:loren_frank_data_processing.core:Failed to load file: /data2/edeno/replay_trajectory_paper/src/../Raw-Data/Remy/EEG/remymarks35-21.mat\n",
      "WARNING:loren_frank_data_processing.core:Failed to load file: /data2/edeno/replay_trajectory_paper/src/../Raw-Data/Remy/EEG/remymarks35-22.mat\n",
      "WARNING:loren_frank_data_processing.core:Failed to load file: /data2/edeno/replay_trajectory_paper/src/../Raw-Data/Remy/EEG/remymarks35-23.mat\n",
      "WARNING:loren_frank_data_processing.core:Failed to load file: /data2/edeno/replay_trajectory_paper/src/../Raw-Data/Remy/EEG/remymarks35-24.mat\n",
      "WARNING:loren_frank_data_processing.core:Failed to load file: /data2/edeno/replay_trajectory_paper/src/../Raw-Data/Remy/EEG/remymarks35-25.mat\n",
      "WARNING:loren_frank_data_processing.core:Failed to load file: /data2/edeno/replay_trajectory_paper/src/../Raw-Data/Remy/EEG/remymarks35-26.mat\n",
      "WARNING:loren_frank_data_processing.core:Failed to load file: /data2/edeno/replay_trajectory_paper/src/../Raw-Data/Remy/EEG/remymarks35-28.mat\n",
      "WARNING:loren_frank_data_processing.core:Failed to load file: /data2/edeno/replay_trajectory_paper/src/../Raw-Data/Remy/EEG/remymarks35-29.mat\n",
      "WARNING:loren_frank_data_processing.core:Failed to load file: /data2/edeno/replay_trajectory_paper/src/../Raw-Data/Remy/EEG/remymarks35-30.mat\n",
      "INFO:src.load_data:Finding ripple times...\n",
      "WARNING:loren_frank_data_processing.core:Failed to load file: /data2/edeno/replay_trajectory_paper/src/../Raw-Data/Remy/remyDIO35.mat\n",
      "WARNING:loren_frank_data_processing.core:No DIO file found, using distance from well to segment trials\n",
      "WARNING:loren_frank_data_processing.core:Failed to load file: /data2/edeno/replay_trajectory_paper/src/../Raw-Data/Remy/remyDIO35.mat\n",
      "WARNING:loren_frank_data_processing.core:No DIO file found, inferring correct inbound/outbound from task rules\n",
      "INFO:replay_trajectory_classification.classifier:Fitting initial conditions...\n",
      "INFO:replay_trajectory_classification.classifier:Fitting state transition...\n",
      "INFO:replay_trajectory_classification.classifier:Fitting multiunits...\n",
      "INFO:root:ClusterlessClassifier(continuous_transition_types=[['w_track_1D_random_walk_minus_identity',\n",
      "                                                    'w_track_1D_inverse_random_walk',\n",
      "                                                    'identity'],\n",
      "                                                   ['uniform',\n",
      "                                                    'w_track_1D_inverse_random_walk',\n",
      "                                                    'uniform'],\n",
      "                                                   ['w_track_1D_random_walk_minus_identity',\n",
      "                                                    'w_track_1D_inverse_random_walk',\n",
      "                                                    'identity']],\n",
      "                      discrete_transition_diag=0.999,\n",
      "                      discrete_transition_type='strong_diagona...\n",
      "                      initial_conditions_type='uniform_on_track',\n",
      "                      model=<class 'replay_trajectory_classification.misc.NumbaKDE'>,\n",
      "                      model_kwargs={'bandwidth': array([24., 24., 24., 24.,  5.,  5.])},\n",
      "                      movement_var=4.0,\n",
      "                      occupancy_kwargs={'bandwidth': array([24., 24., 24., 24.,  5.,  5.])},\n",
      "                      occupancy_model=<class 'replay_trajectory_classification.misc.NumbaKDE'>,\n",
      "                      place_bin_size=2.0, position_range=None, replay_speed=1)\n"
     ]
    },
    {
     "data": {
      "application/vnd.jupyter.widget-view+json": {
       "model_id": "12163ea0a2ae4ce0b046a15706adf286",
       "version_major": 2,
       "version_minor": 0
      },
      "text/plain": [
       "HBox(children=(IntProgress(value=0, description='ripple figures', max=1, style=ProgressStyle(description_width…"
      ]
     },
     "metadata": {},
     "output_type": "display_data"
    },
    {
     "name": "stdout",
     "output_type": "stream",
     "text": [
      "\n"
     ]
    }
   ],
   "source": [
    "epoch_key = 'remy', 35, 4\n",
    "ripple_list = [267]\n",
    "\n",
    "replot_clusterless_ripple_decode_1D(epoch_key, ripple_list, figure_format='pdf')"
   ]
  },
  {
   "cell_type": "code",
   "execution_count": 36,
   "metadata": {},
   "outputs": [
    {
     "name": "stderr",
     "output_type": "stream",
     "text": [
      "INFO:root:Loading data...\n",
      "WARNING:loren_frank_data_processing.core:Failed to load file: /data2/edeno/replay_trajectory_paper/src/../Raw-Data/Bond/bonDIO03.mat\n",
      "WARNING:loren_frank_data_processing.core:No DIO file found, using distance from well to segment trials\n",
      "WARNING:loren_frank_data_processing.core:Failed to load file: /data2/edeno/replay_trajectory_paper/src/../Raw-Data/Bond/bonDIO03.mat\n",
      "WARNING:loren_frank_data_processing.core:No DIO file found, inferring correct inbound/outbound from task rules\n",
      "WARNING:loren_frank_data_processing.core:dav, 1, 4 not processed\n",
      "WARNING:loren_frank_data_processing.core:egy, 12, 1 not processed\n",
      "WARNING:loren_frank_data_processing.core:egy, 12, 2 not processed\n",
      "WARNING:loren_frank_data_processing.core:egy, 12, 3 not processed\n",
      "WARNING:loren_frank_data_processing.core:egy, 12, 4 not processed\n",
      "WARNING:loren_frank_data_processing.core:egy, 12, 5 not processed\n",
      "WARNING:loren_frank_data_processing.core:egy, 12, 6 not processed\n",
      "WARNING:loren_frank_data_processing.core:egy, 12, 7 not processed\n",
      "WARNING:loren_frank_data_processing.core:egy, 12, 8 not processed\n",
      "WARNING:loren_frank_data_processing.core:fra, 4, 1 not processed\n",
      "WARNING:loren_frank_data_processing.core:gov, 2, 3 not processed\n",
      "WARNING:loren_frank_data_processing.core:gov, 2, 4 not processed\n",
      "WARNING:loren_frank_data_processing.core:gov, 2, 5 not processed\n",
      "WARNING:loren_frank_data_processing.core:gov, 2, 6 not processed\n",
      "WARNING:loren_frank_data_processing.core:gov, 2, 7 not processed\n",
      "INFO:src.load_data:Finding ripple times...\n",
      "WARNING:loren_frank_data_processing.core:Failed to load file: /data2/edeno/replay_trajectory_paper/src/../Raw-Data/Bond/bonDIO03.mat\n",
      "WARNING:loren_frank_data_processing.core:No DIO file found, using distance from well to segment trials\n",
      "WARNING:loren_frank_data_processing.core:Failed to load file: /data2/edeno/replay_trajectory_paper/src/../Raw-Data/Bond/bonDIO03.mat\n",
      "WARNING:loren_frank_data_processing.core:No DIO file found, inferring correct inbound/outbound from task rules\n",
      "INFO:replay_trajectory_classification.classifier:Fitting initial conditions...\n",
      "INFO:replay_trajectory_classification.classifier:Fitting state transition...\n",
      "INFO:replay_trajectory_classification.classifier:Fitting multiunits...\n",
      "INFO:root:ClusterlessClassifier(continuous_transition_types=[['w_track_1D_random_walk_minus_identity',\n",
      "                                                    'w_track_1D_inverse_random_walk',\n",
      "                                                    'identity'],\n",
      "                                                   ['uniform',\n",
      "                                                    'w_track_1D_inverse_random_walk',\n",
      "                                                    'uniform'],\n",
      "                                                   ['w_track_1D_random_walk_minus_identity',\n",
      "                                                    'w_track_1D_inverse_random_walk',\n",
      "                                                    'identity']],\n",
      "                      discrete_transition_diag=0.999,\n",
      "                      discrete_transition_type='strong_diagona...\n",
      "                      initial_conditions_type='uniform_on_track',\n",
      "                      model=<class 'replay_trajectory_classification.misc.NumbaKDE'>,\n",
      "                      model_kwargs={'bandwidth': array([24., 24., 24., 24.,  5.,  5.])},\n",
      "                      movement_var=4.0,\n",
      "                      occupancy_kwargs={'bandwidth': array([24., 24., 24., 24.,  5.,  5.])},\n",
      "                      occupancy_model=<class 'replay_trajectory_classification.misc.NumbaKDE'>,\n",
      "                      place_bin_size=2.0, position_range=None, replay_speed=1)\n"
     ]
    },
    {
     "data": {
      "application/vnd.jupyter.widget-view+json": {
       "model_id": "e1020da26546491c980016f8e94a9bc0",
       "version_major": 2,
       "version_minor": 0
      },
      "text/plain": [
       "HBox(children=(IntProgress(value=0, description='ripple figures', max=5, style=ProgressStyle(description_width…"
      ]
     },
     "metadata": {},
     "output_type": "display_data"
    },
    {
     "name": "stdout",
     "output_type": "stream",
     "text": [
      "\n"
     ]
    }
   ],
   "source": [
    "epoch_key = 'bon', 3, 6\n",
    "ripple_list = [93, 144, 169, 181, 186]\n",
    "\n",
    "replot_clusterless_ripple_decode_1D(epoch_key, ripple_list, figure_format='pdf')"
   ]
  },
  {
   "cell_type": "code",
   "execution_count": 46,
   "metadata": {},
   "outputs": [
    {
     "name": "stderr",
     "output_type": "stream",
     "text": [
      "INFO:root:Loading data...\n",
      "WARNING:loren_frank_data_processing.core:Failed to load file: /data2/edeno/replay_trajectory_paper/src/../Raw-Data/Bond/bonDIO05.mat\n",
      "WARNING:loren_frank_data_processing.core:No DIO file found, using distance from well to segment trials\n",
      "WARNING:loren_frank_data_processing.core:Failed to load file: /data2/edeno/replay_trajectory_paper/src/../Raw-Data/Bond/bonDIO05.mat\n",
      "WARNING:loren_frank_data_processing.core:No DIO file found, inferring correct inbound/outbound from task rules\n",
      "WARNING:loren_frank_data_processing.core:dav, 1, 4 not processed\n",
      "WARNING:loren_frank_data_processing.core:egy, 12, 1 not processed\n",
      "WARNING:loren_frank_data_processing.core:egy, 12, 2 not processed\n",
      "WARNING:loren_frank_data_processing.core:egy, 12, 3 not processed\n",
      "WARNING:loren_frank_data_processing.core:egy, 12, 4 not processed\n",
      "WARNING:loren_frank_data_processing.core:egy, 12, 5 not processed\n",
      "WARNING:loren_frank_data_processing.core:egy, 12, 6 not processed\n",
      "WARNING:loren_frank_data_processing.core:egy, 12, 7 not processed\n",
      "WARNING:loren_frank_data_processing.core:egy, 12, 8 not processed\n",
      "WARNING:loren_frank_data_processing.core:fra, 4, 1 not processed\n",
      "WARNING:loren_frank_data_processing.core:gov, 2, 3 not processed\n",
      "WARNING:loren_frank_data_processing.core:gov, 2, 4 not processed\n",
      "WARNING:loren_frank_data_processing.core:gov, 2, 5 not processed\n",
      "WARNING:loren_frank_data_processing.core:gov, 2, 6 not processed\n",
      "WARNING:loren_frank_data_processing.core:gov, 2, 7 not processed\n",
      "INFO:src.load_data:Finding ripple times...\n",
      "WARNING:loren_frank_data_processing.core:Failed to load file: /data2/edeno/replay_trajectory_paper/src/../Raw-Data/Bond/bonDIO05.mat\n",
      "WARNING:loren_frank_data_processing.core:No DIO file found, using distance from well to segment trials\n",
      "WARNING:loren_frank_data_processing.core:Failed to load file: /data2/edeno/replay_trajectory_paper/src/../Raw-Data/Bond/bonDIO05.mat\n",
      "WARNING:loren_frank_data_processing.core:No DIO file found, inferring correct inbound/outbound from task rules\n",
      "INFO:replay_trajectory_classification.classifier:Fitting initial conditions...\n",
      "INFO:replay_trajectory_classification.classifier:Fitting state transition...\n",
      "INFO:replay_trajectory_classification.classifier:Fitting multiunits...\n",
      "INFO:root:ClusterlessClassifier(continuous_transition_types=[['w_track_1D_random_walk_minus_identity',\n",
      "                                                    'w_track_1D_inverse_random_walk',\n",
      "                                                    'identity'],\n",
      "                                                   ['uniform',\n",
      "                                                    'w_track_1D_inverse_random_walk',\n",
      "                                                    'uniform'],\n",
      "                                                   ['w_track_1D_random_walk_minus_identity',\n",
      "                                                    'w_track_1D_inverse_random_walk',\n",
      "                                                    'identity']],\n",
      "                      discrete_transition_diag=0.999,\n",
      "                      discrete_transition_type='strong_diagona...\n",
      "                      initial_conditions_type='uniform_on_track',\n",
      "                      model=<class 'replay_trajectory_classification.misc.NumbaKDE'>,\n",
      "                      model_kwargs={'bandwidth': array([24., 24., 24., 24.,  5.,  5.])},\n",
      "                      movement_var=4.0,\n",
      "                      occupancy_kwargs={'bandwidth': array([24., 24., 24., 24.,  5.,  5.])},\n",
      "                      occupancy_model=<class 'replay_trajectory_classification.misc.NumbaKDE'>,\n",
      "                      place_bin_size=2.0, position_range=None, replay_speed=1)\n"
     ]
    },
    {
     "data": {
      "application/vnd.jupyter.widget-view+json": {
       "model_id": "d2e4db3eaa874e9785afc0ed2e3987f3",
       "version_major": 2,
       "version_minor": 0
      },
      "text/plain": [
       "HBox(children=(IntProgress(value=0, description='ripple figures', max=1, style=ProgressStyle(description_width…"
      ]
     },
     "metadata": {},
     "output_type": "display_data"
    },
    {
     "name": "stdout",
     "output_type": "stream",
     "text": [
      "\n"
     ]
    }
   ],
   "source": [
    "epoch_key = 'bon', 5, 4\n",
    "ripple_list = [75]\n",
    "\n",
    "replot_clusterless_ripple_decode_1D(epoch_key, ripple_list, figure_format='pdf')"
   ]
  },
  {
   "cell_type": "code",
   "execution_count": 19,
   "metadata": {},
   "outputs": [],
   "source": [
    "def replot_sorted_spikes_ripple_decode_1D(epoch_key, ripple_list, figure_format='png'):\n",
    "    animal, day, epoch = epoch_key\n",
    "    data_type, dim = 'sorted_spikes', '1D'\n",
    "\n",
    "    logging.info('Loading data...')\n",
    "    data = load_data(epoch_key)\n",
    "\n",
    "    is_training = data['position_info'].speed > 4\n",
    "    position = data['position_info'].loc[:, 'linear_position']\n",
    "    track_labels = data['position_info'].arm_name\n",
    "\n",
    "    results = xr.open_dataset(\n",
    "        os.path.join(\n",
    "            PROCESSED_DATA_DIR, f'{animal}_{day:02}_{epoch:02}.nc'),\n",
    "        group=f'/{data_type}/{dim}/classifier/ripples/')\n",
    "    ripple_times = data['ripple_times'].loc[:, ['start_time', 'end_time']]\n",
    "    ripple_spikes = reshape_to_segments(data['spikes'], ripple_times)\n",
    "    classifier = SortedSpikesClassifier(\n",
    "        place_bin_size=place_bin_size, movement_var=movement_var,\n",
    "        replay_speed=replay_speed,\n",
    "        discrete_transition_diag=discrete_diag,\n",
    "        spike_model_penalty=spike_model_penalty, knot_spacing=knot_spacing,\n",
    "        continuous_transition_types=continuous_transition_types).fit(\n",
    "            position, data['spikes'], is_training=is_training,\n",
    "            track_labels=track_labels)\n",
    "    logging.info(classifier)\n",
    "\n",
    "    place_field_max = get_place_field_max(classifier)\n",
    "    linear_position_order = place_field_max.argsort(axis=0).squeeze()\n",
    "    ripple_position = reshape_to_segments(position, ripple_times)\n",
    "    for ripple_number in tqdm(ripple_list, desc='ripple figures'):\n",
    "        posterior = (\n",
    "            results\n",
    "            .acausal_posterior\n",
    "            .sel(ripple_number=ripple_number)\n",
    "            .dropna('time')\n",
    "            .assign_coords(\n",
    "                time=lambda ds: 1000 * ds.time / np.timedelta64(1, 's')))\n",
    "        plot_ripple_decode_1D(\n",
    "            posterior, ripple_position.loc[ripple_number],\n",
    "            ripple_spikes.loc[ripple_number], linear_position_order,\n",
    "            data['position_info'])\n",
    "        plt.suptitle(\n",
    "            f'ripple number = {animal}_{day:02d}_{epoch:02d}_'\n",
    "            f'{ripple_number:04d}')\n",
    "        fig_name = (f'{animal}_{day:02d}_{epoch:02d}_{ripple_number:04d}_'\n",
    "                    f'{data_type}_{dim}_acasual_classification.{figure_format}')\n",
    "        fig_name = os.path.join(\n",
    "            FIGURE_DIR, 'ripple_classifications', fig_name)\n",
    "        plt.savefig(fig_name, transparent=True, dpi=300, bbox_inches='tight')\n",
    "        plt.close(plt.gcf())"
   ]
  },
  {
   "cell_type": "code",
   "execution_count": 35,
   "metadata": {},
   "outputs": [
    {
     "name": "stderr",
     "output_type": "stream",
     "text": [
      "INFO:root:Loading data...\n",
      "WARNING:loren_frank_data_processing.core:Failed to load file: /data2/edeno/replay_trajectory_paper/src/../Raw-Data/Bond/bonDIO03.mat\n",
      "WARNING:loren_frank_data_processing.core:No DIO file found, using distance from well to segment trials\n",
      "WARNING:loren_frank_data_processing.core:Failed to load file: /data2/edeno/replay_trajectory_paper/src/../Raw-Data/Bond/bonDIO03.mat\n",
      "WARNING:loren_frank_data_processing.core:No DIO file found, inferring correct inbound/outbound from task rules\n",
      "WARNING:loren_frank_data_processing.core:dav, 1, 4 not processed\n",
      "WARNING:loren_frank_data_processing.core:egy, 12, 1 not processed\n",
      "WARNING:loren_frank_data_processing.core:egy, 12, 2 not processed\n",
      "WARNING:loren_frank_data_processing.core:egy, 12, 3 not processed\n",
      "WARNING:loren_frank_data_processing.core:egy, 12, 4 not processed\n",
      "WARNING:loren_frank_data_processing.core:egy, 12, 5 not processed\n",
      "WARNING:loren_frank_data_processing.core:egy, 12, 6 not processed\n",
      "WARNING:loren_frank_data_processing.core:egy, 12, 7 not processed\n",
      "WARNING:loren_frank_data_processing.core:egy, 12, 8 not processed\n",
      "WARNING:loren_frank_data_processing.core:fra, 4, 1 not processed\n",
      "WARNING:loren_frank_data_processing.core:gov, 2, 3 not processed\n",
      "WARNING:loren_frank_data_processing.core:gov, 2, 4 not processed\n",
      "WARNING:loren_frank_data_processing.core:gov, 2, 5 not processed\n",
      "WARNING:loren_frank_data_processing.core:gov, 2, 6 not processed\n",
      "WARNING:loren_frank_data_processing.core:gov, 2, 7 not processed\n",
      "INFO:src.load_data:Finding ripple times...\n",
      "WARNING:loren_frank_data_processing.core:Failed to load file: /data2/edeno/replay_trajectory_paper/src/../Raw-Data/Bond/bonDIO03.mat\n",
      "WARNING:loren_frank_data_processing.core:No DIO file found, using distance from well to segment trials\n",
      "WARNING:loren_frank_data_processing.core:Failed to load file: /data2/edeno/replay_trajectory_paper/src/../Raw-Data/Bond/bonDIO03.mat\n",
      "WARNING:loren_frank_data_processing.core:No DIO file found, inferring correct inbound/outbound from task rules\n",
      "INFO:replay_trajectory_classification.classifier:Fitting initial conditions...\n",
      "INFO:replay_trajectory_classification.classifier:Fitting state transition...\n",
      "INFO:replay_trajectory_classification.classifier:Fitting place fields...\n",
      "INFO:root:SortedSpikesClassifier(continuous_transition_types=[['w_track_1D_random_walk_minus_identity',\n",
      "                                                     'w_track_1D_inverse_random_walk',\n",
      "                                                     'identity'],\n",
      "                                                    ['uniform',\n",
      "                                                     'w_track_1D_inverse_random_walk',\n",
      "                                                     'uniform'],\n",
      "                                                    ['w_track_1D_random_walk_minus_identity',\n",
      "                                                     'w_track_1D_inverse_random_walk',\n",
      "                                                     'identity']],\n",
      "                       discrete_transition_diag=0.999,\n",
      "                       discrete_transition_type='strong_diagonal',\n",
      "                       infer_track_interior=True,\n",
      "                       initial_conditions_type='uniform_on_track',\n",
      "                       knot_spacing=5, movement_var=4.0, place_bin_size=2.0,\n",
      "                       position_range=None, replay_speed=1,\n",
      "                       spike_model_penalty=0.5)\n"
     ]
    },
    {
     "data": {
      "application/vnd.jupyter.widget-view+json": {
       "model_id": "6f311f11697147e6a89262a81c0e751c",
       "version_major": 2,
       "version_minor": 0
      },
      "text/plain": [
       "HBox(children=(IntProgress(value=0, description='ripple figures', max=3, style=ProgressStyle(description_width…"
      ]
     },
     "metadata": {},
     "output_type": "display_data"
    },
    {
     "name": "stdout",
     "output_type": "stream",
     "text": [
      "\n"
     ]
    }
   ],
   "source": [
    "epoch_key = 'bon', 3, 2\n",
    "ripple_list = [61, 111, 87]\n",
    "\n",
    "replot_sorted_spikes_ripple_decode_1D(epoch_key, ripple_list, figure_format='pdf')"
   ]
  },
  {
   "cell_type": "code",
   "execution_count": 18,
   "metadata": {},
   "outputs": [],
   "source": [
    "def clusterless_analysis_2D(epoch_key, ripple_list, figure_format='png'):\n",
    "    continuous_transition_types = (\n",
    "        [['random_walk_minus_identity', 'inverse_random_walk', 'identity'],  # noqa\n",
    "         ['uniform',                     'inverse_random_walk', 'uniform'],   # noqa\n",
    "         ['random_walk_minus_identity', 'inverse_random_walk', 'identity']])  # noqa\n",
    "    animal, day, epoch = epoch_key\n",
    "    data_type, dim = 'clusterless', '2D'\n",
    "\n",
    "    logging.info('Loading data...')\n",
    "    data = load_data(epoch_key)\n",
    "    position = data['position_info'].loc[:, ['x_position', 'y_position']]\n",
    "    is_training = data['position_info'].speed > 4\n",
    "    logging.info('Fitting classifier...')\n",
    "    classifier = ClusterlessClassifier(\n",
    "        place_bin_size=place_bin_size, movement_var=movement_var,\n",
    "        replay_speed=replay_speed,\n",
    "        discrete_transition_diag=discrete_diag,\n",
    "        continuous_transition_types=continuous_transition_types,\n",
    "        model=model, model_kwargs=model_kwargs).fit(\n",
    "        position, data['multiunit'], is_training=is_training)\n",
    "    logging.info(classifier)\n",
    "    # Decode\n",
    "    ripple_times = data['ripple_times'].loc[:, ['start_time', 'end_time']]\n",
    "    spikes = (((data['multiunit'].sum('features') > 0) * 1.0)\n",
    "              .to_dataframe(name='spikes').unstack())\n",
    "    spikes.columns = data['tetrode_info'].tetrode_id\n",
    "    ripple_spikes = reshape_to_segments(spikes, ripple_times)\n",
    "\n",
    "    results = []\n",
    "    for ripple_number in tqdm(ripple_list, desc='ripple'):\n",
    "        time_slice = slice(*data['ripple_times'].loc[\n",
    "            ripple_number, ['start_time', 'end_time']])\n",
    "        m = data['multiunit'].sel(time=time_slice)\n",
    "        results.append(classifier.predict(m, m.time - m.time[0]))\n",
    "    results = xr.concat(results, dim=data['ripple_times'].loc[ripple_list].index)\n",
    "    results = results.assign_coords(\n",
    "        state=lambda ds: ds.state.to_index()\n",
    "        .map(TRANSITION_TO_CATEGORY))\n",
    "\n",
    "    logging.info('Plotting ripple figures...')\n",
    "\n",
    "    place_field_max = get_place_field_max(classifier)\n",
    "    linear_position_order, linear_place_field_max = get_linear_position_order(\n",
    "        data['position_info'], place_field_max)\n",
    "\n",
    "    ripple_position = reshape_to_segments(position, ripple_times)\n",
    "\n",
    "    for ripple_number in tqdm(ripple_list, desc='ripple figures'):\n",
    "        posterior = (\n",
    "            results\n",
    "            .acausal_posterior\n",
    "            .sel(ripple_number=ripple_number)\n",
    "            .dropna('time')\n",
    "            .assign_coords(\n",
    "                time=lambda ds: 1000 * ds.time / np.timedelta64(1, 's')))\n",
    "        plot_ripple_decode_2D(\n",
    "            posterior, ripple_position.loc[ripple_number],\n",
    "            ripple_spikes.loc[ripple_number], position, linear_position_order,\n",
    "            spike_label='Tetrodes')\n",
    "        plt.suptitle(\n",
    "            f'ripple number = {animal}_{day:02d}_{epoch:02d}_'\n",
    "            f'{ripple_number:04d}')\n",
    "        fig_name = (f'{animal}_{day:02d}_{epoch:02d}_{ripple_number:04d}_'\n",
    "                    f'{data_type}_{dim}_acasual_classification.{figure_format}')\n",
    "        fig_name = os.path.join(\n",
    "            FIGURE_DIR, 'ripple_classifications', fig_name)\n",
    "        plt.savefig(fig_name, transparent=True, dpi=300, bbox_inches='tight')\n",
    "        plt.close(plt.gcf())\n",
    "\n",
    "    logging.info('Done...')"
   ]
  },
  {
   "cell_type": "code",
   "execution_count": 65,
   "metadata": {},
   "outputs": [
    {
     "name": "stderr",
     "output_type": "stream",
     "text": [
      "INFO:root:Loading data...\n",
      "WARNING:loren_frank_data_processing.core:Failed to load file: /data2/edeno/replay_trajectory_paper/src/../Raw-Data/Bond/bonDIO04.mat\n",
      "WARNING:loren_frank_data_processing.core:No DIO file found, using distance from well to segment trials\n",
      "WARNING:loren_frank_data_processing.core:Failed to load file: /data2/edeno/replay_trajectory_paper/src/../Raw-Data/Bond/bonDIO04.mat\n",
      "WARNING:loren_frank_data_processing.core:No DIO file found, inferring correct inbound/outbound from task rules\n",
      "WARNING:loren_frank_data_processing.core:dav, 1, 4 not processed\n",
      "WARNING:loren_frank_data_processing.core:egy, 12, 1 not processed\n",
      "WARNING:loren_frank_data_processing.core:egy, 12, 2 not processed\n",
      "WARNING:loren_frank_data_processing.core:egy, 12, 3 not processed\n",
      "WARNING:loren_frank_data_processing.core:egy, 12, 4 not processed\n",
      "WARNING:loren_frank_data_processing.core:egy, 12, 5 not processed\n",
      "WARNING:loren_frank_data_processing.core:egy, 12, 6 not processed\n",
      "WARNING:loren_frank_data_processing.core:egy, 12, 7 not processed\n",
      "WARNING:loren_frank_data_processing.core:egy, 12, 8 not processed\n",
      "WARNING:loren_frank_data_processing.core:fra, 4, 1 not processed\n",
      "WARNING:loren_frank_data_processing.core:gov, 2, 3 not processed\n",
      "WARNING:loren_frank_data_processing.core:gov, 2, 4 not processed\n",
      "WARNING:loren_frank_data_processing.core:gov, 2, 5 not processed\n",
      "WARNING:loren_frank_data_processing.core:gov, 2, 6 not processed\n",
      "WARNING:loren_frank_data_processing.core:gov, 2, 7 not processed\n",
      "INFO:src.load_data:Finding ripple times...\n",
      "WARNING:loren_frank_data_processing.core:Failed to load file: /data2/edeno/replay_trajectory_paper/src/../Raw-Data/Bond/bonDIO04.mat\n",
      "WARNING:loren_frank_data_processing.core:No DIO file found, using distance from well to segment trials\n",
      "WARNING:loren_frank_data_processing.core:Failed to load file: /data2/edeno/replay_trajectory_paper/src/../Raw-Data/Bond/bonDIO04.mat\n",
      "WARNING:loren_frank_data_processing.core:No DIO file found, inferring correct inbound/outbound from task rules\n",
      "INFO:root:Fitting classifier...\n",
      "INFO:replay_trajectory_classification.classifier:Fitting initial conditions...\n",
      "INFO:replay_trajectory_classification.classifier:Fitting state transition...\n",
      "INFO:replay_trajectory_classification.classifier:Fitting multiunits...\n",
      "INFO:root:ClusterlessClassifier(continuous_transition_types=[['random_walk_minus_identity',\n",
      "                                                    'inverse_random_walk',\n",
      "                                                    'identity'],\n",
      "                                                   ['uniform',\n",
      "                                                    'inverse_random_walk',\n",
      "                                                    'uniform'],\n",
      "                                                   ['random_walk_minus_identity',\n",
      "                                                    'inverse_random_walk',\n",
      "                                                    'identity']],\n",
      "                      discrete_transition_diag=0.999,\n",
      "                      discrete_transition_type='strong_diagonal',\n",
      "                      infer_track_interior=True,\n",
      "                      initial_conditions_type='uniform_on_track',\n",
      "                      model=<class 'replay_trajectory_classification.misc.NumbaKDE'>,\n",
      "                      model_kwargs={'bandwidth': array([24., 24., 24., 24.,  5.,  5.])},\n",
      "                      movement_var=4.0,\n",
      "                      occupancy_kwargs={'bandwidth': array([24., 24., 24., 24.,  5.,  5.])},\n",
      "                      occupancy_model=<class 'replay_trajectory_classification.misc.NumbaKDE'>,\n",
      "                      place_bin_size=2.0, position_range=None, replay_speed=1)\n"
     ]
    },
    {
     "data": {
      "application/vnd.jupyter.widget-view+json": {
       "model_id": "a0456d12f31d478296cae6b0430cd104",
       "version_major": 2,
       "version_minor": 0
      },
      "text/plain": [
       "HBox(children=(IntProgress(value=0, description='ripple', max=4, style=ProgressStyle(description_width='initia…"
      ]
     },
     "metadata": {},
     "output_type": "display_data"
    },
    {
     "name": "stderr",
     "output_type": "stream",
     "text": [
      "INFO:root:Plotting ripple figures...\n"
     ]
    },
    {
     "name": "stdout",
     "output_type": "stream",
     "text": [
      "\n"
     ]
    },
    {
     "data": {
      "application/vnd.jupyter.widget-view+json": {
       "model_id": "47620fe4378345999bd6d3c1d57788c7",
       "version_major": 2,
       "version_minor": 0
      },
      "text/plain": [
       "HBox(children=(IntProgress(value=0, description='ripple figures', max=4, style=ProgressStyle(description_width…"
      ]
     },
     "metadata": {},
     "output_type": "display_data"
    },
    {
     "name": "stderr",
     "output_type": "stream",
     "text": [
      "INFO:root:Done...\n"
     ]
    },
    {
     "name": "stdout",
     "output_type": "stream",
     "text": [
      "\n"
     ]
    }
   ],
   "source": [
    "epoch_key = 'bon', 4, 2\n",
    "ripple_list = [106, 121, 112, 265]\n",
    "\n",
    "clusterless_analysis_2D(epoch_key, ripple_list, figure_format='pdf')"
   ]
  },
  {
   "cell_type": "code",
   "execution_count": 61,
   "metadata": {},
   "outputs": [
    {
     "name": "stderr",
     "output_type": "stream",
     "text": [
      "INFO:root:Loading data...\n",
      "WARNING:loren_frank_data_processing.core:Failed to load file: /data2/edeno/replay_trajectory_paper/src/../Raw-Data/Bond/bonDIO04.mat\n",
      "WARNING:loren_frank_data_processing.core:No DIO file found, using distance from well to segment trials\n",
      "WARNING:loren_frank_data_processing.core:Failed to load file: /data2/edeno/replay_trajectory_paper/src/../Raw-Data/Bond/bonDIO04.mat\n",
      "WARNING:loren_frank_data_processing.core:No DIO file found, inferring correct inbound/outbound from task rules\n",
      "WARNING:loren_frank_data_processing.core:dav, 1, 4 not processed\n",
      "WARNING:loren_frank_data_processing.core:egy, 12, 1 not processed\n",
      "WARNING:loren_frank_data_processing.core:egy, 12, 2 not processed\n",
      "WARNING:loren_frank_data_processing.core:egy, 12, 3 not processed\n",
      "WARNING:loren_frank_data_processing.core:egy, 12, 4 not processed\n",
      "WARNING:loren_frank_data_processing.core:egy, 12, 5 not processed\n",
      "WARNING:loren_frank_data_processing.core:egy, 12, 6 not processed\n",
      "WARNING:loren_frank_data_processing.core:egy, 12, 7 not processed\n",
      "WARNING:loren_frank_data_processing.core:egy, 12, 8 not processed\n",
      "WARNING:loren_frank_data_processing.core:fra, 4, 1 not processed\n",
      "WARNING:loren_frank_data_processing.core:gov, 2, 3 not processed\n",
      "WARNING:loren_frank_data_processing.core:gov, 2, 4 not processed\n",
      "WARNING:loren_frank_data_processing.core:gov, 2, 5 not processed\n",
      "WARNING:loren_frank_data_processing.core:gov, 2, 6 not processed\n",
      "WARNING:loren_frank_data_processing.core:gov, 2, 7 not processed\n",
      "INFO:src.load_data:Finding ripple times...\n",
      "WARNING:loren_frank_data_processing.core:Failed to load file: /data2/edeno/replay_trajectory_paper/src/../Raw-Data/Bond/bonDIO04.mat\n",
      "WARNING:loren_frank_data_processing.core:No DIO file found, using distance from well to segment trials\n",
      "WARNING:loren_frank_data_processing.core:Failed to load file: /data2/edeno/replay_trajectory_paper/src/../Raw-Data/Bond/bonDIO04.mat\n",
      "WARNING:loren_frank_data_processing.core:No DIO file found, inferring correct inbound/outbound from task rules\n",
      "INFO:replay_trajectory_classification.classifier:Fitting initial conditions...\n",
      "INFO:replay_trajectory_classification.classifier:Fitting state transition...\n",
      "INFO:replay_trajectory_classification.classifier:Fitting multiunits...\n",
      "INFO:root:ClusterlessClassifier(continuous_transition_types=[['w_track_1D_random_walk_minus_identity',\n",
      "                                                    'w_track_1D_inverse_random_walk',\n",
      "                                                    'identity'],\n",
      "                                                   ['uniform',\n",
      "                                                    'w_track_1D_inverse_random_walk',\n",
      "                                                    'uniform'],\n",
      "                                                   ['w_track_1D_random_walk_minus_identity',\n",
      "                                                    'w_track_1D_inverse_random_walk',\n",
      "                                                    'identity']],\n",
      "                      discrete_transition_diag=0.999,\n",
      "                      discrete_transition_type='strong_diagona...\n",
      "                      initial_conditions_type='uniform_on_track',\n",
      "                      model=<class 'replay_trajectory_classification.misc.NumbaKDE'>,\n",
      "                      model_kwargs={'bandwidth': array([24., 24., 24., 24.,  5.,  5.])},\n",
      "                      movement_var=4.0,\n",
      "                      occupancy_kwargs={'bandwidth': array([24., 24., 24., 24.,  5.,  5.])},\n",
      "                      occupancy_model=<class 'replay_trajectory_classification.misc.NumbaKDE'>,\n",
      "                      place_bin_size=2.0, position_range=None, replay_speed=1)\n"
     ]
    },
    {
     "data": {
      "application/vnd.jupyter.widget-view+json": {
       "model_id": "097a71fb9c60416285c23b47f1f3cd89",
       "version_major": 2,
       "version_minor": 0
      },
      "text/plain": [
       "HBox(children=(IntProgress(value=0, description='ripple figures', max=4, style=ProgressStyle(description_width…"
      ]
     },
     "metadata": {},
     "output_type": "display_data"
    },
    {
     "name": "stdout",
     "output_type": "stream",
     "text": [
      "\n"
     ]
    }
   ],
   "source": [
    "epoch_key = 'bon', 4, 2\n",
    "ripple_list = [106, 121, 112, 265]\n",
    "\n",
    "replot_clusterless_ripple_decode_1D(epoch_key, ripple_list, figure_format='pdf')"
   ]
  },
  {
   "cell_type": "code",
   "execution_count": 66,
   "metadata": {},
   "outputs": [
    {
     "name": "stderr",
     "output_type": "stream",
     "text": [
      "INFO:root:Loading data...\n",
      "WARNING:loren_frank_data_processing.core:Failed to load file: /data2/edeno/replay_trajectory_paper/src/../Raw-Data/Bond/bonDIO04.mat\n",
      "WARNING:loren_frank_data_processing.core:No DIO file found, using distance from well to segment trials\n",
      "WARNING:loren_frank_data_processing.core:Failed to load file: /data2/edeno/replay_trajectory_paper/src/../Raw-Data/Bond/bonDIO04.mat\n",
      "WARNING:loren_frank_data_processing.core:No DIO file found, inferring correct inbound/outbound from task rules\n",
      "WARNING:loren_frank_data_processing.core:dav, 1, 4 not processed\n",
      "WARNING:loren_frank_data_processing.core:egy, 12, 1 not processed\n",
      "WARNING:loren_frank_data_processing.core:egy, 12, 2 not processed\n",
      "WARNING:loren_frank_data_processing.core:egy, 12, 3 not processed\n",
      "WARNING:loren_frank_data_processing.core:egy, 12, 4 not processed\n",
      "WARNING:loren_frank_data_processing.core:egy, 12, 5 not processed\n",
      "WARNING:loren_frank_data_processing.core:egy, 12, 6 not processed\n",
      "WARNING:loren_frank_data_processing.core:egy, 12, 7 not processed\n",
      "WARNING:loren_frank_data_processing.core:egy, 12, 8 not processed\n",
      "WARNING:loren_frank_data_processing.core:fra, 4, 1 not processed\n",
      "WARNING:loren_frank_data_processing.core:gov, 2, 3 not processed\n",
      "WARNING:loren_frank_data_processing.core:gov, 2, 4 not processed\n",
      "WARNING:loren_frank_data_processing.core:gov, 2, 5 not processed\n",
      "WARNING:loren_frank_data_processing.core:gov, 2, 6 not processed\n",
      "WARNING:loren_frank_data_processing.core:gov, 2, 7 not processed\n",
      "INFO:src.load_data:Finding ripple times...\n",
      "WARNING:loren_frank_data_processing.core:Failed to load file: /data2/edeno/replay_trajectory_paper/src/../Raw-Data/Bond/bonDIO04.mat\n",
      "WARNING:loren_frank_data_processing.core:No DIO file found, using distance from well to segment trials\n",
      "WARNING:loren_frank_data_processing.core:Failed to load file: /data2/edeno/replay_trajectory_paper/src/../Raw-Data/Bond/bonDIO04.mat\n",
      "WARNING:loren_frank_data_processing.core:No DIO file found, inferring correct inbound/outbound from task rules\n",
      "INFO:replay_trajectory_classification.classifier:Fitting initial conditions...\n",
      "INFO:replay_trajectory_classification.classifier:Fitting state transition...\n",
      "INFO:replay_trajectory_classification.classifier:Fitting place fields...\n",
      "INFO:root:SortedSpikesClassifier(continuous_transition_types=[['w_track_1D_random_walk_minus_identity',\n",
      "                                                     'w_track_1D_inverse_random_walk',\n",
      "                                                     'identity'],\n",
      "                                                    ['uniform',\n",
      "                                                     'w_track_1D_inverse_random_walk',\n",
      "                                                     'uniform'],\n",
      "                                                    ['w_track_1D_random_walk_minus_identity',\n",
      "                                                     'w_track_1D_inverse_random_walk',\n",
      "                                                     'identity']],\n",
      "                       discrete_transition_diag=0.999,\n",
      "                       discrete_transition_type='strong_diagonal',\n",
      "                       infer_track_interior=True,\n",
      "                       initial_conditions_type='uniform_on_track',\n",
      "                       knot_spacing=5, movement_var=4.0, place_bin_size=2.0,\n",
      "                       position_range=None, replay_speed=1,\n",
      "                       spike_model_penalty=0.5)\n"
     ]
    },
    {
     "data": {
      "application/vnd.jupyter.widget-view+json": {
       "model_id": "969c77baee784832b005d40a2150c2f1",
       "version_major": 2,
       "version_minor": 0
      },
      "text/plain": [
       "HBox(children=(IntProgress(value=0, description='ripple figures', max=1, style=ProgressStyle(description_width…"
      ]
     },
     "metadata": {},
     "output_type": "display_data"
    },
    {
     "name": "stdout",
     "output_type": "stream",
     "text": [
      "\n"
     ]
    }
   ],
   "source": [
    "epoch_key = 'bon', 4, 2\n",
    "ripple_list = [121]\n",
    "\n",
    "replot_sorted_spikes_ripple_decode_1D(epoch_key, ripple_list, figure_format='pdf')"
   ]
  },
  {
   "cell_type": "code",
   "execution_count": 17,
   "metadata": {},
   "outputs": [],
   "source": [
    "from replay_trajectory_classification import SortedSpikesClassifier\n",
    "\n",
    "def sorted_spikes_analysis_2D(epoch_key, ripple_list, figure_format='png'):\n",
    "    continuous_transition_types = (\n",
    "        [['random_walk_minus_identity', 'inverse_random_walk', 'identity'],  # noqa\n",
    "         ['uniform',                     'inverse_random_walk', 'uniform'],   # noqa\n",
    "         ['random_walk_minus_identity', 'inverse_random_walk', 'identity']])  # noqa\n",
    "    animal, day, epoch = epoch_key\n",
    "    data_type, dim = 'sorted_spikes', '2D'\n",
    "\n",
    "    logging.info('Loading data...')\n",
    "    data = load_data(epoch_key)\n",
    "    position = data['position_info'].loc[:, ['x_position', 'y_position']]\n",
    "    is_training = data['position_info'].speed > 4\n",
    "    logging.info('Fitting classifier...')\n",
    "    classifier = SortedSpikesClassifier(\n",
    "        place_bin_size=place_bin_size, movement_var=movement_var,\n",
    "        replay_speed=replay_speed,\n",
    "        discrete_transition_diag=discrete_diag,\n",
    "        spike_model_penalty=spike_model_penalty, knot_spacing=knot_spacing,\n",
    "        continuous_transition_types=continuous_transition_types).fit(\n",
    "        position, data['spikes'], is_training=is_training)\n",
    "    logging.info(classifier)\n",
    "    \n",
    "    # Decode\n",
    "    ripple_times = data['ripple_times'].loc[:, ['start_time', 'end_time']]\n",
    "    ripple_spikes = reshape_to_segments(data['spikes'], ripple_times)\n",
    "\n",
    "    results = []\n",
    "    for ripple_number in tqdm(ripple_list, desc='ripple'):\n",
    "        ripple_time = (ripple_spikes.loc[ripple_number].index -\n",
    "                       ripple_spikes.loc[ripple_number].index[0])\n",
    "        results.append(\n",
    "            classifier.predict(ripple_spikes.loc[ripple_number],\n",
    "                               time=ripple_time))\n",
    "    results = (xr.concat(results, dim=data['ripple_times'].loc[ripple_list].index)\n",
    "               .assign_coords(state=lambda ds: ds.state.to_index()\n",
    "                              .map(TRANSITION_TO_CATEGORY)))\n",
    "\n",
    "    logging.info('Plotting ripple figures...')\n",
    "\n",
    "    place_field_max = get_place_field_max(classifier)\n",
    "    linear_position_order, linear_place_field_max = get_linear_position_order(\n",
    "        data['position_info'], place_field_max)\n",
    "\n",
    "    ripple_position = reshape_to_segments(position, ripple_times)\n",
    "\n",
    "    for ripple_number in tqdm(ripple_list, desc='ripple figures'):\n",
    "        posterior = (\n",
    "            results\n",
    "            .acausal_posterior\n",
    "            .sel(ripple_number=ripple_number)\n",
    "            .dropna('time')\n",
    "            .assign_coords(\n",
    "                time=lambda ds: 1000 * ds.time / np.timedelta64(1, 's')))\n",
    "        plot_ripple_decode_2D(\n",
    "            posterior, ripple_position.loc[ripple_number],\n",
    "            ripple_spikes.loc[ripple_number], position, linear_position_order,\n",
    "            spike_label='Cells')\n",
    "        plt.suptitle(\n",
    "            f'ripple number = {animal}_{day:02d}_{epoch:02d}_'\n",
    "            f'{ripple_number:04d}')\n",
    "        fig_name = (f'{animal}_{day:02d}_{epoch:02d}_{ripple_number:04d}_'\n",
    "                    f'{data_type}_{dim}_acasual_classification.{figure_format}')\n",
    "        fig_name = os.path.join(\n",
    "            FIGURE_DIR, 'ripple_classifications', fig_name)\n",
    "        plt.savefig(fig_name, transparent=True, dpi=300, bbox_inches='tight')\n",
    "        plt.close(plt.gcf())\n",
    "\n",
    "    logging.info('Done...')"
   ]
  },
  {
   "cell_type": "code",
   "execution_count": 5,
   "metadata": {},
   "outputs": [],
   "source": [
    "from dask.distributed import Client\n",
    "\n",
    "client_params = dict(n_workers=7,\n",
    "                     threads_per_worker=8,\n",
    "                     processes=True,\n",
    "                     memory_limit='25GB')\n",
    "\n",
    "client = Client(**client_params)"
   ]
  },
  {
   "cell_type": "code",
   "execution_count": 6,
   "metadata": {},
   "outputs": [
    {
     "data": {
      "text/html": [
       "<table style=\"border: 2px solid white;\">\n",
       "<tr>\n",
       "<td style=\"vertical-align: top; border: 0px solid white\">\n",
       "<h3 style=\"text-align: left;\">Client</h3>\n",
       "<ul style=\"text-align: left; list-style: none; margin: 0; padding: 0;\">\n",
       "  <li><b>Scheduler: </b>tcp://127.0.0.1:45025</li>\n",
       "  <li><b>Dashboard: </b><a href='http://127.0.0.1:39318/status' target='_blank'>http://127.0.0.1:39318/status</a>\n",
       "</ul>\n",
       "</td>\n",
       "<td style=\"vertical-align: top; border: 0px solid white\">\n",
       "<h3 style=\"text-align: left;\">Cluster</h3>\n",
       "<ul style=\"text-align: left; list-style:none; margin: 0; padding: 0;\">\n",
       "  <li><b>Workers: </b>7</li>\n",
       "  <li><b>Cores: </b>56</li>\n",
       "  <li><b>Memory: </b>175.00 GB</li>\n",
       "</ul>\n",
       "</td>\n",
       "</tr>\n",
       "</table>"
      ],
      "text/plain": [
       "<Client: 'tcp://127.0.0.1:45025' processes=7 threads=56, memory=175.00 GB>"
      ]
     },
     "execution_count": 6,
     "metadata": {},
     "output_type": "execute_result"
    }
   ],
   "source": [
    "client"
   ]
  },
  {
   "cell_type": "code",
   "execution_count": 15,
   "metadata": {},
   "outputs": [
    {
     "name": "stderr",
     "output_type": "stream",
     "text": [
      "INFO:root:Loading data...\n",
      "WARNING:loren_frank_data_processing.core:Failed to load file: /data2/edeno/replay_trajectory_paper/src/../Raw-Data/Bond/bonDIO04.mat\n",
      "WARNING:loren_frank_data_processing.core:No DIO file found, using distance from well to segment trials\n",
      "WARNING:loren_frank_data_processing.core:Failed to load file: /data2/edeno/replay_trajectory_paper/src/../Raw-Data/Bond/bonDIO04.mat\n",
      "WARNING:loren_frank_data_processing.core:No DIO file found, inferring correct inbound/outbound from task rules\n",
      "INFO:src.load_data:Finding ripple times...\n",
      "WARNING:loren_frank_data_processing.core:Failed to load file: /data2/edeno/replay_trajectory_paper/src/../Raw-Data/Bond/bonDIO04.mat\n",
      "WARNING:loren_frank_data_processing.core:No DIO file found, using distance from well to segment trials\n",
      "WARNING:loren_frank_data_processing.core:Failed to load file: /data2/edeno/replay_trajectory_paper/src/../Raw-Data/Bond/bonDIO04.mat\n",
      "WARNING:loren_frank_data_processing.core:No DIO file found, inferring correct inbound/outbound from task rules\n",
      "INFO:root:Fitting classifier...\n",
      "INFO:replay_trajectory_classification.classifier:Fitting initial conditions...\n",
      "INFO:replay_trajectory_classification.classifier:Fitting state transition...\n",
      "INFO:replay_trajectory_classification.classifier:Fitting place fields...\n",
      "INFO:root:SortedSpikesClassifier(continuous_transition_types=[['random_walk_minus_identity',\n",
      "                                                     'inverse_random_walk',\n",
      "                                                     'identity'],\n",
      "                                                    ['uniform',\n",
      "                                                     'inverse_random_walk',\n",
      "                                                     'uniform'],\n",
      "                                                    ['random_walk_minus_identity',\n",
      "                                                     'inverse_random_walk',\n",
      "                                                     'identity']],\n",
      "                       discrete_transition_diag=0.999,\n",
      "                       discrete_transition_type='strong_diagonal',\n",
      "                       infer_track_interior=True,\n",
      "                       initial_conditions_type='uniform_on_track',\n",
      "                       knot_spacing=5, movement_var=4.0, place_bin_size=2.0,\n",
      "                       position_range=None, replay_speed=1,\n",
      "                       spike_model_penalty=0.5)\n"
     ]
    },
    {
     "data": {
      "application/vnd.jupyter.widget-view+json": {
       "model_id": "4a454bb98c6d41cdaf2a80cc5989b2c5",
       "version_major": 2,
       "version_minor": 0
      },
      "text/plain": [
       "HBox(children=(IntProgress(value=0, description='ripple', max=1, style=ProgressStyle(description_width='initia…"
      ]
     },
     "metadata": {},
     "output_type": "display_data"
    },
    {
     "name": "stderr",
     "output_type": "stream",
     "text": [
      "INFO:root:Plotting ripple figures...\n"
     ]
    },
    {
     "name": "stdout",
     "output_type": "stream",
     "text": [
      "\n"
     ]
    },
    {
     "data": {
      "application/vnd.jupyter.widget-view+json": {
       "model_id": "0bc1cc67d8d6479aabe444775592ec3e",
       "version_major": 2,
       "version_minor": 0
      },
      "text/plain": [
       "HBox(children=(IntProgress(value=0, description='ripple figures', max=1, style=ProgressStyle(description_width…"
      ]
     },
     "metadata": {},
     "output_type": "display_data"
    },
    {
     "name": "stderr",
     "output_type": "stream",
     "text": [
      "WARNING:matplotlib.font_manager:findfont: Font family ['sans-serif'] not found. Falling back to DejaVu Sans.\n",
      "WARNING:matplotlib.font_manager:findfont: Font family ['sans-serif'] not found. Falling back to DejaVu Sans.\n",
      "WARNING:matplotlib.font_manager:findfont: Font family ['sans-serif'] not found. Falling back to DejaVu Sans.\n",
      "WARNING:matplotlib.font_manager:findfont: Font family ['sans-serif'] not found. Falling back to DejaVu Sans.\n",
      "INFO:root:Done...\n"
     ]
    },
    {
     "name": "stdout",
     "output_type": "stream",
     "text": [
      "\n"
     ]
    }
   ],
   "source": [
    "epoch_key = 'bon', 4, 2\n",
    "ripple_list = [121]\n",
    "\n",
    "sorted_spikes_analysis_2D(epoch_key, ripple_list, figure_format='pdf')"
   ]
  },
  {
   "cell_type": "code",
   "execution_count": 22,
   "metadata": {},
   "outputs": [
    {
     "name": "stderr",
     "output_type": "stream",
     "text": [
      "INFO:root:Loading data...\n",
      "WARNING:loren_frank_data_processing.core:Failed to load file: /data2/edeno/replay_trajectory_paper/src/../Raw-Data/Bond/bonDIO03.mat\n",
      "WARNING:loren_frank_data_processing.core:No DIO file found, using distance from well to segment trials\n",
      "WARNING:loren_frank_data_processing.core:Failed to load file: /data2/edeno/replay_trajectory_paper/src/../Raw-Data/Bond/bonDIO03.mat\n",
      "WARNING:loren_frank_data_processing.core:No DIO file found, inferring correct inbound/outbound from task rules\n",
      "INFO:src.load_data:Finding ripple times...\n",
      "WARNING:loren_frank_data_processing.core:Failed to load file: /data2/edeno/replay_trajectory_paper/src/../Raw-Data/Bond/bonDIO03.mat\n",
      "WARNING:loren_frank_data_processing.core:No DIO file found, using distance from well to segment trials\n",
      "WARNING:loren_frank_data_processing.core:Failed to load file: /data2/edeno/replay_trajectory_paper/src/../Raw-Data/Bond/bonDIO03.mat\n",
      "WARNING:loren_frank_data_processing.core:No DIO file found, inferring correct inbound/outbound from task rules\n",
      "INFO:replay_trajectory_classification.classifier:Fitting initial conditions...\n",
      "INFO:replay_trajectory_classification.classifier:Fitting state transition...\n",
      "INFO:replay_trajectory_classification.classifier:Fitting place fields...\n",
      "INFO:root:SortedSpikesClassifier(continuous_transition_types=[['w_track_1D_random_walk_minus_identity',\n",
      "                                                     'w_track_1D_inverse_random_walk',\n",
      "                                                     'identity'],\n",
      "                                                    ['uniform',\n",
      "                                                     'w_track_1D_inverse_random_walk',\n",
      "                                                     'uniform'],\n",
      "                                                    ['w_track_1D_random_walk_minus_identity',\n",
      "                                                     'w_track_1D_inverse_random_walk',\n",
      "                                                     'identity']],\n",
      "                       discrete_transition_diag=0.999,\n",
      "                       discrete_transition_type='strong_diagonal',\n",
      "                       infer_track_interior=True,\n",
      "                       initial_conditions_type='uniform_on_track',\n",
      "                       knot_spacing=5, movement_var=4.0, place_bin_size=2.0,\n",
      "                       position_range=None, replay_speed=1,\n",
      "                       spike_model_penalty=0.5)\n"
     ]
    },
    {
     "data": {
      "application/vnd.jupyter.widget-view+json": {
       "model_id": "b1bbd46e5c7f4ceeae5e7be07e4125a0",
       "version_major": 2,
       "version_minor": 0
      },
      "text/plain": [
       "HBox(children=(IntProgress(value=0, description='ripple figures', max=4, style=ProgressStyle(description_width…"
      ]
     },
     "metadata": {},
     "output_type": "display_data"
    },
    {
     "name": "stderr",
     "output_type": "stream",
     "text": [
      "WARNING:matplotlib.font_manager:findfont: Font family ['sans-serif'] not found. Falling back to DejaVu Sans.\n",
      "INFO:root:Loading data...\n"
     ]
    },
    {
     "name": "stdout",
     "output_type": "stream",
     "text": [
      "\n"
     ]
    },
    {
     "name": "stderr",
     "output_type": "stream",
     "text": [
      "WARNING:loren_frank_data_processing.core:Failed to load file: /data2/edeno/replay_trajectory_paper/src/../Raw-Data/Bond/bonDIO03.mat\n",
      "WARNING:loren_frank_data_processing.core:No DIO file found, using distance from well to segment trials\n",
      "WARNING:loren_frank_data_processing.core:Failed to load file: /data2/edeno/replay_trajectory_paper/src/../Raw-Data/Bond/bonDIO03.mat\n",
      "WARNING:loren_frank_data_processing.core:No DIO file found, inferring correct inbound/outbound from task rules\n",
      "INFO:src.load_data:Finding ripple times...\n",
      "WARNING:loren_frank_data_processing.core:Failed to load file: /data2/edeno/replay_trajectory_paper/src/../Raw-Data/Bond/bonDIO03.mat\n",
      "WARNING:loren_frank_data_processing.core:No DIO file found, using distance from well to segment trials\n",
      "WARNING:loren_frank_data_processing.core:Failed to load file: /data2/edeno/replay_trajectory_paper/src/../Raw-Data/Bond/bonDIO03.mat\n",
      "WARNING:loren_frank_data_processing.core:No DIO file found, inferring correct inbound/outbound from task rules\n",
      "INFO:replay_trajectory_classification.classifier:Fitting initial conditions...\n",
      "INFO:replay_trajectory_classification.classifier:Fitting state transition...\n",
      "INFO:replay_trajectory_classification.classifier:Fitting multiunits...\n",
      "INFO:root:ClusterlessClassifier(continuous_transition_types=[['w_track_1D_random_walk_minus_identity',\n",
      "                                                    'w_track_1D_inverse_random_walk',\n",
      "                                                    'identity'],\n",
      "                                                   ['uniform',\n",
      "                                                    'w_track_1D_inverse_random_walk',\n",
      "                                                    'uniform'],\n",
      "                                                   ['w_track_1D_random_walk_minus_identity',\n",
      "                                                    'w_track_1D_inverse_random_walk',\n",
      "                                                    'identity']],\n",
      "                      discrete_transition_diag=0.999,\n",
      "                      discrete_transition_type='strong_diagona...\n",
      "                      initial_conditions_type='uniform_on_track',\n",
      "                      model=<class 'replay_trajectory_classification.misc.NumbaKDE'>,\n",
      "                      model_kwargs={'bandwidth': array([24., 24., 24., 24.,  5.,  5.])},\n",
      "                      movement_var=4.0,\n",
      "                      occupancy_kwargs={'bandwidth': array([24., 24., 24., 24.,  5.,  5.])},\n",
      "                      occupancy_model=<class 'replay_trajectory_classification.misc.NumbaKDE'>,\n",
      "                      place_bin_size=2.0, position_range=None, replay_speed=1)\n"
     ]
    },
    {
     "data": {
      "application/vnd.jupyter.widget-view+json": {
       "model_id": "94dd44fd84ad4573bf2dcdca8b083a7a",
       "version_major": 2,
       "version_minor": 0
      },
      "text/plain": [
       "HBox(children=(IntProgress(value=0, description='ripple figures', max=4, style=ProgressStyle(description_width…"
      ]
     },
     "metadata": {},
     "output_type": "display_data"
    },
    {
     "name": "stderr",
     "output_type": "stream",
     "text": [
      "INFO:root:Loading data...\n"
     ]
    },
    {
     "name": "stdout",
     "output_type": "stream",
     "text": [
      "\n"
     ]
    },
    {
     "name": "stderr",
     "output_type": "stream",
     "text": [
      "WARNING:loren_frank_data_processing.core:Failed to load file: /data2/edeno/replay_trajectory_paper/src/../Raw-Data/Bond/bonDIO03.mat\n",
      "WARNING:loren_frank_data_processing.core:No DIO file found, using distance from well to segment trials\n",
      "WARNING:loren_frank_data_processing.core:Failed to load file: /data2/edeno/replay_trajectory_paper/src/../Raw-Data/Bond/bonDIO03.mat\n",
      "WARNING:loren_frank_data_processing.core:No DIO file found, inferring correct inbound/outbound from task rules\n",
      "INFO:src.load_data:Finding ripple times...\n",
      "WARNING:loren_frank_data_processing.core:Failed to load file: /data2/edeno/replay_trajectory_paper/src/../Raw-Data/Bond/bonDIO03.mat\n",
      "WARNING:loren_frank_data_processing.core:No DIO file found, using distance from well to segment trials\n",
      "WARNING:loren_frank_data_processing.core:Failed to load file: /data2/edeno/replay_trajectory_paper/src/../Raw-Data/Bond/bonDIO03.mat\n",
      "WARNING:loren_frank_data_processing.core:No DIO file found, inferring correct inbound/outbound from task rules\n",
      "INFO:root:Fitting classifier...\n",
      "INFO:replay_trajectory_classification.classifier:Fitting initial conditions...\n",
      "INFO:replay_trajectory_classification.classifier:Fitting state transition...\n",
      "INFO:replay_trajectory_classification.classifier:Fitting place fields...\n",
      "INFO:root:SortedSpikesClassifier(continuous_transition_types=[['random_walk_minus_identity',\n",
      "                                                     'inverse_random_walk',\n",
      "                                                     'identity'],\n",
      "                                                    ['uniform',\n",
      "                                                     'inverse_random_walk',\n",
      "                                                     'uniform'],\n",
      "                                                    ['random_walk_minus_identity',\n",
      "                                                     'inverse_random_walk',\n",
      "                                                     'identity']],\n",
      "                       discrete_transition_diag=0.999,\n",
      "                       discrete_transition_type='strong_diagonal',\n",
      "                       infer_track_interior=True,\n",
      "                       initial_conditions_type='uniform_on_track',\n",
      "                       knot_spacing=5, movement_var=4.0, place_bin_size=2.0,\n",
      "                       position_range=None, replay_speed=1,\n",
      "                       spike_model_penalty=0.5)\n"
     ]
    },
    {
     "data": {
      "application/vnd.jupyter.widget-view+json": {
       "model_id": "aec23488adcd42ef99f79f993c3b185e",
       "version_major": 2,
       "version_minor": 0
      },
      "text/plain": [
       "HBox(children=(IntProgress(value=0, description='ripple', max=4, style=ProgressStyle(description_width='initia…"
      ]
     },
     "metadata": {},
     "output_type": "display_data"
    },
    {
     "name": "stderr",
     "output_type": "stream",
     "text": [
      "INFO:root:Plotting ripple figures...\n"
     ]
    },
    {
     "name": "stdout",
     "output_type": "stream",
     "text": [
      "\n"
     ]
    },
    {
     "data": {
      "application/vnd.jupyter.widget-view+json": {
       "model_id": "1584198cce834513ab28fc7d234d618a",
       "version_major": 2,
       "version_minor": 0
      },
      "text/plain": [
       "HBox(children=(IntProgress(value=0, description='ripple figures', max=4, style=ProgressStyle(description_width…"
      ]
     },
     "metadata": {},
     "output_type": "display_data"
    },
    {
     "name": "stderr",
     "output_type": "stream",
     "text": [
      "INFO:root:Done...\n",
      "INFO:root:Loading data...\n"
     ]
    },
    {
     "name": "stdout",
     "output_type": "stream",
     "text": [
      "\n"
     ]
    },
    {
     "name": "stderr",
     "output_type": "stream",
     "text": [
      "WARNING:loren_frank_data_processing.core:Failed to load file: /data2/edeno/replay_trajectory_paper/src/../Raw-Data/Bond/bonDIO03.mat\n",
      "WARNING:loren_frank_data_processing.core:No DIO file found, using distance from well to segment trials\n",
      "WARNING:loren_frank_data_processing.core:Failed to load file: /data2/edeno/replay_trajectory_paper/src/../Raw-Data/Bond/bonDIO03.mat\n",
      "WARNING:loren_frank_data_processing.core:No DIO file found, inferring correct inbound/outbound from task rules\n",
      "INFO:src.load_data:Finding ripple times...\n",
      "WARNING:loren_frank_data_processing.core:Failed to load file: /data2/edeno/replay_trajectory_paper/src/../Raw-Data/Bond/bonDIO03.mat\n",
      "WARNING:loren_frank_data_processing.core:No DIO file found, using distance from well to segment trials\n",
      "WARNING:loren_frank_data_processing.core:Failed to load file: /data2/edeno/replay_trajectory_paper/src/../Raw-Data/Bond/bonDIO03.mat\n",
      "WARNING:loren_frank_data_processing.core:No DIO file found, inferring correct inbound/outbound from task rules\n",
      "INFO:root:Fitting classifier...\n",
      "INFO:replay_trajectory_classification.classifier:Fitting initial conditions...\n",
      "INFO:replay_trajectory_classification.classifier:Fitting state transition...\n",
      "INFO:replay_trajectory_classification.classifier:Fitting multiunits...\n",
      "INFO:root:ClusterlessClassifier(continuous_transition_types=[['random_walk_minus_identity',\n",
      "                                                    'inverse_random_walk',\n",
      "                                                    'identity'],\n",
      "                                                   ['uniform',\n",
      "                                                    'inverse_random_walk',\n",
      "                                                    'uniform'],\n",
      "                                                   ['random_walk_minus_identity',\n",
      "                                                    'inverse_random_walk',\n",
      "                                                    'identity']],\n",
      "                      discrete_transition_diag=0.999,\n",
      "                      discrete_transition_type='strong_diagonal',\n",
      "                      infer_track_interior=True,\n",
      "                      initial_conditions_type='uniform_on_track',\n",
      "                      model=<class 'replay_trajectory_classification.misc.NumbaKDE'>,\n",
      "                      model_kwargs={'bandwidth': array([24., 24., 24., 24.,  5.,  5.])},\n",
      "                      movement_var=4.0,\n",
      "                      occupancy_kwargs={'bandwidth': array([24., 24., 24., 24.,  5.,  5.])},\n",
      "                      occupancy_model=<class 'replay_trajectory_classification.misc.NumbaKDE'>,\n",
      "                      place_bin_size=2.0, position_range=None, replay_speed=1)\n"
     ]
    },
    {
     "data": {
      "application/vnd.jupyter.widget-view+json": {
       "model_id": "fdc1d2d45e6e4863bbc65c21205f528b",
       "version_major": 2,
       "version_minor": 0
      },
      "text/plain": [
       "HBox(children=(IntProgress(value=0, description='ripple', max=4, style=ProgressStyle(description_width='initia…"
      ]
     },
     "metadata": {},
     "output_type": "display_data"
    },
    {
     "name": "stderr",
     "output_type": "stream",
     "text": [
      "INFO:root:Plotting ripple figures...\n"
     ]
    },
    {
     "name": "stdout",
     "output_type": "stream",
     "text": [
      "\n"
     ]
    },
    {
     "data": {
      "application/vnd.jupyter.widget-view+json": {
       "model_id": "998ab89b86bc47ff9e6cc8ea93d0dc60",
       "version_major": 2,
       "version_minor": 0
      },
      "text/plain": [
       "HBox(children=(IntProgress(value=0, description='ripple figures', max=4, style=ProgressStyle(description_width…"
      ]
     },
     "metadata": {},
     "output_type": "display_data"
    },
    {
     "name": "stderr",
     "output_type": "stream",
     "text": [
      "INFO:root:Done...\n"
     ]
    },
    {
     "name": "stdout",
     "output_type": "stream",
     "text": [
      "\n"
     ]
    }
   ],
   "source": [
    "epoch_key = 'bon', 3, 2\n",
    "ripple_list = [145, 190, 192, 204]\n",
    "\n",
    "replot_sorted_spikes_ripple_decode_1D(epoch_key, ripple_list, figure_format='pdf')\n",
    "replot_clusterless_ripple_decode_1D(epoch_key, ripple_list, figure_format='pdf')\n",
    "sorted_spikes_analysis_2D(epoch_key, ripple_list, figure_format='pdf')\n",
    "clusterless_analysis_2D(epoch_key, ripple_list, figure_format='pdf')"
   ]
  },
  {
   "cell_type": "code",
   "execution_count": null,
   "metadata": {},
   "outputs": [],
   "source": []
  }
 ],
 "metadata": {
  "kernelspec": {
   "display_name": "Python [conda env:replay_trajectory_paper] *",
   "language": "python",
   "name": "conda-env-replay_trajectory_paper-py"
  },
  "language_info": {
   "codemirror_mode": {
    "name": "ipython",
    "version": 3
   },
   "file_extension": ".py",
   "mimetype": "text/x-python",
   "name": "python",
   "nbconvert_exporter": "python",
   "pygments_lexer": "ipython3",
   "version": "3.6.7"
  }
 },
 "nbformat": 4,
 "nbformat_minor": 4
}

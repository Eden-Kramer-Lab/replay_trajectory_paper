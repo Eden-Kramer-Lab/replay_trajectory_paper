{
 "cells": [
  {
   "cell_type": "code",
   "execution_count": 1,
   "metadata": {},
   "outputs": [],
   "source": [
    "%reload_ext autoreload\n",
    "%autoreload 2"
   ]
  },
  {
   "cell_type": "code",
   "execution_count": 2,
   "metadata": {},
   "outputs": [
    {
     "data": {
      "text/html": [
       "<table style=\"border: 2px solid white;\">\n",
       "<tr>\n",
       "<td style=\"vertical-align: top; border: 0px solid white\">\n",
       "<h3 style=\"text-align: left;\">Client</h3>\n",
       "<ul style=\"text-align: left; list-style: none; margin: 0; padding: 0;\">\n",
       "  <li><b>Scheduler: </b>tcp://127.0.0.1:53308</li>\n",
       "  <li><b>Dashboard: </b><a href='http://127.0.0.1:8787/status' target='_blank'>http://127.0.0.1:8787/status</a></li>\n",
       "</ul>\n",
       "</td>\n",
       "<td style=\"vertical-align: top; border: 0px solid white\">\n",
       "<h3 style=\"text-align: left;\">Cluster</h3>\n",
       "<ul style=\"text-align: left; list-style:none; margin: 0; padding: 0;\">\n",
       "  <li><b>Workers: </b>4</li>\n",
       "  <li><b>Cores: </b>4</li>\n",
       "  <li><b>Memory: </b>17.18 GB</li>\n",
       "</ul>\n",
       "</td>\n",
       "</tr>\n",
       "</table>"
      ],
      "text/plain": [
       "<Client: 'tcp://127.0.0.1:53308' processes=4 threads=4, memory=17.18 GB>"
      ]
     },
     "execution_count": 2,
     "metadata": {},
     "output_type": "execute_result"
    }
   ],
   "source": [
    "from dask.distributed import Client\n",
    "\n",
    "client = Client(processes=True)\n",
    "client"
   ]
  },
  {
   "cell_type": "code",
   "execution_count": 2,
   "metadata": {},
   "outputs": [],
   "source": [
    "epoch_key = 'remy', 35, 2\n",
    "exclude_interneuron_spikes = True"
   ]
  },
  {
   "cell_type": "code",
   "execution_count": 8,
   "metadata": {},
   "outputs": [],
   "source": [
    "import logging\n",
    "import os\n",
    "import sys\n",
    "from argparse import ArgumentParser\n",
    "from signal import SIGUSR1, SIGUSR2, signal\n",
    "from subprocess import PIPE, run\n",
    "\n",
    "import matplotlib.pyplot as plt\n",
    "import numpy as np\n",
    "import pandas as pd\n",
    "import xarray as xr\n",
    "from loren_frank_data_processing import save_xarray\n",
    "from loren_frank_data_processing.position import (EDGE_ORDER, EDGE_SPACING,\n",
    "                                                  make_track_graph)\n",
    "from replay_trajectory_classification import (ClusterlessClassifier,\n",
    "                                              SortedSpikesClassifier)\n",
    "from scipy.ndimage import label\n",
    "from src.analysis import (get_place_field_max, get_replay_info,\n",
    "                          reshape_to_segments)\n",
    "from src.load_data import load_data\n",
    "from src.parameters import (ANIMALS, FIGURE_DIR, PROBABILITY_THRESHOLD,\n",
    "                            PROCESSED_DATA_DIR, SAMPLING_FREQUENCY,\n",
    "                            TRANSITION_TO_CATEGORY,\n",
    "                            continuous_transition_types, discrete_diag,\n",
    "                            knot_spacing, model, model_kwargs, movement_var,\n",
    "                            place_bin_size, replay_speed, spike_model_penalty)\n",
    "from src.visualization import plot_ripple_decode_1D\n",
    "from tqdm.auto import tqdm\n",
    "\n",
    "FORMAT = '%(asctime)s %(message)s'\n",
    "\n",
    "logging.basicConfig(level='INFO', format=FORMAT, datefmt='%d-%b-%y %H:%M:%S')"
   ]
  },
  {
   "cell_type": "code",
   "execution_count": 5,
   "metadata": {},
   "outputs": [
    {
     "name": "stderr",
     "output_type": "stream",
     "text": [
      "26-Jan-21 13:22:47 Loading data...\n",
      "26-Jan-21 13:22:48 Loading position info...\n",
      "26-Jan-21 13:34:11 Failed to load file: /Users/edeno/Documents/GitHub/replay_trajectory_paper/src/../Raw-Data/Remy/remyDIO35.mat\n",
      "26-Jan-21 13:34:11 No DIO file found, using distance from well to segment trials\n",
      "26-Jan-21 13:34:13 Failed to load file: /Users/edeno/Documents/GitHub/replay_trajectory_paper/src/../Raw-Data/Remy/remyDIO35.mat\n",
      "26-Jan-21 13:34:13 No DIO file found, inferring correct inbound/outbound from task rules\n",
      "26-Jan-21 13:34:39 Loading spikes...\n",
      "26-Jan-21 13:35:22 Loading multiunit...\n",
      "26-Jan-21 13:36:11 Finding ripple times...\n",
      "26-Jan-21 14:10:02 Failed to load file: /Users/edeno/Documents/GitHub/replay_trajectory_paper/src/../Raw-Data/Remy/remyDIO35.mat\n",
      "26-Jan-21 14:10:02 No DIO file found, using distance from well to segment trials\n",
      "26-Jan-21 14:10:05 Failed to load file: /Users/edeno/Documents/GitHub/replay_trajectory_paper/src/../Raw-Data/Remy/remyDIO35.mat\n",
      "26-Jan-21 14:10:05 No DIO file found, inferring correct inbound/outbound from task rules\n"
     ]
    }
   ],
   "source": [
    "animal, day, epoch = epoch_key\n",
    "data_type, dim = 'clusterless', '1D'\n",
    "\n",
    "logging.info('Loading data...')\n",
    "data = load_data(epoch_key,\n",
    "                 exclude_interneuron_spikes=exclude_interneuron_spikes)"
   ]
  },
  {
   "cell_type": "code",
   "execution_count": 6,
   "metadata": {},
   "outputs": [],
   "source": [
    "client.close()"
   ]
  },
  {
   "cell_type": "code",
   "execution_count": 7,
   "metadata": {},
   "outputs": [],
   "source": [
    "is_training = data['position_info'].speed > 4\n",
    "position = data['position_info'].loc[:, 'linear_position']\n",
    "track_graph, center_well_id = make_track_graph(epoch_key, ANIMALS)"
   ]
  },
  {
   "cell_type": "code",
   "execution_count": 10,
   "metadata": {},
   "outputs": [
    {
     "name": "stderr",
     "output_type": "stream",
     "text": [
      "26-Jan-21 14:15:18 Excluding interneuron spikes...\n",
      "26-Jan-21 14:15:18 Found existing results. Loading...\n",
      "26-Jan-21 14:15:32 ClusterlessClassifier(discrete_transition_diag=0.98, movement_var=6.0,\n",
      "                      occupancy_kwargs={'bandwidth': array([24., 24., 24., 24.,  6.,  6.])},\n",
      "                      occupancy_model=<class 'replay_trajectory_classification.misc.NumbaKDE'>,\n",
      "                      place_bin_size=3.0, replay_speed=1)\n"
     ]
    }
   ],
   "source": [
    "if not exclude_interneuron_spikes:\n",
    "    model_name = os.path.join(\n",
    "        PROCESSED_DATA_DIR,\n",
    "        f'{animal}_{day:02}_{epoch:02}_{data_type}_{dim}_model.pkl')\n",
    "    group = f'/{data_type}/{dim}/classifier/ripples/'\n",
    "    epoch_identifier = f'{animal}_{day:02d}_{epoch:02d}_{data_type}_{dim}'\n",
    "else:\n",
    "    logging.info('Excluding interneuron spikes...')\n",
    "    model_name = os.path.join(\n",
    "        PROCESSED_DATA_DIR,\n",
    "        f'{animal}_{day:02}_{epoch:02}_{data_type}_{dim}'\n",
    "        '_no_interneuron_model.pkl')\n",
    "    group = f'/{data_type}/{dim}/no_interneuron/classifier/ripples/'\n",
    "    epoch_identifier = (f'{animal}_{day:02d}_{epoch:02d}_{data_type}_{dim}'\n",
    "                        '_no_interneuron')\n",
    "\n",
    "try:\n",
    "    results = xr.open_dataset(\n",
    "        os.path.join(\n",
    "            PROCESSED_DATA_DIR, f'{animal}_{day:02}_{epoch:02}.nc'),\n",
    "        group=group)\n",
    "    logging.info('Found existing results. Loading...')\n",
    "    ripple_times = data['ripple_times'].loc[:, ['start_time', 'end_time']]\n",
    "    spikes = (((data['multiunit'].sum('features') > 0) * 1.0)\n",
    "              .to_dataframe(name='spikes').unstack())\n",
    "    spikes.columns = data['tetrode_info'].tetrode_id\n",
    "    ripple_spikes = reshape_to_segments(spikes, ripple_times)\n",
    "    classifier = ClusterlessClassifier.load_model(model_name)\n",
    "    logging.info(classifier)\n",
    "except (FileNotFoundError, OSError):\n",
    "    logging.info('Fitting classifier...')\n",
    "    classifier = ClusterlessClassifier(\n",
    "        place_bin_size=place_bin_size, movement_var=movement_var,\n",
    "        replay_speed=replay_speed,\n",
    "        discrete_transition_diag=discrete_diag,\n",
    "        continuous_transition_types=continuous_transition_types,\n",
    "        model=model, model_kwargs=model_kwargs).fit(\n",
    "            position, data['multiunit'], is_training=is_training,\n",
    "            track_graph=track_graph, center_well_id=center_well_id,\n",
    "            edge_order=EDGE_ORDER, edge_spacing=EDGE_SPACING)\n",
    "    classifier.save_model(model_name)\n",
    "    logging.info(classifier)\n",
    "\n",
    "    # Decode\n",
    "    is_test = ~is_training\n",
    "\n",
    "    test_groups = pd.DataFrame(\n",
    "        {'test_groups': label(is_test.values)[0]}, index=is_test.index)\n",
    "    immobility_results = []\n",
    "    for _, df in tqdm(test_groups.loc[is_test].groupby('test_groups'),\n",
    "                      desc='immobility'):\n",
    "        start_time, end_time = df.iloc[0].name, df.iloc[-1].name\n",
    "        test_multiunit = data['multiunit'].sel(\n",
    "            time=slice(start_time, end_time))\n",
    "        immobility_results.append(\n",
    "            classifier.predict(test_multiunit, time=test_multiunit.time))\n",
    "\n",
    "    immobility_results = xr.concat(immobility_results, dim='time')\n",
    "\n",
    "    results = [(immobility_results\n",
    "                .sel(time=slice(df.start_time, df.end_time))\n",
    "                .assign_coords(time=lambda ds: ds.time - ds.time[0]))\n",
    "               for _, df in data['ripple_times'].iterrows()]\n",
    "\n",
    "    results = (xr.concat(results, dim=data['ripple_times'].index)\n",
    "               .assign_coords(state=lambda ds: ds.state.to_index()\n",
    "                              .map(TRANSITION_TO_CATEGORY)))\n",
    "\n",
    "    ripple_times = data['ripple_times'].loc[:, ['start_time', 'end_time']]\n",
    "    spikes = ((((~np.isnan(data['multiunit'])).sum('features') > 0) * 1.0)\n",
    "              .to_dataframe(name='spikes').unstack())\n",
    "    spikes.columns = data['tetrode_info'].tetrode_id\n",
    "    ripple_spikes = reshape_to_segments(spikes, ripple_times)\n",
    "\n",
    "    logging.info('Saving results...')\n",
    "    save_xarray(PROCESSED_DATA_DIR, epoch_key,\n",
    "                results.drop(['likelihood', 'causal_posterior']),\n",
    "                group=group)"
   ]
  },
  {
   "cell_type": "code",
   "execution_count": 13,
   "metadata": {},
   "outputs": [
    {
     "name": "stderr",
     "output_type": "stream",
     "text": [
      "26-Jan-21 14:19:48 Saving replay_info...\n"
     ]
    },
    {
     "ename": "IndexError",
     "evalue": "index 0 is out of bounds for axis 0 with size 0",
     "output_type": "error",
     "traceback": [
      "\u001b[0;31m---------------------------------------------------------------------------\u001b[0m",
      "\u001b[0;31mIndexError\u001b[0m                                Traceback (most recent call last)",
      "\u001b[0;32m<ipython-input-13-195955cdf597>\u001b[0m in \u001b[0;36m<module>\u001b[0;34m\u001b[0m\n\u001b[1;32m      3\u001b[0m     \u001b[0mresults\u001b[0m\u001b[0;34m,\u001b[0m \u001b[0mspikes\u001b[0m\u001b[0;34m,\u001b[0m \u001b[0mdata\u001b[0m\u001b[0;34m[\u001b[0m\u001b[0;34m'ripple_times'\u001b[0m\u001b[0;34m]\u001b[0m\u001b[0;34m,\u001b[0m \u001b[0mdata\u001b[0m\u001b[0;34m[\u001b[0m\u001b[0;34m'position_info'\u001b[0m\u001b[0;34m]\u001b[0m\u001b[0;34m,\u001b[0m\u001b[0;34m\u001b[0m\u001b[0;34m\u001b[0m\u001b[0m\n\u001b[1;32m      4\u001b[0m     \u001b[0mtrack_graph\u001b[0m\u001b[0;34m,\u001b[0m \u001b[0mSAMPLING_FREQUENCY\u001b[0m\u001b[0;34m,\u001b[0m \u001b[0mPROBABILITY_THRESHOLD\u001b[0m\u001b[0;34m,\u001b[0m \u001b[0mepoch_key\u001b[0m\u001b[0;34m,\u001b[0m\u001b[0;34m\u001b[0m\u001b[0;34m\u001b[0m\u001b[0m\n\u001b[0;32m----> 5\u001b[0;31m     classifier, data[\"ripple_consensus_trace_zscore\"])\n\u001b[0m",
      "\u001b[0;32m~/Documents/GitHub/replay_trajectory_paper/src/analysis.py\u001b[0m in \u001b[0;36mget_replay_info\u001b[0;34m(results, spikes, ripple_times, position_info, track_graph, sampling_frequency, probability_threshold, epoch_key, classifier, ripple_consensus_trace_zscore)\u001b[0m\n\u001b[1;32m     49\u001b[0m                                 \u001b[0mprobability_threshold\u001b[0m\u001b[0;34m,\u001b[0m \u001b[0mtrack_graph\u001b[0m\u001b[0;34m,\u001b[0m\u001b[0;34m\u001b[0m\u001b[0;34m\u001b[0m\u001b[0m\n\u001b[1;32m     50\u001b[0m                                 classifier)\n\u001b[0;32m---> 51\u001b[0;31m          for ripple in ripple_times.itertuples()], index=ripple_times.index)\n\u001b[0m\u001b[1;32m     52\u001b[0m \u001b[0;34m\u001b[0m\u001b[0m\n\u001b[1;32m     53\u001b[0m     \u001b[0manimal\u001b[0m\u001b[0;34m,\u001b[0m \u001b[0mday\u001b[0m\u001b[0;34m,\u001b[0m \u001b[0mepoch\u001b[0m \u001b[0;34m=\u001b[0m \u001b[0mepoch_key\u001b[0m\u001b[0;34m\u001b[0m\u001b[0;34m\u001b[0m\u001b[0m\n",
      "\u001b[0;32m~/Documents/GitHub/replay_trajectory_paper/src/analysis.py\u001b[0m in \u001b[0;36m<listcomp>\u001b[0;34m(.0)\u001b[0m\n\u001b[1;32m     49\u001b[0m                                 \u001b[0mprobability_threshold\u001b[0m\u001b[0;34m,\u001b[0m \u001b[0mtrack_graph\u001b[0m\u001b[0;34m,\u001b[0m\u001b[0;34m\u001b[0m\u001b[0;34m\u001b[0m\u001b[0m\n\u001b[1;32m     50\u001b[0m                                 classifier)\n\u001b[0;32m---> 51\u001b[0;31m          for ripple in ripple_times.itertuples()], index=ripple_times.index)\n\u001b[0m\u001b[1;32m     52\u001b[0m \u001b[0;34m\u001b[0m\u001b[0m\n\u001b[1;32m     53\u001b[0m     \u001b[0manimal\u001b[0m\u001b[0;34m,\u001b[0m \u001b[0mday\u001b[0m\u001b[0;34m,\u001b[0m \u001b[0mepoch\u001b[0m \u001b[0;34m=\u001b[0m \u001b[0mepoch_key\u001b[0m\u001b[0;34m\u001b[0m\u001b[0;34m\u001b[0m\u001b[0m\n",
      "\u001b[0;32m~/Documents/GitHub/replay_trajectory_paper/src/analysis.py\u001b[0m in \u001b[0;36mget_ripple_replay_info\u001b[0;34m(ripple, results, spikes, ripple_consensus_trace_zscore, position_info, sampling_frequency, probability_threshold, track_graph, classifier)\u001b[0m\n\u001b[1;32m    213\u001b[0m     \u001b[0mmap_estimate\u001b[0m \u001b[0;34m=\u001b[0m \u001b[0mmap_estimate\u001b[0m\u001b[0;34m.\u001b[0m\u001b[0msqueeze\u001b[0m\u001b[0;34m(\u001b[0m\u001b[0;34m)\u001b[0m\u001b[0;34m\u001b[0m\u001b[0;34m\u001b[0m\u001b[0m\n\u001b[1;32m    214\u001b[0m     replay_speed = np.abs(np.gradient(\n\u001b[0;32m--> 215\u001b[0;31m         replay_distance_from_center_well, time))\n\u001b[0m\u001b[1;32m    216\u001b[0m     \u001b[0mSMOOTH_SIGMA\u001b[0m \u001b[0;34m=\u001b[0m \u001b[0;36m0.0025\u001b[0m\u001b[0;34m\u001b[0m\u001b[0;34m\u001b[0m\u001b[0m\n\u001b[1;32m    217\u001b[0m     replay_speed = gaussian_smooth(\n",
      "\u001b[0;32m<__array_function__ internals>\u001b[0m in \u001b[0;36mgradient\u001b[0;34m(*args, **kwargs)\u001b[0m\n",
      "\u001b[0;32m~/miniconda3/envs/replay_trajectory_paper/lib/python3.6/site-packages/numpy/lib/function_base.py\u001b[0m in \u001b[0;36mgradient\u001b[0;34m(f, *varargs, **kwargs)\u001b[0m\n\u001b[1;32m    995\u001b[0m             \u001b[0;31m# if distances are constant reduce to the scalar case\u001b[0m\u001b[0;34m\u001b[0m\u001b[0;34m\u001b[0m\u001b[0;34m\u001b[0m\u001b[0m\n\u001b[1;32m    996\u001b[0m             \u001b[0;31m# since it brings a consistent speedup\u001b[0m\u001b[0;34m\u001b[0m\u001b[0;34m\u001b[0m\u001b[0;34m\u001b[0m\u001b[0m\n\u001b[0;32m--> 997\u001b[0;31m             \u001b[0;32mif\u001b[0m \u001b[0;34m(\u001b[0m\u001b[0mdiffx\u001b[0m \u001b[0;34m==\u001b[0m \u001b[0mdiffx\u001b[0m\u001b[0;34m[\u001b[0m\u001b[0;36m0\u001b[0m\u001b[0;34m]\u001b[0m\u001b[0;34m)\u001b[0m\u001b[0;34m.\u001b[0m\u001b[0mall\u001b[0m\u001b[0;34m(\u001b[0m\u001b[0;34m)\u001b[0m\u001b[0;34m:\u001b[0m\u001b[0;34m\u001b[0m\u001b[0;34m\u001b[0m\u001b[0m\n\u001b[0m\u001b[1;32m    998\u001b[0m                 \u001b[0mdiffx\u001b[0m \u001b[0;34m=\u001b[0m \u001b[0mdiffx\u001b[0m\u001b[0;34m[\u001b[0m\u001b[0;36m0\u001b[0m\u001b[0;34m]\u001b[0m\u001b[0;34m\u001b[0m\u001b[0;34m\u001b[0m\u001b[0m\n\u001b[1;32m    999\u001b[0m             \u001b[0mdx\u001b[0m\u001b[0;34m[\u001b[0m\u001b[0mi\u001b[0m\u001b[0;34m]\u001b[0m \u001b[0;34m=\u001b[0m \u001b[0mdiffx\u001b[0m\u001b[0;34m\u001b[0m\u001b[0;34m\u001b[0m\u001b[0m\n",
      "\u001b[0;31mIndexError\u001b[0m: index 0 is out of bounds for axis 0 with size 0"
     ]
    }
   ],
   "source": [
    "logging.info('Saving replay_info...')\n",
    "replay_info = get_replay_info(\n",
    "    results, spikes, data['ripple_times'], data['position_info'],\n",
    "    track_graph, SAMPLING_FREQUENCY, PROBABILITY_THRESHOLD, epoch_key,\n",
    "    classifier, data[\"ripple_consensus_trace_zscore\"])"
   ]
  },
  {
   "cell_type": "code",
   "execution_count": 14,
   "metadata": {},
   "outputs": [
    {
     "name": "stdout",
     "output_type": "stream",
     "text": [
      "> \u001b[0;32m/Users/edeno/miniconda3/envs/replay_trajectory_paper/lib/python3.6/site-packages/numpy/lib/function_base.py\u001b[0m(997)\u001b[0;36mgradient\u001b[0;34m()\u001b[0m\n",
      "\u001b[0;32m    995 \u001b[0;31m            \u001b[0;31m# if distances are constant reduce to the scalar case\u001b[0m\u001b[0;34m\u001b[0m\u001b[0;34m\u001b[0m\u001b[0;34m\u001b[0m\u001b[0m\n",
      "\u001b[0m\u001b[0;32m    996 \u001b[0;31m            \u001b[0;31m# since it brings a consistent speedup\u001b[0m\u001b[0;34m\u001b[0m\u001b[0;34m\u001b[0m\u001b[0;34m\u001b[0m\u001b[0m\n",
      "\u001b[0m\u001b[0;32m--> 997 \u001b[0;31m            \u001b[0;32mif\u001b[0m \u001b[0;34m(\u001b[0m\u001b[0mdiffx\u001b[0m \u001b[0;34m==\u001b[0m \u001b[0mdiffx\u001b[0m\u001b[0;34m[\u001b[0m\u001b[0;36m0\u001b[0m\u001b[0;34m]\u001b[0m\u001b[0;34m)\u001b[0m\u001b[0;34m.\u001b[0m\u001b[0mall\u001b[0m\u001b[0;34m(\u001b[0m\u001b[0;34m)\u001b[0m\u001b[0;34m:\u001b[0m\u001b[0;34m\u001b[0m\u001b[0;34m\u001b[0m\u001b[0m\n",
      "\u001b[0m\u001b[0;32m    998 \u001b[0;31m                \u001b[0mdiffx\u001b[0m \u001b[0;34m=\u001b[0m \u001b[0mdiffx\u001b[0m\u001b[0;34m[\u001b[0m\u001b[0;36m0\u001b[0m\u001b[0;34m]\u001b[0m\u001b[0;34m\u001b[0m\u001b[0;34m\u001b[0m\u001b[0m\n",
      "\u001b[0m\u001b[0;32m    999 \u001b[0;31m            \u001b[0mdx\u001b[0m\u001b[0;34m[\u001b[0m\u001b[0mi\u001b[0m\u001b[0;34m]\u001b[0m \u001b[0;34m=\u001b[0m \u001b[0mdiffx\u001b[0m\u001b[0;34m\u001b[0m\u001b[0;34m\u001b[0m\u001b[0m\n",
      "\u001b[0m\n"
     ]
    },
    {
     "name": "stdin",
     "output_type": "stream",
     "text": [
      "ipdb>  u\n"
     ]
    },
    {
     "name": "stdout",
     "output_type": "stream",
     "text": [
      "> \u001b[0;32m<__array_function__ internals>\u001b[0m(6)\u001b[0;36mgradient\u001b[0;34m()\u001b[0m\n",
      "\n"
     ]
    },
    {
     "name": "stdin",
     "output_type": "stream",
     "text": [
      "ipdb>  u\n"
     ]
    },
    {
     "name": "stdout",
     "output_type": "stream",
     "text": [
      "> \u001b[0;32m/Users/edeno/Documents/GitHub/replay_trajectory_paper/src/analysis.py\u001b[0m(215)\u001b[0;36mget_ripple_replay_info\u001b[0;34m()\u001b[0m\n",
      "\u001b[0;32m    213 \u001b[0;31m    \u001b[0mmap_estimate\u001b[0m \u001b[0;34m=\u001b[0m \u001b[0mmap_estimate\u001b[0m\u001b[0;34m.\u001b[0m\u001b[0msqueeze\u001b[0m\u001b[0;34m(\u001b[0m\u001b[0;34m)\u001b[0m\u001b[0;34m\u001b[0m\u001b[0;34m\u001b[0m\u001b[0m\n",
      "\u001b[0m\u001b[0;32m    214 \u001b[0;31m    replay_speed = np.abs(np.gradient(\n",
      "\u001b[0m\u001b[0;32m--> 215 \u001b[0;31m        replay_distance_from_center_well, time))\n",
      "\u001b[0m\u001b[0;32m    216 \u001b[0;31m    \u001b[0mSMOOTH_SIGMA\u001b[0m \u001b[0;34m=\u001b[0m \u001b[0;36m0.0025\u001b[0m\u001b[0;34m\u001b[0m\u001b[0;34m\u001b[0m\u001b[0m\n",
      "\u001b[0m\u001b[0;32m    217 \u001b[0;31m    replay_speed = gaussian_smooth(\n",
      "\u001b[0m\n"
     ]
    },
    {
     "name": "stdin",
     "output_type": "stream",
     "text": [
      "ipdb>  ripple\n"
     ]
    },
    {
     "name": "stdout",
     "output_type": "stream",
     "text": [
      "Pandas(Index=1, start_time=Timedelta('0 days 00:27:03.728866'), end_time=Timedelta('0 days 00:27:03.782866'), duration=0.054000000000000006)\n"
     ]
    },
    {
     "name": "stdin",
     "output_type": "stream",
     "text": [
      "ipdb>  q\n"
     ]
    }
   ],
   "source": [
    "%debug"
   ]
  },
  {
   "cell_type": "code",
   "execution_count": 55,
   "metadata": {},
   "outputs": [
    {
     "data": {
      "text/plain": [
       "(0, 3, 109)"
      ]
     },
     "execution_count": 55,
     "metadata": {},
     "output_type": "execute_result"
    }
   ],
   "source": [
    "ripple_number = 20\n",
    "\n",
    "result = (results\n",
    "          .sel(ripple_number=ripple_number)\n",
    "          .dropna('time', how='all')\n",
    "          .assign_coords(\n",
    "              time=lambda ds: ds.time / np.timedelta64(1, 's')))\n",
    "\n",
    "result.acausal_posterior.shape"
   ]
  },
  {
   "cell_type": "code",
   "execution_count": 42,
   "metadata": {},
   "outputs": [
    {
     "data": {
      "text/html": [
       "<pre>&lt;xarray.DataArray (time: 27, features: 4)&gt;\n",
       "array([[nan, nan, nan, nan],\n",
       "       [nan, nan, nan, nan],\n",
       "       [nan, nan, nan, nan],\n",
       "       [nan, nan, nan, nan],\n",
       "       [nan, nan, nan, nan],\n",
       "       [nan, nan, nan, nan],\n",
       "       [nan, nan, nan, nan],\n",
       "       [nan, nan, nan, nan],\n",
       "       [nan, nan, nan, nan],\n",
       "       [nan, nan, nan, nan],\n",
       "       [nan, nan, nan, nan],\n",
       "       [nan, nan, nan, nan],\n",
       "       [nan, nan, nan, nan],\n",
       "       [nan, nan, nan, nan],\n",
       "       [nan, nan, nan, nan],\n",
       "       [nan, nan, nan, nan],\n",
       "       [nan, nan, nan, nan],\n",
       "       [nan, nan, nan, nan],\n",
       "       [nan, nan, nan, nan],\n",
       "       [nan, nan, nan, nan],\n",
       "       [nan, nan, nan, nan],\n",
       "       [nan, nan, nan, nan],\n",
       "       [nan, nan, nan, nan],\n",
       "       [nan, nan, nan, nan],\n",
       "       [nan, nan, nan, nan],\n",
       "       [nan, nan, nan, nan],\n",
       "       [nan, nan, nan, nan]])\n",
       "Coordinates:\n",
       "  * time      (time) timedelta64[ns] 00:27:03.730200 ... 00:27:03.782200\n",
       "  * features  (features) object &#x27;channel_1_max&#x27; ... &#x27;channel_4_max&#x27;</pre>"
      ],
      "text/plain": [
       "<xarray.DataArray (time: 27, features: 4)>\n",
       "array([[nan, nan, nan, nan],\n",
       "       [nan, nan, nan, nan],\n",
       "       [nan, nan, nan, nan],\n",
       "       [nan, nan, nan, nan],\n",
       "       [nan, nan, nan, nan],\n",
       "       [nan, nan, nan, nan],\n",
       "       [nan, nan, nan, nan],\n",
       "       [nan, nan, nan, nan],\n",
       "       [nan, nan, nan, nan],\n",
       "       [nan, nan, nan, nan],\n",
       "       [nan, nan, nan, nan],\n",
       "       [nan, nan, nan, nan],\n",
       "       [nan, nan, nan, nan],\n",
       "       [nan, nan, nan, nan],\n",
       "       [nan, nan, nan, nan],\n",
       "       [nan, nan, nan, nan],\n",
       "       [nan, nan, nan, nan],\n",
       "       [nan, nan, nan, nan],\n",
       "       [nan, nan, nan, nan],\n",
       "       [nan, nan, nan, nan],\n",
       "       [nan, nan, nan, nan],\n",
       "       [nan, nan, nan, nan],\n",
       "       [nan, nan, nan, nan],\n",
       "       [nan, nan, nan, nan],\n",
       "       [nan, nan, nan, nan],\n",
       "       [nan, nan, nan, nan],\n",
       "       [nan, nan, nan, nan]])\n",
       "Coordinates:\n",
       "  * time      (time) timedelta64[ns] 00:27:03.730200 ... 00:27:03.782200\n",
       "  * features  (features) object 'channel_1_max' ... 'channel_4_max'"
      ]
     },
     "execution_count": 42,
     "metadata": {},
     "output_type": "execute_result"
    }
   ],
   "source": [
    "start_time, end_time = data['ripple_times'].loc[1].start_time, data['ripple_times'].loc[1].end_time\n",
    "\n",
    "data['multiunit'].sel(time=slice(start_time, end_time), tetrodes=21)"
   ]
  },
  {
   "cell_type": "code",
   "execution_count": 10,
   "metadata": {},
   "outputs": [],
   "source": [
    "import xarray as xr\n",
    "from src.parameters import PROCESSED_DATA_DIR\n",
    "import os\n",
    "\n",
    "epoch_key = 'remy', 37, 4\n",
    "\n",
    "animal, day, epoch = epoch_key\n",
    "data_type, dim = 'clusterless', '1D'\n",
    "\n",
    "\n",
    "group = f'/{data_type}/{dim}/no_interneuron/classifier/ripples/'\n",
    "\n",
    "results = xr.open_dataset(\n",
    "    os.path.join(\n",
    "        PROCESSED_DATA_DIR, f'{animal}_{day:02}_{epoch:02}.nc'),\n",
    "    group=group, autoclose=True)"
   ]
  },
  {
   "cell_type": "code",
   "execution_count": 12,
   "metadata": {},
   "outputs": [
    {
     "data": {
      "text/plain": [
       "(0, 3, 109)"
      ]
     },
     "execution_count": 12,
     "metadata": {},
     "output_type": "execute_result"
    }
   ],
   "source": [
    "import numpy as np\n",
    "\n",
    "\n",
    "ripple_number = 1\n",
    "\n",
    "result = (results\n",
    "          .sel(ripple_number=ripple_number)\n",
    "          .dropna('time', how='all')\n",
    "          .assign_coords(\n",
    "              time=lambda ds: ds.time / np.timedelta64(1, 's')))\n",
    "\n",
    "result.acausal_posterior.shape"
   ]
  },
  {
   "cell_type": "code",
   "execution_count": 7,
   "metadata": {},
   "outputs": [
    {
     "data": {
      "text/html": [
       "<pre>&lt;xarray.Dataset&gt;\n",
       "Dimensions:            (position: 109, ripple_number: 315, state: 3, time: 160)\n",
       "Coordinates:\n",
       "  * state              (state) object &#x27;Continuous&#x27; &#x27;Fragmented&#x27; &#x27;Hover&#x27;\n",
       "  * position           (position) float64 1.464 4.391 7.319 ... 338.4 341.3\n",
       "  * time               (time) timedelta64[ns] 00:00:00 ... 00:00:00.318000\n",
       "  * ripple_number      (ripple_number) int64 1 2 3 4 5 6 ... 311 312 313 314 315\n",
       "Data variables:\n",
       "    acausal_posterior  (ripple_number, time, state, position) float64 ...</pre>"
      ],
      "text/plain": [
       "<xarray.Dataset>\n",
       "Dimensions:            (position: 109, ripple_number: 315, state: 3, time: 160)\n",
       "Coordinates:\n",
       "  * state              (state) object 'Continuous' 'Fragmented' 'Hover'\n",
       "  * position           (position) float64 1.464 4.391 7.319 ... 338.4 341.3\n",
       "  * time               (time) timedelta64[ns] 00:00:00 ... 00:00:00.318000\n",
       "  * ripple_number      (ripple_number) int64 1 2 3 4 5 6 ... 311 312 313 314 315\n",
       "Data variables:\n",
       "    acausal_posterior  (ripple_number, time, state, position) float64 ..."
      ]
     },
     "execution_count": 7,
     "metadata": {},
     "output_type": "execute_result"
    }
   ],
   "source": [
    "results"
   ]
  },
  {
   "cell_type": "code",
   "execution_count": 29,
   "metadata": {},
   "outputs": [],
   "source": [
    "from src.parameters import _BRAIN_AREAS, ANIMALS\n",
    "import pandas as pd\n",
    "import numpy as np\n",
    "from loren_frank_data_processing import (\n",
    "    get_trial_time, make_tetrode_dataframe, get_all_multiunit_indicators)\n",
    "\n",
    "epoch_key = 'remy', 35, 2\n",
    "brain_areas = None\n",
    "\n",
    "if brain_areas is None:\n",
    "    brain_areas = _BRAIN_AREAS\n",
    "\n",
    "time = get_trial_time(epoch_key, ANIMALS)\n",
    "time = (pd.Series(np.ones_like(time, dtype=np.float), index=time)\n",
    "        .resample('2ms').mean()\n",
    "        .index)\n",
    "\n",
    "def _time_function(*args, **kwargs):\n",
    "    return time\n",
    "\n",
    "tetrode_info = make_tetrode_dataframe(ANIMALS, epoch_key=epoch_key)\n",
    "is_brain_areas = (\n",
    "    tetrode_info.area.astype(str).str.upper().isin(brain_areas))\n",
    "tetrode_info = tetrode_info.loc[is_brain_areas]\n",
    "multiunit = (get_all_multiunit_indicators(\n",
    "    tetrode_info.index, ANIMALS, _time_function)\n",
    "    .reindex({'time': time}))\n",
    "\n",
    "if epoch_key[0] == \"remy\":\n",
    "    # Remy features aren't extracted using matclust so in different format.\n",
    "    features = multiunit.features.values\n",
    "    features[-1] = \"max_width\"  # last feature is max_width\n",
    "    multiunit[\"features\"] = features\n",
    "    # Convert to milliseconds\n",
    "    multiunit.loc[dict(features='max_width')] *= 1000\n",
    "else:\n",
    "    # Convert to milliseconds\n",
    "    multiunit.loc[dict(features='max_width')] /= 10"
   ]
  },
  {
   "cell_type": "code",
   "execution_count": 30,
   "metadata": {},
   "outputs": [
    {
     "data": {
      "text/plain": [
       "<matplotlib.lines.Line2D at 0x7f9c092fbe80>"
      ]
     },
     "execution_count": 30,
     "metadata": {},
     "output_type": "execute_result"
    },
    {
     "data": {
      "image/png": "[encoded data removed]",
      "text/plain": [
       "<Figure size 432x288 with 1 Axes>"
      ]
     },
     "metadata": {
      "needs_background": "light"
     },
     "output_type": "display_data"
    }
   ],
   "source": [
    "import matplotlib.pyplot as plt\n",
    "\n",
    "\n",
    "tetrode_ind = 11\n",
    "plt.hist(multiunit.isel(tetrodes=tetrode_ind).sel(features='max_width').dropna('time'), bins=50)\n",
    "\n",
    "INTERNEURON_SPIKE_WIDTH_MAX = 0.4 # ms\n",
    "\n",
    "plt.axvline(INTERNEURON_SPIKE_WIDTH_MAX, zorder=10, color='black', linestyle='--')"
   ]
  },
  {
   "cell_type": "code",
   "execution_count": 31,
   "metadata": {},
   "outputs": [
    {
     "data": {
      "text/html": [
       "<pre>&lt;xarray.DataArray (time: 48455)&gt;\n",
       "array([0.43333333, 0.46666667, 0.23333333, ..., 0.13333333, 0.16666667,\n",
       "       0.16666667])\n",
       "Coordinates:\n",
       "  * time      (time) timedelta64[ns] 00:27:02.550200 ... 00:47:34.676200\n",
       "    features  &lt;U9 &#x27;max_width&#x27;</pre>"
      ],
      "text/plain": [
       "<xarray.DataArray (time: 48455)>\n",
       "array([0.43333333, 0.46666667, 0.23333333, ..., 0.13333333, 0.16666667,\n",
       "       0.16666667])\n",
       "Coordinates:\n",
       "  * time      (time) timedelta64[ns] 00:27:02.550200 ... 00:47:34.676200\n",
       "    features  <U9 'max_width'"
      ]
     },
     "execution_count": 31,
     "metadata": {},
     "output_type": "execute_result"
    }
   ],
   "source": [
    "multiunit.isel(tetrodes=tetrode_ind).sel(features='max_width').dropna('time')"
   ]
  },
  {
   "cell_type": "code",
   "execution_count": 41,
   "metadata": {},
   "outputs": [],
   "source": [
    "from src.parameters import _BRAIN_AREAS, ANIMALS\n",
    "import pandas as pd\n",
    "import numpy as np\n",
    "from loren_frank_data_processing import (\n",
    "    get_trial_time, make_tetrode_dataframe, get_all_multiunit_indicators)\n",
    "\n",
    "epoch_key = 'bon', 3, 2\n",
    "brain_areas = None\n",
    "\n",
    "if brain_areas is None:\n",
    "    brain_areas = _BRAIN_AREAS\n",
    "\n",
    "time = get_trial_time(epoch_key, ANIMALS)\n",
    "time = (pd.Series(np.ones_like(time, dtype=np.float), index=time)\n",
    "        .resample('2ms').mean()\n",
    "        .index)\n",
    "\n",
    "def _time_function(*args, **kwargs):\n",
    "    return time\n",
    "\n",
    "tetrode_info = make_tetrode_dataframe(ANIMALS, epoch_key=epoch_key)\n",
    "is_brain_areas = (\n",
    "    tetrode_info.area.astype(str).str.upper().isin(brain_areas))\n",
    "tetrode_info = tetrode_info.loc[is_brain_areas]\n",
    "multiunit = (get_all_multiunit_indicators(\n",
    "    tetrode_info.index, ANIMALS, _time_function)\n",
    "    .reindex({'time': time}))\n",
    "\n",
    "if epoch_key[0] == \"remy\":\n",
    "    # Remy features aren't extracted using matclust so in different format.\n",
    "    features = multiunit.features.values\n",
    "    features[-1] = \"max_width\"  # last feature is max_width\n",
    "    multiunit[\"features\"] = features\n",
    "    # Convert to milliseconds\n",
    "    multiunit.loc[dict(features='max_width')] *= 1000\n",
    "else:\n",
    "    # Convert to milliseconds\n",
    "    multiunit.loc[dict(features='max_width')] /= 1"
   ]
  },
  {
   "cell_type": "code",
   "execution_count": 73,
   "metadata": {},
   "outputs": [
    {
     "data": {
      "text/plain": [
       "<matplotlib.lines.Line2D at 0x7f9ae58c5128>"
      ]
     },
     "execution_count": 73,
     "metadata": {},
     "output_type": "execute_result"
    },
    {
     "data": {
      "image/png": "[encoded data removed]",
      "text/plain": [
       "<Figure size 432x288 with 1 Axes>"
      ]
     },
     "metadata": {
      "needs_background": "light"
     },
     "output_type": "display_data"
    }
   ],
   "source": [
    "import matplotlib.pyplot as plt\n",
    "\n",
    "\n",
    "INTERNEURON_SPIKE_WIDTH_MAX = 0.400 # ms\n",
    "\n",
    "tetrode_ind = 9\n",
    "plt.hist(1000 * (multiunit.sel(features='max_width').isel(tetrodes=tetrode_ind).dropna('time')) / 30000, bins=100);\n",
    "plt.axvline(INTERNEURON_SPIKE_WIDTH_MAX, zorder=10, color='black', linestyle='--')"
   ]
  },
  {
   "cell_type": "code",
   "execution_count": 54,
   "metadata": {},
   "outputs": [
    {
     "data": {
      "image/png": "[encoded data removed]",
      "text/plain": [
       "<Figure size 432x288 with 1 Axes>"
      ]
     },
     "metadata": {
      "needs_background": "light"
     },
     "output_type": "display_data"
    }
   ],
   "source": [
    "plt.hist(multiunit.sel(features='max_width').isel(tetrodes=tetrode_ind).dropna('time'), bins=100);"
   ]
  },
  {
   "cell_type": "code",
   "execution_count": 62,
   "metadata": {},
   "outputs": [
    {
     "data": {
      "text/html": [
       "<pre>&lt;xarray.DataArray ()&gt;\n",
       "array(0.87642999)\n",
       "Coordinates:\n",
       "    features  &lt;U17 &#x27;max_width&#x27;</pre>"
      ],
      "text/plain": [
       "<xarray.DataArray ()>\n",
       "array(0.87642999)\n",
       "Coordinates:\n",
       "    features  <U17 'max_width'"
      ]
     },
     "execution_count": 62,
     "metadata": {},
     "output_type": "execute_result"
    }
   ],
   "source": [
    "(1000 * np.round(multiunit.sel(features='max_width').isel(tetrodes=tetrode_ind).dropna('time')) / 30000 < 0.4).mean()"
   ]
  },
  {
   "cell_type": "code",
   "execution_count": 71,
   "metadata": {},
   "outputs": [
    {
     "data": {
      "text/html": [
       "<pre>&lt;xarray.DataArray (time: 18196)&gt;\n",
       "array([12.08584481,  6.61892906,  9.70135562, ...,  7.22951135,\n",
       "        9.15283663,  8.10893397])\n",
       "Coordinates:\n",
       "  * time      (time) timedelta64[ns] 01:02:09.009700 ... 01:17:39.907700\n",
       "    features  &lt;U17 &#x27;max_width&#x27;</pre>"
      ],
      "text/plain": [
       "<xarray.DataArray (time: 18196)>\n",
       "array([12.08584481,  6.61892906,  9.70135562, ...,  7.22951135,\n",
       "        9.15283663,  8.10893397])\n",
       "Coordinates:\n",
       "  * time      (time) timedelta64[ns] 01:02:09.009700 ... 01:17:39.907700\n",
       "    features  <U17 'max_width'"
      ]
     },
     "execution_count": 71,
     "metadata": {},
     "output_type": "execute_result"
    }
   ],
   "source": [
    "multiunit.sel(features='max_width').isel(tetrodes=tetrode_ind).dropna('time')"
   ]
  },
  {
   "cell_type": "code",
   "execution_count": 72,
   "metadata": {},
   "outputs": [
    {
     "data": {
      "text/html": [
       "<pre>&lt;xarray.DataArray (time: 18196)&gt;\n",
       "array([12.,  7., 10., ...,  7.,  9.,  8.])\n",
       "Coordinates:\n",
       "  * time      (time) timedelta64[ns] 01:02:09.009700 ... 01:17:39.907700\n",
       "    features  &lt;U17 &#x27;max_width&#x27;</pre>"
      ],
      "text/plain": [
       "<xarray.DataArray (time: 18196)>\n",
       "array([12.,  7., 10., ...,  7.,  9.,  8.])\n",
       "Coordinates:\n",
       "  * time      (time) timedelta64[ns] 01:02:09.009700 ... 01:17:39.907700\n",
       "    features  <U17 'max_width'"
      ]
     },
     "execution_count": 72,
     "metadata": {},
     "output_type": "execute_result"
    }
   ],
   "source": [
    "np.round(multiunit.sel(features='max_width').isel(tetrodes=tetrode_ind).dropna('time'))"
   ]
  },
  {
   "cell_type": "code",
   "execution_count": 75,
   "metadata": {},
   "outputs": [
    {
     "name": "stdout",
     "output_type": "stream",
     "text": [
      "blah\n"
     ]
    }
   ],
   "source": [
    "overwrite = False\n",
    "\n",
    "try:\n",
    "    if overwrite:\n",
    "        raise FileNotFoundError\n",
    "    print('blah')\n",
    "except FileNotFoundError:\n",
    "    print('blah2')"
   ]
  },
  {
   "cell_type": "code",
   "execution_count": null,
   "metadata": {},
   "outputs": [],
   "source": []
  }
 ],
 "metadata": {
  "kernelspec": {
   "display_name": "Python [conda env:replay_trajectory_paper] *",
   "language": "python",
   "name": "conda-env-replay_trajectory_paper-py"
  },
  "language_info": {
   "codemirror_mode": {
    "name": "ipython",
    "version": 3
   },
   "file_extension": ".py",
   "mimetype": "text/x-python",
   "name": "python",
   "nbconvert_exporter": "python",
   "pygments_lexer": "ipython3",
   "version": "3.6.10"
  }
 },
 "nbformat": 4,
 "nbformat_minor": 4
}

{
 "cells": [
  {
   "cell_type": "code",
   "execution_count": 1,
   "metadata": {},
   "outputs": [],
   "source": [
    "%matplotlib inline\n",
    "%reload_ext autoreload\n",
    "%autoreload 2\n",
    "%config InlineBackend.figure_format = 'retina'\n",
    "%reload_ext lab_black"
   ]
  },
  {
   "cell_type": "code",
   "execution_count": null,
   "metadata": {},
   "outputs": [],
   "source": [
    "import logging\n",
    "import string\n",
    "import sys\n",
    "import os\n",
    "\n",
    "import matplotlib.pyplot as plt\n",
    "import numpy as np\n",
    "import seaborn as sns\n",
    "\n",
    "from src.figure_utilities import (\n",
    "    PAGE_HEIGHT,\n",
    "    ONE_COLUMN,\n",
    "    TWO_COLUMN,\n",
    "    save_figure,\n",
    "    set_figure_defaults,\n",
    ")\n",
    "from src.parameters import STATE_COLORS, TRANSITION_TO_CATEGORY, STATE_ORDER\n",
    "\n",
    "set_figure_defaults()"
   ]
  },
  {
   "cell_type": "code",
   "execution_count": 3,
   "metadata": {},
   "outputs": [],
   "source": [
    "from glob import glob\n",
    "import os\n",
    "import pandas as pd\n",
    "from src.parameters import PROCESSED_DATA_DIR, STATE_COLORS, STATE_ORDER\n",
    "from src.figure_utilities import TWO_COLUMN, PAGE_HEIGHT, save_figure\n",
    "import seaborn as sns\n",
    "import matplotlib.pyplot as plt\n",
    "from src.visualization import (\n",
    "    plot_category_counts,\n",
    "    plot_category_duration,\n",
    "    plot_linear_position_markers,\n",
    ")\n",
    "\n",
    "from loren_frank_data_processing import make_tetrode_dataframe\n",
    "from src.parameters import ANIMALS, STATE_ORDER, _BRAIN_AREAS\n",
    "\n",
    "\n",
    "def _preprocess(replay_info):\n",
    "    N_UNIQUE_SPIKING = 2\n",
    "    replay_info = replay_info.set_index(\n",
    "        [\"animal\", \"day\", \"epoch\", \"ripple_number\"]\n",
    "    ).rename_axis(index={\"animal\": \"Animal ID\"})\n",
    "    replay_info = replay_info.loc[\n",
    "        replay_info.n_unique_spiking >= N_UNIQUE_SPIKING\n",
    "    ].sort_index()\n",
    "    return replay_info\n",
    "\n",
    "\n",
    "def load_replay_info(epoch_key):\n",
    "    animal, day, epoch = epoch_key\n",
    "    data_type, dim = \"clusterless\", \"1D\"\n",
    "\n",
    "    file_path = os.path.join(\n",
    "        PROCESSED_DATA_DIR,\n",
    "        f\"{animal}_{day:02d}_{epoch:02}_{data_type}_{dim}_replay_info.csv\",\n",
    "    )\n",
    "    return _preprocess(pd.read_csv(file_path))\n",
    "\n",
    "\n",
    "def load_shuffle_replay_info(epoch_key):\n",
    "    animal, day, epoch = epoch_key\n",
    "    data_type, dim = \"clusterless\", \"1D\"\n",
    "\n",
    "    file_paths = glob(\n",
    "        os.path.join(\n",
    "            PROCESSED_DATA_DIR,\n",
    "            \"shuffle\",\n",
    "            f\"{animal}_{day:02d}_{epoch:02}_{data_type}_{dim}_replay_info_shuffle_*.csv\",\n",
    "        )\n",
    "    )\n",
    "    return [_preprocess(pd.read_csv(file_path)) for file_path in file_paths]"
   ]
  },
  {
   "cell_type": "code",
   "execution_count": 4,
   "metadata": {},
   "outputs": [],
   "source": [
    "def get_percent_classified(replay_info):\n",
    "    return replay_info[\"is_classified\"].mean() * 100"
   ]
  },
  {
   "cell_type": "code",
   "execution_count": 7,
   "metadata": {},
   "outputs": [],
   "source": [
    "def plot_is_classified(epoch_key, ax):\n",
    "    replay_info = load_replay_info(epoch_key)\n",
    "    shuffle_replay_infos = load_shuffle_replay_info(epoch_key)\n",
    "\n",
    "    is_classified = np.asarray([get_percent_classified(replay_info)])\n",
    "    shuffle_is_classified = np.asarray(\n",
    "        [\n",
    "            get_percent_classified(shuffle_replay_info)\n",
    "            for shuffle_replay_info in shuffle_replay_infos\n",
    "        ]\n",
    "    )\n",
    "\n",
    "    sns.swarmplot(shuffle_is_classified, color=\"lightgrey\", ax=ax)\n",
    "    sns.swarmplot(is_classified, color=\"black\", ax=ax)\n",
    "    ax.set_xlim((-1, 102))\n",
    "    ax.set_xticks((0, 100))\n",
    "    ax.set_xticklabels((0, 100))\n",
    "    ax.set_xlabel(\"Percent Classified\")\n",
    "    animal, day, epoch = epoch_key\n",
    "    ax.set_title(f\"Epoch ID =\\n{epoch_key[0]}, {epoch_key[1]}, {epoch_key[2]}\")\n",
    "    sns.despine(left=True)\n",
    "\n",
    "    print(epoch_key)\n",
    "    print(f\"n_ripples = {replay_info.shape[0]}\")\n",
    "    print(f\"median shuffle classified = {np.median(shuffle_is_classified):.1f}\")\n",
    "    print(f\"median classified = {is_classified[0]:.1f}\")\n",
    "    print(\"\\n\")"
   ]
  },
  {
   "cell_type": "code",
   "execution_count": 67,
   "metadata": {},
   "outputs": [
    {
     "name": "stdout",
     "output_type": "stream",
     "text": [
      "('bon', 3, 2)\n",
      "n_ripples = 251\n",
      "median shuffle classified = 8.8\n",
      "median classified = 99.2\n",
      "\n",
      "\n",
      "('remy', 35, 2)\n",
      "n_ripples = 344\n",
      "median shuffle classified = 14.0\n",
      "median classified = 96.5\n",
      "\n",
      "\n"
     ]
    },
    {
     "data": {
      "image/png": "[encoded data removed]",
      "text/plain": [
       "<Figure size 252.283x140.031 with 2 Axes>"
      ]
     },
     "metadata": {
      "image/png": {
       "height": 171,
       "width": 217
      }
     },
     "output_type": "display_data"
    }
   ],
   "source": [
    "fig, axes = plt.subplots(1, 2, figsize=(ONE_COLUMN, PAGE_HEIGHT / 5))\n",
    "epoch_keys = [(\"bon\", 3, 2), (\"remy\", 35, 2)]\n",
    "\n",
    "for ax, epoch_key in zip(axes.flat, epoch_keys):\n",
    "    plot_is_classified(epoch_key, ax)\n",
    "\n",
    "save_figure(os.path.join(\"Figure5\", \"figure5_is_classified\"))"
   ]
  },
  {
   "cell_type": "code",
   "execution_count": null,
   "metadata": {},
   "outputs": [],
   "source": []
  }
 ],
 "metadata": {
  "kernelspec": {
   "display_name": "Python [conda env:replay_trajectory_paper] *",
   "language": "python",
   "name": "conda-env-replay_trajectory_paper-py"
  },
  "language_info": {
   "codemirror_mode": {
    "name": "ipython",
    "version": 3
   },
   "file_extension": ".py",
   "mimetype": "text/x-python",
   "name": "python",
   "nbconvert_exporter": "python",
   "pygments_lexer": "ipython3",
   "version": "3.6.10"
  }
 },
 "nbformat": 4,
 "nbformat_minor": 4
}

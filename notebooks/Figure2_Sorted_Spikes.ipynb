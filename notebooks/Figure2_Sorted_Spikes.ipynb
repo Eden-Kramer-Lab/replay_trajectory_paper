{
 "cells": [
  {
   "cell_type": "code",
   "execution_count": 1,
   "metadata": {},
   "outputs": [],
   "source": [
    "%matplotlib inline\n",
    "%reload_ext autoreload\n",
    "%autoreload 2\n",
    "%config InlineBackend.figure_format = 'retina'"
   ]
  },
  {
   "cell_type": "markdown",
   "metadata": {},
   "source": [
    "## Set Plotting Defaults"
   ]
  },
  {
   "cell_type": "code",
   "execution_count": 2,
   "metadata": {},
   "outputs": [
    {
     "ename": "KeyboardInterrupt",
     "evalue": "",
     "output_type": "error",
     "traceback": [
      "\u001b[0;31m---------------------------------------------------------------------------\u001b[0m",
      "\u001b[0;31mKeyboardInterrupt\u001b[0m                         Traceback (most recent call last)",
      "\u001b[0;32m<ipython-input-2-d8803b914df6>\u001b[0m in \u001b[0;36m<module>\u001b[0;34m\u001b[0m\n\u001b[1;32m      3\u001b[0m \u001b[0;34m\u001b[0m\u001b[0m\n\u001b[1;32m      4\u001b[0m \u001b[0;32mimport\u001b[0m \u001b[0mmatplotlib\u001b[0m\u001b[0;34m\u001b[0m\u001b[0;34m\u001b[0m\u001b[0m\n\u001b[0;32m----> 5\u001b[0;31m \u001b[0;32mimport\u001b[0m \u001b[0mseaborn\u001b[0m \u001b[0;32mas\u001b[0m \u001b[0msns\u001b[0m\u001b[0;34m\u001b[0m\u001b[0;34m\u001b[0m\u001b[0m\n\u001b[0m\u001b[1;32m      6\u001b[0m \u001b[0;32mimport\u001b[0m \u001b[0mnumpy\u001b[0m \u001b[0;32mas\u001b[0m \u001b[0mnp\u001b[0m\u001b[0;34m\u001b[0m\u001b[0;34m\u001b[0m\u001b[0m\n\u001b[1;32m      7\u001b[0m \u001b[0;32mimport\u001b[0m \u001b[0mmatplotlib\u001b[0m\u001b[0;34m.\u001b[0m\u001b[0mpyplot\u001b[0m \u001b[0;32mas\u001b[0m \u001b[0mplt\u001b[0m\u001b[0;34m\u001b[0m\u001b[0;34m\u001b[0m\u001b[0m\n",
      "\u001b[0;32m~/miniconda3/envs/replay_trajectory_paper/lib/python3.6/site-packages/seaborn/__init__.py\u001b[0m in \u001b[0;36m<module>\u001b[0;34m\u001b[0m\n\u001b[1;32m      4\u001b[0m \u001b[0;34m\u001b[0m\u001b[0m\n\u001b[1;32m      5\u001b[0m \u001b[0;31m# Import seaborn objects\u001b[0m\u001b[0;34m\u001b[0m\u001b[0;34m\u001b[0m\u001b[0;34m\u001b[0m\u001b[0m\n\u001b[0;32m----> 6\u001b[0;31m \u001b[0;32mfrom\u001b[0m \u001b[0;34m.\u001b[0m\u001b[0mrcmod\u001b[0m \u001b[0;32mimport\u001b[0m \u001b[0;34m*\u001b[0m\u001b[0;34m\u001b[0m\u001b[0;34m\u001b[0m\u001b[0m\n\u001b[0m\u001b[1;32m      7\u001b[0m \u001b[0;32mfrom\u001b[0m \u001b[0;34m.\u001b[0m\u001b[0mutils\u001b[0m \u001b[0;32mimport\u001b[0m \u001b[0;34m*\u001b[0m\u001b[0;34m\u001b[0m\u001b[0;34m\u001b[0m\u001b[0m\n\u001b[1;32m      8\u001b[0m \u001b[0;32mfrom\u001b[0m \u001b[0;34m.\u001b[0m\u001b[0mpalettes\u001b[0m \u001b[0;32mimport\u001b[0m \u001b[0;34m*\u001b[0m\u001b[0;34m\u001b[0m\u001b[0;34m\u001b[0m\u001b[0m\n",
      "\u001b[0;32m~/miniconda3/envs/replay_trajectory_paper/lib/python3.6/site-packages/seaborn/rcmod.py\u001b[0m in \u001b[0;36m<module>\u001b[0;34m\u001b[0m\n\u001b[1;32m      3\u001b[0m \u001b[0;32mimport\u001b[0m \u001b[0mfunctools\u001b[0m\u001b[0;34m\u001b[0m\u001b[0;34m\u001b[0m\u001b[0m\n\u001b[1;32m      4\u001b[0m \u001b[0;32mimport\u001b[0m \u001b[0mmatplotlib\u001b[0m \u001b[0;32mas\u001b[0m \u001b[0mmpl\u001b[0m\u001b[0;34m\u001b[0m\u001b[0;34m\u001b[0m\u001b[0m\n\u001b[0;32m----> 5\u001b[0;31m \u001b[0;32mfrom\u001b[0m \u001b[0;34m.\u001b[0m \u001b[0;32mimport\u001b[0m \u001b[0mpalettes\u001b[0m\u001b[0;34m,\u001b[0m \u001b[0m_orig_rc_params\u001b[0m\u001b[0;34m\u001b[0m\u001b[0;34m\u001b[0m\u001b[0m\n\u001b[0m\u001b[1;32m      6\u001b[0m \u001b[0;34m\u001b[0m\u001b[0m\n\u001b[1;32m      7\u001b[0m \u001b[0;34m\u001b[0m\u001b[0m\n",
      "\u001b[0;32m~/miniconda3/envs/replay_trajectory_paper/lib/python3.6/site-packages/seaborn/palettes.py\u001b[0m in \u001b[0;36m<module>\u001b[0;34m\u001b[0m\n\u001b[1;32m     10\u001b[0m \u001b[0;32mfrom\u001b[0m \u001b[0;34m.\u001b[0m\u001b[0mexternal\u001b[0m\u001b[0;34m.\u001b[0m\u001b[0msix\u001b[0m\u001b[0;34m.\u001b[0m\u001b[0mmoves\u001b[0m \u001b[0;32mimport\u001b[0m \u001b[0mrange\u001b[0m\u001b[0;34m\u001b[0m\u001b[0;34m\u001b[0m\u001b[0m\n\u001b[1;32m     11\u001b[0m \u001b[0;34m\u001b[0m\u001b[0m\n\u001b[0;32m---> 12\u001b[0;31m \u001b[0;32mfrom\u001b[0m \u001b[0;34m.\u001b[0m\u001b[0mutils\u001b[0m \u001b[0;32mimport\u001b[0m \u001b[0mdesaturate\u001b[0m\u001b[0;34m,\u001b[0m \u001b[0mset_hls_values\u001b[0m\u001b[0;34m,\u001b[0m \u001b[0mget_color_cycle\u001b[0m\u001b[0;34m\u001b[0m\u001b[0;34m\u001b[0m\u001b[0m\n\u001b[0m\u001b[1;32m     13\u001b[0m \u001b[0;32mfrom\u001b[0m \u001b[0;34m.\u001b[0m\u001b[0mcolors\u001b[0m \u001b[0;32mimport\u001b[0m \u001b[0mxkcd_rgb\u001b[0m\u001b[0;34m,\u001b[0m \u001b[0mcrayons\u001b[0m\u001b[0;34m\u001b[0m\u001b[0;34m\u001b[0m\u001b[0m\n\u001b[1;32m     14\u001b[0m \u001b[0;34m\u001b[0m\u001b[0m\n",
      "\u001b[0;32m~/miniconda3/envs/replay_trajectory_paper/lib/python3.6/site-packages/seaborn/utils.py\u001b[0m in \u001b[0;36m<module>\u001b[0;34m\u001b[0m\n\u001b[1;32m      6\u001b[0m \u001b[0;32mimport\u001b[0m \u001b[0mnumpy\u001b[0m \u001b[0;32mas\u001b[0m \u001b[0mnp\u001b[0m\u001b[0;34m\u001b[0m\u001b[0;34m\u001b[0m\u001b[0m\n\u001b[1;32m      7\u001b[0m \u001b[0;32mfrom\u001b[0m \u001b[0mscipy\u001b[0m \u001b[0;32mimport\u001b[0m \u001b[0mstats\u001b[0m\u001b[0;34m\u001b[0m\u001b[0;34m\u001b[0m\u001b[0m\n\u001b[0;32m----> 8\u001b[0;31m \u001b[0;32mimport\u001b[0m \u001b[0mpandas\u001b[0m \u001b[0;32mas\u001b[0m \u001b[0mpd\u001b[0m\u001b[0;34m\u001b[0m\u001b[0;34m\u001b[0m\u001b[0m\n\u001b[0m\u001b[1;32m      9\u001b[0m \u001b[0;32mimport\u001b[0m \u001b[0mmatplotlib\u001b[0m \u001b[0;32mas\u001b[0m \u001b[0mmpl\u001b[0m\u001b[0;34m\u001b[0m\u001b[0;34m\u001b[0m\u001b[0m\n\u001b[1;32m     10\u001b[0m \u001b[0;32mimport\u001b[0m \u001b[0mmatplotlib\u001b[0m\u001b[0;34m.\u001b[0m\u001b[0mcolors\u001b[0m \u001b[0;32mas\u001b[0m \u001b[0mmplcol\u001b[0m\u001b[0;34m\u001b[0m\u001b[0;34m\u001b[0m\u001b[0m\n",
      "\u001b[0;32m~/miniconda3/envs/replay_trajectory_paper/lib/python3.6/site-packages/pandas/__init__.py\u001b[0m in \u001b[0;36m<module>\u001b[0;34m\u001b[0m\n\u001b[1;32m     53\u001b[0m \u001b[0;32mimport\u001b[0m \u001b[0mpandas\u001b[0m\u001b[0;34m.\u001b[0m\u001b[0mcore\u001b[0m\u001b[0;34m.\u001b[0m\u001b[0mconfig_init\u001b[0m\u001b[0;34m\u001b[0m\u001b[0;34m\u001b[0m\u001b[0m\n\u001b[1;32m     54\u001b[0m \u001b[0;34m\u001b[0m\u001b[0m\n\u001b[0;32m---> 55\u001b[0;31m from pandas.core.api import (\n\u001b[0m\u001b[1;32m     56\u001b[0m     \u001b[0;31m# dtype\u001b[0m\u001b[0;34m\u001b[0m\u001b[0;34m\u001b[0m\u001b[0;34m\u001b[0m\u001b[0m\n\u001b[1;32m     57\u001b[0m     \u001b[0mInt8Dtype\u001b[0m\u001b[0;34m,\u001b[0m\u001b[0;34m\u001b[0m\u001b[0;34m\u001b[0m\u001b[0m\n",
      "\u001b[0;32m~/miniconda3/envs/replay_trajectory_paper/lib/python3.6/site-packages/pandas/core/api.py\u001b[0m in \u001b[0;36m<module>\u001b[0;34m\u001b[0m\n\u001b[1;32m     22\u001b[0m )\n\u001b[1;32m     23\u001b[0m \u001b[0;32mfrom\u001b[0m \u001b[0mpandas\u001b[0m\u001b[0;34m.\u001b[0m\u001b[0mcore\u001b[0m\u001b[0;34m.\u001b[0m\u001b[0marrays\u001b[0m \u001b[0;32mimport\u001b[0m \u001b[0mCategorical\u001b[0m\u001b[0;34m,\u001b[0m \u001b[0marray\u001b[0m\u001b[0;34m\u001b[0m\u001b[0;34m\u001b[0m\u001b[0m\n\u001b[0;32m---> 24\u001b[0;31m \u001b[0;32mfrom\u001b[0m \u001b[0mpandas\u001b[0m\u001b[0;34m.\u001b[0m\u001b[0mcore\u001b[0m\u001b[0;34m.\u001b[0m\u001b[0mgroupby\u001b[0m \u001b[0;32mimport\u001b[0m \u001b[0mGrouper\u001b[0m\u001b[0;34m,\u001b[0m \u001b[0mNamedAgg\u001b[0m\u001b[0;34m\u001b[0m\u001b[0;34m\u001b[0m\u001b[0m\n\u001b[0m\u001b[1;32m     25\u001b[0m \u001b[0;32mfrom\u001b[0m \u001b[0mpandas\u001b[0m\u001b[0;34m.\u001b[0m\u001b[0mio\u001b[0m\u001b[0;34m.\u001b[0m\u001b[0mformats\u001b[0m\u001b[0;34m.\u001b[0m\u001b[0mformat\u001b[0m \u001b[0;32mimport\u001b[0m \u001b[0mset_eng_float_format\u001b[0m\u001b[0;34m\u001b[0m\u001b[0;34m\u001b[0m\u001b[0m\n\u001b[1;32m     26\u001b[0m from pandas.core.index import (\n",
      "\u001b[0;32m~/miniconda3/envs/replay_trajectory_paper/lib/python3.6/site-packages/pandas/core/groupby/__init__.py\u001b[0m in \u001b[0;36m<module>\u001b[0;34m\u001b[0m\n\u001b[0;32m----> 1\u001b[0;31m from pandas.core.groupby.generic import (  # noqa: F401\n\u001b[0m\u001b[1;32m      2\u001b[0m     \u001b[0mDataFrameGroupBy\u001b[0m\u001b[0;34m,\u001b[0m\u001b[0;34m\u001b[0m\u001b[0;34m\u001b[0m\u001b[0m\n\u001b[1;32m      3\u001b[0m     \u001b[0mNamedAgg\u001b[0m\u001b[0;34m,\u001b[0m\u001b[0;34m\u001b[0m\u001b[0;34m\u001b[0m\u001b[0m\n\u001b[1;32m      4\u001b[0m     \u001b[0mSeriesGroupBy\u001b[0m\u001b[0;34m,\u001b[0m\u001b[0;34m\u001b[0m\u001b[0;34m\u001b[0m\u001b[0m\n\u001b[1;32m      5\u001b[0m )\n",
      "\u001b[0;32m~/miniconda3/envs/replay_trajectory_paper/lib/python3.6/site-packages/pandas/core/groupby/generic.py\u001b[0m in \u001b[0;36m<module>\u001b[0;34m\u001b[0m\n\u001b[1;32m     42\u001b[0m \u001b[0;32mfrom\u001b[0m \u001b[0mpandas\u001b[0m\u001b[0;34m.\u001b[0m\u001b[0mcore\u001b[0m\u001b[0;34m.\u001b[0m\u001b[0mbase\u001b[0m \u001b[0;32mimport\u001b[0m \u001b[0mDataError\u001b[0m\u001b[0;34m,\u001b[0m \u001b[0mSpecificationError\u001b[0m\u001b[0;34m\u001b[0m\u001b[0;34m\u001b[0m\u001b[0m\n\u001b[1;32m     43\u001b[0m \u001b[0;32mimport\u001b[0m \u001b[0mpandas\u001b[0m\u001b[0;34m.\u001b[0m\u001b[0mcore\u001b[0m\u001b[0;34m.\u001b[0m\u001b[0mcommon\u001b[0m \u001b[0;32mas\u001b[0m \u001b[0mcom\u001b[0m\u001b[0;34m\u001b[0m\u001b[0;34m\u001b[0m\u001b[0m\n\u001b[0;32m---> 44\u001b[0;31m \u001b[0;32mfrom\u001b[0m \u001b[0mpandas\u001b[0m\u001b[0;34m.\u001b[0m\u001b[0mcore\u001b[0m\u001b[0;34m.\u001b[0m\u001b[0mframe\u001b[0m \u001b[0;32mimport\u001b[0m \u001b[0mDataFrame\u001b[0m\u001b[0;34m\u001b[0m\u001b[0;34m\u001b[0m\u001b[0m\n\u001b[0m\u001b[1;32m     45\u001b[0m \u001b[0;32mfrom\u001b[0m \u001b[0mpandas\u001b[0m\u001b[0;34m.\u001b[0m\u001b[0mcore\u001b[0m\u001b[0;34m.\u001b[0m\u001b[0mgeneric\u001b[0m \u001b[0;32mimport\u001b[0m \u001b[0mABCDataFrame\u001b[0m\u001b[0;34m,\u001b[0m \u001b[0mABCSeries\u001b[0m\u001b[0;34m,\u001b[0m \u001b[0mNDFrame\u001b[0m\u001b[0;34m,\u001b[0m \u001b[0m_shared_docs\u001b[0m\u001b[0;34m\u001b[0m\u001b[0;34m\u001b[0m\u001b[0m\n\u001b[1;32m     46\u001b[0m \u001b[0;32mfrom\u001b[0m \u001b[0mpandas\u001b[0m\u001b[0;34m.\u001b[0m\u001b[0mcore\u001b[0m\u001b[0;34m.\u001b[0m\u001b[0mgroupby\u001b[0m \u001b[0;32mimport\u001b[0m \u001b[0mbase\u001b[0m\u001b[0;34m\u001b[0m\u001b[0;34m\u001b[0m\u001b[0m\n",
      "\u001b[0;32m~/miniconda3/envs/replay_trajectory_paper/lib/python3.6/site-packages/pandas/core/frame.py\u001b[0m in \u001b[0;36m<module>\u001b[0;34m\u001b[0m\n\u001b[1;32m     86\u001b[0m \u001b[0;32mfrom\u001b[0m \u001b[0mpandas\u001b[0m\u001b[0;34m.\u001b[0m\u001b[0mcore\u001b[0m\u001b[0;34m.\u001b[0m\u001b[0marrays\u001b[0m\u001b[0;34m.\u001b[0m\u001b[0mdatetimelike\u001b[0m \u001b[0;32mimport\u001b[0m \u001b[0mDatetimeLikeArrayMixin\u001b[0m \u001b[0;32mas\u001b[0m \u001b[0mDatetimeLikeArray\u001b[0m\u001b[0;34m\u001b[0m\u001b[0;34m\u001b[0m\u001b[0m\n\u001b[1;32m     87\u001b[0m \u001b[0;32mfrom\u001b[0m \u001b[0mpandas\u001b[0m\u001b[0;34m.\u001b[0m\u001b[0mcore\u001b[0m\u001b[0;34m.\u001b[0m\u001b[0marrays\u001b[0m\u001b[0;34m.\u001b[0m\u001b[0msparse\u001b[0m \u001b[0;32mimport\u001b[0m \u001b[0mSparseFrameAccessor\u001b[0m\u001b[0;34m\u001b[0m\u001b[0;34m\u001b[0m\u001b[0m\n\u001b[0;32m---> 88\u001b[0;31m \u001b[0;32mfrom\u001b[0m \u001b[0mpandas\u001b[0m\u001b[0;34m.\u001b[0m\u001b[0mcore\u001b[0m\u001b[0;34m.\u001b[0m\u001b[0mgeneric\u001b[0m \u001b[0;32mimport\u001b[0m \u001b[0mNDFrame\u001b[0m\u001b[0;34m,\u001b[0m \u001b[0m_shared_docs\u001b[0m\u001b[0;34m\u001b[0m\u001b[0;34m\u001b[0m\u001b[0m\n\u001b[0m\u001b[1;32m     89\u001b[0m from pandas.core.index import (\n\u001b[1;32m     90\u001b[0m     \u001b[0mIndex\u001b[0m\u001b[0;34m,\u001b[0m\u001b[0;34m\u001b[0m\u001b[0;34m\u001b[0m\u001b[0m\n",
      "\u001b[0;32m~/miniconda3/envs/replay_trajectory_paper/lib/python3.6/site-packages/pandas/core/generic.py\u001b[0m in \u001b[0;36m<module>\u001b[0;34m\u001b[0m\n\u001b[1;32m     65\u001b[0m \u001b[0;32mfrom\u001b[0m \u001b[0mpandas\u001b[0m\u001b[0;34m.\u001b[0m\u001b[0mcore\u001b[0m\u001b[0;34m.\u001b[0m\u001b[0mindexes\u001b[0m\u001b[0;34m.\u001b[0m\u001b[0mperiod\u001b[0m \u001b[0;32mimport\u001b[0m \u001b[0mPeriod\u001b[0m\u001b[0;34m,\u001b[0m \u001b[0mPeriodIndex\u001b[0m\u001b[0;34m\u001b[0m\u001b[0;34m\u001b[0m\u001b[0m\n\u001b[1;32m     66\u001b[0m \u001b[0;32mimport\u001b[0m \u001b[0mpandas\u001b[0m\u001b[0;34m.\u001b[0m\u001b[0mcore\u001b[0m\u001b[0;34m.\u001b[0m\u001b[0mindexing\u001b[0m \u001b[0;32mas\u001b[0m \u001b[0mindexing\u001b[0m\u001b[0;34m\u001b[0m\u001b[0;34m\u001b[0m\u001b[0m\n\u001b[0;32m---> 67\u001b[0;31m \u001b[0;32mfrom\u001b[0m \u001b[0mpandas\u001b[0m\u001b[0;34m.\u001b[0m\u001b[0mcore\u001b[0m\u001b[0;34m.\u001b[0m\u001b[0minternals\u001b[0m \u001b[0;32mimport\u001b[0m \u001b[0mBlockManager\u001b[0m\u001b[0;34m\u001b[0m\u001b[0;34m\u001b[0m\u001b[0m\n\u001b[0m\u001b[1;32m     68\u001b[0m \u001b[0;32mfrom\u001b[0m \u001b[0mpandas\u001b[0m\u001b[0;34m.\u001b[0m\u001b[0mcore\u001b[0m\u001b[0;34m.\u001b[0m\u001b[0mops\u001b[0m \u001b[0;32mimport\u001b[0m \u001b[0m_align_method_FRAME\u001b[0m\u001b[0;34m\u001b[0m\u001b[0;34m\u001b[0m\u001b[0m\n\u001b[1;32m     69\u001b[0m \u001b[0;34m\u001b[0m\u001b[0m\n",
      "\u001b[0;32m~/miniconda3/envs/replay_trajectory_paper/lib/python3.6/site-packages/pandas/core/internals/__init__.py\u001b[0m in \u001b[0;36m<module>\u001b[0;34m\u001b[0m\n\u001b[0;32m----> 1\u001b[0;31m from .blocks import (  # noqa: F401\n\u001b[0m\u001b[1;32m      2\u001b[0m     \u001b[0mBlock\u001b[0m\u001b[0;34m,\u001b[0m\u001b[0;34m\u001b[0m\u001b[0;34m\u001b[0m\u001b[0m\n\u001b[1;32m      3\u001b[0m     \u001b[0mBoolBlock\u001b[0m\u001b[0;34m,\u001b[0m\u001b[0;34m\u001b[0m\u001b[0;34m\u001b[0m\u001b[0m\n\u001b[1;32m      4\u001b[0m     \u001b[0mCategoricalBlock\u001b[0m\u001b[0;34m,\u001b[0m\u001b[0;34m\u001b[0m\u001b[0;34m\u001b[0m\u001b[0m\n\u001b[1;32m      5\u001b[0m     \u001b[0mComplexBlock\u001b[0m\u001b[0;34m,\u001b[0m\u001b[0;34m\u001b[0m\u001b[0;34m\u001b[0m\u001b[0m\n",
      "\u001b[0;32m~/miniconda3/envs/replay_trajectory_paper/lib/python3.6/importlib/_bootstrap.py\u001b[0m in \u001b[0;36m_find_and_load\u001b[0;34m(name, import_)\u001b[0m\n",
      "\u001b[0;32m~/miniconda3/envs/replay_trajectory_paper/lib/python3.6/importlib/_bootstrap.py\u001b[0m in \u001b[0;36m_find_and_load_unlocked\u001b[0;34m(name, import_)\u001b[0m\n",
      "\u001b[0;32m~/miniconda3/envs/replay_trajectory_paper/lib/python3.6/importlib/_bootstrap.py\u001b[0m in \u001b[0;36m_load_unlocked\u001b[0;34m(spec)\u001b[0m\n",
      "\u001b[0;32m~/miniconda3/envs/replay_trajectory_paper/lib/python3.6/importlib/_bootstrap_external.py\u001b[0m in \u001b[0;36mexec_module\u001b[0;34m(self, module)\u001b[0m\n",
      "\u001b[0;32m~/miniconda3/envs/replay_trajectory_paper/lib/python3.6/importlib/_bootstrap_external.py\u001b[0m in \u001b[0;36mget_code\u001b[0;34m(self, fullname)\u001b[0m\n",
      "\u001b[0;32m~/miniconda3/envs/replay_trajectory_paper/lib/python3.6/importlib/_bootstrap_external.py\u001b[0m in \u001b[0;36m_compile_bytecode\u001b[0;34m(data, name, bytecode_path, source_path)\u001b[0m\n",
      "\u001b[0;31mKeyboardInterrupt\u001b[0m: "
     ]
    }
   ],
   "source": [
    "import logging\n",
    "import os\n",
    "\n",
    "import matplotlib\n",
    "import seaborn as sns\n",
    "import numpy as np\n",
    "import matplotlib.pyplot as plt\n",
    "\n",
    "from src.parameters import FIGURE_DIR\n",
    "\n",
    "# Set background and fontsize\n",
    "rc_params = {\n",
    "    'pdf.fonttype': 42, # Make fonts editable in Adobe Illustrator\n",
    "    'ps.fonttype': 42, # Make fonts editable in Adobe Illustrator\n",
    "    'axes.labelcolor': '#222222',\n",
    "    'axes.labelsize': 9,\n",
    "    'text.color': '#222222',\n",
    "    'font.sans-serif' : 'Helvetica',\n",
    "    'text.usetex': False,\n",
    "    'figure.figsize': (7.2, 4.45),\n",
    "    'xtick.major.size': 0.00,\n",
    "    'ytick.major.size': 0.00,\n",
    "    'axes.labelpad': 0.1,\n",
    "    }\n",
    "sns.set(style='white', context='paper', rc=rc_params,\n",
    "        font_scale=1.0)\n",
    "\n",
    "# Make analysis reproducible\n",
    "np.random.seed(0)\n",
    "\n",
    "# Enable logging\n",
    "logging.basicConfig(level=logging.INFO)\n",
    "\n",
    "is_save_figures = False"
   ]
  },
  {
   "cell_type": "code",
   "execution_count": null,
   "metadata": {},
   "outputs": [],
   "source": [
    "def save_figure(figure_name, is_save_figures):\n",
    "    if is_save_figures:\n",
    "        figure_name = os.path.join(FIGURE_DIR, figure_name)\n",
    "        plt.savefig(figure_name + '.pdf', transparent=True, dpi=300, bbox_inches='tight')"
   ]
  },
  {
   "cell_type": "markdown",
   "metadata": {},
   "source": [
    "## Simulate Sorted Spikes Data"
   ]
  },
  {
   "cell_type": "code",
   "execution_count": null,
   "metadata": {},
   "outputs": [],
   "source": [
    "from src.sorted_spikes_simulation import make_simulated_run_data\n",
    "from src.figure_utilities import TWO_COLUMN, GOLDEN_RATIO\n",
    "\n",
    "time, linear_distance, sampling_frequency, spikes, place_fields = make_simulated_run_data()\n",
    "spike_ind, neuron_ind = np.nonzero(spikes)\n",
    "cmap = plt.get_cmap('tab20')\n",
    "\n",
    "fig, axes = plt.subplots(3, 1, figsize=(TWO_COLUMN, TWO_COLUMN * GOLDEN_RATIO), constrained_layout=True)\n",
    "for place_field, color in zip(place_fields.T, cmap.colors):\n",
    "    axes[0].plot(linear_distance, place_field, linewidth=3, color=color)\n",
    "axes[0].set_xlabel('Position [cm]')\n",
    "axes[0].set_ylabel('Firing Rate\\n[spikes / s]')\n",
    "axes[0].set_title('Simulated Place Fields')\n",
    "axes[0].set_xlim((linear_distance.min(), linear_distance.max()))\n",
    "axes[0].set_yticks([0, np.round(place_fields.max())])\n",
    "axes[0].text(-0.10, 1.0, 'a', transform=axes[0].transAxes, \n",
    "        size=15, weight='extra bold')\n",
    "\n",
    "axes[1].plot(time, linear_distance, linewidth=3)\n",
    "axes[1].set_ylabel('Position [cm]')\n",
    "axes[1].set_title('Simulated Position and Spikes')\n",
    "axes[1].set_yticks([0, np.round(linear_distance.max())])\n",
    "axes[1].set_xticks([])\n",
    "axes[1].set_xlim((0.0, 90.0))\n",
    "axes[1].text(-0.10, 1.0, 'b', transform=axes[1].transAxes, \n",
    "        size=15, weight='extra bold')\n",
    "\n",
    "c = [cmap.colors[ind] for ind in neuron_ind]\n",
    "axes[2].scatter(time[spike_ind], neuron_ind + 1, c=c, s=0.5)\n",
    "axes[2].set_yticks((1, spikes.shape[1]))\n",
    "axes[2].set_ylabel('Cells')\n",
    "\n",
    "axes[2].set_xlabel('Time [s]')\n",
    "axes[2].set_xlim((0.0, 90.0))\n",
    "\n",
    "sns.despine()\n",
    "\n",
    "# save_figure('Figure2', is_save_figures)"
   ]
  },
  {
   "cell_type": "markdown",
   "metadata": {},
   "source": [
    "## Fit Sorted Spikes Classifier"
   ]
  },
  {
   "cell_type": "code",
   "execution_count": null,
   "metadata": {},
   "outputs": [],
   "source": [
    "from replay_trajectory_classification import SortedSpikesClassifier\n",
    "from replay_trajectory_classification.state_transition import estimate_movement_var\n",
    "\n",
    "movement_var = estimate_movement_var(linear_distance, sampling_frequency)\n",
    "\n",
    "classifier = SortedSpikesClassifier(movement_var=movement_var,\n",
    "                                    replay_speed=120,\n",
    "                                    spike_model_penalty=0.5,\n",
    "                                    place_bin_size=np.sqrt(movement_var))\n",
    "classifier.fit(linear_distance, spikes)"
   ]
  },
  {
   "cell_type": "code",
   "execution_count": null,
   "metadata": {},
   "outputs": [],
   "source": [
    "g = (classifier.place_fields_ * sampling_frequency).plot(x='position', col='neuron', col_wrap=4, label='Estimated Rate')\n",
    "for ind, (ax, true_field) in enumerate(zip(g.axes.flat, place_fields.T)):\n",
    "    ax.plot(linear_distance, true_field, linestyle='-',\n",
    "            zorder=0, linewidth=3, alpha=0.4, label='True Rate')\n",
    "    ax.set_xlim((linear_distance.min(), linear_distance.max()))\n",
    "    ax.set_title(f'Neuron = {ind + 1}')\n",
    "sns.despine()\n",
    "\n",
    "g.axes[0, 0].set_ylabel('Firing Rate (spikes / s)')\n",
    "g.axes[0, 0].legend(frameon=False)\n",
    "\n",
    "for ax in g.axes[-1]:\n",
    "    ax.set_xlabel('Position (cm)')"
   ]
  },
  {
   "cell_type": "code",
   "execution_count": null,
   "metadata": {},
   "outputs": [],
   "source": [
    "fig, axes = plt.subplots(3, 3, figsize=(9, 9),\n",
    "                         sharex=True, sharey=True)\n",
    "continuous_transition_types = np.asarray(classifier.continuous_transition_types)\n",
    "x, y = np.meshgrid(classifier.place_bin_edges_, classifier.place_bin_edges_)\n",
    "state_names = ['continuous', 'fragmented', 'hover']\n",
    "bin_min, bin_max = linear_distance.min(), linear_distance.max()\n",
    "\n",
    "for j in range(3):\n",
    "    for k in range(3):\n",
    "        im = axes[j, k].pcolormesh(x, y, classifier.continuous_state_transition_[j, k], cmap='Blues',\n",
    "                                   vmin=0.0, vmax=classifier.continuous_state_transition_[j, k].max())\n",
    "        axes[j, k].text(1, 175, continuous_transition_types[j, k].replace('_', ' '), color='grey',\n",
    "                        va='top', fontsize=14)\n",
    "        axes[j, k].set_title(f'{state_names[j]} to\\n\\t {state_names[k]}')\n",
    "        axes[j, k].set_xticks((bin_min, bin_max))\n",
    "        axes[j, k].set_yticks((bin_min, bin_max))\n",
    "        \n",
    "plt.xlim((bin_min, bin_max))\n",
    "plt.ylim((bin_min, bin_max))\n",
    "axes[1, 0].set_ylabel('Previous Position')\n",
    "axes[-1, 1].set_xlabel('Current Position')\n",
    "plt.suptitle('Continuous State Transition', y=1.04)\n",
    "cbar = fig.colorbar(im, ax=axes.ravel().tolist(), ticks=[0, 1], label='Probability')\n",
    "cbar.ax.set_yticklabels(['0', 'Max'])\n",
    "sns.despine()\n",
    "\n",
    "save_figure('simulated_spikes_continuous_state_transition', is_save_figures)"
   ]
  },
  {
   "cell_type": "code",
   "execution_count": null,
   "metadata": {},
   "outputs": [],
   "source": [
    "state_names = ['continuous', 'fragmented', 'hover']\n",
    "edges = np.arange(0.5, 4.5)\n",
    "x_edges, y_edges = np.meshgrid(edges, edges)\n",
    "plt.figure(figsize=(7, 6))\n",
    "plt.pcolormesh(x_edges, y_edges, np.fliplr(classifier.discrete_state_transition_), cmap='Oranges')\n",
    "plt.xticks(ticks=range(1, 4), labels=state_names)\n",
    "plt.yticks(ticks=range(1, 4), labels=state_names[::-1])\n",
    "plt.colorbar(label='Probability')\n",
    "plt.ylabel('Previous State')\n",
    "plt.xlabel('Current State')\n",
    "plt.title('Discrete State Transition')\n",
    "\n",
    "save_figure('simulated_spikes_discrete_state_transition', is_save_figures)"
   ]
  },
  {
   "cell_type": "markdown",
   "metadata": {},
   "source": [
    "## Test classifier on different replay types "
   ]
  },
  {
   "cell_type": "code",
   "execution_count": null,
   "metadata": {},
   "outputs": [],
   "source": [
    "from src.parameters import TRANSITION_TO_CATEGORY, STATE_COLORS\n",
    "\n",
    "def plot_classification(replay_time, test_spikes, results):\n",
    "    results = results.assign_coords(\n",
    "        state=lambda ds: ds.state.to_index()\n",
    "        .map(TRANSITION_TO_CATEGORY))\n",
    "    fig, axes = plt.subplots(3, 1, figsize=(10, 6), constrained_layout=True, sharex=True)\n",
    "    spike_time_ind, neuron_ind = np.nonzero(test_spikes)\n",
    "    axes[0].scatter(replay_time[spike_time_ind], neuron_ind, color='black', zorder=1,\n",
    "                    marker='|', s=80, linewidth=3)\n",
    "    axes[0].set_yticks((0, test_spikes.shape[1]))\n",
    "    axes[0].set_ylabel('Neuron Index')\n",
    "    replay_probability = results.acausal_posterior.sum('position')\n",
    "    for state, prob in replay_probability.groupby('state'):\n",
    "        axes[1].plot(prob.time, prob.values, linewidth=4, label=state, color=STATE_COLORS[state])\n",
    "    axes[1].set_ylabel('Probability')\n",
    "    axes[1].set_yticks([0, 1])\n",
    "    axes[1].set_ylim((-0.01, 1.05))\n",
    "#     axes[1].legend(bbox_to_anchor=(1.15, 0.95), loc='upper right', fancybox=False, shadow=False,\n",
    "#                    ncol=1, frameon=False)\n",
    "    \n",
    "    results.acausal_posterior.sum('state').plot(\n",
    "        x='time', y='position', robust=True, vmin=0.0, ax=axes[2])\n",
    "    axes[2].set_ylabel('Position [cm]')\n",
    "    plt.xlim((replay_time.min(), replay_time.max()))\n",
    "    axes[-1].set_xlabel('Time [ms]')\n",
    "    sns.despine()"
   ]
  },
  {
   "cell_type": "markdown",
   "metadata": {},
   "source": [
    "### Continuous"
   ]
  },
  {
   "cell_type": "code",
   "execution_count": null,
   "metadata": {},
   "outputs": [],
   "source": [
    "from src.sorted_spikes_simulation import make_continuous_replay\n",
    "\n",
    "replay_time, test_spikes = make_continuous_replay()\n",
    "\n",
    "results = classifier.predict(test_spikes, time=replay_time)\n",
    "plot_classification(replay_time, test_spikes, results)\n",
    "save_figure('simulated_spikes_continuous_replay', is_save_figures)"
   ]
  },
  {
   "cell_type": "code",
   "execution_count": null,
   "metadata": {},
   "outputs": [],
   "source": [
    "results.likelihood.assign_coords(\n",
    "        state=lambda ds: ds.state.to_index()\n",
    "        .map(TRANSITION_TO_CATEGORY)).sel(state='continuous').plot(x='time', y='position')"
   ]
  },
  {
   "cell_type": "code",
   "execution_count": null,
   "metadata": {},
   "outputs": [],
   "source": [
    "results.acausal_posterior.plot(x='time', y='position', col='state', robust=True)"
   ]
  },
  {
   "cell_type": "code",
   "execution_count": null,
   "metadata": {},
   "outputs": [],
   "source": [
    "results.acausal_posterior.sum('state').plot(x='time', y='position', robust=True)"
   ]
  },
  {
   "cell_type": "code",
   "execution_count": null,
   "metadata": {},
   "outputs": [],
   "source": [
    "results.acausal_posterior.sum('position').plot(x='time', hue='state')"
   ]
  },
  {
   "cell_type": "markdown",
   "metadata": {},
   "source": [
    "### Hover"
   ]
  },
  {
   "cell_type": "code",
   "execution_count": null,
   "metadata": {},
   "outputs": [],
   "source": [
    "from src.sorted_spikes_simulation import make_hover_replay\n",
    "\n",
    "replay_time, test_spikes = make_hover_replay()\n",
    "\n",
    "results = classifier.predict(test_spikes, time=replay_time)\n",
    "plot_classification(replay_time, test_spikes, results)\n",
    "save_figure('simulated_spikes_hover_replay', is_save_figures)"
   ]
  },
  {
   "cell_type": "markdown",
   "metadata": {},
   "source": [
    "### Fragmented"
   ]
  },
  {
   "cell_type": "code",
   "execution_count": null,
   "metadata": {},
   "outputs": [],
   "source": [
    "from src.sorted_spikes_simulation import make_fragmented_replay\n",
    "\n",
    "replay_time, test_spikes = make_fragmented_replay()\n",
    "\n",
    "results = classifier.predict(test_spikes, time=replay_time)\n",
    "plot_classification(replay_time, test_spikes, results)\n",
    "\n",
    "save_figure('simulated_spikes_fragmented_replay', is_save_figures)"
   ]
  },
  {
   "cell_type": "markdown",
   "metadata": {},
   "source": [
    "### Hover-Continuous-Hover "
   ]
  },
  {
   "cell_type": "code",
   "execution_count": null,
   "metadata": {},
   "outputs": [],
   "source": [
    "from src.sorted_spikes_simulation import make_hover_continuous_hover_replay\n",
    "\n",
    "replay_time, test_spikes = make_hover_continuous_hover_replay()\n",
    "\n",
    "results = classifier.predict(test_spikes, time=replay_time)\n",
    "plot_classification(replay_time, test_spikes, results)\n",
    "\n",
    "save_figure('simulated_spikes_hover_continuous_hover_replay', is_save_figures)"
   ]
  },
  {
   "cell_type": "markdown",
   "metadata": {},
   "source": [
    "### Fragmented-Hover-Fragmented"
   ]
  },
  {
   "cell_type": "code",
   "execution_count": null,
   "metadata": {},
   "outputs": [],
   "source": [
    "from src.sorted_spikes_simulation import make_fragmented_hover_fragmented_replay\n",
    "\n",
    "replay_time, test_spikes = make_fragmented_hover_fragmented_replay()\n",
    "\n",
    "results = classifier.predict(test_spikes, time=replay_time)\n",
    "plot_classification(replay_time, test_spikes, results)\n",
    "\n",
    "save_figure('simulated_spikes_fragmented_hover_fragmented_replay', is_save_figures)"
   ]
  },
  {
   "cell_type": "markdown",
   "metadata": {},
   "source": [
    "### Fragmented-Continuous-Fragmented"
   ]
  },
  {
   "cell_type": "code",
   "execution_count": null,
   "metadata": {},
   "outputs": [],
   "source": [
    "from src.sorted_spikes_simulation import make_fragmented_continuous_fragmented_replay\n",
    "\n",
    "replay_time, test_spikes = make_fragmented_continuous_fragmented_replay()\n",
    "\n",
    "results = classifier.predict(test_spikes, time=replay_time)\n",
    "plot_classification(replay_time, test_spikes, results)\n",
    "\n",
    "save_figure('simulated_spikes_fragmented_continuous_fragmented_replay', is_save_figures)"
   ]
  },
  {
   "cell_type": "code",
   "execution_count": null,
   "metadata": {},
   "outputs": [],
   "source": [
    "results.likelihood.assign_coords(\n",
    "        state=lambda ds: ds.state.to_index()\n",
    "        .map(TRANSITION_TO_CATEGORY)).sel(state='continuous').plot(x='time', y='position')"
   ]
  },
  {
   "cell_type": "code",
   "execution_count": null,
   "metadata": {},
   "outputs": [],
   "source": [
    "results.assign_coords(\n",
    "        state=lambda ds: ds.state.to_index()\n",
    "        .map(TRANSITION_TO_CATEGORY)).acausal_posterior.plot(x='time', y='position', col='state', robust=True, vmin=0.0)\n",
    "save_figure('simulated_spikes_fragmented_continuous_fragmented_replay_each_posterior', True)"
   ]
  },
  {
   "cell_type": "code",
   "execution_count": null,
   "metadata": {},
   "outputs": [],
   "source": [
    "results.assign_coords(\n",
    "        state=lambda ds: ds.state.to_index()\n",
    "        .map(TRANSITION_TO_CATEGORY)).acausal_posterior.sum('state').plot(x='time', y='position', robust=True, vmin=0.0)"
   ]
  },
  {
   "cell_type": "code",
   "execution_count": null,
   "metadata": {},
   "outputs": [],
   "source": [
    "results.acausal_posterior.sum('position').plot(x='time', hue='state', linewidth=3)"
   ]
  },
  {
   "cell_type": "markdown",
   "metadata": {},
   "source": [
    "## Explore State Transition Parameters on Hover-Continuous-Hover"
   ]
  },
  {
   "cell_type": "code",
   "execution_count": null,
   "metadata": {},
   "outputs": [],
   "source": [
    "replay_time, test_spikes = make_hover_continuous_hover_replay()\n",
    "\n",
    "def plot_replay_probability(replay_time, results, diag, add_legend=True):\n",
    "    results = results.assign_coords(\n",
    "        state=lambda ds: ds.state.to_index()\n",
    "        .map(TRANSITION_TO_CATEGORY))\n",
    "    fig, ax = plt.subplots(1, 1, figsize=(10, 3), constrained_layout=True, sharex=True)\n",
    "    replay_probability = results.acausal_posterior.sum('position')\n",
    "    for state, prob in replay_probability.groupby('state'):\n",
    "        ax.plot(prob.time, prob.values, linewidth=4, label=state, color=STATE_COLORS[state])\n",
    "    ax.set_ylabel('Probability')\n",
    "    ax.set_ylim((-0.01, 1.05))\n",
    "    if add_legend:\n",
    "        ax.legend(bbox_to_anchor=(1.15, 0.95), loc='upper right', fancybox=False, shadow=False,\n",
    "                  ncol=1, frameon=False)\n",
    "\n",
    "    plt.title(f'discrete state transition diagonal = {diag}', fontsize=16)\n",
    "    sns.despine()"
   ]
  },
  {
   "cell_type": "markdown",
   "metadata": {},
   "source": [
    "### All states equally likely"
   ]
  },
  {
   "cell_type": "code",
   "execution_count": null,
   "metadata": {},
   "outputs": [],
   "source": [
    "diag = 1/3\n",
    "\n",
    "classifier = SortedSpikesClassifier(movement_var=movement_var,\n",
    "                                    replay_speed=120,\n",
    "                                    place_bin_size=np.sqrt(movement_var),\n",
    "                                    continuous_transition_types=continuous_transition_types,\n",
    "                                    discrete_transition_diag=diag)\n",
    "classifier.fit(linear_distance, spikes)\n",
    "results = classifier.predict(test_spikes, replay_time)\n",
    "plot_replay_probability(replay_time, results, diag)"
   ]
  },
  {
   "cell_type": "markdown",
   "metadata": {},
   "source": [
    "### Test diagonal strength from 0.4 - 0.9"
   ]
  },
  {
   "cell_type": "code",
   "execution_count": null,
   "metadata": {},
   "outputs": [],
   "source": [
    "diags = [0.4, 0.5, 0.6, 0.7, 0.8, 0.9]\n",
    "\n",
    "for diag in diags:\n",
    "    classifier = SortedSpikesClassifier(movement_var=movement_var,\n",
    "                                        replay_speed=120,\n",
    "                                        spike_model_penalty=0.5,\n",
    "                                        place_bin_size=np.sqrt(movement_var),\n",
    "                                        continuous_transition_types=continuous_transition_types,\n",
    "                                        discrete_transition_diag=diag)\n",
    "    classifier.fit(linear_distance, spikes)\n",
    "    results = classifier.predict(test_spikes, replay_time)\n",
    "    plot_replay_probability(replay_time, results, diag)"
   ]
  },
  {
   "cell_type": "markdown",
   "metadata": {},
   "source": [
    "### Test diagonal strength from 0.99 - 0.999999999"
   ]
  },
  {
   "cell_type": "code",
   "execution_count": null,
   "metadata": {},
   "outputs": [],
   "source": [
    "diags = [(1 - 10 ** -n) for n in range(2, 10)]\n",
    "\n",
    "for diag in diags:\n",
    "    classifier = SortedSpikesClassifier(movement_var=movement_var,\n",
    "                                        replay_speed=120,\n",
    "                                        spike_model_penalty=0.5,\n",
    "                                        place_bin_size=np.sqrt(movement_var),\n",
    "                                        discrete_transition_diag=diag)\n",
    "    classifier.fit(linear_distance, spikes)\n",
    "    results = classifier.predict(test_spikes, replay_time)\n",
    "    plot_replay_probability(replay_time, results, diag)"
   ]
  },
  {
   "cell_type": "markdown",
   "metadata": {},
   "source": [
    "### Not allowing transitions between states"
   ]
  },
  {
   "cell_type": "code",
   "execution_count": null,
   "metadata": {},
   "outputs": [],
   "source": [
    "diag = 1.0\n",
    "\n",
    "classifier = SortedSpikesClassifier(movement_var=movement_var,\n",
    "                                    replay_speed=120,\n",
    "                                    spike_model_penalty=0.5,\n",
    "                                    place_bin_size=np.sqrt(movement_var),\n",
    "                                    discrete_transition_diag=diag)\n",
    "classifier.fit(linear_distance, spikes)\n",
    "results = classifier.predict(test_spikes, replay_time)\n",
    "plot_replay_probability(replay_time, results, diag)"
   ]
  },
  {
   "cell_type": "code",
   "execution_count": null,
   "metadata": {},
   "outputs": [],
   "source": [
    "import matplotlib.gridspec as gridspec\n",
    "from src.figure_utilities import TWO_COLUMN, GOLDEN_RATIO, PAGE_HEIGHT, save_figure, set_figure_defaults\n",
    "\n",
    "from src.parameters import TRANSITION_TO_CATEGORY, STATE_COLORS\n",
    "import string\n",
    "\n",
    "set_figure_defaults()\n",
    "\n",
    "def plot_classification(test_spikes, results, subplot_spec, fig, replay_name,\n",
    "                        letter):\n",
    "    results = results.assign_coords(\n",
    "        state=lambda ds: ds.state.to_index()\n",
    "        .map(TRANSITION_TO_CATEGORY),\n",
    "        time=lambda ds: ds.time * 1000.0,\n",
    "    )\n",
    "    spike_time_ind, neuron_ind = np.nonzero(test_spikes)\n",
    "    replay_time = results.time.values\n",
    "    \n",
    "    inner_grid = gridspec.GridSpecFromSubplotSpec(\n",
    "        nrows=3, ncols=1, subplot_spec=subplot_spec, hspace=0.3)\n",
    "    \n",
    "    # Spikes\n",
    "    ax = plt.Subplot(fig, inner_grid[0])\n",
    "    ax.scatter(replay_time[spike_time_ind], neuron_ind, color='black', zorder=1,\n",
    "                    marker='|', s=10, linewidth=1)\n",
    "    ax.set_yticks((1, test_spikes.shape[1]))\n",
    "    ax.set_xticks([])\n",
    "    ax.set_xlim((replay_time.min(), replay_time.max()))\n",
    "    ax.set_ylabel('Cells')\n",
    "    ax.text(-0.3, 1.3, letter, transform=ax.transAxes,\n",
    "            size=15, weight='bold')\n",
    "    ax.set_title(replay_name)\n",
    "    fig.add_subplot(ax)\n",
    "    \n",
    "    # Probability\n",
    "    ax = plt.Subplot(fig, inner_grid[1])\n",
    "    replay_probability = results.acausal_posterior.sum('position')\n",
    "    for state, prob in replay_probability.groupby('state'):\n",
    "        ax.plot(prob.time, prob.values, linewidth=2, label=state, color=STATE_COLORS[state])\n",
    "    ax.set_ylabel('Probability')\n",
    "    ax.set_yticks([0, 1])\n",
    "    ax.set_xticks([])\n",
    "    ax.set_xlim((replay_time.min(), replay_time.max()))\n",
    "    ax.set_ylim((-0.01, 1.05))\n",
    "    fig.add_subplot(ax)\n",
    "    legend_handle, legend_labels = ax.get_legend_handles_labels()\n",
    "    \n",
    "    # Posterior\n",
    "    ax = plt.Subplot(fig, inner_grid[2])\n",
    "    quad_mesh = results.acausal_posterior.sum('state').plot(\n",
    "        x='time', y='position', robust=True, vmin=0.0, ax=ax,\n",
    "        add_colorbar=False, rasterized=True)\n",
    "    ax.set_ylabel('Pos. [cm]')\n",
    "    ax.set_xlim((replay_time.min(), replay_time.max()))\n",
    "    ax.set_xticks((replay_time.min(), replay_time.max()))\n",
    "    ax.set_yticks((0.0, 180.0))\n",
    "    ax.set_xlabel('Time [ms]')\n",
    "    fig.add_subplot(ax)\n",
    "    \n",
    "    sns.despine()\n",
    "    \n",
    "    return legend_handle, legend_labels, quad_mesh\n",
    "\n",
    "fig = plt.figure(figsize=(TWO_COLUMN, PAGE_HEIGHT * 0.8), constrained_layout=True)\n",
    "outer_grid = fig.add_gridspec(nrows=3, ncols=3, height_ratios=[1, 1, 0.025], wspace=0.5, hspace=0.5)\n",
    "replay_types = [\n",
    "    ('continuous', make_continuous_replay),\n",
    "    ('hover', make_hover_replay),\n",
    "    ('fragmented', make_fragmented_replay),\n",
    "    ('hover-cont.-hover', make_hover_continuous_hover_replay),\n",
    "    ('frag.-cont.-frag.', make_fragmented_continuous_fragmented_replay),\n",
    "    ('frag.-hover-frag.', make_fragmented_hover_fragmented_replay)\n",
    "]\n",
    "\n",
    "for replay_ind, (replay_name, make_replay) in enumerate(replay_types):\n",
    "    replay_time, test_spikes = make_replay()\n",
    "    results = classifier.predict(test_spikes, time=replay_time)\n",
    "    letter = string.ascii_lowercase[replay_ind]\n",
    "    legend_handle, legend_labels, g = plot_classification(test_spikes, results,\n",
    "                        outer_grid[replay_ind], fig, replay_name, letter)\n",
    "\n",
    "legend_ax = fig.add_subplot(outer_grid[-1, :2])\n",
    "legend_ax.axis('off')\n",
    "legend_ax.legend(legend_handle, legend_labels, loc='center',\n",
    "                 fancybox=False, shadow=False, ncol=3, frameon=False,\n",
    "                 bbox_to_anchor=(0.1, 0, 1, 1))\n",
    "\n",
    "from mpl_toolkits.axes_grid1.inset_locator import inset_axes\n",
    "colorbar_ax = fig.add_subplot(outer_grid[-1, -1])\n",
    "colorbar_ax.axis('off')\n",
    "axins = inset_axes(colorbar_ax,\n",
    "                   width=\"50%\",  # width = 5% of parent_bbox width\n",
    "                   height=\"50%\",  # height : 50%\n",
    "                   bbox_transform=colorbar_ax.transAxes,\n",
    "                   borderpad=0,\n",
    "                   loc='center',\n",
    "                   bbox_to_anchor=(0.1, 0, 1, 1),\n",
    "                   )\n",
    "cbar = plt.colorbar(g, cax=axins, orientation='horizontal',\n",
    "                    extend='max', label='posterior',\n",
    "                    ticks=[0.0, 0.035])\n",
    "cbar.ax.set_xticklabels(['0', 'max'])\n",
    "cbar.ax.tick_params(width=0, length=0)\n",
    "\n",
    "# save_figure('Figure3')"
   ]
  },
  {
   "cell_type": "code",
   "execution_count": null,
   "metadata": {},
   "outputs": [],
   "source": [
    "GOLDEN_RATIO"
   ]
  },
  {
   "cell_type": "code",
   "execution_count": null,
   "metadata": {},
   "outputs": [],
   "source": [
    "from dask.distributed import Client\n",
    "\n",
    "client = Client(processes=False)\n",
    "replay_time, test_spikes = make_hover_continuous_hover_replay()\n",
    "diags = ([1/3] +\n",
    "         [0.4, 0.5, 0.6, 0.7, 0.8, 0.9] + \n",
    "         [(1 - 10 ** -n) for n in range(2, 10)] +\n",
    "         [1])\n",
    "\n",
    "results = []\n",
    "\n",
    "for diag in diags:\n",
    "    classifier = SortedSpikesClassifier(movement_var=movement_var,\n",
    "                                        replay_speed=120,\n",
    "                                        spike_model_penalty=0.5,\n",
    "                                        place_bin_size=np.sqrt(movement_var),\n",
    "                                        discrete_transition_diag=diag)\n",
    "    classifier.fit(linear_distance, spikes)\n",
    "    results.append(classifier.predict(test_spikes, replay_time))"
   ]
  },
  {
   "cell_type": "code",
   "execution_count": null,
   "metadata": {},
   "outputs": [],
   "source": [
    "def plot_replay_probability(results, diag, ax):\n",
    "    results = results.assign_coords(\n",
    "        state=lambda ds: ds.state.to_index()\n",
    "        .map(TRANSITION_TO_CATEGORY),\n",
    "        time=lambda ds: ds.time * 1000\n",
    "    )\n",
    "    replay_probability = results.acausal_posterior.sum('position')\n",
    "    for state, prob in replay_probability.groupby('state'):\n",
    "        ax.plot(prob.time, prob.values, linewidth=3, label=state, color=STATE_COLORS[state])\n",
    "    ax.set_ylim((-0.01, 1.05))\n",
    "    ax.set_yticks([0, 1])\n",
    "    ax.set_xlim((results.time.min(), results.time.max()))\n",
    "    ax.set_xticks([results.time.min(), results.time.max()])\n",
    "    if np.allclose(diag, 1/3):\n",
    "        ax.set_title(f'diag = 1/3')\n",
    "    else:\n",
    "        ax.set_title(f'diag = {diag}')\n",
    "\n",
    "fig, axes = plt.subplots(4, 4, figsize=(TWO_COLUMN, PAGE_HEIGHT * GOLDEN_RATIO),\n",
    "                         constrained_layout=True, sharex=True, sharey=True)\n",
    "\n",
    "for ind, (ax, diag, r) in enumerate(zip(axes.flat, diags, results)):\n",
    "    plot_replay_probability(r, diag, ax)\n",
    "axes[0, 0].set_ylabel('Probability')\n",
    "axes[3, 0].set_xlabel('Time [ms]')\n",
    "\n",
    "legend_handle, legend_labels = ax.get_legend_handles_labels()\n",
    "fig.legend(legend_handle, legend_labels, loc='lower center',\n",
    "           fancybox=False, shadow=False, ncol=3, frameon=False,\n",
    "           bbox_to_anchor=(0.5, -0.02)\n",
    "           )\n",
    "sns.despine()\n",
    "save_figure('Supplemental_Figure3')\n",
    "save_figure('Supplemental_Figure3', 'png')"
   ]
  },
  {
   "cell_type": "code",
   "execution_count": null,
   "metadata": {},
   "outputs": [],
   "source": []
  }
 ],
 "metadata": {
  "kernelspec": {
   "display_name": "Python [conda env:replay_trajectory_paper] *",
   "language": "python",
   "name": "conda-env-replay_trajectory_paper-py"
  },
  "language_info": {
   "codemirror_mode": {
    "name": "ipython",
    "version": 3
   },
   "file_extension": ".py",
   "mimetype": "text/x-python",
   "name": "python",
   "nbconvert_exporter": "python",
   "pygments_lexer": "ipython3",
   "version": "3.6.7"
  }
 },
 "nbformat": 4,
 "nbformat_minor": 4
}

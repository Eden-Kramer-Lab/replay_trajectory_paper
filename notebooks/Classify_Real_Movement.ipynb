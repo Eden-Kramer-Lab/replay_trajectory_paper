{
 "cells": [
  {
   "cell_type": "code",
   "execution_count": 1,
   "metadata": {},
   "outputs": [],
   "source": [
    "%matplotlib inline\n",
    "%reload_ext autoreload\n",
    "%autoreload 2\n",
    "%config InlineBackend.figure_format = 'retina'\n",
    "# %qtconsole"
   ]
  },
  {
   "cell_type": "code",
   "execution_count": 2,
   "metadata": {},
   "outputs": [
    {
     "name": "stderr",
     "output_type": "stream",
     "text": [
      "/Users/edeno/miniconda3/envs/replay_trajectory_paper/lib/python3.6/site-packages/distributed/dashboard/core.py:74: UserWarning: \n",
      "Port 8787 is already in use. \n",
      "Perhaps you already have a cluster running?\n",
      "Hosting the diagnostics dashboard on a random port instead.\n",
      "  warnings.warn(\"\\n\" + msg)\n"
     ]
    },
    {
     "data": {
      "text/html": [
       "<table style=\"border: 2px solid white;\">\n",
       "<tr>\n",
       "<td style=\"vertical-align: top; border: 0px solid white\">\n",
       "<h3>Client</h3>\n",
       "<ul>\n",
       "  <li><b>Scheduler: </b>inproc://168.122.203.7/58346/1\n",
       "  <li><b>Dashboard: </b><a href='http://localhost:63389/status' target='_blank'>http://localhost:63389/status</a>\n",
       "</ul>\n",
       "</td>\n",
       "<td style=\"vertical-align: top; border: 0px solid white\">\n",
       "<h3>Cluster</h3>\n",
       "<ul>\n",
       "  <li><b>Workers: </b>1</li>\n",
       "  <li><b>Cores: </b>4</li>\n",
       "  <li><b>Memory: </b>17.18 GB</li>\n",
       "</ul>\n",
       "</td>\n",
       "</tr>\n",
       "</table>"
      ],
      "text/plain": [
       "<Client: scheduler='inproc://168.122.203.7/58346/1' processes=1 cores=4>"
      ]
     },
     "execution_count": 2,
     "metadata": {},
     "output_type": "execute_result"
    }
   ],
   "source": [
    "import numpy as np\n",
    "import matplotlib.pyplot as plt\n",
    "import pandas as pd\n",
    "import xarray as xr\n",
    "\n",
    "from dask.distributed import Client, LocalCluster\n",
    "import dask\n",
    "import logging\n",
    "\n",
    "logging.basicConfig(level=logging.INFO)\n",
    "\n",
    "client = Client(processes=False)\n",
    "\n",
    "client"
   ]
  },
  {
   "cell_type": "code",
   "execution_count": 3,
   "metadata": {},
   "outputs": [
    {
     "name": "stderr",
     "output_type": "stream",
     "text": [
      "WARNING:loren_frank_data_processing.core:Failed to load file: /Users/edeno/Documents/GitHub/replay_trajectory_paper/src/../Raw-Data/Bond/bonDIO03.mat\n",
      "WARNING:loren_frank_data_processing.core:No DIO file found, using distance from well to segment trials\n",
      "WARNING:loren_frank_data_processing.core:Failed to load file: /Users/edeno/Documents/GitHub/replay_trajectory_paper/src/../Raw-Data/Bond/bonDIO03.mat\n",
      "WARNING:loren_frank_data_processing.core:No DIO file found, inferring correct inbound/outbound from task rules\n",
      "WARNING:loren_frank_data_processing.core:dav, 1, 4 not processed\n",
      "WARNING:loren_frank_data_processing.core:egy, 12, 1 not processed\n",
      "WARNING:loren_frank_data_processing.core:egy, 12, 2 not processed\n",
      "WARNING:loren_frank_data_processing.core:egy, 12, 3 not processed\n",
      "WARNING:loren_frank_data_processing.core:egy, 12, 4 not processed\n",
      "WARNING:loren_frank_data_processing.core:egy, 12, 5 not processed\n",
      "WARNING:loren_frank_data_processing.core:egy, 12, 6 not processed\n",
      "WARNING:loren_frank_data_processing.core:egy, 12, 7 not processed\n",
      "WARNING:loren_frank_data_processing.core:egy, 12, 8 not processed\n",
      "WARNING:loren_frank_data_processing.core:fra, 4, 1 not processed\n",
      "WARNING:loren_frank_data_processing.core:gov, 2, 3 not processed\n",
      "WARNING:loren_frank_data_processing.core:gov, 2, 4 not processed\n",
      "WARNING:loren_frank_data_processing.core:gov, 2, 5 not processed\n",
      "WARNING:loren_frank_data_processing.core:gov, 2, 6 not processed\n",
      "WARNING:loren_frank_data_processing.core:gov, 2, 7 not processed\n",
      "INFO:src.load_data:Finding ripple times...\n",
      "WARNING:loren_frank_data_processing.core:Failed to load file: /Users/edeno/Documents/GitHub/replay_trajectory_paper/src/../Raw-Data/Bond/bonDIO03.mat\n",
      "WARNING:loren_frank_data_processing.core:No DIO file found, using distance from well to segment trials\n",
      "WARNING:loren_frank_data_processing.core:Failed to load file: /Users/edeno/Documents/GitHub/replay_trajectory_paper/src/../Raw-Data/Bond/bonDIO03.mat\n",
      "WARNING:loren_frank_data_processing.core:No DIO file found, inferring correct inbound/outbound from task rules\n"
     ]
    }
   ],
   "source": [
    "from src.load_data import load_data\n",
    "\n",
    "epoch_key = ('bon', 3, 2)\n",
    "\n",
    "data = load_data(epoch_key)"
   ]
  },
  {
   "cell_type": "code",
   "execution_count": 5,
   "metadata": {},
   "outputs": [
    {
     "name": "stderr",
     "output_type": "stream",
     "text": [
      "INFO:replay_trajectory_classification.classifier:Fitting initial conditions...\n",
      "INFO:replay_trajectory_classification.classifier:Fitting state transition...\n",
      "INFO:replay_trajectory_classification.classifier:Fitting place fields...\n"
     ]
    }
   ],
   "source": [
    "from src.parameters import replay_speed, place_bin_size, movement_var, discrete_diag\n",
    "from replay_trajectory_classification import SortedSpikesClassifier\n",
    "\n",
    "position = data['position_info'].linear_position2\n",
    "track_labels = data['position_info'].arm_name\n",
    "ripple_times = data['ripple_times'].loc[:, ['start_time', 'end_time']]\n",
    "\n",
    "continuous_transition_types = (\n",
    "    [['w_track_1D_random_walk', 'uniform', 'identity'],\n",
    "     ['uniform',   'uniform', 'uniform'],\n",
    "     ['w_track_1D_random_walk', 'uniform', 'identity']])\n",
    "\n",
    "classifier = SortedSpikesClassifier(\n",
    "    place_bin_size=0.5, movement_var=movement_var,\n",
    "    replay_speed=1,\n",
    "    discrete_transition_diag=discrete_diag,\n",
    "    spike_model_penalty=0.5, knot_spacing=10,\n",
    "    continuous_transition_types=continuous_transition_types).fit(\n",
    "    position, data['spikes'], track_labels=track_labels)"
   ]
  },
  {
   "cell_type": "code",
   "execution_count": null,
   "metadata": {},
   "outputs": [],
   "source": [
    "results = classifier.predict(data['spikes'], time=data['position_info'].index)"
   ]
  },
  {
   "cell_type": "code",
   "execution_count": null,
   "metadata": {},
   "outputs": [],
   "source": []
  }
 ],
 "metadata": {
  "kernelspec": {
   "display_name": "Python [conda env:replay_trajectory_paper] *",
   "language": "python",
   "name": "conda-env-replay_trajectory_paper-py"
  },
  "language_info": {
   "codemirror_mode": {
    "name": "ipython",
    "version": 3
   },
   "file_extension": ".py",
   "mimetype": "text/x-python",
   "name": "python",
   "nbconvert_exporter": "python",
   "pygments_lexer": "ipython3",
   "version": "3.6.7"
  }
 },
 "nbformat": 4,
 "nbformat_minor": 4
}

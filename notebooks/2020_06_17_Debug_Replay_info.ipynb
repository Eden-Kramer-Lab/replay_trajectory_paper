{
 "cells": [
  {
   "cell_type": "code",
   "execution_count": 1,
   "metadata": {},
   "outputs": [],
   "source": [
    "%matplotlib inline\n",
    "%reload_ext autoreload\n",
    "%autoreload 2\n",
    "%config InlineBackend.figure_format = 'retina'\n",
    "%reload_ext lab_black"
   ]
  },
  {
   "cell_type": "code",
   "execution_count": 2,
   "metadata": {},
   "outputs": [],
   "source": [
    "epoch_key = \"Cor\", 1, 2"
   ]
  },
  {
   "cell_type": "code",
   "execution_count": 3,
   "metadata": {},
   "outputs": [
    {
     "name": "stderr",
     "output_type": "stream",
     "text": [
      "15-Jun-20 17:04:20 Loading data...\n",
      "15-Jun-20 17:04:39 Failed to load file: /data2/edeno/replay_trajectory_paper/src/../Raw-Data/Corriander/CorDIO01.mat\n",
      "15-Jun-20 17:04:39 No DIO file found, using distance from well to segment trials\n",
      "15-Jun-20 17:04:39 Failed to load file: /data2/edeno/replay_trajectory_paper/src/../Raw-Data/Corriander/CorDIO01.mat\n",
      "15-Jun-20 17:04:39 No DIO file found, inferring correct inbound/outbound from task rules\n",
      "15-Jun-20 17:04:56 Finding ripple times...\n",
      "15-Jun-20 17:05:55 Failed to load file: /data2/edeno/replay_trajectory_paper/src/../Raw-Data/Corriander/CorDIO01.mat\n",
      "15-Jun-20 17:05:55 No DIO file found, using distance from well to segment trials\n",
      "15-Jun-20 17:05:55 Failed to load file: /data2/edeno/replay_trajectory_paper/src/../Raw-Data/Corriander/CorDIO01.mat\n",
      "15-Jun-20 17:05:55 No DIO file found, inferring correct inbound/outbound from task rules\n",
      "15-Jun-20 17:06:14 Found existing results. Loading...\n",
      "15-Jun-20 17:06:14 ClusterlessClassifier(continuous_transition_types=[['random_walk', 'uniform',\n",
      "                                                    'identity'],\n",
      "                                                   ['uniform', 'uniform',\n",
      "                                                    'uniform'],\n",
      "                                                   ['random_walk', 'uniform',\n",
      "                                                    'identity']],\n",
      "                      discrete_transition_diag=0.98,\n",
      "                      discrete_transition_type='strong_diagonal',\n",
      "                      infer_track_interior=True,\n",
      "                      initial_conditions_type='uniform_on_track',\n",
      "                      model=<class 'replay_trajectory_classification.misc.NumbaKDE'>,\n",
      "                      model_kwargs={'bandwidth': array([24., 24., 24., 24.,  6.,  6.])},\n",
      "                      movement_var=6.0,\n",
      "                      occupancy_kwargs={'bandwidth': array([24., 24., 24., 24.,  6.,  6.])},\n",
      "                      occupancy_model=<class 'replay_trajectory_classification.misc.NumbaKDE'>,\n",
      "                      place_bin_size=3.0, position_range=None, replay_speed=1)\n",
      "15-Jun-20 17:06:14 Saving replay_info...\n"
     ]
    }
   ],
   "source": [
    "import logging\n",
    "import os\n",
    "import sys\n",
    "from argparse import ArgumentParser\n",
    "from signal import SIGUSR1, SIGUSR2, signal\n",
    "from subprocess import PIPE, run\n",
    "\n",
    "import matplotlib.pyplot as plt\n",
    "import numpy as np\n",
    "import pandas as pd\n",
    "import xarray as xr\n",
    "from scipy.ndimage import label\n",
    "from tqdm.auto import tqdm\n",
    "\n",
    "from loren_frank_data_processing import save_xarray\n",
    "from loren_frank_data_processing.position import (\n",
    "    EDGE_ORDER,\n",
    "    EDGE_SPACING,\n",
    "    make_track_graph,\n",
    ")\n",
    "from replay_trajectory_classification import (\n",
    "    ClusterlessClassifier,\n",
    "    SortedSpikesClassifier,\n",
    ")\n",
    "from src.analysis import (\n",
    "    get_linear_position_order,\n",
    "    get_place_field_max,\n",
    "    get_replay_info,\n",
    "    reshape_to_segments,\n",
    ")\n",
    "from src.load_data import load_data\n",
    "from src.parameters import (\n",
    "    ANIMALS,\n",
    "    FIGURE_DIR,\n",
    "    PROBABILITY_THRESHOLD,\n",
    "    PROCESSED_DATA_DIR,\n",
    "    SAMPLING_FREQUENCY,\n",
    "    TRANSITION_TO_CATEGORY,\n",
    "    continuous_transition_types,\n",
    "    discrete_diag,\n",
    "    knot_spacing,\n",
    "    model,\n",
    "    model_kwargs,\n",
    "    movement_var,\n",
    "    place_bin_size,\n",
    "    replay_speed,\n",
    "    spike_model_penalty,\n",
    ")\n",
    "from src.visualization import (\n",
    "    plot_category_counts,\n",
    "    plot_category_duration,\n",
    "    plot_neuron_place_field_2D_1D_position,\n",
    "    plot_ripple_decode_1D,\n",
    "    plot_ripple_decode_2D,\n",
    ")\n",
    "\n",
    "FORMAT = \"%(asctime)s %(message)s\"\n",
    "\n",
    "logging.basicConfig(level=\"INFO\", format=FORMAT, datefmt=\"%d-%b-%y %H:%M:%S\")\n",
    "\n",
    "animal, day, epoch = epoch_key\n",
    "data_type, dim = \"clusterless\", \"1D\"\n",
    "\n",
    "logging.info(\"Loading data...\")\n",
    "data = load_data(epoch_key)\n",
    "\n",
    "is_training = data[\"position_info\"].speed > 4\n",
    "position = data[\"position_info\"].loc[:, \"linear_position\"]\n",
    "track_graph, center_well_id = make_track_graph(epoch_key, ANIMALS)\n",
    "\n",
    "model_name = os.path.join(\n",
    "    PROCESSED_DATA_DIR, f\"{animal}_{day:02}_{epoch:02}_{data_type}_{dim}_model.pkl\"\n",
    ")\n",
    "try:\n",
    "    results = xr.open_dataset(\n",
    "        os.path.join(PROCESSED_DATA_DIR, f\"{animal}_{day:02}_{epoch:02}.nc\"),\n",
    "        group=f\"/{data_type}/{dim}/classifier/ripples/\",\n",
    "    )\n",
    "    logging.info(\"Found existing results. Loading...\")\n",
    "    ripple_times = data[\"ripple_times\"].loc[:, [\"start_time\", \"end_time\"]]\n",
    "    spikes = (\n",
    "        ((data[\"multiunit\"].sum(\"features\") > 0) * 1.0)\n",
    "        .to_dataframe(name=\"spikes\")\n",
    "        .unstack()\n",
    "    )\n",
    "    spikes.columns = data[\"tetrode_info\"].tetrode_id\n",
    "    ripple_spikes = reshape_to_segments(spikes, ripple_times)\n",
    "    classifier = ClusterlessClassifier.load_model(model_name)\n",
    "    logging.info(classifier)\n",
    "except (FileNotFoundError, OSError):\n",
    "    logging.info(\"Fitting classifier...\")\n",
    "    classifier = ClusterlessClassifier(\n",
    "        place_bin_size=place_bin_size,\n",
    "        movement_var=movement_var,\n",
    "        replay_speed=replay_speed,\n",
    "        discrete_transition_diag=discrete_diag,\n",
    "        continuous_transition_types=continuous_transition_types,\n",
    "        model=model,\n",
    "        model_kwargs=model_kwargs,\n",
    "    ).fit(\n",
    "        position,\n",
    "        data[\"multiunit\"],\n",
    "        is_training=is_training,\n",
    "        track_graph=track_graph,\n",
    "        center_well_id=center_well_id,\n",
    "        edge_order=EDGE_ORDER,\n",
    "        edge_spacing=EDGE_SPACING,\n",
    "    )\n",
    "    classifier.save_model(model_name)\n",
    "    logging.info(classifier)\n",
    "\n",
    "    # Decode\n",
    "    is_test = ~is_training\n",
    "\n",
    "    test_groups = pd.DataFrame(\n",
    "        {\"test_groups\": label(is_test.values)[0]}, index=is_test.index\n",
    "    )\n",
    "    immobility_results = []\n",
    "    for _, df in tqdm(\n",
    "        test_groups.loc[is_test].groupby(\"test_groups\"), desc=\"immobility\"\n",
    "    ):\n",
    "        start_time, end_time = df.iloc[0].name, df.iloc[-1].name\n",
    "        test_multiunit = data[\"multiunit\"].sel(time=slice(start_time, end_time))\n",
    "        immobility_results.append(\n",
    "            classifier.predict(test_multiunit, time=test_multiunit.time)\n",
    "        )\n",
    "\n",
    "    immobility_results = xr.concat(immobility_results, dim=\"time\")\n",
    "\n",
    "    results = [\n",
    "        (\n",
    "            immobility_results.sel(\n",
    "                time=slice(df.start_time, df.end_time)\n",
    "            ).assign_coords(time=lambda ds: ds.time - ds.time[0])\n",
    "        )\n",
    "        for _, df in data[\"ripple_times\"].iterrows()\n",
    "    ]\n",
    "\n",
    "    results = xr.concat(results, dim=data[\"ripple_times\"].index).assign_coords(\n",
    "        state=lambda ds: ds.state.to_index().map(TRANSITION_TO_CATEGORY)\n",
    "    )\n",
    "\n",
    "    ripple_times = data[\"ripple_times\"].loc[:, [\"start_time\", \"end_time\"]]\n",
    "    spikes = (\n",
    "        ((data[\"multiunit\"].sum(\"features\") > 0) * 1.0)\n",
    "        .to_dataframe(name=\"spikes\")\n",
    "        .unstack()\n",
    "    )\n",
    "    spikes.columns = data[\"tetrode_info\"].tetrode_id\n",
    "    ripple_spikes = reshape_to_segments(spikes, ripple_times)\n",
    "\n",
    "    logging.info(\"Saving results...\")\n",
    "    save_xarray(\n",
    "        PROCESSED_DATA_DIR,\n",
    "        epoch_key,\n",
    "        results.drop([\"likelihood\", \"causal_posterior\"]),\n",
    "        group=f\"/{data_type}/{dim}/classifier/ripples/\",\n",
    "    )\n",
    "\n",
    "logging.info(\"Saving replay_info...\")\n",
    "replay_info = get_replay_info(\n",
    "    results,\n",
    "    ripple_spikes,\n",
    "    data[\"ripple_times\"],\n",
    "    data[\"position_info\"],\n",
    "    track_graph,\n",
    "    SAMPLING_FREQUENCY,\n",
    "    PROBABILITY_THRESHOLD,\n",
    "    epoch_key,\n",
    "    classifier,\n",
    ")"
   ]
  },
  {
   "cell_type": "code",
   "execution_count": 62,
   "metadata": {},
   "outputs": [
    {
     "data": {
      "text/plain": [
       "(72.93868921775898, 72.93868921775898)"
      ]
     },
     "execution_count": 62,
     "metadata": {},
     "output_type": "execute_result"
    }
   ],
   "source": [
    "ripple_number = 13\n",
    "s = (\n",
    "    (\n",
    "        ~np.isnan(\n",
    "            data[\"multiunit\"].sel(\n",
    "                time=slice(\n",
    "                    data[\"ripple_times\"].loc[ripple_number].start_time,\n",
    "                    data[\"ripple_times\"].loc[ripple_number].end_time,\n",
    "                )\n",
    "            )\n",
    "        )\n",
    "    ).sum(\"features\")\n",
    "    > 0\n",
    ") * 1.0\n",
    "\n",
    "s.values.mean() * SAMPLING_FREQUENCY, ripple_spikes.loc[\n",
    "    ripple_number\n",
    "].to_numpy().mean() * SAMPLING_FREQUENCY"
   ]
  },
  {
   "cell_type": "code",
   "execution_count": 71,
   "metadata": {},
   "outputs": [
    {
     "data": {
      "text/plain": [
       "array([ 23.25581395,   0.        ,  93.02325581,  81.39534884,\n",
       "       104.65116279, 139.53488372,  69.76744186,  34.88372093,\n",
       "        58.13953488, 116.27906977,  81.39534884])"
      ]
     },
     "execution_count": 71,
     "metadata": {},
     "output_type": "execute_result"
    }
   ],
   "source": [
    "s.values.mean(axis=0) * SAMPLING_FREQUENCY"
   ]
  },
  {
   "cell_type": "code",
   "execution_count": 72,
   "metadata": {},
   "outputs": [
    {
     "data": {
      "text/plain": [
       "array([ 2.,  0.,  8.,  7.,  9., 12.,  6.,  3.,  5., 10.,  7.])"
      ]
     },
     "execution_count": 72,
     "metadata": {},
     "output_type": "execute_result"
    }
   ],
   "source": [
    "s.values.sum(axis=0)"
   ]
  },
  {
   "cell_type": "code",
   "execution_count": 77,
   "metadata": {},
   "outputs": [
    {
     "data": {
      "text/plain": [
       "array([ 23.25581395,   0.        ,  93.02325581,  81.39534884,\n",
       "       104.65116279, 139.53488372,  69.76744186,  34.88372093,\n",
       "        58.13953488, 116.27906977,  81.39534884])"
      ]
     },
     "execution_count": 77,
     "metadata": {},
     "output_type": "execute_result"
    }
   ],
   "source": [
    "s.values.sum(axis=0) / (s.shape[0] * 2 / 1000)"
   ]
  },
  {
   "cell_type": "code",
   "execution_count": 198,
   "metadata": {},
   "outputs": [
    {
     "data": {
      "text/plain": [
       "Text(0.5, 1.0, '')"
      ]
     },
     "execution_count": 198,
     "metadata": {},
     "output_type": "execute_result"
    },
    {
     "data": {
      "image/png": "[encoded data removed]",
      "text/plain": [
       "<Figure size 720x360 with 5 Axes>"
      ]
     },
     "metadata": {
      "image/png": {
       "height": 368,
       "width": 728
      },
      "needs_background": "light"
     },
     "output_type": "display_data"
    }
   ],
   "source": [
    "import copy\n",
    "\n",
    "from src.analysis import maximum_a_posteriori_estimate\n",
    "from src.analysis import calculate_replay_distance\n",
    "from loren_frank_data_processing import reshape_to_segments\n",
    "from scipy.ndimage.filters import gaussian_filter1d\n",
    "\n",
    "ripple_number = 64\n",
    "\n",
    "posterior = (\n",
    "    results.acausal_posterior.sel(ripple_number=ripple_number)\n",
    "    .dropna(\"time\", how=\"all\")\n",
    "    .assign_coords(time=lambda ds: 1000 * ds.time / np.timedelta64(1, \"s\"))\n",
    ")\n",
    "\n",
    "\n",
    "position_info = data[\"position_info\"]\n",
    "ripple_position_info = reshape_to_segments(position_info, ripple_times)\n",
    "\n",
    "actual_positions = ripple_position_info.loc[\n",
    "    ripple_number, [\"x_position\", \"y_position\"]\n",
    "].values\n",
    "actual_track_segment_ids = (\n",
    "    ripple_position_info.loc[ripple_number, \"track_segment_id\"]\n",
    "    .values.squeeze()\n",
    "    .astype(int)\n",
    ")\n",
    "map_estimate = maximum_a_posteriori_estimate(posterior.sum(\"state\"))\n",
    "\n",
    "(\n",
    "    replay_distance_from_actual_position,\n",
    "    replay_distance_from_center_well,\n",
    ") = calculate_replay_distance(\n",
    "    track_graph, map_estimate, actual_positions, actual_track_segment_ids, position_info\n",
    ")\n",
    "\n",
    "fig, axes = plt.subplots(4, 1, figsize=(10, 5), sharex=True, constrained_layout=True)\n",
    "posterior.sum(\"position\").plot(x=\"time\", hue=\"state\", ax=axes[0])\n",
    "axes[0].set_ylim((0, 1))\n",
    "\n",
    "cmap = copy.copy(plt.cm.get_cmap(\"bone_r\"))\n",
    "cmap.set_bad(color=\"lightgrey\", alpha=1.0)\n",
    "posterior.sum(\"state\", skipna=False).plot(\n",
    "    x=\"time\", y=\"position\", ax=axes[1], cmap=cmap, robust=True, vmin=0.0\n",
    ")\n",
    "\n",
    "\n",
    "axes[1].plot(posterior.time, map_estimate, color=\"red\")\n",
    "axes[1].plot(\n",
    "    posterior.time,\n",
    "    ripple_position_info.loc[ripple_number].linear_position,\n",
    "    color=\"magenta\",\n",
    "    linewidth=3,\n",
    "    linestyle=\"--\",\n",
    ")\n",
    "\n",
    "axes[2].plot(posterior.time, replay_distance_from_actual_position)\n",
    "\n",
    "\n",
    "sigma = 0.001\n",
    "replay_distance_from_actual_position = gaussian_filter1d(\n",
    "    replay_distance_from_actual_position, sigma * SAMPLING_FREQUENCY, mode=\"reflect\"\n",
    ")\n",
    "axes[2].plot(posterior.time, replay_distance_from_actual_position, color=\"black\")\n",
    "axes[2].set_ylim((0, 226))\n",
    "\n",
    "time = posterior.time\n",
    "replay_speed = np.abs(np.gradient(replay_distance_from_actual_position, time))\n",
    "\n",
    "axes[3].fill_between(posterior.time, replay_speed, color=\"lightgrey\")\n",
    "plt.xlim((posterior.time[0], posterior.time[-1]))\n",
    "axes[3].set_title(\"\")"
   ]
  },
  {
   "cell_type": "code",
   "execution_count": 199,
   "metadata": {},
   "outputs": [
    {
     "data": {
      "text/html": [
       "<pre>&lt;xarray.Dataset&gt;\n",
       "Dimensions:            (position: 95, ripple_number: 64, state: 3, time: 76)\n",
       "Coordinates:\n",
       "  * state              (state) object &#x27;Continuous&#x27; &#x27;Fragmented&#x27; &#x27;Hover&#x27;\n",
       "  * position           (position) float64 1.476 4.427 7.379 ... 297.5 300.5\n",
       "  * time               (time) timedelta64[ns] 00:00:00 ... 00:00:00.150000\n",
       "  * ripple_number      (ripple_number) int64 1 2 3 4 5 6 7 ... 59 60 61 62 63 64\n",
       "Data variables:\n",
       "    acausal_posterior  (ripple_number, time, state, position) float64 0.06879 ... nan</pre>"
      ],
      "text/plain": [
       "<xarray.Dataset>\n",
       "Dimensions:            (position: 95, ripple_number: 64, state: 3, time: 76)\n",
       "Coordinates:\n",
       "  * state              (state) object 'Continuous' 'Fragmented' 'Hover'\n",
       "  * position           (position) float64 1.476 4.427 7.379 ... 297.5 300.5\n",
       "  * time               (time) timedelta64[ns] 00:00:00 ... 00:00:00.150000\n",
       "  * ripple_number      (ripple_number) int64 1 2 3 4 5 6 7 ... 59 60 61 62 63 64\n",
       "Data variables:\n",
       "    acausal_posterior  (ripple_number, time, state, position) float64 0.06879 ... nan"
      ]
     },
     "execution_count": 199,
     "metadata": {},
     "output_type": "execute_result"
    }
   ],
   "source": [
    "results"
   ]
  },
  {
   "cell_type": "code",
   "execution_count": null,
   "metadata": {},
   "outputs": [],
   "source": [
    "\"\""
   ]
  }
 ],
 "metadata": {
  "kernelspec": {
   "display_name": "Python [conda env:replay_trajectory_paper] *",
   "language": "python",
   "name": "conda-env-replay_trajectory_paper-py"
  },
  "language_info": {
   "codemirror_mode": {
    "name": "ipython",
    "version": 3
   },
   "file_extension": ".py",
   "mimetype": "text/x-python",
   "name": "python",
   "nbconvert_exporter": "python",
   "pygments_lexer": "ipython3",
   "version": "3.6.7"
  }
 },
 "nbformat": 4,
 "nbformat_minor": 4
}
